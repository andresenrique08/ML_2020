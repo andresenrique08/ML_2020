{
  "nbformat": 4,
  "nbformat_minor": 0,
  "metadata": {
    "colab": {
      "name": "Malware_v1.ipynb",
      "provenance": [],
      "machine_shape": "hm",
      "include_colab_link": true
    },
    "kernelspec": {
      "name": "python3",
      "display_name": "Python 3"
    }
  },
  "cells": [
    {
      "cell_type": "markdown",
      "metadata": {
        "id": "view-in-github",
        "colab_type": "text"
      },
      "source": [
        "<a href=\"https://colab.research.google.com/github/andresenrique08/ML_2020/blob/master/Proyecto_Malware/Malware_v1.ipynb\" target=\"_parent\"><img src=\"https://colab.research.google.com/assets/colab-badge.svg\" alt=\"Open In Colab\"/></a>"
      ]
    },
    {
      "cell_type": "markdown",
      "metadata": {
        "id": "bJgkeDNrcbDI"
      },
      "source": [
        "# Detección de Malware\n",
        "\n",
        "**Curso de Machine Learning 2020-20**\n",
        "\n",
        "*Proyecto Final*\n",
        "\n",
        "Autores:\n",
        "\n",
        "\n",
        "*   Andrés Enrique Ávila Rojas (201319127)\n",
        "*   Jeison Alexander Timana Rangel (201617870)\n",
        "\n",
        "Descripción de lo que se hace en el notebook...\n",
        "\n"
      ]
    },
    {
      "cell_type": "code",
      "metadata": {
        "id": "-hqpb93EUhRD"
      },
      "source": [
        "# Importing libraries\n",
        "import numpy as np\n",
        "import pydrive as drive\n",
        "from google.colab import drive\n",
        "import pandas as pd\n",
        "import matplotlib as mpl\n",
        "import matplotlib.pyplot as plt\n",
        "plt.style.use('ggplot')"
      ],
      "execution_count": 1,
      "outputs": []
    },
    {
      "cell_type": "markdown",
      "metadata": {
        "id": "7T0bLYi4c0nx"
      },
      "source": [
        "Se dan los permisos para acceder al almecenamiento de drive."
      ]
    },
    {
      "cell_type": "code",
      "metadata": {
        "colab": {
          "base_uri": "https://localhost:8080/"
        },
        "id": "sF3r3tGXM8KH",
        "outputId": "d282834f-4d6b-4758-8825-c8810a994ca7"
      },
      "source": [
        "drive.mount('/content/drive')"
      ],
      "execution_count": 2,
      "outputs": [
        {
          "output_type": "stream",
          "text": [
            "Mounted at /content/drive\n"
          ],
          "name": "stdout"
        }
      ]
    },
    {
      "cell_type": "markdown",
      "metadata": {
        "id": "F3EpkKJfdFc5"
      },
      "source": [
        "## Preparación de los datos\n",
        "\n",
        "En esta sección se presenta la lectura y análisis preliminar de los datos de entrenamiento y los datos de validación. Estos datos vienen en dos archivos de formato csv separado por comas y pueden ser obtenidos de la página de la  <a href=\"https://www.kaggle.com/c/microsoft-malware-prediction/data\">competencia de microsoft para la dección de malware</a> disponible en kaggle. El peso de los conjuntos de datos es:\n",
        "\n",
        "\n",
        "*   train.csv: 4.08 GB\n",
        "*   test.csv: 3.53 GB\n",
        "\n"
      ]
    },
    {
      "cell_type": "markdown",
      "metadata": {
        "id": "IKuRLu0Cepg4"
      },
      "source": [
        "**Datos de entrenamiento**"
      ]
    },
    {
      "cell_type": "code",
      "metadata": {
        "colab": {
          "base_uri": "https://localhost:8080/"
        },
        "id": "8TV_TGheMynJ",
        "outputId": "4d16996f-80a9-4dad-e51c-9c91c77b946e"
      },
      "source": [
        "%%time\n",
        "ruta_train = '/content/drive/MyDrive/Machine Learning/train.csv'\n",
        "train  = pd.read_csv(ruta_train) \n",
        "train.head()"
      ],
      "execution_count": 4,
      "outputs": [
        {
          "output_type": "stream",
          "text": [
            "<string>:2: DtypeWarning: Columns (28) have mixed types.Specify dtype option on import or set low_memory=False.\n"
          ],
          "name": "stderr"
        },
        {
          "output_type": "stream",
          "text": [
            "CPU times: user 1min 27s, sys: 14.9 s, total: 1min 42s\n",
            "Wall time: 1min 47s\n"
          ],
          "name": "stdout"
        }
      ]
    },
    {
      "cell_type": "code",
      "metadata": {
        "id": "2V4Rxacoaeeo",
        "outputId": "cc44f742-585d-46bd-9c0f-c7d8cfe1fdbc",
        "colab": {
          "base_uri": "https://localhost:8080/"
        }
      },
      "source": [
        "train.shape"
      ],
      "execution_count": 6,
      "outputs": [
        {
          "output_type": "execute_result",
          "data": {
            "text/plain": [
              "(8921483, 83)"
            ]
          },
          "metadata": {
            "tags": []
          },
          "execution_count": 6
        }
      ]
    },
    {
      "cell_type": "markdown",
      "metadata": {
        "id": "CCHVP_L-euTr"
      },
      "source": [
        "**Datos de validación**"
      ]
    },
    {
      "cell_type": "code",
      "metadata": {
        "colab": {
          "base_uri": "https://localhost:8080/"
        },
        "id": "bfX441eeZqVN",
        "outputId": "6a783113-8578-4125-8370-1651007de077"
      },
      "source": [
        "%%time\n",
        "ruta_test = '/content/drive/MyDrive/Machine Learning/test.csv'\n",
        "test  = pd.read_csv(ruta_test) \n",
        "test.head()"
      ],
      "execution_count": 7,
      "outputs": [
        {
          "output_type": "stream",
          "text": [
            "<string>:2: DtypeWarning: Columns (28) have mixed types.Specify dtype option on import or set low_memory=False.\n"
          ],
          "name": "stderr"
        },
        {
          "output_type": "stream",
          "text": [
            "CPU times: user 1min 21s, sys: 16.3 s, total: 1min 37s\n",
            "Wall time: 1min 46s\n"
          ],
          "name": "stdout"
        }
      ]
    },
    {
      "cell_type": "code",
      "metadata": {
        "id": "b6_lwRPdeh-b",
        "outputId": "684e791e-67fb-4a96-91c5-828fc8e19aa9",
        "colab": {
          "base_uri": "https://localhost:8080/"
        }
      },
      "source": [
        "test.shape"
      ],
      "execution_count": 8,
      "outputs": [
        {
          "output_type": "execute_result",
          "data": {
            "text/plain": [
              "(7853253, 82)"
            ]
          },
          "metadata": {
            "tags": []
          },
          "execution_count": 8
        }
      ]
    },
    {
      "cell_type": "markdown",
      "metadata": {
        "id": "CAN7zuJtfIAi"
      },
      "source": [
        "Preliminarmente se puede analizar que los conjuntos de datos de entrenamiento y de validación no tienen la misma cantidad de variables (Como se observa en la siguiente tabla). Por ello se análizará inicialmente si todas las variables disponibles en el conjunto test, se encuentran en train, y cual variable no debería tenerse en cuenta debido a que no están en ambos conjuntos de datos.\n",
        "\n",
        "Dataframe | No. de datos | No. de Variables |\n",
        "----------|--------------|------------------|\n",
        "Train | 8.921.483 | 83 |\n",
        "Test | 7.853.253 | 82 |"
      ]
    }
  ]
}