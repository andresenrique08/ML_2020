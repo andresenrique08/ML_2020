{
  "nbformat": 4,
  "nbformat_minor": 0,
  "metadata": {
    "colab": {
      "name": "Rep_Malware_v1.ipynb",
      "provenance": [],
      "collapsed_sections": [
        "WG0ZjACF4cNN",
        "wv4hbiMKxpx7",
        "W5DOrVWwCP-i"
      ],
      "machine_shape": "hm",
      "include_colab_link": true
    },
    "kernelspec": {
      "name": "python3",
      "display_name": "Python 3"
    },
    "accelerator": "GPU"
  },
  "cells": [
    {
      "cell_type": "markdown",
      "metadata": {
        "id": "view-in-github",
        "colab_type": "text"
      },
      "source": [
        "<a href=\"https://colab.research.google.com/github/andresenrique08/ML_2020/blob/master/Proyecto_Malware/Rep_Malware_v1.ipynb\" target=\"_parent\"><img src=\"https://colab.research.google.com/assets/colab-badge.svg\" alt=\"Open In Colab\"/></a>"
      ]
    },
    {
      "cell_type": "markdown",
      "metadata": {
        "id": "bJgkeDNrcbDI"
      },
      "source": [
        "# Detección de Malware\n",
        "\n",
        "**Curso de Machine Learning 2020-20**\n",
        "\n",
        "*Proyecto Final*\n",
        "\n",
        "Autores:\n",
        "\n",
        "\n",
        "*   Andrés Enrique Ávila Rojas (201319127)\n",
        "*   Jeison Alexander Timana Rangel (201617870)\n",
        "\n",
        "\n",
        "\n"
      ]
    },
    {
      "cell_type": "code",
      "metadata": {
        "id": "-hqpb93EUhRD"
      },
      "source": [
        "# Importing libraries\n",
        "import numpy as np\n",
        "import pydrive as drive\n",
        "from google.colab import drive\n",
        "import pandas as pd\n",
        "import seaborn as sns\n",
        "import matplotlib as mpl\n",
        "import matplotlib.pyplot as plt\n",
        "plt.style.use('ggplot')\n",
        "pd.set_option('display.max_rows', 100)\n",
        "\n",
        "# Modulos para contingencias\n",
        "from scipy.stats import chi2\n",
        "from scipy.stats import chi2_contingency\n",
        "\n",
        "# Modulos de scikit-learn\n",
        "from sklearn.preprocessing import MinMaxScaler"
      ],
      "execution_count": null,
      "outputs": []
    },
    {
      "cell_type": "markdown",
      "metadata": {
        "id": "7T0bLYi4c0nx"
      },
      "source": [
        "Se dan los permisos para acceder al almecenamiento de drive."
      ]
    },
    {
      "cell_type": "code",
      "metadata": {
        "colab": {
          "base_uri": "https://localhost:8080/"
        },
        "id": "sF3r3tGXM8KH",
        "outputId": "d9218aa4-82d7-4547-9c51-639e19c7e059"
      },
      "source": [
        "drive.mount('/content/drive')"
      ],
      "execution_count": null,
      "outputs": [
        {
          "output_type": "stream",
          "text": [
            "Drive already mounted at /content/drive; to attempt to forcibly remount, call drive.mount(\"/content/drive\", force_remount=True).\n"
          ],
          "name": "stdout"
        }
      ]
    },
    {
      "cell_type": "markdown",
      "metadata": {
        "id": "F3EpkKJfdFc5"
      },
      "source": [
        "## Preparación de los datos\n",
        "\n",
        "En esta sección se presenta la lectura y análisis preliminar de los datos de entrenamiento y los datos de validación. Estos datos vienen en dos archivos de formato csv separado por comas y pueden ser obtenidos de la página de la  <a href=\"https://www.kaggle.com/c/microsoft-malware-prediction/data\">competencia de microsoft para la dección de malware</a> disponible en kaggle. El peso de los conjuntos de datos es:\n",
        "\n",
        "\n",
        "*   train.csv: 4.08 GB\n",
        "*   test.csv: 3.53 GB\n",
        "\n"
      ]
    },
    {
      "cell_type": "markdown",
      "metadata": {
        "id": "IKuRLu0Cepg4"
      },
      "source": [
        "**Datos de entrenamiento**"
      ]
    },
    {
      "cell_type": "code",
      "metadata": {
        "colab": {
          "base_uri": "https://localhost:8080/"
        },
        "id": "8TV_TGheMynJ",
        "outputId": "d5b540ff-81c3-4452-bd18-9628af0f197f"
      },
      "source": [
        "%%time\n",
        "ruta_train = '/content/drive/MyDrive/LleyZon Emoxito/train.csv'\n",
        "dtypes = {\n",
        "        'MachineIdentifier':                                    'category',\n",
        "        'ProductName':                                          'category',\n",
        "        'EngineVersion':                                        'category',\n",
        "        'AppVersion':                                           'category',\n",
        "        'AvSigVersion':                                         'category',\n",
        "        'IsBeta':                                               'int8',\n",
        "        'RtpStateBitfield':                                     'float16',\n",
        "        'IsSxsPassiveMode':                                     'int8',\n",
        "        'DefaultBrowsersIdentifier':                            'float16',\n",
        "        'AVProductStatesIdentifier':                            'float32',\n",
        "        'AVProductsInstalled':                                  'float16',\n",
        "        'AVProductsEnabled':                                    'float16',\n",
        "        'HasTpm':                                               'int8',\n",
        "        'CountryIdentifier':                                    'int16',\n",
        "        'CityIdentifier':                                       'float32',\n",
        "        'OrganizationIdentifier':                               'float16',\n",
        "        'GeoNameIdentifier':                                    'float16',\n",
        "        'LocaleEnglishNameIdentifier':                          'int8',\n",
        "        'Platform':                                             'category',\n",
        "        'Processor':                                            'category',\n",
        "        'OsVer':                                                'category',\n",
        "        'OsBuild':                                              'int16',\n",
        "        'OsSuite':                                              'int16',\n",
        "        'OsPlatformSubRelease':                                 'category',\n",
        "        'OsBuildLab':                                           'category',\n",
        "        'SkuEdition':                                           'category',\n",
        "        'IsProtected':                                          'float16',\n",
        "        'AutoSampleOptIn':                                      'int8',\n",
        "        'PuaMode':                                              'category',\n",
        "        'SMode':                                                'float16',\n",
        "        'IeVerIdentifier':                                      'float16',\n",
        "        'SmartScreen':                                          'category',\n",
        "        'Firewall':                                             'float16',\n",
        "        'UacLuaenable':                                         'float32',\n",
        "        'Census_MDC2FormFactor':                                'category',\n",
        "        'Census_DeviceFamily':                                  'category',\n",
        "        'Census_OEMNameIdentifier':                             'float16',\n",
        "        'Census_OEMModelIdentifier':                            'float32',\n",
        "        'Census_ProcessorCoreCount':                            'float16',\n",
        "        'Census_ProcessorManufacturerIdentifier':               'float16',\n",
        "        'Census_ProcessorModelIdentifier':                      'float16',\n",
        "        'Census_ProcessorClass':                                'category',\n",
        "        'Census_PrimaryDiskTotalCapacity':                      'float32',\n",
        "        'Census_PrimaryDiskTypeName':                           'category',\n",
        "        'Census_SystemVolumeTotalCapacity':                     'float32',\n",
        "        'Census_HasOpticalDiskDrive':                           'int8',\n",
        "        'Census_TotalPhysicalRAM':                              'float32',\n",
        "        'Census_ChassisTypeName':                               'category',\n",
        "        'Census_InternalPrimaryDiagonalDisplaySizeInInches':    'float16',\n",
        "        'Census_InternalPrimaryDisplayResolutionHorizontal':    'float16',\n",
        "        'Census_InternalPrimaryDisplayResolutionVertical':      'float16',\n",
        "        'Census_PowerPlatformRoleName':                         'category',\n",
        "        'Census_InternalBatteryType':                           'category',\n",
        "        'Census_InternalBatteryNumberOfCharges':                'float32',\n",
        "        'Census_OSVersion':                                     'category',\n",
        "        'Census_OSArchitecture':                                'category',\n",
        "        'Census_OSBranch':                                      'category',\n",
        "        'Census_OSBuildNumber':                                 'int16',\n",
        "        'Census_OSBuildRevision':                               'int32',\n",
        "        'Census_OSEdition':                                     'category',\n",
        "        'Census_OSSkuName':                                     'category',\n",
        "        'Census_OSInstallTypeName':                             'category',\n",
        "        'Census_OSInstallLanguageIdentifier':                   'float16',\n",
        "        'Census_OSUILocaleIdentifier':                          'int16',\n",
        "        'Census_OSWUAutoUpdateOptionsName':                     'category',\n",
        "        'Census_IsPortableOperatingSystem':                     'int8',\n",
        "        'Census_GenuineStateName':                              'category',\n",
        "        'Census_ActivationChannel':                             'category',\n",
        "        'Census_IsFlightingInternal':                           'float16',\n",
        "        'Census_IsFlightsDisabled':                             'float16',\n",
        "        'Census_FlightRing':                                    'category',\n",
        "        'Census_ThresholdOptIn':                                'float16',\n",
        "        'Census_FirmwareManufacturerIdentifier':                'float16',\n",
        "        'Census_FirmwareVersionIdentifier':                     'float32',\n",
        "        'Census_IsSecureBootEnabled':                           'int8',\n",
        "        'Census_IsWIMBootEnabled':                              'float16',\n",
        "        'Census_IsVirtualDevice':                               'float16',\n",
        "        'Census_IsTouchEnabled':                                'int8',\n",
        "        'Census_IsPenCapable':                                  'int8',\n",
        "        'Census_IsAlwaysOnAlwaysConnectedCapable':              'float16',\n",
        "        'Wdft_IsGamer':                                         'float16',\n",
        "        'Wdft_RegionIdentifier':                                'float16',\n",
        "        'HasDetections':                                        'int8'\n",
        "        }\n",
        "train  = pd.read_csv(ruta_train, sep=\",\", dtype=dtypes, low_memory=True) "
      ],
      "execution_count": null,
      "outputs": [
        {
          "output_type": "stream",
          "text": [
            "CPU times: user 2min 48s, sys: 10.2 s, total: 2min 58s\n",
            "Wall time: 3min 7s\n"
          ],
          "name": "stdout"
        }
      ]
    },
    {
      "cell_type": "code",
      "metadata": {
        "colab": {
          "base_uri": "https://localhost:8080/",
          "height": 331
        },
        "id": "jFMaf_7KhEA0",
        "outputId": "bafee0b9-8c93-4838-9c9b-88891deaba27"
      },
      "source": [
        "train.head()"
      ],
      "execution_count": null,
      "outputs": [
        {
          "output_type": "execute_result",
          "data": {
            "text/html": [
              "<div>\n",
              "<style scoped>\n",
              "    .dataframe tbody tr th:only-of-type {\n",
              "        vertical-align: middle;\n",
              "    }\n",
              "\n",
              "    .dataframe tbody tr th {\n",
              "        vertical-align: top;\n",
              "    }\n",
              "\n",
              "    .dataframe thead th {\n",
              "        text-align: right;\n",
              "    }\n",
              "</style>\n",
              "<table border=\"1\" class=\"dataframe\">\n",
              "  <thead>\n",
              "    <tr style=\"text-align: right;\">\n",
              "      <th></th>\n",
              "      <th>MachineIdentifier</th>\n",
              "      <th>ProductName</th>\n",
              "      <th>EngineVersion</th>\n",
              "      <th>AppVersion</th>\n",
              "      <th>AvSigVersion</th>\n",
              "      <th>IsBeta</th>\n",
              "      <th>RtpStateBitfield</th>\n",
              "      <th>IsSxsPassiveMode</th>\n",
              "      <th>DefaultBrowsersIdentifier</th>\n",
              "      <th>AVProductStatesIdentifier</th>\n",
              "      <th>AVProductsInstalled</th>\n",
              "      <th>AVProductsEnabled</th>\n",
              "      <th>HasTpm</th>\n",
              "      <th>CountryIdentifier</th>\n",
              "      <th>CityIdentifier</th>\n",
              "      <th>OrganizationIdentifier</th>\n",
              "      <th>GeoNameIdentifier</th>\n",
              "      <th>LocaleEnglishNameIdentifier</th>\n",
              "      <th>Platform</th>\n",
              "      <th>Processor</th>\n",
              "      <th>OsVer</th>\n",
              "      <th>OsBuild</th>\n",
              "      <th>OsSuite</th>\n",
              "      <th>OsPlatformSubRelease</th>\n",
              "      <th>OsBuildLab</th>\n",
              "      <th>SkuEdition</th>\n",
              "      <th>IsProtected</th>\n",
              "      <th>AutoSampleOptIn</th>\n",
              "      <th>PuaMode</th>\n",
              "      <th>SMode</th>\n",
              "      <th>IeVerIdentifier</th>\n",
              "      <th>SmartScreen</th>\n",
              "      <th>Firewall</th>\n",
              "      <th>UacLuaenable</th>\n",
              "      <th>Census_MDC2FormFactor</th>\n",
              "      <th>Census_DeviceFamily</th>\n",
              "      <th>Census_OEMNameIdentifier</th>\n",
              "      <th>Census_OEMModelIdentifier</th>\n",
              "      <th>Census_ProcessorCoreCount</th>\n",
              "      <th>Census_ProcessorManufacturerIdentifier</th>\n",
              "      <th>...</th>\n",
              "      <th>Census_PrimaryDiskTypeName</th>\n",
              "      <th>Census_SystemVolumeTotalCapacity</th>\n",
              "      <th>Census_HasOpticalDiskDrive</th>\n",
              "      <th>Census_TotalPhysicalRAM</th>\n",
              "      <th>Census_ChassisTypeName</th>\n",
              "      <th>Census_InternalPrimaryDiagonalDisplaySizeInInches</th>\n",
              "      <th>Census_InternalPrimaryDisplayResolutionHorizontal</th>\n",
              "      <th>Census_InternalPrimaryDisplayResolutionVertical</th>\n",
              "      <th>Census_PowerPlatformRoleName</th>\n",
              "      <th>Census_InternalBatteryType</th>\n",
              "      <th>Census_InternalBatteryNumberOfCharges</th>\n",
              "      <th>Census_OSVersion</th>\n",
              "      <th>Census_OSArchitecture</th>\n",
              "      <th>Census_OSBranch</th>\n",
              "      <th>Census_OSBuildNumber</th>\n",
              "      <th>Census_OSBuildRevision</th>\n",
              "      <th>Census_OSEdition</th>\n",
              "      <th>Census_OSSkuName</th>\n",
              "      <th>Census_OSInstallTypeName</th>\n",
              "      <th>Census_OSInstallLanguageIdentifier</th>\n",
              "      <th>Census_OSUILocaleIdentifier</th>\n",
              "      <th>Census_OSWUAutoUpdateOptionsName</th>\n",
              "      <th>Census_IsPortableOperatingSystem</th>\n",
              "      <th>Census_GenuineStateName</th>\n",
              "      <th>Census_ActivationChannel</th>\n",
              "      <th>Census_IsFlightingInternal</th>\n",
              "      <th>Census_IsFlightsDisabled</th>\n",
              "      <th>Census_FlightRing</th>\n",
              "      <th>Census_ThresholdOptIn</th>\n",
              "      <th>Census_FirmwareManufacturerIdentifier</th>\n",
              "      <th>Census_FirmwareVersionIdentifier</th>\n",
              "      <th>Census_IsSecureBootEnabled</th>\n",
              "      <th>Census_IsWIMBootEnabled</th>\n",
              "      <th>Census_IsVirtualDevice</th>\n",
              "      <th>Census_IsTouchEnabled</th>\n",
              "      <th>Census_IsPenCapable</th>\n",
              "      <th>Census_IsAlwaysOnAlwaysConnectedCapable</th>\n",
              "      <th>Wdft_IsGamer</th>\n",
              "      <th>Wdft_RegionIdentifier</th>\n",
              "      <th>HasDetections</th>\n",
              "    </tr>\n",
              "  </thead>\n",
              "  <tbody>\n",
              "    <tr>\n",
              "      <th>0</th>\n",
              "      <td>0000028988387b115f69f31a3bf04f09</td>\n",
              "      <td>win8defender</td>\n",
              "      <td>1.1.15100.1</td>\n",
              "      <td>4.18.1807.18075</td>\n",
              "      <td>1.273.1735.0</td>\n",
              "      <td>0</td>\n",
              "      <td>7.0</td>\n",
              "      <td>0</td>\n",
              "      <td>NaN</td>\n",
              "      <td>53447.0</td>\n",
              "      <td>1.0</td>\n",
              "      <td>1.0</td>\n",
              "      <td>1</td>\n",
              "      <td>29</td>\n",
              "      <td>128035.0</td>\n",
              "      <td>18.0</td>\n",
              "      <td>35.0</td>\n",
              "      <td>-85</td>\n",
              "      <td>windows10</td>\n",
              "      <td>x64</td>\n",
              "      <td>10.0.0.0</td>\n",
              "      <td>17134</td>\n",
              "      <td>256</td>\n",
              "      <td>rs4</td>\n",
              "      <td>17134.1.amd64fre.rs4_release.180410-1804</td>\n",
              "      <td>Pro</td>\n",
              "      <td>1.0</td>\n",
              "      <td>0</td>\n",
              "      <td>NaN</td>\n",
              "      <td>0.0</td>\n",
              "      <td>137.0</td>\n",
              "      <td>NaN</td>\n",
              "      <td>1.0</td>\n",
              "      <td>1.0</td>\n",
              "      <td>Desktop</td>\n",
              "      <td>Windows.Desktop</td>\n",
              "      <td>2668.0</td>\n",
              "      <td>9124.0</td>\n",
              "      <td>4.0</td>\n",
              "      <td>5.0</td>\n",
              "      <td>...</td>\n",
              "      <td>HDD</td>\n",
              "      <td>299451.0</td>\n",
              "      <td>0</td>\n",
              "      <td>4096.0</td>\n",
              "      <td>Desktop</td>\n",
              "      <td>18.906250</td>\n",
              "      <td>1440.0</td>\n",
              "      <td>900.0</td>\n",
              "      <td>Desktop</td>\n",
              "      <td>NaN</td>\n",
              "      <td>4.294967e+09</td>\n",
              "      <td>10.0.17134.165</td>\n",
              "      <td>amd64</td>\n",
              "      <td>rs4_release</td>\n",
              "      <td>17134</td>\n",
              "      <td>165</td>\n",
              "      <td>Professional</td>\n",
              "      <td>PROFESSIONAL</td>\n",
              "      <td>UUPUpgrade</td>\n",
              "      <td>26.0</td>\n",
              "      <td>119</td>\n",
              "      <td>UNKNOWN</td>\n",
              "      <td>0</td>\n",
              "      <td>IS_GENUINE</td>\n",
              "      <td>Retail</td>\n",
              "      <td>NaN</td>\n",
              "      <td>0.0</td>\n",
              "      <td>Retail</td>\n",
              "      <td>NaN</td>\n",
              "      <td>628.0</td>\n",
              "      <td>36144.0</td>\n",
              "      <td>0</td>\n",
              "      <td>NaN</td>\n",
              "      <td>0.0</td>\n",
              "      <td>0</td>\n",
              "      <td>0</td>\n",
              "      <td>0.0</td>\n",
              "      <td>0.0</td>\n",
              "      <td>10.0</td>\n",
              "      <td>0</td>\n",
              "    </tr>\n",
              "    <tr>\n",
              "      <th>1</th>\n",
              "      <td>000007535c3f730efa9ea0b7ef1bd645</td>\n",
              "      <td>win8defender</td>\n",
              "      <td>1.1.14600.4</td>\n",
              "      <td>4.13.17134.1</td>\n",
              "      <td>1.263.48.0</td>\n",
              "      <td>0</td>\n",
              "      <td>7.0</td>\n",
              "      <td>0</td>\n",
              "      <td>NaN</td>\n",
              "      <td>53447.0</td>\n",
              "      <td>1.0</td>\n",
              "      <td>1.0</td>\n",
              "      <td>1</td>\n",
              "      <td>93</td>\n",
              "      <td>1482.0</td>\n",
              "      <td>18.0</td>\n",
              "      <td>119.0</td>\n",
              "      <td>64</td>\n",
              "      <td>windows10</td>\n",
              "      <td>x64</td>\n",
              "      <td>10.0.0.0</td>\n",
              "      <td>17134</td>\n",
              "      <td>256</td>\n",
              "      <td>rs4</td>\n",
              "      <td>17134.1.amd64fre.rs4_release.180410-1804</td>\n",
              "      <td>Pro</td>\n",
              "      <td>1.0</td>\n",
              "      <td>0</td>\n",
              "      <td>NaN</td>\n",
              "      <td>0.0</td>\n",
              "      <td>137.0</td>\n",
              "      <td>NaN</td>\n",
              "      <td>1.0</td>\n",
              "      <td>1.0</td>\n",
              "      <td>Notebook</td>\n",
              "      <td>Windows.Desktop</td>\n",
              "      <td>2668.0</td>\n",
              "      <td>91656.0</td>\n",
              "      <td>4.0</td>\n",
              "      <td>5.0</td>\n",
              "      <td>...</td>\n",
              "      <td>HDD</td>\n",
              "      <td>102385.0</td>\n",
              "      <td>0</td>\n",
              "      <td>4096.0</td>\n",
              "      <td>Notebook</td>\n",
              "      <td>13.898438</td>\n",
              "      <td>1366.0</td>\n",
              "      <td>768.0</td>\n",
              "      <td>Mobile</td>\n",
              "      <td>NaN</td>\n",
              "      <td>1.000000e+00</td>\n",
              "      <td>10.0.17134.1</td>\n",
              "      <td>amd64</td>\n",
              "      <td>rs4_release</td>\n",
              "      <td>17134</td>\n",
              "      <td>1</td>\n",
              "      <td>Professional</td>\n",
              "      <td>PROFESSIONAL</td>\n",
              "      <td>IBSClean</td>\n",
              "      <td>8.0</td>\n",
              "      <td>31</td>\n",
              "      <td>UNKNOWN</td>\n",
              "      <td>0</td>\n",
              "      <td>OFFLINE</td>\n",
              "      <td>Retail</td>\n",
              "      <td>NaN</td>\n",
              "      <td>0.0</td>\n",
              "      <td>NOT_SET</td>\n",
              "      <td>NaN</td>\n",
              "      <td>628.0</td>\n",
              "      <td>57858.0</td>\n",
              "      <td>0</td>\n",
              "      <td>NaN</td>\n",
              "      <td>0.0</td>\n",
              "      <td>0</td>\n",
              "      <td>0</td>\n",
              "      <td>0.0</td>\n",
              "      <td>0.0</td>\n",
              "      <td>8.0</td>\n",
              "      <td>0</td>\n",
              "    </tr>\n",
              "    <tr>\n",
              "      <th>2</th>\n",
              "      <td>000007905a28d863f6d0d597892cd692</td>\n",
              "      <td>win8defender</td>\n",
              "      <td>1.1.15100.1</td>\n",
              "      <td>4.18.1807.18075</td>\n",
              "      <td>1.273.1341.0</td>\n",
              "      <td>0</td>\n",
              "      <td>7.0</td>\n",
              "      <td>0</td>\n",
              "      <td>NaN</td>\n",
              "      <td>53447.0</td>\n",
              "      <td>1.0</td>\n",
              "      <td>1.0</td>\n",
              "      <td>1</td>\n",
              "      <td>86</td>\n",
              "      <td>153579.0</td>\n",
              "      <td>18.0</td>\n",
              "      <td>64.0</td>\n",
              "      <td>49</td>\n",
              "      <td>windows10</td>\n",
              "      <td>x64</td>\n",
              "      <td>10.0.0.0</td>\n",
              "      <td>17134</td>\n",
              "      <td>768</td>\n",
              "      <td>rs4</td>\n",
              "      <td>17134.1.amd64fre.rs4_release.180410-1804</td>\n",
              "      <td>Home</td>\n",
              "      <td>1.0</td>\n",
              "      <td>0</td>\n",
              "      <td>NaN</td>\n",
              "      <td>0.0</td>\n",
              "      <td>137.0</td>\n",
              "      <td>RequireAdmin</td>\n",
              "      <td>1.0</td>\n",
              "      <td>1.0</td>\n",
              "      <td>Desktop</td>\n",
              "      <td>Windows.Desktop</td>\n",
              "      <td>4908.0</td>\n",
              "      <td>317701.0</td>\n",
              "      <td>4.0</td>\n",
              "      <td>5.0</td>\n",
              "      <td>...</td>\n",
              "      <td>SSD</td>\n",
              "      <td>113907.0</td>\n",
              "      <td>0</td>\n",
              "      <td>4096.0</td>\n",
              "      <td>Desktop</td>\n",
              "      <td>21.500000</td>\n",
              "      <td>1920.0</td>\n",
              "      <td>1080.0</td>\n",
              "      <td>Desktop</td>\n",
              "      <td>NaN</td>\n",
              "      <td>4.294967e+09</td>\n",
              "      <td>10.0.17134.165</td>\n",
              "      <td>amd64</td>\n",
              "      <td>rs4_release</td>\n",
              "      <td>17134</td>\n",
              "      <td>165</td>\n",
              "      <td>Core</td>\n",
              "      <td>CORE</td>\n",
              "      <td>UUPUpgrade</td>\n",
              "      <td>7.0</td>\n",
              "      <td>30</td>\n",
              "      <td>FullAuto</td>\n",
              "      <td>0</td>\n",
              "      <td>IS_GENUINE</td>\n",
              "      <td>OEM:NONSLP</td>\n",
              "      <td>NaN</td>\n",
              "      <td>0.0</td>\n",
              "      <td>Retail</td>\n",
              "      <td>NaN</td>\n",
              "      <td>142.0</td>\n",
              "      <td>52682.0</td>\n",
              "      <td>0</td>\n",
              "      <td>NaN</td>\n",
              "      <td>0.0</td>\n",
              "      <td>0</td>\n",
              "      <td>0</td>\n",
              "      <td>0.0</td>\n",
              "      <td>0.0</td>\n",
              "      <td>3.0</td>\n",
              "      <td>0</td>\n",
              "    </tr>\n",
              "    <tr>\n",
              "      <th>3</th>\n",
              "      <td>00000b11598a75ea8ba1beea8459149f</td>\n",
              "      <td>win8defender</td>\n",
              "      <td>1.1.15100.1</td>\n",
              "      <td>4.18.1807.18075</td>\n",
              "      <td>1.273.1527.0</td>\n",
              "      <td>0</td>\n",
              "      <td>7.0</td>\n",
              "      <td>0</td>\n",
              "      <td>NaN</td>\n",
              "      <td>53447.0</td>\n",
              "      <td>1.0</td>\n",
              "      <td>1.0</td>\n",
              "      <td>1</td>\n",
              "      <td>88</td>\n",
              "      <td>20710.0</td>\n",
              "      <td>NaN</td>\n",
              "      <td>117.0</td>\n",
              "      <td>115</td>\n",
              "      <td>windows10</td>\n",
              "      <td>x64</td>\n",
              "      <td>10.0.0.0</td>\n",
              "      <td>17134</td>\n",
              "      <td>256</td>\n",
              "      <td>rs4</td>\n",
              "      <td>17134.1.amd64fre.rs4_release.180410-1804</td>\n",
              "      <td>Pro</td>\n",
              "      <td>1.0</td>\n",
              "      <td>0</td>\n",
              "      <td>NaN</td>\n",
              "      <td>0.0</td>\n",
              "      <td>137.0</td>\n",
              "      <td>ExistsNotSet</td>\n",
              "      <td>1.0</td>\n",
              "      <td>1.0</td>\n",
              "      <td>Desktop</td>\n",
              "      <td>Windows.Desktop</td>\n",
              "      <td>1443.0</td>\n",
              "      <td>275890.0</td>\n",
              "      <td>4.0</td>\n",
              "      <td>5.0</td>\n",
              "      <td>...</td>\n",
              "      <td>UNKNOWN</td>\n",
              "      <td>227116.0</td>\n",
              "      <td>0</td>\n",
              "      <td>4096.0</td>\n",
              "      <td>MiniTower</td>\n",
              "      <td>18.500000</td>\n",
              "      <td>1366.0</td>\n",
              "      <td>768.0</td>\n",
              "      <td>Desktop</td>\n",
              "      <td>NaN</td>\n",
              "      <td>4.294967e+09</td>\n",
              "      <td>10.0.17134.228</td>\n",
              "      <td>amd64</td>\n",
              "      <td>rs4_release</td>\n",
              "      <td>17134</td>\n",
              "      <td>228</td>\n",
              "      <td>Professional</td>\n",
              "      <td>PROFESSIONAL</td>\n",
              "      <td>UUPUpgrade</td>\n",
              "      <td>17.0</td>\n",
              "      <td>64</td>\n",
              "      <td>FullAuto</td>\n",
              "      <td>0</td>\n",
              "      <td>IS_GENUINE</td>\n",
              "      <td>OEM:NONSLP</td>\n",
              "      <td>NaN</td>\n",
              "      <td>0.0</td>\n",
              "      <td>Retail</td>\n",
              "      <td>NaN</td>\n",
              "      <td>355.0</td>\n",
              "      <td>20050.0</td>\n",
              "      <td>0</td>\n",
              "      <td>NaN</td>\n",
              "      <td>0.0</td>\n",
              "      <td>0</td>\n",
              "      <td>0</td>\n",
              "      <td>0.0</td>\n",
              "      <td>0.0</td>\n",
              "      <td>3.0</td>\n",
              "      <td>1</td>\n",
              "    </tr>\n",
              "    <tr>\n",
              "      <th>4</th>\n",
              "      <td>000014a5f00daa18e76b81417eeb99fc</td>\n",
              "      <td>win8defender</td>\n",
              "      <td>1.1.15100.1</td>\n",
              "      <td>4.18.1807.18075</td>\n",
              "      <td>1.273.1379.0</td>\n",
              "      <td>0</td>\n",
              "      <td>7.0</td>\n",
              "      <td>0</td>\n",
              "      <td>NaN</td>\n",
              "      <td>53447.0</td>\n",
              "      <td>1.0</td>\n",
              "      <td>1.0</td>\n",
              "      <td>1</td>\n",
              "      <td>18</td>\n",
              "      <td>37376.0</td>\n",
              "      <td>NaN</td>\n",
              "      <td>277.0</td>\n",
              "      <td>75</td>\n",
              "      <td>windows10</td>\n",
              "      <td>x64</td>\n",
              "      <td>10.0.0.0</td>\n",
              "      <td>17134</td>\n",
              "      <td>768</td>\n",
              "      <td>rs4</td>\n",
              "      <td>17134.1.amd64fre.rs4_release.180410-1804</td>\n",
              "      <td>Home</td>\n",
              "      <td>1.0</td>\n",
              "      <td>0</td>\n",
              "      <td>NaN</td>\n",
              "      <td>0.0</td>\n",
              "      <td>137.0</td>\n",
              "      <td>RequireAdmin</td>\n",
              "      <td>1.0</td>\n",
              "      <td>1.0</td>\n",
              "      <td>Notebook</td>\n",
              "      <td>Windows.Desktop</td>\n",
              "      <td>1443.0</td>\n",
              "      <td>331929.0</td>\n",
              "      <td>4.0</td>\n",
              "      <td>5.0</td>\n",
              "      <td>...</td>\n",
              "      <td>HDD</td>\n",
              "      <td>101900.0</td>\n",
              "      <td>0</td>\n",
              "      <td>6144.0</td>\n",
              "      <td>Portable</td>\n",
              "      <td>14.000000</td>\n",
              "      <td>1366.0</td>\n",
              "      <td>768.0</td>\n",
              "      <td>Mobile</td>\n",
              "      <td>lion</td>\n",
              "      <td>0.000000e+00</td>\n",
              "      <td>10.0.17134.191</td>\n",
              "      <td>amd64</td>\n",
              "      <td>rs4_release</td>\n",
              "      <td>17134</td>\n",
              "      <td>191</td>\n",
              "      <td>Core</td>\n",
              "      <td>CORE</td>\n",
              "      <td>Update</td>\n",
              "      <td>8.0</td>\n",
              "      <td>31</td>\n",
              "      <td>FullAuto</td>\n",
              "      <td>0</td>\n",
              "      <td>IS_GENUINE</td>\n",
              "      <td>Retail</td>\n",
              "      <td>0.0</td>\n",
              "      <td>0.0</td>\n",
              "      <td>Retail</td>\n",
              "      <td>0.0</td>\n",
              "      <td>355.0</td>\n",
              "      <td>19844.0</td>\n",
              "      <td>0</td>\n",
              "      <td>0.0</td>\n",
              "      <td>0.0</td>\n",
              "      <td>0</td>\n",
              "      <td>0</td>\n",
              "      <td>0.0</td>\n",
              "      <td>0.0</td>\n",
              "      <td>1.0</td>\n",
              "      <td>1</td>\n",
              "    </tr>\n",
              "  </tbody>\n",
              "</table>\n",
              "<p>5 rows × 83 columns</p>\n",
              "</div>"
            ],
            "text/plain": [
              "                  MachineIdentifier  ... HasDetections\n",
              "0  0000028988387b115f69f31a3bf04f09  ...             0\n",
              "1  000007535c3f730efa9ea0b7ef1bd645  ...             0\n",
              "2  000007905a28d863f6d0d597892cd692  ...             0\n",
              "3  00000b11598a75ea8ba1beea8459149f  ...             1\n",
              "4  000014a5f00daa18e76b81417eeb99fc  ...             1\n",
              "\n",
              "[5 rows x 83 columns]"
            ]
          },
          "metadata": {
            "tags": []
          },
          "execution_count": 4
        }
      ]
    },
    {
      "cell_type": "code",
      "metadata": {
        "colab": {
          "base_uri": "https://localhost:8080/"
        },
        "id": "2V4Rxacoaeeo",
        "outputId": "e76235ac-e30c-4eba-adab-3bc242d1cdf9"
      },
      "source": [
        "train.shape"
      ],
      "execution_count": null,
      "outputs": [
        {
          "output_type": "execute_result",
          "data": {
            "text/plain": [
              "(8921483, 83)"
            ]
          },
          "metadata": {
            "tags": []
          },
          "execution_count": 5
        }
      ]
    },
    {
      "cell_type": "markdown",
      "metadata": {
        "id": "26gv0z4ppjJe"
      },
      "source": [
        "Se observan los valores únicos de la variable de salida."
      ]
    },
    {
      "cell_type": "code",
      "metadata": {
        "colab": {
          "base_uri": "https://localhost:8080/"
        },
        "id": "AP68U5bppnpp",
        "outputId": "6931075c-36a1-40dc-c78c-5a448803d074"
      },
      "source": [
        "train.HasDetections.unique()"
      ],
      "execution_count": null,
      "outputs": [
        {
          "output_type": "execute_result",
          "data": {
            "text/plain": [
              "array([0, 1], dtype=int8)"
            ]
          },
          "metadata": {
            "tags": []
          },
          "execution_count": 6
        }
      ]
    },
    {
      "cell_type": "markdown",
      "metadata": {
        "id": "P1361NuvpxtV"
      },
      "source": [
        "La variable objetivo ```HasDectections``` sólo tiene dos valores. Donde 1 indica que se ha detectado un Malware y 0 indica que no se detectó Malware."
      ]
    },
    {
      "cell_type": "code",
      "metadata": {
        "id": "ErFwc-ej1lrH",
        "colab": {
          "base_uri": "https://localhost:8080/",
          "height": 392
        },
        "outputId": "4689db50-611a-4478-cec1-8190743048c4"
      },
      "source": [
        "train.HasDetections.value_counts().plot(kind='pie',figsize=(6, 6),title='0:No y 1:Sí',autopct='%.2f')"
      ],
      "execution_count": null,
      "outputs": [
        {
          "output_type": "execute_result",
          "data": {
            "text/plain": [
              "<matplotlib.axes._subplots.AxesSubplot at 0x7f4f45675d68>"
            ]
          },
          "metadata": {
            "tags": []
          },
          "execution_count": 7
        },
        {
          "output_type": "display_data",
          "data": {
            "image/png": "[encoded data removed]",
            "text/plain": [
              "<Figure size 432x432 with 1 Axes>"
            ]
          },
          "metadata": {
            "tags": []
          }
        }
      ]
    },
    {
      "cell_type": "markdown",
      "metadata": {
        "id": "cuDFuMkQ6YaA"
      },
      "source": [
        "Se observa que los datos de la variable objetivo están balanceados."
      ]
    },
    {
      "cell_type": "markdown",
      "metadata": {
        "id": "CCHVP_L-euTr"
      },
      "source": [
        "**Datos de validación**"
      ]
    },
    {
      "cell_type": "code",
      "metadata": {
        "id": "bfX441eeZqVN"
      },
      "source": [
        "# \"\"\"\n",
        "# %%time\n",
        "# ruta_test = '/content/drive/MyDrive/Machine Learning/test.csv'\n",
        "# test  = pd.read_csv(ruta_test) \"\"\"\""
      ],
      "execution_count": null,
      "outputs": []
    },
    {
      "cell_type": "code",
      "metadata": {
        "id": "FDJtzFKKkeT9"
      },
      "source": [
        "#test.head()"
      ],
      "execution_count": null,
      "outputs": []
    },
    {
      "cell_type": "code",
      "metadata": {
        "id": "b6_lwRPdeh-b"
      },
      "source": [
        "#test.shape"
      ],
      "execution_count": null,
      "outputs": []
    },
    {
      "cell_type": "markdown",
      "metadata": {
        "id": "CAN7zuJtfIAi"
      },
      "source": [
        "Preliminarmente se puede analizar que los conjuntos de datos de entrenamiento y de validación no tienen la misma cantidad de variables (Como se observa en la siguiente tabla). En este caso es fácil identificar que en los datos de validación no cuentan con la variable objetivo ```HasDetections``` por lo que no sería muy útil usarlos en la validación y evaluación del modelo propuesto.\n",
        "\n",
        "Dataframe | No. de datos | No. de Variables |\n",
        "----------|--------------|------------------|\n",
        "Train | 8.921.483 | 83 |\n",
        "Test | 7.853.253 | 82 |\n",
        "\n",
        "Sin embargo, se indagó en la página de la <a href=\"https://www.kaggle.com/c/microsoft-malware-prediction/data\">competencia de microsoft para la dección de malware</a> y se encontró otra base de datos disponibles, parece ser la columna de detección de malware con la variable que hace falta en el conjunto test, sin embargo como se observa en la siguiente figura, esta columna solo tiene valores iguales a 0.5, y corresponden a los valores que deben ser actualizados por los participantes de la competencia.\n",
        "\n",
        "![image.png](data:image/png;base64,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)\n",
        "\n",
        "\n",
        "Debido a esto, sólo se usará el dataframe de train, la cual se dividirá para obtener los datos de validación y de entrenamiento, mediante la función ```train_test_split``` de scikit-learn. Mientras que el dataframe de test cargado en este notebook se eliminará."
      ]
    },
    {
      "cell_type": "code",
      "metadata": {
        "id": "-VE1dLVrhsU5"
      },
      "source": [
        "#del test"
      ],
      "execution_count": null,
      "outputs": []
    },
    {
      "cell_type": "markdown",
      "metadata": {
        "id": "IuyTaIKdxq92"
      },
      "source": [
        "## Etapa de preprocesamiento de los datos\n",
        "\n",
        "En esta sección se busca realizar las modificaciones y la limpieza necesaria de los datos para la inclusión en los modelos a probar y desarrollar posteriormente. Algunos de los puntos principales que se realizan en esta etapa son:\n",
        "\n",
        "\n",
        "*   Revisar si hay filas de datos duplicadas o redundantes que puedan considerarse obsoletas en el modelo.\n",
        "*   Analizar los datos nulos o perdidos dentro de la base de datos, y tomar decisiones respecto al manejo que se les darán.\n",
        "*   Analizar la existencia de datos atípicos por cada una de las columnas de datos disponibles para los análisis. \n",
        "*   Revisar la oblicuidad de la distribución de los datos, analizando el porcentaje más alto que puede tener una característica o valor único dentro de cada variable.\n",
        "*   Hacer las transformaciones necesarias de los datos para que puedan ser utilizados dentro de los modelos. \n",
        "\n"
      ]
    },
    {
      "cell_type": "markdown",
      "metadata": {
        "id": "WG0ZjACF4cNN"
      },
      "source": [
        "### Limpieza de datos\n",
        "\n",
        "Inicialmente se verifica la existencia de filas duplicadas."
      ]
    },
    {
      "cell_type": "code",
      "metadata": {
        "id": "UiebovUQ4gbh",
        "colab": {
          "base_uri": "https://localhost:8080/"
        },
        "outputId": "6ad2ce43-b95c-488a-b43b-d2aad3920912"
      },
      "source": [
        "train.duplicated().sum()"
      ],
      "execution_count": null,
      "outputs": [
        {
          "output_type": "execute_result",
          "data": {
            "text/plain": [
              "0"
            ]
          },
          "metadata": {
            "tags": []
          },
          "execution_count": 12
        }
      ]
    },
    {
      "cell_type": "markdown",
      "metadata": {
        "id": "hHljZO1146ix"
      },
      "source": [
        "Se observa que dentro de la data disponible no existen datos repetidos. \n",
        "\n",
        "A continuación se presenta una tabla con información relevante para el análisis y limpieza de datos. En esta se presenta el porcentaje de datos nulos para cada variable, el porcentaje de ceros que existen, el tipo de datos, el número de valores únicos de cada variable, y la categoria de la variable con el mayor porcentaje de datos repetidos (buscando un análisis de la distribución estadística de los datos)"
      ]
    },
    {
      "cell_type": "code",
      "metadata": {
        "id": "EbCJKN9mvl4N"
      },
      "source": [
        "def mytable(data):\n",
        "    stats = []\n",
        "    for col in data.columns:\n",
        "        stats.append((col, data[col].isnull().sum()/data.shape[0]*100, (data[col]==0).sum()/data.shape[0]*100, \n",
        "                      data[col].dtype,data[col].nunique(),data[col].value_counts(normalize=True, dropna=False).values[0] * 100))\n",
        "        \n",
        "    mis_val_table = pd.DataFrame(stats, columns=['Variable','% de datos nulos','% de ceros','Tipo de datos','# de valores diferentes','% de la categoria con más datos'])\n",
        "    return mis_val_table"
      ],
      "execution_count": null,
      "outputs": []
    },
    {
      "cell_type": "code",
      "metadata": {
        "id": "gDyudDw8ysX9",
        "colab": {
          "base_uri": "https://localhost:8080/"
        },
        "outputId": "b9686127-5b46-4097-d9aa-daebdc791e27"
      },
      "source": [
        "stats_train = mytable(train)\n",
        "stats_train = stats_train.sort_values(by=['% de datos nulos'], ascending = False)\n",
        "stats_train"
      ],
      "execution_count": null,
      "outputs": [
        {
          "output_type": "execute_result",
          "data": {
            "text/html": [
              "<div>\n",
              "<style scoped>\n",
              "    .dataframe tbody tr th:only-of-type {\n",
              "        vertical-align: middle;\n",
              "    }\n",
              "\n",
              "    .dataframe tbody tr th {\n",
              "        vertical-align: top;\n",
              "    }\n",
              "\n",
              "    .dataframe thead th {\n",
              "        text-align: right;\n",
              "    }\n",
              "</style>\n",
              "<table border=\"1\" class=\"dataframe\">\n",
              "  <thead>\n",
              "    <tr style=\"text-align: right;\">\n",
              "      <th></th>\n",
              "      <th>Variable</th>\n",
              "      <th>% de datos nulos</th>\n",
              "      <th>% de ceros</th>\n",
              "      <th>Tipo de datos</th>\n",
              "      <th># de valores diferentes</th>\n",
              "      <th>% de la categoria con más datos</th>\n",
              "    </tr>\n",
              "  </thead>\n",
              "  <tbody>\n",
              "    <tr>\n",
              "      <th>28</th>\n",
              "      <td>PuaMode</td>\n",
              "      <td>99.974119</td>\n",
              "      <td>0.000000</td>\n",
              "      <td>category</td>\n",
              "      <td>2</td>\n",
              "      <td>99.974119</td>\n",
              "    </tr>\n",
              "    <tr>\n",
              "      <th>41</th>\n",
              "      <td>Census_ProcessorClass</td>\n",
              "      <td>99.589407</td>\n",
              "      <td>0.000000</td>\n",
              "      <td>category</td>\n",
              "      <td>3</td>\n",
              "      <td>99.589407</td>\n",
              "    </tr>\n",
              "    <tr>\n",
              "      <th>8</th>\n",
              "      <td>DefaultBrowsersIdentifier</td>\n",
              "      <td>95.141637</td>\n",
              "      <td>0.000000</td>\n",
              "      <td>float16</td>\n",
              "      <td>1730</td>\n",
              "      <td>95.141637</td>\n",
              "    </tr>\n",
              "    <tr>\n",
              "      <th>68</th>\n",
              "      <td>Census_IsFlightingInternal</td>\n",
              "      <td>83.044030</td>\n",
              "      <td>16.955735</td>\n",
              "      <td>float16</td>\n",
              "      <td>2</td>\n",
              "      <td>83.044030</td>\n",
              "    </tr>\n",
              "    <tr>\n",
              "      <th>52</th>\n",
              "      <td>Census_InternalBatteryType</td>\n",
              "      <td>71.046809</td>\n",
              "      <td>0.000000</td>\n",
              "      <td>category</td>\n",
              "      <td>78</td>\n",
              "      <td>71.046809</td>\n",
              "    </tr>\n",
              "    <tr>\n",
              "      <th>71</th>\n",
              "      <td>Census_ThresholdOptIn</td>\n",
              "      <td>63.524472</td>\n",
              "      <td>36.466381</td>\n",
              "      <td>float16</td>\n",
              "      <td>2</td>\n",
              "      <td>63.524472</td>\n",
              "    </tr>\n",
              "    <tr>\n",
              "      <th>75</th>\n",
              "      <td>Census_IsWIMBootEnabled</td>\n",
              "      <td>63.439038</td>\n",
              "      <td>36.560951</td>\n",
              "      <td>float16</td>\n",
              "      <td>2</td>\n",
              "      <td>63.439038</td>\n",
              "    </tr>\n",
              "    <tr>\n",
              "      <th>31</th>\n",
              "      <td>SmartScreen</td>\n",
              "      <td>35.610795</td>\n",
              "      <td>0.000000</td>\n",
              "      <td>category</td>\n",
              "      <td>21</td>\n",
              "      <td>48.379658</td>\n",
              "    </tr>\n",
              "    <tr>\n",
              "      <th>15</th>\n",
              "      <td>OrganizationIdentifier</td>\n",
              "      <td>30.841487</td>\n",
              "      <td>0.000000</td>\n",
              "      <td>float16</td>\n",
              "      <td>49</td>\n",
              "      <td>47.037662</td>\n",
              "    </tr>\n",
              "    <tr>\n",
              "      <th>29</th>\n",
              "      <td>SMode</td>\n",
              "      <td>6.027686</td>\n",
              "      <td>93.928812</td>\n",
              "      <td>float16</td>\n",
              "      <td>2</td>\n",
              "      <td>93.928812</td>\n",
              "    </tr>\n",
              "    <tr>\n",
              "      <th>14</th>\n",
              "      <td>CityIdentifier</td>\n",
              "      <td>3.647477</td>\n",
              "      <td>0.000000</td>\n",
              "      <td>float32</td>\n",
              "      <td>107366</td>\n",
              "      <td>3.647477</td>\n",
              "    </tr>\n",
              "    <tr>\n",
              "      <th>80</th>\n",
              "      <td>Wdft_IsGamer</td>\n",
              "      <td>3.401352</td>\n",
              "      <td>69.205344</td>\n",
              "      <td>float16</td>\n",
              "      <td>2</td>\n",
              "      <td>69.205344</td>\n",
              "    </tr>\n",
              "    <tr>\n",
              "      <th>81</th>\n",
              "      <td>Wdft_RegionIdentifier</td>\n",
              "      <td>3.401352</td>\n",
              "      <td>0.000000</td>\n",
              "      <td>float16</td>\n",
              "      <td>15</td>\n",
              "      <td>20.177195</td>\n",
              "    </tr>\n",
              "    <tr>\n",
              "      <th>53</th>\n",
              "      <td>Census_InternalBatteryNumberOfCharges</td>\n",
              "      <td>3.012448</td>\n",
              "      <td>56.643094</td>\n",
              "      <td>float32</td>\n",
              "      <td>41087</td>\n",
              "      <td>56.643094</td>\n",
              "    </tr>\n",
              "    <tr>\n",
              "      <th>72</th>\n",
              "      <td>Census_FirmwareManufacturerIdentifier</td>\n",
              "      <td>2.054109</td>\n",
              "      <td>0.000000</td>\n",
              "      <td>float16</td>\n",
              "      <td>712</td>\n",
              "      <td>30.253692</td>\n",
              "    </tr>\n",
              "    <tr>\n",
              "      <th>69</th>\n",
              "      <td>Census_IsFlightsDisabled</td>\n",
              "      <td>1.799286</td>\n",
              "      <td>98.199728</td>\n",
              "      <td>float16</td>\n",
              "      <td>2</td>\n",
              "      <td>98.199728</td>\n",
              "    </tr>\n",
              "    <tr>\n",
              "      <th>73</th>\n",
              "      <td>Census_FirmwareVersionIdentifier</td>\n",
              "      <td>1.794915</td>\n",
              "      <td>0.000000</td>\n",
              "      <td>float32</td>\n",
              "      <td>50494</td>\n",
              "      <td>1.794915</td>\n",
              "    </tr>\n",
              "    <tr>\n",
              "      <th>37</th>\n",
              "      <td>Census_OEMModelIdentifier</td>\n",
              "      <td>1.145919</td>\n",
              "      <td>0.000000</td>\n",
              "      <td>float32</td>\n",
              "      <td>175365</td>\n",
              "      <td>3.416271</td>\n",
              "    </tr>\n",
              "    <tr>\n",
              "      <th>36</th>\n",
              "      <td>Census_OEMNameIdentifier</td>\n",
              "      <td>1.070203</td>\n",
              "      <td>0.000000</td>\n",
              "      <td>float16</td>\n",
              "      <td>2564</td>\n",
              "      <td>14.428946</td>\n",
              "    </tr>\n",
              "    <tr>\n",
              "      <th>32</th>\n",
              "      <td>Firewall</td>\n",
              "      <td>1.023933</td>\n",
              "      <td>2.119816</td>\n",
              "      <td>float16</td>\n",
              "      <td>2</td>\n",
              "      <td>96.856251</td>\n",
              "    </tr>\n",
              "    <tr>\n",
              "      <th>46</th>\n",
              "      <td>Census_TotalPhysicalRAM</td>\n",
              "      <td>0.902686</td>\n",
              "      <td>0.000000</td>\n",
              "      <td>float32</td>\n",
              "      <td>3446</td>\n",
              "      <td>45.894971</td>\n",
              "    </tr>\n",
              "    <tr>\n",
              "      <th>79</th>\n",
              "      <td>Census_IsAlwaysOnAlwaysConnectedCapable</td>\n",
              "      <td>0.799676</td>\n",
              "      <td>93.504320</td>\n",
              "      <td>float16</td>\n",
              "      <td>2</td>\n",
              "      <td>93.504320</td>\n",
              "    </tr>\n",
              "    <tr>\n",
              "      <th>62</th>\n",
              "      <td>Census_OSInstallLanguageIdentifier</td>\n",
              "      <td>0.673475</td>\n",
              "      <td>0.000000</td>\n",
              "      <td>float16</td>\n",
              "      <td>39</td>\n",
              "      <td>35.636026</td>\n",
              "    </tr>\n",
              "    <tr>\n",
              "      <th>30</th>\n",
              "      <td>IeVerIdentifier</td>\n",
              "      <td>0.660137</td>\n",
              "      <td>0.000000</td>\n",
              "      <td>float16</td>\n",
              "      <td>303</td>\n",
              "      <td>43.556010</td>\n",
              "    </tr>\n",
              "    <tr>\n",
              "      <th>42</th>\n",
              "      <td>Census_PrimaryDiskTotalCapacity</td>\n",
              "      <td>0.594251</td>\n",
              "      <td>0.000168</td>\n",
              "      <td>float32</td>\n",
              "      <td>5735</td>\n",
              "      <td>31.850422</td>\n",
              "    </tr>\n",
              "    <tr>\n",
              "      <th>44</th>\n",
              "      <td>Census_SystemVolumeTotalCapacity</td>\n",
              "      <td>0.594094</td>\n",
              "      <td>0.000258</td>\n",
              "      <td>float32</td>\n",
              "      <td>536848</td>\n",
              "      <td>0.594094</td>\n",
              "    </tr>\n",
              "    <tr>\n",
              "      <th>48</th>\n",
              "      <td>Census_InternalPrimaryDiagonalDisplaySizeInInches</td>\n",
              "      <td>0.528320</td>\n",
              "      <td>0.000000</td>\n",
              "      <td>float16</td>\n",
              "      <td>785</td>\n",
              "      <td>34.158346</td>\n",
              "    </tr>\n",
              "    <tr>\n",
              "      <th>49</th>\n",
              "      <td>Census_InternalPrimaryDisplayResolutionHorizontal</td>\n",
              "      <td>0.526661</td>\n",
              "      <td>0.000000</td>\n",
              "      <td>float16</td>\n",
              "      <td>2050</td>\n",
              "      <td>50.608895</td>\n",
              "    </tr>\n",
              "    <tr>\n",
              "      <th>50</th>\n",
              "      <td>Census_InternalPrimaryDisplayResolutionVertical</td>\n",
              "      <td>0.526661</td>\n",
              "      <td>0.000000</td>\n",
              "      <td>float16</td>\n",
              "      <td>1552</td>\n",
              "      <td>55.748814</td>\n",
              "    </tr>\n",
              "    <tr>\n",
              "      <th>40</th>\n",
              "      <td>Census_ProcessorModelIdentifier</td>\n",
              "      <td>0.463410</td>\n",
              "      <td>0.000000</td>\n",
              "      <td>float16</td>\n",
              "      <td>2583</td>\n",
              "      <td>3.242555</td>\n",
              "    </tr>\n",
              "    <tr>\n",
              "      <th>39</th>\n",
              "      <td>Census_ProcessorManufacturerIdentifier</td>\n",
              "      <td>0.463073</td>\n",
              "      <td>0.000000</td>\n",
              "      <td>float16</td>\n",
              "      <td>7</td>\n",
              "      <td>87.870122</td>\n",
              "    </tr>\n",
              "    <tr>\n",
              "      <th>38</th>\n",
              "      <td>Census_ProcessorCoreCount</td>\n",
              "      <td>0.462995</td>\n",
              "      <td>0.000000</td>\n",
              "      <td>float16</td>\n",
              "      <td>45</td>\n",
              "      <td>60.866484</td>\n",
              "    </tr>\n",
              "    <tr>\n",
              "      <th>9</th>\n",
              "      <td>AVProductStatesIdentifier</td>\n",
              "      <td>0.405998</td>\n",
              "      <td>0.000000</td>\n",
              "      <td>float32</td>\n",
              "      <td>28970</td>\n",
              "      <td>65.286960</td>\n",
              "    </tr>\n",
              "    <tr>\n",
              "      <th>10</th>\n",
              "      <td>AVProductsInstalled</td>\n",
              "      <td>0.405998</td>\n",
              "      <td>0.000011</td>\n",
              "      <td>float16</td>\n",
              "      <td>8</td>\n",
              "      <td>69.594853</td>\n",
              "    </tr>\n",
              "    <tr>\n",
              "      <th>11</th>\n",
              "      <td>AVProductsEnabled</td>\n",
              "      <td>0.405998</td>\n",
              "      <td>0.290961</td>\n",
              "      <td>float16</td>\n",
              "      <td>6</td>\n",
              "      <td>97.002942</td>\n",
              "    </tr>\n",
              "    <tr>\n",
              "      <th>26</th>\n",
              "      <td>IsProtected</td>\n",
              "      <td>0.404014</td>\n",
              "      <td>5.415658</td>\n",
              "      <td>float16</td>\n",
              "      <td>2</td>\n",
              "      <td>94.180329</td>\n",
              "    </tr>\n",
              "    <tr>\n",
              "      <th>6</th>\n",
              "      <td>RtpStateBitfield</td>\n",
              "      <td>0.362249</td>\n",
              "      <td>2.137548</td>\n",
              "      <td>float16</td>\n",
              "      <td>7</td>\n",
              "      <td>96.973642</td>\n",
              "    </tr>\n",
              "    <tr>\n",
              "      <th>76</th>\n",
              "      <td>Census_IsVirtualDevice</td>\n",
              "      <td>0.178816</td>\n",
              "      <td>99.118499</td>\n",
              "      <td>float16</td>\n",
              "      <td>2</td>\n",
              "      <td>99.118499</td>\n",
              "    </tr>\n",
              "    <tr>\n",
              "      <th>43</th>\n",
              "      <td>Census_PrimaryDiskTypeName</td>\n",
              "      <td>0.143967</td>\n",
              "      <td>0.000000</td>\n",
              "      <td>category</td>\n",
              "      <td>4</td>\n",
              "      <td>65.087878</td>\n",
              "    </tr>\n",
              "    <tr>\n",
              "      <th>33</th>\n",
              "      <td>UacLuaenable</td>\n",
              "      <td>0.121482</td>\n",
              "      <td>0.603610</td>\n",
              "      <td>float32</td>\n",
              "      <td>11</td>\n",
              "      <td>99.271803</td>\n",
              "    </tr>\n",
              "    <tr>\n",
              "      <th>47</th>\n",
              "      <td>Census_ChassisTypeName</td>\n",
              "      <td>0.006983</td>\n",
              "      <td>0.000000</td>\n",
              "      <td>category</td>\n",
              "      <td>52</td>\n",
              "      <td>58.833402</td>\n",
              "    </tr>\n",
              "    <tr>\n",
              "      <th>16</th>\n",
              "      <td>GeoNameIdentifier</td>\n",
              "      <td>0.002387</td>\n",
              "      <td>0.000000</td>\n",
              "      <td>float16</td>\n",
              "      <td>292</td>\n",
              "      <td>17.171237</td>\n",
              "    </tr>\n",
              "    <tr>\n",
              "      <th>51</th>\n",
              "      <td>Census_PowerPlatformRoleName</td>\n",
              "      <td>0.000616</td>\n",
              "      <td>0.000000</td>\n",
              "      <td>category</td>\n",
              "      <td>10</td>\n",
              "      <td>69.303590</td>\n",
              "    </tr>\n",
              "    <tr>\n",
              "      <th>24</th>\n",
              "      <td>OsBuildLab</td>\n",
              "      <td>0.000235</td>\n",
              "      <td>0.000000</td>\n",
              "      <td>category</td>\n",
              "      <td>663</td>\n",
              "      <td>41.004382</td>\n",
              "    </tr>\n",
              "    <tr>\n",
              "      <th>61</th>\n",
              "      <td>Census_OSInstallTypeName</td>\n",
              "      <td>0.000000</td>\n",
              "      <td>0.000000</td>\n",
              "      <td>category</td>\n",
              "      <td>9</td>\n",
              "      <td>29.233223</td>\n",
              "    </tr>\n",
              "    <tr>\n",
              "      <th>60</th>\n",
              "      <td>Census_OSSkuName</td>\n",
              "      <td>0.000000</td>\n",
              "      <td>0.000000</td>\n",
              "      <td>category</td>\n",
              "      <td>30</td>\n",
              "      <td>38.893410</td>\n",
              "    </tr>\n",
              "    <tr>\n",
              "      <th>64</th>\n",
              "      <td>Census_OSWUAutoUpdateOptionsName</td>\n",
              "      <td>0.000000</td>\n",
              "      <td>0.000000</td>\n",
              "      <td>category</td>\n",
              "      <td>6</td>\n",
              "      <td>44.325557</td>\n",
              "    </tr>\n",
              "    <tr>\n",
              "      <th>63</th>\n",
              "      <td>Census_OSUILocaleIdentifier</td>\n",
              "      <td>0.000000</td>\n",
              "      <td>0.000000</td>\n",
              "      <td>int16</td>\n",
              "      <td>147</td>\n",
              "      <td>35.541445</td>\n",
              "    </tr>\n",
              "    <tr>\n",
              "      <th>65</th>\n",
              "      <td>Census_IsPortableOperatingSystem</td>\n",
              "      <td>0.000000</td>\n",
              "      <td>99.945480</td>\n",
              "      <td>int8</td>\n",
              "      <td>2</td>\n",
              "      <td>99.945480</td>\n",
              "    </tr>\n",
              "    <tr>\n",
              "      <th>78</th>\n",
              "      <td>Census_IsPenCapable</td>\n",
              "      <td>0.000000</td>\n",
              "      <td>96.192909</td>\n",
              "      <td>int8</td>\n",
              "      <td>2</td>\n",
              "      <td>96.192909</td>\n",
              "    </tr>\n",
              "    <tr>\n",
              "      <th>58</th>\n",
              "      <td>Census_OSBuildRevision</td>\n",
              "      <td>0.000000</td>\n",
              "      <td>1.864813</td>\n",
              "      <td>int32</td>\n",
              "      <td>285</td>\n",
              "      <td>15.845269</td>\n",
              "    </tr>\n",
              "    <tr>\n",
              "      <th>66</th>\n",
              "      <td>Census_GenuineStateName</td>\n",
              "      <td>0.000000</td>\n",
              "      <td>0.000000</td>\n",
              "      <td>category</td>\n",
              "      <td>5</td>\n",
              "      <td>88.299187</td>\n",
              "    </tr>\n",
              "    <tr>\n",
              "      <th>67</th>\n",
              "      <td>Census_ActivationChannel</td>\n",
              "      <td>0.000000</td>\n",
              "      <td>0.000000</td>\n",
              "      <td>category</td>\n",
              "      <td>6</td>\n",
              "      <td>52.991067</td>\n",
              "    </tr>\n",
              "    <tr>\n",
              "      <th>77</th>\n",
              "      <td>Census_IsTouchEnabled</td>\n",
              "      <td>0.000000</td>\n",
              "      <td>87.445686</td>\n",
              "      <td>int8</td>\n",
              "      <td>2</td>\n",
              "      <td>87.445686</td>\n",
              "    </tr>\n",
              "    <tr>\n",
              "      <th>70</th>\n",
              "      <td>Census_FlightRing</td>\n",
              "      <td>0.000000</td>\n",
              "      <td>0.000000</td>\n",
              "      <td>category</td>\n",
              "      <td>10</td>\n",
              "      <td>93.657960</td>\n",
              "    </tr>\n",
              "    <tr>\n",
              "      <th>74</th>\n",
              "      <td>Census_IsSecureBootEnabled</td>\n",
              "      <td>0.000000</td>\n",
              "      <td>51.397710</td>\n",
              "      <td>int8</td>\n",
              "      <td>2</td>\n",
              "      <td>51.397710</td>\n",
              "    </tr>\n",
              "    <tr>\n",
              "      <th>59</th>\n",
              "      <td>Census_OSEdition</td>\n",
              "      <td>0.000000</td>\n",
              "      <td>0.000000</td>\n",
              "      <td>category</td>\n",
              "      <td>33</td>\n",
              "      <td>38.894778</td>\n",
              "    </tr>\n",
              "    <tr>\n",
              "      <th>0</th>\n",
              "      <td>MachineIdentifier</td>\n",
              "      <td>0.000000</td>\n",
              "      <td>0.000000</td>\n",
              "      <td>category</td>\n",
              "      <td>8921483</td>\n",
              "      <td>0.000011</td>\n",
              "    </tr>\n",
              "    <tr>\n",
              "      <th>57</th>\n",
              "      <td>Census_OSBuildNumber</td>\n",
              "      <td>0.000000</td>\n",
              "      <td>0.000000</td>\n",
              "      <td>int16</td>\n",
              "      <td>165</td>\n",
              "      <td>44.935141</td>\n",
              "    </tr>\n",
              "    <tr>\n",
              "      <th>20</th>\n",
              "      <td>OsVer</td>\n",
              "      <td>0.000000</td>\n",
              "      <td>0.000000</td>\n",
              "      <td>category</td>\n",
              "      <td>58</td>\n",
              "      <td>96.761323</td>\n",
              "    </tr>\n",
              "    <tr>\n",
              "      <th>2</th>\n",
              "      <td>EngineVersion</td>\n",
              "      <td>0.000000</td>\n",
              "      <td>0.000000</td>\n",
              "      <td>category</td>\n",
              "      <td>70</td>\n",
              "      <td>43.098967</td>\n",
              "    </tr>\n",
              "    <tr>\n",
              "      <th>3</th>\n",
              "      <td>AppVersion</td>\n",
              "      <td>0.000000</td>\n",
              "      <td>0.000000</td>\n",
              "      <td>category</td>\n",
              "      <td>110</td>\n",
              "      <td>57.605042</td>\n",
              "    </tr>\n",
              "    <tr>\n",
              "      <th>4</th>\n",
              "      <td>AvSigVersion</td>\n",
              "      <td>0.000000</td>\n",
              "      <td>0.000000</td>\n",
              "      <td>category</td>\n",
              "      <td>8531</td>\n",
              "      <td>1.146861</td>\n",
              "    </tr>\n",
              "    <tr>\n",
              "      <th>5</th>\n",
              "      <td>IsBeta</td>\n",
              "      <td>0.000000</td>\n",
              "      <td>99.999249</td>\n",
              "      <td>int8</td>\n",
              "      <td>2</td>\n",
              "      <td>99.999249</td>\n",
              "    </tr>\n",
              "    <tr>\n",
              "      <th>7</th>\n",
              "      <td>IsSxsPassiveMode</td>\n",
              "      <td>0.000000</td>\n",
              "      <td>98.266622</td>\n",
              "      <td>int8</td>\n",
              "      <td>2</td>\n",
              "      <td>98.266622</td>\n",
              "    </tr>\n",
              "    <tr>\n",
              "      <th>12</th>\n",
              "      <td>HasTpm</td>\n",
              "      <td>0.000000</td>\n",
              "      <td>1.202894</td>\n",
              "      <td>int8</td>\n",
              "      <td>2</td>\n",
              "      <td>98.797106</td>\n",
              "    </tr>\n",
              "    <tr>\n",
              "      <th>13</th>\n",
              "      <td>CountryIdentifier</td>\n",
              "      <td>0.000000</td>\n",
              "      <td>0.000000</td>\n",
              "      <td>int16</td>\n",
              "      <td>222</td>\n",
              "      <td>4.451861</td>\n",
              "    </tr>\n",
              "    <tr>\n",
              "      <th>17</th>\n",
              "      <td>LocaleEnglishNameIdentifier</td>\n",
              "      <td>0.000000</td>\n",
              "      <td>0.000000</td>\n",
              "      <td>int8</td>\n",
              "      <td>252</td>\n",
              "      <td>23.477991</td>\n",
              "    </tr>\n",
              "    <tr>\n",
              "      <th>18</th>\n",
              "      <td>Platform</td>\n",
              "      <td>0.000000</td>\n",
              "      <td>0.000000</td>\n",
              "      <td>category</td>\n",
              "      <td>4</td>\n",
              "      <td>96.606304</td>\n",
              "    </tr>\n",
              "    <tr>\n",
              "      <th>19</th>\n",
              "      <td>Processor</td>\n",
              "      <td>0.000000</td>\n",
              "      <td>0.000000</td>\n",
              "      <td>category</td>\n",
              "      <td>3</td>\n",
              "      <td>90.853001</td>\n",
              "    </tr>\n",
              "    <tr>\n",
              "      <th>21</th>\n",
              "      <td>OsBuild</td>\n",
              "      <td>0.000000</td>\n",
              "      <td>0.000000</td>\n",
              "      <td>int16</td>\n",
              "      <td>76</td>\n",
              "      <td>43.888679</td>\n",
              "    </tr>\n",
              "    <tr>\n",
              "      <th>56</th>\n",
              "      <td>Census_OSBranch</td>\n",
              "      <td>0.000000</td>\n",
              "      <td>0.000000</td>\n",
              "      <td>category</td>\n",
              "      <td>32</td>\n",
              "      <td>44.938246</td>\n",
              "    </tr>\n",
              "    <tr>\n",
              "      <th>22</th>\n",
              "      <td>OsSuite</td>\n",
              "      <td>0.000000</td>\n",
              "      <td>0.000000</td>\n",
              "      <td>int16</td>\n",
              "      <td>14</td>\n",
              "      <td>62.328886</td>\n",
              "    </tr>\n",
              "    <tr>\n",
              "      <th>23</th>\n",
              "      <td>OsPlatformSubRelease</td>\n",
              "      <td>0.000000</td>\n",
              "      <td>0.000000</td>\n",
              "      <td>category</td>\n",
              "      <td>9</td>\n",
              "      <td>43.888735</td>\n",
              "    </tr>\n",
              "    <tr>\n",
              "      <th>25</th>\n",
              "      <td>SkuEdition</td>\n",
              "      <td>0.000000</td>\n",
              "      <td>0.000000</td>\n",
              "      <td>category</td>\n",
              "      <td>8</td>\n",
              "      <td>61.809690</td>\n",
              "    </tr>\n",
              "    <tr>\n",
              "      <th>27</th>\n",
              "      <td>AutoSampleOptIn</td>\n",
              "      <td>0.000000</td>\n",
              "      <td>99.997108</td>\n",
              "      <td>int8</td>\n",
              "      <td>2</td>\n",
              "      <td>99.997108</td>\n",
              "    </tr>\n",
              "    <tr>\n",
              "      <th>34</th>\n",
              "      <td>Census_MDC2FormFactor</td>\n",
              "      <td>0.000000</td>\n",
              "      <td>0.000000</td>\n",
              "      <td>category</td>\n",
              "      <td>13</td>\n",
              "      <td>64.152103</td>\n",
              "    </tr>\n",
              "    <tr>\n",
              "      <th>35</th>\n",
              "      <td>Census_DeviceFamily</td>\n",
              "      <td>0.000000</td>\n",
              "      <td>0.000000</td>\n",
              "      <td>category</td>\n",
              "      <td>3</td>\n",
              "      <td>99.838256</td>\n",
              "    </tr>\n",
              "    <tr>\n",
              "      <th>1</th>\n",
              "      <td>ProductName</td>\n",
              "      <td>0.000000</td>\n",
              "      <td>0.000000</td>\n",
              "      <td>category</td>\n",
              "      <td>6</td>\n",
              "      <td>98.935569</td>\n",
              "    </tr>\n",
              "    <tr>\n",
              "      <th>45</th>\n",
              "      <td>Census_HasOpticalDiskDrive</td>\n",
              "      <td>0.000000</td>\n",
              "      <td>92.281272</td>\n",
              "      <td>int8</td>\n",
              "      <td>2</td>\n",
              "      <td>92.281272</td>\n",
              "    </tr>\n",
              "    <tr>\n",
              "      <th>54</th>\n",
              "      <td>Census_OSVersion</td>\n",
              "      <td>0.000000</td>\n",
              "      <td>0.000000</td>\n",
              "      <td>category</td>\n",
              "      <td>469</td>\n",
              "      <td>15.845202</td>\n",
              "    </tr>\n",
              "    <tr>\n",
              "      <th>55</th>\n",
              "      <td>Census_OSArchitecture</td>\n",
              "      <td>0.000000</td>\n",
              "      <td>0.000000</td>\n",
              "      <td>category</td>\n",
              "      <td>3</td>\n",
              "      <td>90.858045</td>\n",
              "    </tr>\n",
              "    <tr>\n",
              "      <th>82</th>\n",
              "      <td>HasDetections</td>\n",
              "      <td>0.000000</td>\n",
              "      <td>50.020731</td>\n",
              "      <td>int8</td>\n",
              "      <td>2</td>\n",
              "      <td>50.020731</td>\n",
              "    </tr>\n",
              "  </tbody>\n",
              "</table>\n",
              "</div>"
            ],
            "text/plain": [
              "                                             Variable  ...  % de la categoria con más datos\n",
              "28                                            PuaMode  ...                        99.974119\n",
              "41                              Census_ProcessorClass  ...                        99.589407\n",
              "8                           DefaultBrowsersIdentifier  ...                        95.141637\n",
              "68                         Census_IsFlightingInternal  ...                        83.044030\n",
              "52                         Census_InternalBatteryType  ...                        71.046809\n",
              "71                              Census_ThresholdOptIn  ...                        63.524472\n",
              "75                            Census_IsWIMBootEnabled  ...                        63.439038\n",
              "31                                        SmartScreen  ...                        48.379658\n",
              "15                             OrganizationIdentifier  ...                        47.037662\n",
              "29                                              SMode  ...                        93.928812\n",
              "14                                     CityIdentifier  ...                         3.647477\n",
              "80                                       Wdft_IsGamer  ...                        69.205344\n",
              "81                              Wdft_RegionIdentifier  ...                        20.177195\n",
              "53              Census_InternalBatteryNumberOfCharges  ...                        56.643094\n",
              "72              Census_FirmwareManufacturerIdentifier  ...                        30.253692\n",
              "69                           Census_IsFlightsDisabled  ...                        98.199728\n",
              "73                   Census_FirmwareVersionIdentifier  ...                         1.794915\n",
              "37                          Census_OEMModelIdentifier  ...                         3.416271\n",
              "36                           Census_OEMNameIdentifier  ...                        14.428946\n",
              "32                                           Firewall  ...                        96.856251\n",
              "46                            Census_TotalPhysicalRAM  ...                        45.894971\n",
              "79            Census_IsAlwaysOnAlwaysConnectedCapable  ...                        93.504320\n",
              "62                 Census_OSInstallLanguageIdentifier  ...                        35.636026\n",
              "30                                    IeVerIdentifier  ...                        43.556010\n",
              "42                    Census_PrimaryDiskTotalCapacity  ...                        31.850422\n",
              "44                   Census_SystemVolumeTotalCapacity  ...                         0.594094\n",
              "48  Census_InternalPrimaryDiagonalDisplaySizeInInches  ...                        34.158346\n",
              "49  Census_InternalPrimaryDisplayResolutionHorizontal  ...                        50.608895\n",
              "50    Census_InternalPrimaryDisplayResolutionVertical  ...                        55.748814\n",
              "40                    Census_ProcessorModelIdentifier  ...                         3.242555\n",
              "39             Census_ProcessorManufacturerIdentifier  ...                        87.870122\n",
              "38                          Census_ProcessorCoreCount  ...                        60.866484\n",
              "9                           AVProductStatesIdentifier  ...                        65.286960\n",
              "10                                AVProductsInstalled  ...                        69.594853\n",
              "11                                  AVProductsEnabled  ...                        97.002942\n",
              "26                                        IsProtected  ...                        94.180329\n",
              "6                                    RtpStateBitfield  ...                        96.973642\n",
              "76                             Census_IsVirtualDevice  ...                        99.118499\n",
              "43                         Census_PrimaryDiskTypeName  ...                        65.087878\n",
              "33                                       UacLuaenable  ...                        99.271803\n",
              "47                             Census_ChassisTypeName  ...                        58.833402\n",
              "16                                  GeoNameIdentifier  ...                        17.171237\n",
              "51                       Census_PowerPlatformRoleName  ...                        69.303590\n",
              "24                                         OsBuildLab  ...                        41.004382\n",
              "61                           Census_OSInstallTypeName  ...                        29.233223\n",
              "60                                   Census_OSSkuName  ...                        38.893410\n",
              "64                   Census_OSWUAutoUpdateOptionsName  ...                        44.325557\n",
              "63                        Census_OSUILocaleIdentifier  ...                        35.541445\n",
              "65                   Census_IsPortableOperatingSystem  ...                        99.945480\n",
              "78                                Census_IsPenCapable  ...                        96.192909\n",
              "58                             Census_OSBuildRevision  ...                        15.845269\n",
              "66                            Census_GenuineStateName  ...                        88.299187\n",
              "67                           Census_ActivationChannel  ...                        52.991067\n",
              "77                              Census_IsTouchEnabled  ...                        87.445686\n",
              "70                                  Census_FlightRing  ...                        93.657960\n",
              "74                         Census_IsSecureBootEnabled  ...                        51.397710\n",
              "59                                   Census_OSEdition  ...                        38.894778\n",
              "0                                   MachineIdentifier  ...                         0.000011\n",
              "57                               Census_OSBuildNumber  ...                        44.935141\n",
              "20                                              OsVer  ...                        96.761323\n",
              "2                                       EngineVersion  ...                        43.098967\n",
              "3                                          AppVersion  ...                        57.605042\n",
              "4                                        AvSigVersion  ...                         1.146861\n",
              "5                                              IsBeta  ...                        99.999249\n",
              "7                                    IsSxsPassiveMode  ...                        98.266622\n",
              "12                                             HasTpm  ...                        98.797106\n",
              "13                                  CountryIdentifier  ...                         4.451861\n",
              "17                        LocaleEnglishNameIdentifier  ...                        23.477991\n",
              "18                                           Platform  ...                        96.606304\n",
              "19                                          Processor  ...                        90.853001\n",
              "21                                            OsBuild  ...                        43.888679\n",
              "56                                    Census_OSBranch  ...                        44.938246\n",
              "22                                            OsSuite  ...                        62.328886\n",
              "23                               OsPlatformSubRelease  ...                        43.888735\n",
              "25                                         SkuEdition  ...                        61.809690\n",
              "27                                    AutoSampleOptIn  ...                        99.997108\n",
              "34                              Census_MDC2FormFactor  ...                        64.152103\n",
              "35                                Census_DeviceFamily  ...                        99.838256\n",
              "1                                         ProductName  ...                        98.935569\n",
              "45                         Census_HasOpticalDiskDrive  ...                        92.281272\n",
              "54                                   Census_OSVersion  ...                        15.845202\n",
              "55                              Census_OSArchitecture  ...                        90.858045\n",
              "82                                      HasDetections  ...                        50.020731\n",
              "\n",
              "[83 rows x 6 columns]"
            ]
          },
          "metadata": {
            "tags": []
          },
          "execution_count": 14
        }
      ]
    },
    {
      "cell_type": "markdown",
      "metadata": {
        "id": "6Bk5gfPo9cW9"
      },
      "source": [
        "Teniendo en cuenta la organización dada a la tabla, donde se organiza de mayor porcentaje de datos perdidos al menor, se puede analizar lo siguiente: \n",
        "\n",
        "*  Las variable ```PuaMode```, ```Census_ProcessorClass``` y ```DefaultBrowsersIdentifier``` tiene un porcentaje de datos perdidos superior al 90%.\n",
        "*  Algunas variables tienen entre sus datos no nulos altos porcentajes de ceros. En algunos casos se tiene que la suma del porcentaje de datos nulos y de datos iguales es mayor al 99%, lo que nos podría decir que estas variables pueden ser ignoradas del análisis puesto que no brindan mucha información. Estás variables son: ```Census_ThresholdOptIn```, ```Census_IsWIMBootEnabled```, ```SMode```, ```Census_IsFlightingInternal```, ```Census_IsFlightsDisabled```, ```Census_IsVirtualDevice```, ```Census_IsPortableOperatingSystem```, ```IsBeta```, ```IsSxsPassiveMode```,```AutoSampleOptIn```.\n",
        "* Teniendo en cuenta que no es posible completar la información de los datos perdidos, con el fin de no perder un alto porcentaje de datos, se decide eliminar las variables con un porcentaje de datos perdidos superior al 30%, en este caso son: ```Census_InternalBatteryType```, ```SmartScreen```, ```OrganizationIdentifier```.\n",
        "*  La variable ```MachineIdentifier``` tiene 8.921.483 de valores únicos, lo que quiere decir que hay un valor diferente por cada fila de datos, por lo que también podría ser eliminada puesto que no brinda información relevante para el problema, puesto que el Malware debe ser detectado sin importar la máquina que se esté evaluando.\n",
        "\n",
        "De esta manera se propone realizar la eliminación de estas variables. Justificando que no aportan información relevante para el modelo."
      ]
    },
    {
      "cell_type": "code",
      "metadata": {
        "id": "7rFPjDCl6pPB"
      },
      "source": [
        "A_eliminar1 = ['PuaMode','Census_ProcessorClass','DefaultBrowsersIdentifier','Census_ThresholdOptIn','Census_IsWIMBootEnabled','SMode','Census_IsFlightingInternal'\n",
        "        ,'Census_IsFlightsDisabled','Census_IsVirtualDevice','Census_IsPortableOperatingSystem','IsBeta','IsSxsPassiveMode','AutoSampleOptIn'\n",
        "        ,'Census_InternalBatteryType','SmartScreen','OrganizationIdentifier','MachineIdentifier']\n",
        "        \n",
        "for rem in A_eliminar1:\n",
        "  train = train.drop(rem, axis=1)"
      ],
      "execution_count": null,
      "outputs": []
    },
    {
      "cell_type": "markdown",
      "metadata": {
        "id": "jNUph_fgmDXU"
      },
      "source": [
        "Una vez eliminadas estas columnas se verifica el nuevo tamaño del data frame, observando que ahora quedan 66 variables para nuestro análisis. "
      ]
    },
    {
      "cell_type": "code",
      "metadata": {
        "id": "eRj6jaKJ3hbo",
        "colab": {
          "base_uri": "https://localhost:8080/"
        },
        "outputId": "2c26f6fd-0e1b-475c-9707-370138f4af78"
      },
      "source": [
        "train.shape"
      ],
      "execution_count": null,
      "outputs": [
        {
          "output_type": "execute_result",
          "data": {
            "text/plain": [
              "(8921483, 66)"
            ]
          },
          "metadata": {
            "tags": []
          },
          "execution_count": 16
        }
      ]
    },
    {
      "cell_type": "markdown",
      "metadata": {
        "id": "yA5369o84zeI"
      },
      "source": [
        "Con esto en mente, se procede a eliminar las filas que contengan datos nulos."
      ]
    },
    {
      "cell_type": "code",
      "metadata": {
        "id": "975fhar448bk"
      },
      "source": [
        "train = train.dropna()"
      ],
      "execution_count": null,
      "outputs": []
    },
    {
      "cell_type": "markdown",
      "metadata": {
        "id": "TquDImrZ5Ec_"
      },
      "source": [
        "Obteniendo así 7.659.039 datos, lo que quiere decir que 1.262.444 filas de datos fueron eliminadas del dataset."
      ]
    },
    {
      "cell_type": "code",
      "metadata": {
        "id": "uNIfpizL5I9G",
        "colab": {
          "base_uri": "https://localhost:8080/"
        },
        "outputId": "f59eacff-1982-44d4-9044-2a67360f53c6"
      },
      "source": [
        "train.shape"
      ],
      "execution_count": null,
      "outputs": [
        {
          "output_type": "execute_result",
          "data": {
            "text/plain": [
              "(7659039, 66)"
            ]
          },
          "metadata": {
            "tags": []
          },
          "execution_count": 18
        }
      ]
    },
    {
      "cell_type": "markdown",
      "metadata": {
        "id": "4sWPQcmGmNKa"
      },
      "source": [
        "A continuación se verificará nuevamente la calidad de los datos con la tabla presentada anteriormente, en esta oportunidad se organizará por aquellas que tengan un alto porcentaje de desbalance en sus características, comparando así la oblicuidad de la distribución de los datos de cada variable."
      ]
    },
    {
      "cell_type": "code",
      "metadata": {
        "id": "q6Cw0tYy4BpH",
        "colab": {
          "base_uri": "https://localhost:8080/"
        },
        "outputId": "ab58d878-e500-4ceb-fffc-8e3753de19a8"
      },
      "source": [
        "stats_train = mytable(train)\n",
        "stats_train = stats_train.sort_values(by=['% de la categoria con más datos'], ascending = False)\n",
        "stats_train"
      ],
      "execution_count": null,
      "outputs": [
        {
          "output_type": "execute_result",
          "data": {
            "text/html": [
              "<div>\n",
              "<style scoped>\n",
              "    .dataframe tbody tr th:only-of-type {\n",
              "        vertical-align: middle;\n",
              "    }\n",
              "\n",
              "    .dataframe tbody tr th {\n",
              "        vertical-align: top;\n",
              "    }\n",
              "\n",
              "    .dataframe thead th {\n",
              "        text-align: right;\n",
              "    }\n",
              "</style>\n",
              "<table border=\"1\" class=\"dataframe\">\n",
              "  <thead>\n",
              "    <tr style=\"text-align: right;\">\n",
              "      <th></th>\n",
              "      <th>Variable</th>\n",
              "      <th>% de datos nulos</th>\n",
              "      <th>% de ceros</th>\n",
              "      <th>Tipo de datos</th>\n",
              "      <th># de valores diferentes</th>\n",
              "      <th>% de la categoria con más datos</th>\n",
              "    </tr>\n",
              "  </thead>\n",
              "  <tbody>\n",
              "    <tr>\n",
              "      <th>26</th>\n",
              "      <td>Census_DeviceFamily</td>\n",
              "      <td>0.0</td>\n",
              "      <td>0.000000</td>\n",
              "      <td>category</td>\n",
              "      <td>3</td>\n",
              "      <td>99.999896</td>\n",
              "    </tr>\n",
              "    <tr>\n",
              "      <th>0</th>\n",
              "      <td>ProductName</td>\n",
              "      <td>0.0</td>\n",
              "      <td>0.000000</td>\n",
              "      <td>category</td>\n",
              "      <td>4</td>\n",
              "      <td>99.919624</td>\n",
              "    </tr>\n",
              "    <tr>\n",
              "      <th>8</th>\n",
              "      <td>HasTpm</td>\n",
              "      <td>0.0</td>\n",
              "      <td>0.171758</td>\n",
              "      <td>int8</td>\n",
              "      <td>2</td>\n",
              "      <td>99.828242</td>\n",
              "    </tr>\n",
              "    <tr>\n",
              "      <th>24</th>\n",
              "      <td>UacLuaenable</td>\n",
              "      <td>0.0</td>\n",
              "      <td>0.444377</td>\n",
              "      <td>float32</td>\n",
              "      <td>10</td>\n",
              "      <td>99.552568</td>\n",
              "    </tr>\n",
              "    <tr>\n",
              "      <th>13</th>\n",
              "      <td>Platform</td>\n",
              "      <td>0.0</td>\n",
              "      <td>0.000000</td>\n",
              "      <td>category</td>\n",
              "      <td>3</td>\n",
              "      <td>98.373712</td>\n",
              "    </tr>\n",
              "    <tr>\n",
              "      <th>15</th>\n",
              "      <td>OsVer</td>\n",
              "      <td>0.0</td>\n",
              "      <td>0.000000</td>\n",
              "      <td>category</td>\n",
              "      <td>45</td>\n",
              "      <td>98.367550</td>\n",
              "    </tr>\n",
              "    <tr>\n",
              "      <th>23</th>\n",
              "      <td>Firewall</td>\n",
              "      <td>0.0</td>\n",
              "      <td>2.039277</td>\n",
              "      <td>float16</td>\n",
              "      <td>2</td>\n",
              "      <td>97.960723</td>\n",
              "    </tr>\n",
              "    <tr>\n",
              "      <th>7</th>\n",
              "      <td>AVProductsEnabled</td>\n",
              "      <td>0.0</td>\n",
              "      <td>0.252930</td>\n",
              "      <td>float16</td>\n",
              "      <td>6</td>\n",
              "      <td>97.582373</td>\n",
              "    </tr>\n",
              "    <tr>\n",
              "      <th>4</th>\n",
              "      <td>RtpStateBitfield</td>\n",
              "      <td>0.0</td>\n",
              "      <td>2.196085</td>\n",
              "      <td>float16</td>\n",
              "      <td>7</td>\n",
              "      <td>97.296240</td>\n",
              "    </tr>\n",
              "    <tr>\n",
              "      <th>61</th>\n",
              "      <td>Census_IsPenCapable</td>\n",
              "      <td>0.0</td>\n",
              "      <td>96.003180</td>\n",
              "      <td>int8</td>\n",
              "      <td>2</td>\n",
              "      <td>96.003180</td>\n",
              "    </tr>\n",
              "    <tr>\n",
              "      <th>21</th>\n",
              "      <td>IsProtected</td>\n",
              "      <td>0.0</td>\n",
              "      <td>5.359680</td>\n",
              "      <td>float16</td>\n",
              "      <td>2</td>\n",
              "      <td>94.640320</td>\n",
              "    </tr>\n",
              "    <tr>\n",
              "      <th>62</th>\n",
              "      <td>Census_IsAlwaysOnAlwaysConnectedCapable</td>\n",
              "      <td>0.0</td>\n",
              "      <td>94.217786</td>\n",
              "      <td>float16</td>\n",
              "      <td>2</td>\n",
              "      <td>94.217786</td>\n",
              "    </tr>\n",
              "    <tr>\n",
              "      <th>56</th>\n",
              "      <td>Census_FlightRing</td>\n",
              "      <td>0.0</td>\n",
              "      <td>0.000000</td>\n",
              "      <td>category</td>\n",
              "      <td>9</td>\n",
              "      <td>94.074439</td>\n",
              "    </tr>\n",
              "    <tr>\n",
              "      <th>35</th>\n",
              "      <td>Census_HasOpticalDiskDrive</td>\n",
              "      <td>0.0</td>\n",
              "      <td>91.919104</td>\n",
              "      <td>int8</td>\n",
              "      <td>2</td>\n",
              "      <td>91.919104</td>\n",
              "    </tr>\n",
              "    <tr>\n",
              "      <th>44</th>\n",
              "      <td>Census_OSArchitecture</td>\n",
              "      <td>0.0</td>\n",
              "      <td>0.000000</td>\n",
              "      <td>category</td>\n",
              "      <td>3</td>\n",
              "      <td>91.318676</td>\n",
              "    </tr>\n",
              "    <tr>\n",
              "      <th>14</th>\n",
              "      <td>Processor</td>\n",
              "      <td>0.0</td>\n",
              "      <td>0.000000</td>\n",
              "      <td>category</td>\n",
              "      <td>3</td>\n",
              "      <td>91.316052</td>\n",
              "    </tr>\n",
              "    <tr>\n",
              "      <th>54</th>\n",
              "      <td>Census_GenuineStateName</td>\n",
              "      <td>0.0</td>\n",
              "      <td>0.000000</td>\n",
              "      <td>category</td>\n",
              "      <td>4</td>\n",
              "      <td>90.300624</td>\n",
              "    </tr>\n",
              "    <tr>\n",
              "      <th>30</th>\n",
              "      <td>Census_ProcessorManufacturerIdentifier</td>\n",
              "      <td>0.0</td>\n",
              "      <td>0.000000</td>\n",
              "      <td>float16</td>\n",
              "      <td>6</td>\n",
              "      <td>88.203011</td>\n",
              "    </tr>\n",
              "    <tr>\n",
              "      <th>60</th>\n",
              "      <td>Census_IsTouchEnabled</td>\n",
              "      <td>0.0</td>\n",
              "      <td>86.909624</td>\n",
              "      <td>int8</td>\n",
              "      <td>2</td>\n",
              "      <td>86.909624</td>\n",
              "    </tr>\n",
              "    <tr>\n",
              "      <th>41</th>\n",
              "      <td>Census_PowerPlatformRoleName</td>\n",
              "      <td>0.0</td>\n",
              "      <td>0.000000</td>\n",
              "      <td>category</td>\n",
              "      <td>9</td>\n",
              "      <td>70.776543</td>\n",
              "    </tr>\n",
              "    <tr>\n",
              "      <th>63</th>\n",
              "      <td>Wdft_IsGamer</td>\n",
              "      <td>0.0</td>\n",
              "      <td>70.690801</td>\n",
              "      <td>float16</td>\n",
              "      <td>2</td>\n",
              "      <td>70.690801</td>\n",
              "    </tr>\n",
              "    <tr>\n",
              "      <th>6</th>\n",
              "      <td>AVProductsInstalled</td>\n",
              "      <td>0.0</td>\n",
              "      <td>0.000000</td>\n",
              "      <td>float16</td>\n",
              "      <td>7</td>\n",
              "      <td>68.410071</td>\n",
              "    </tr>\n",
              "    <tr>\n",
              "      <th>33</th>\n",
              "      <td>Census_PrimaryDiskTypeName</td>\n",
              "      <td>0.0</td>\n",
              "      <td>0.000000</td>\n",
              "      <td>category</td>\n",
              "      <td>4</td>\n",
              "      <td>66.795038</td>\n",
              "    </tr>\n",
              "    <tr>\n",
              "      <th>25</th>\n",
              "      <td>Census_MDC2FormFactor</td>\n",
              "      <td>0.0</td>\n",
              "      <td>0.000000</td>\n",
              "      <td>category</td>\n",
              "      <td>12</td>\n",
              "      <td>65.401221</td>\n",
              "    </tr>\n",
              "    <tr>\n",
              "      <th>5</th>\n",
              "      <td>AVProductStatesIdentifier</td>\n",
              "      <td>0.0</td>\n",
              "      <td>0.000000</td>\n",
              "      <td>float32</td>\n",
              "      <td>25390</td>\n",
              "      <td>64.970671</td>\n",
              "    </tr>\n",
              "    <tr>\n",
              "      <th>17</th>\n",
              "      <td>OsSuite</td>\n",
              "      <td>0.0</td>\n",
              "      <td>0.000000</td>\n",
              "      <td>int16</td>\n",
              "      <td>4</td>\n",
              "      <td>63.852267</td>\n",
              "    </tr>\n",
              "    <tr>\n",
              "      <th>20</th>\n",
              "      <td>SkuEdition</td>\n",
              "      <td>0.0</td>\n",
              "      <td>0.000000</td>\n",
              "      <td>category</td>\n",
              "      <td>7</td>\n",
              "      <td>63.809533</td>\n",
              "    </tr>\n",
              "    <tr>\n",
              "      <th>29</th>\n",
              "      <td>Census_ProcessorCoreCount</td>\n",
              "      <td>0.0</td>\n",
              "      <td>0.000000</td>\n",
              "      <td>float16</td>\n",
              "      <td>37</td>\n",
              "      <td>61.890362</td>\n",
              "    </tr>\n",
              "    <tr>\n",
              "      <th>37</th>\n",
              "      <td>Census_ChassisTypeName</td>\n",
              "      <td>0.0</td>\n",
              "      <td>0.000000</td>\n",
              "      <td>category</td>\n",
              "      <td>46</td>\n",
              "      <td>60.412658</td>\n",
              "    </tr>\n",
              "    <tr>\n",
              "      <th>2</th>\n",
              "      <td>AppVersion</td>\n",
              "      <td>0.0</td>\n",
              "      <td>0.000000</td>\n",
              "      <td>category</td>\n",
              "      <td>104</td>\n",
              "      <td>60.089405</td>\n",
              "    </tr>\n",
              "    <tr>\n",
              "      <th>42</th>\n",
              "      <td>Census_InternalBatteryNumberOfCharges</td>\n",
              "      <td>0.0</td>\n",
              "      <td>59.028750</td>\n",
              "      <td>float32</td>\n",
              "      <td>38551</td>\n",
              "      <td>59.028750</td>\n",
              "    </tr>\n",
              "    <tr>\n",
              "      <th>40</th>\n",
              "      <td>Census_InternalPrimaryDisplayResolutionVertical</td>\n",
              "      <td>0.0</td>\n",
              "      <td>0.000000</td>\n",
              "      <td>float16</td>\n",
              "      <td>1233</td>\n",
              "      <td>56.628488</td>\n",
              "    </tr>\n",
              "    <tr>\n",
              "      <th>39</th>\n",
              "      <td>Census_InternalPrimaryDisplayResolutionHorizontal</td>\n",
              "      <td>0.0</td>\n",
              "      <td>0.000000</td>\n",
              "      <td>float16</td>\n",
              "      <td>1579</td>\n",
              "      <td>52.319384</td>\n",
              "    </tr>\n",
              "    <tr>\n",
              "      <th>55</th>\n",
              "      <td>Census_ActivationChannel</td>\n",
              "      <td>0.0</td>\n",
              "      <td>0.000000</td>\n",
              "      <td>category</td>\n",
              "      <td>5</td>\n",
              "      <td>51.683677</td>\n",
              "    </tr>\n",
              "    <tr>\n",
              "      <th>59</th>\n",
              "      <td>Census_IsSecureBootEnabled</td>\n",
              "      <td>0.0</td>\n",
              "      <td>49.274889</td>\n",
              "      <td>int8</td>\n",
              "      <td>2</td>\n",
              "      <td>50.725111</td>\n",
              "    </tr>\n",
              "    <tr>\n",
              "      <th>65</th>\n",
              "      <td>HasDetections</td>\n",
              "      <td>0.0</td>\n",
              "      <td>49.834881</td>\n",
              "      <td>int8</td>\n",
              "      <td>2</td>\n",
              "      <td>50.165119</td>\n",
              "    </tr>\n",
              "    <tr>\n",
              "      <th>36</th>\n",
              "      <td>Census_TotalPhysicalRAM</td>\n",
              "      <td>0.0</td>\n",
              "      <td>0.000000</td>\n",
              "      <td>float32</td>\n",
              "      <td>1752</td>\n",
              "      <td>46.903743</td>\n",
              "    </tr>\n",
              "    <tr>\n",
              "      <th>45</th>\n",
              "      <td>Census_OSBranch</td>\n",
              "      <td>0.0</td>\n",
              "      <td>0.000000</td>\n",
              "      <td>category</td>\n",
              "      <td>26</td>\n",
              "      <td>46.053689</td>\n",
              "    </tr>\n",
              "    <tr>\n",
              "      <th>46</th>\n",
              "      <td>Census_OSBuildNumber</td>\n",
              "      <td>0.0</td>\n",
              "      <td>0.000000</td>\n",
              "      <td>int16</td>\n",
              "      <td>150</td>\n",
              "      <td>46.052018</td>\n",
              "    </tr>\n",
              "    <tr>\n",
              "      <th>18</th>\n",
              "      <td>OsPlatformSubRelease</td>\n",
              "      <td>0.0</td>\n",
              "      <td>0.000000</td>\n",
              "      <td>category</td>\n",
              "      <td>9</td>\n",
              "      <td>45.027568</td>\n",
              "    </tr>\n",
              "    <tr>\n",
              "      <th>16</th>\n",
              "      <td>OsBuild</td>\n",
              "      <td>0.0</td>\n",
              "      <td>0.000000</td>\n",
              "      <td>int16</td>\n",
              "      <td>71</td>\n",
              "      <td>45.027516</td>\n",
              "    </tr>\n",
              "    <tr>\n",
              "      <th>22</th>\n",
              "      <td>IeVerIdentifier</td>\n",
              "      <td>0.0</td>\n",
              "      <td>0.000000</td>\n",
              "      <td>float16</td>\n",
              "      <td>213</td>\n",
              "      <td>45.027307</td>\n",
              "    </tr>\n",
              "    <tr>\n",
              "      <th>53</th>\n",
              "      <td>Census_OSWUAutoUpdateOptionsName</td>\n",
              "      <td>0.0</td>\n",
              "      <td>0.000000</td>\n",
              "      <td>category</td>\n",
              "      <td>5</td>\n",
              "      <td>44.713638</td>\n",
              "    </tr>\n",
              "    <tr>\n",
              "      <th>1</th>\n",
              "      <td>EngineVersion</td>\n",
              "      <td>0.0</td>\n",
              "      <td>0.000000</td>\n",
              "      <td>category</td>\n",
              "      <td>65</td>\n",
              "      <td>42.775118</td>\n",
              "    </tr>\n",
              "    <tr>\n",
              "      <th>19</th>\n",
              "      <td>OsBuildLab</td>\n",
              "      <td>0.0</td>\n",
              "      <td>0.000000</td>\n",
              "      <td>category</td>\n",
              "      <td>553</td>\n",
              "      <td>42.196168</td>\n",
              "    </tr>\n",
              "    <tr>\n",
              "      <th>48</th>\n",
              "      <td>Census_OSEdition</td>\n",
              "      <td>0.0</td>\n",
              "      <td>0.000000</td>\n",
              "      <td>category</td>\n",
              "      <td>29</td>\n",
              "      <td>39.390503</td>\n",
              "    </tr>\n",
              "    <tr>\n",
              "      <th>49</th>\n",
              "      <td>Census_OSSkuName</td>\n",
              "      <td>0.0</td>\n",
              "      <td>0.000000</td>\n",
              "      <td>category</td>\n",
              "      <td>25</td>\n",
              "      <td>39.390111</td>\n",
              "    </tr>\n",
              "    <tr>\n",
              "      <th>51</th>\n",
              "      <td>Census_OSInstallLanguageIdentifier</td>\n",
              "      <td>0.0</td>\n",
              "      <td>0.000000</td>\n",
              "      <td>float16</td>\n",
              "      <td>39</td>\n",
              "      <td>36.162657</td>\n",
              "    </tr>\n",
              "    <tr>\n",
              "      <th>52</th>\n",
              "      <td>Census_OSUILocaleIdentifier</td>\n",
              "      <td>0.0</td>\n",
              "      <td>0.000000</td>\n",
              "      <td>int16</td>\n",
              "      <td>144</td>\n",
              "      <td>35.775245</td>\n",
              "    </tr>\n",
              "    <tr>\n",
              "      <th>38</th>\n",
              "      <td>Census_InternalPrimaryDiagonalDisplaySizeInInches</td>\n",
              "      <td>0.0</td>\n",
              "      <td>0.000000</td>\n",
              "      <td>float16</td>\n",
              "      <td>755</td>\n",
              "      <td>35.269777</td>\n",
              "    </tr>\n",
              "    <tr>\n",
              "      <th>32</th>\n",
              "      <td>Census_PrimaryDiskTotalCapacity</td>\n",
              "      <td>0.0</td>\n",
              "      <td>0.000157</td>\n",
              "      <td>float32</td>\n",
              "      <td>3071</td>\n",
              "      <td>32.540558</td>\n",
              "    </tr>\n",
              "    <tr>\n",
              "      <th>50</th>\n",
              "      <td>Census_OSInstallTypeName</td>\n",
              "      <td>0.0</td>\n",
              "      <td>0.000000</td>\n",
              "      <td>category</td>\n",
              "      <td>9</td>\n",
              "      <td>31.663019</td>\n",
              "    </tr>\n",
              "    <tr>\n",
              "      <th>57</th>\n",
              "      <td>Census_FirmwareManufacturerIdentifier</td>\n",
              "      <td>0.0</td>\n",
              "      <td>0.000000</td>\n",
              "      <td>float16</td>\n",
              "      <td>644</td>\n",
              "      <td>30.690104</td>\n",
              "    </tr>\n",
              "    <tr>\n",
              "      <th>12</th>\n",
              "      <td>LocaleEnglishNameIdentifier</td>\n",
              "      <td>0.0</td>\n",
              "      <td>0.000000</td>\n",
              "      <td>int8</td>\n",
              "      <td>251</td>\n",
              "      <td>23.363949</td>\n",
              "    </tr>\n",
              "    <tr>\n",
              "      <th>64</th>\n",
              "      <td>Wdft_RegionIdentifier</td>\n",
              "      <td>0.0</td>\n",
              "      <td>0.000000</td>\n",
              "      <td>float16</td>\n",
              "      <td>15</td>\n",
              "      <td>20.897491</td>\n",
              "    </tr>\n",
              "    <tr>\n",
              "      <th>11</th>\n",
              "      <td>GeoNameIdentifier</td>\n",
              "      <td>0.0</td>\n",
              "      <td>0.000000</td>\n",
              "      <td>float16</td>\n",
              "      <td>290</td>\n",
              "      <td>16.923977</td>\n",
              "    </tr>\n",
              "    <tr>\n",
              "      <th>47</th>\n",
              "      <td>Census_OSBuildRevision</td>\n",
              "      <td>0.0</td>\n",
              "      <td>0.899643</td>\n",
              "      <td>int32</td>\n",
              "      <td>259</td>\n",
              "      <td>16.412359</td>\n",
              "    </tr>\n",
              "    <tr>\n",
              "      <th>43</th>\n",
              "      <td>Census_OSVersion</td>\n",
              "      <td>0.0</td>\n",
              "      <td>0.000000</td>\n",
              "      <td>category</td>\n",
              "      <td>425</td>\n",
              "      <td>16.412294</td>\n",
              "    </tr>\n",
              "    <tr>\n",
              "      <th>27</th>\n",
              "      <td>Census_OEMNameIdentifier</td>\n",
              "      <td>0.0</td>\n",
              "      <td>0.000000</td>\n",
              "      <td>float16</td>\n",
              "      <td>2348</td>\n",
              "      <td>14.842293</td>\n",
              "    </tr>\n",
              "    <tr>\n",
              "      <th>9</th>\n",
              "      <td>CountryIdentifier</td>\n",
              "      <td>0.0</td>\n",
              "      <td>0.000000</td>\n",
              "      <td>int16</td>\n",
              "      <td>222</td>\n",
              "      <td>4.292392</td>\n",
              "    </tr>\n",
              "    <tr>\n",
              "      <th>31</th>\n",
              "      <td>Census_ProcessorModelIdentifier</td>\n",
              "      <td>0.0</td>\n",
              "      <td>0.000000</td>\n",
              "      <td>float16</td>\n",
              "      <td>2339</td>\n",
              "      <td>3.417948</td>\n",
              "    </tr>\n",
              "    <tr>\n",
              "      <th>28</th>\n",
              "      <td>Census_OEMModelIdentifier</td>\n",
              "      <td>0.0</td>\n",
              "      <td>0.000000</td>\n",
              "      <td>float32</td>\n",
              "      <td>161038</td>\n",
              "      <td>3.391718</td>\n",
              "    </tr>\n",
              "    <tr>\n",
              "      <th>3</th>\n",
              "      <td>AvSigVersion</td>\n",
              "      <td>0.0</td>\n",
              "      <td>0.000000</td>\n",
              "      <td>category</td>\n",
              "      <td>8474</td>\n",
              "      <td>1.184222</td>\n",
              "    </tr>\n",
              "    <tr>\n",
              "      <th>10</th>\n",
              "      <td>CityIdentifier</td>\n",
              "      <td>0.0</td>\n",
              "      <td>0.000000</td>\n",
              "      <td>float32</td>\n",
              "      <td>103879</td>\n",
              "      <td>1.140770</td>\n",
              "    </tr>\n",
              "    <tr>\n",
              "      <th>58</th>\n",
              "      <td>Census_FirmwareVersionIdentifier</td>\n",
              "      <td>0.0</td>\n",
              "      <td>0.000000</td>\n",
              "      <td>float32</td>\n",
              "      <td>46662</td>\n",
              "      <td>1.070944</td>\n",
              "    </tr>\n",
              "    <tr>\n",
              "      <th>34</th>\n",
              "      <td>Census_SystemVolumeTotalCapacity</td>\n",
              "      <td>0.0</td>\n",
              "      <td>0.000157</td>\n",
              "      <td>float32</td>\n",
              "      <td>511614</td>\n",
              "      <td>0.623420</td>\n",
              "    </tr>\n",
              "  </tbody>\n",
              "</table>\n",
              "</div>"
            ],
            "text/plain": [
              "                                             Variable  ...  % de la categoria con más datos\n",
              "26                                Census_DeviceFamily  ...                        99.999896\n",
              "0                                         ProductName  ...                        99.919624\n",
              "8                                              HasTpm  ...                        99.828242\n",
              "24                                       UacLuaenable  ...                        99.552568\n",
              "13                                           Platform  ...                        98.373712\n",
              "15                                              OsVer  ...                        98.367550\n",
              "23                                           Firewall  ...                        97.960723\n",
              "7                                   AVProductsEnabled  ...                        97.582373\n",
              "4                                    RtpStateBitfield  ...                        97.296240\n",
              "61                                Census_IsPenCapable  ...                        96.003180\n",
              "21                                        IsProtected  ...                        94.640320\n",
              "62            Census_IsAlwaysOnAlwaysConnectedCapable  ...                        94.217786\n",
              "56                                  Census_FlightRing  ...                        94.074439\n",
              "35                         Census_HasOpticalDiskDrive  ...                        91.919104\n",
              "44                              Census_OSArchitecture  ...                        91.318676\n",
              "14                                          Processor  ...                        91.316052\n",
              "54                            Census_GenuineStateName  ...                        90.300624\n",
              "30             Census_ProcessorManufacturerIdentifier  ...                        88.203011\n",
              "60                              Census_IsTouchEnabled  ...                        86.909624\n",
              "41                       Census_PowerPlatformRoleName  ...                        70.776543\n",
              "63                                       Wdft_IsGamer  ...                        70.690801\n",
              "6                                 AVProductsInstalled  ...                        68.410071\n",
              "33                         Census_PrimaryDiskTypeName  ...                        66.795038\n",
              "25                              Census_MDC2FormFactor  ...                        65.401221\n",
              "5                           AVProductStatesIdentifier  ...                        64.970671\n",
              "17                                            OsSuite  ...                        63.852267\n",
              "20                                         SkuEdition  ...                        63.809533\n",
              "29                          Census_ProcessorCoreCount  ...                        61.890362\n",
              "37                             Census_ChassisTypeName  ...                        60.412658\n",
              "2                                          AppVersion  ...                        60.089405\n",
              "42              Census_InternalBatteryNumberOfCharges  ...                        59.028750\n",
              "40    Census_InternalPrimaryDisplayResolutionVertical  ...                        56.628488\n",
              "39  Census_InternalPrimaryDisplayResolutionHorizontal  ...                        52.319384\n",
              "55                           Census_ActivationChannel  ...                        51.683677\n",
              "59                         Census_IsSecureBootEnabled  ...                        50.725111\n",
              "65                                      HasDetections  ...                        50.165119\n",
              "36                            Census_TotalPhysicalRAM  ...                        46.903743\n",
              "45                                    Census_OSBranch  ...                        46.053689\n",
              "46                               Census_OSBuildNumber  ...                        46.052018\n",
              "18                               OsPlatformSubRelease  ...                        45.027568\n",
              "16                                            OsBuild  ...                        45.027516\n",
              "22                                    IeVerIdentifier  ...                        45.027307\n",
              "53                   Census_OSWUAutoUpdateOptionsName  ...                        44.713638\n",
              "1                                       EngineVersion  ...                        42.775118\n",
              "19                                         OsBuildLab  ...                        42.196168\n",
              "48                                   Census_OSEdition  ...                        39.390503\n",
              "49                                   Census_OSSkuName  ...                        39.390111\n",
              "51                 Census_OSInstallLanguageIdentifier  ...                        36.162657\n",
              "52                        Census_OSUILocaleIdentifier  ...                        35.775245\n",
              "38  Census_InternalPrimaryDiagonalDisplaySizeInInches  ...                        35.269777\n",
              "32                    Census_PrimaryDiskTotalCapacity  ...                        32.540558\n",
              "50                           Census_OSInstallTypeName  ...                        31.663019\n",
              "57              Census_FirmwareManufacturerIdentifier  ...                        30.690104\n",
              "12                        LocaleEnglishNameIdentifier  ...                        23.363949\n",
              "64                              Wdft_RegionIdentifier  ...                        20.897491\n",
              "11                                  GeoNameIdentifier  ...                        16.923977\n",
              "47                             Census_OSBuildRevision  ...                        16.412359\n",
              "43                                   Census_OSVersion  ...                        16.412294\n",
              "27                           Census_OEMNameIdentifier  ...                        14.842293\n",
              "9                                   CountryIdentifier  ...                         4.292392\n",
              "31                    Census_ProcessorModelIdentifier  ...                         3.417948\n",
              "28                          Census_OEMModelIdentifier  ...                         3.391718\n",
              "3                                        AvSigVersion  ...                         1.184222\n",
              "10                                     CityIdentifier  ...                         1.140770\n",
              "58                   Census_FirmwareVersionIdentifier  ...                         1.070944\n",
              "34                   Census_SystemVolumeTotalCapacity  ...                         0.623420\n",
              "\n",
              "[66 rows x 6 columns]"
            ]
          },
          "metadata": {
            "tags": []
          },
          "execution_count": 19
        }
      ]
    },
    {
      "cell_type": "markdown",
      "metadata": {
        "id": "eGJd1HTHo_o8"
      },
      "source": [
        "Analizando la tabla se observa que 17 variables tienen una de sus categorias de valores únicos más del 90% de los datos. Esto muestra un desbalance en los datos que puede ocasionar que el modelo de clasificación usado para este problema tome las características de menor presencia en las variables como ruido para el modelo, por lo que se podrían presentar errores en la clasificación de las características de menos presencia con respecto a las que tienen mayor porcentaje de aparición. En este sentido, se decide eliminar aquellas variables que presenten altos desbalances, es decir, aquellas que tengan más del 90% del total de datos en un solo valor. Estas son: ```Census_DeviceFamily```, ```ProductName```, ```HasTpm```, ```UacLuaenable```, ```Platform```, ```OsVer```, ```Firewall```, ```AVProductsEnabled```, ```RtpStateBitfield```, ```Census_IsPenCapable```, ```IsProtected```, ```Census_IsAlwaysOnAlwaysConnectedCapable```, ```Census_FlightRing```, ```Census_HasOpticalDiskDrive```, ```Census_OSArchitecture```, ```Processor```, ```Census_GenuineStateName```."
      ]
    },
    {
      "cell_type": "code",
      "metadata": {
        "id": "4erCylMUK7fM",
        "colab": {
          "base_uri": "https://localhost:8080/"
        },
        "outputId": "288d5223-790f-4c57-896a-4d3fdb491e1b"
      },
      "source": [
        "good_cols = list(train.columns)\n",
        "cont = 1\n",
        "for col in train.columns:\n",
        "    rate = train[col].value_counts(normalize=True).values[0]\n",
        "    if rate > 0.9:\n",
        "        good_cols.remove(col)\n",
        "        print(str(cont)+'. Se eliminó la columna '+ col)\n",
        "        cont += 1"
      ],
      "execution_count": null,
      "outputs": [
        {
          "output_type": "stream",
          "text": [
            "1. Se eliminó la columna ProductName\n",
            "2. Se eliminó la columna RtpStateBitfield\n",
            "3. Se eliminó la columna AVProductsEnabled\n",
            "4. Se eliminó la columna HasTpm\n",
            "5. Se eliminó la columna Platform\n",
            "6. Se eliminó la columna Processor\n",
            "7. Se eliminó la columna OsVer\n",
            "8. Se eliminó la columna IsProtected\n",
            "9. Se eliminó la columna Firewall\n",
            "10. Se eliminó la columna UacLuaenable\n",
            "11. Se eliminó la columna Census_DeviceFamily\n",
            "12. Se eliminó la columna Census_HasOpticalDiskDrive\n",
            "13. Se eliminó la columna Census_OSArchitecture\n",
            "14. Se eliminó la columna Census_GenuineStateName\n",
            "15. Se eliminó la columna Census_FlightRing\n",
            "16. Se eliminó la columna Census_IsPenCapable\n",
            "17. Se eliminó la columna Census_IsAlwaysOnAlwaysConnectedCapable\n"
          ],
          "name": "stdout"
        }
      ]
    },
    {
      "cell_type": "code",
      "metadata": {
        "id": "HA8qqHniNHCq"
      },
      "source": [
        "train = train[good_cols]"
      ],
      "execution_count": null,
      "outputs": []
    },
    {
      "cell_type": "markdown",
      "metadata": {
        "id": "Uo8cmvbdM5ji"
      },
      "source": [
        "Se verifica el nuevo número de variables para el ejercicio. Obteniéndose 49 variables, entre las cuales se incluye la variable objetivo ```HasDetections```"
      ]
    },
    {
      "cell_type": "code",
      "metadata": {
        "id": "HoFqPg_1NAlS",
        "colab": {
          "base_uri": "https://localhost:8080/"
        },
        "outputId": "b9357419-df00-4ca2-a460-ab83f13fe3c5"
      },
      "source": [
        "train.shape"
      ],
      "execution_count": null,
      "outputs": [
        {
          "output_type": "execute_result",
          "data": {
            "text/plain": [
              "(7659039, 49)"
            ]
          },
          "metadata": {
            "tags": []
          },
          "execution_count": 22
        }
      ]
    },
    {
      "cell_type": "markdown",
      "metadata": {
        "id": "ThC81-_NNuiL"
      },
      "source": [
        "Se procede a verificar nuevamente la calidad de los datos mediante la tabla anterior."
      ]
    },
    {
      "cell_type": "code",
      "metadata": {
        "id": "6Mj6O4ApN1K0",
        "colab": {
          "base_uri": "https://localhost:8080/"
        },
        "outputId": "dc410072-7719-4992-c90c-a4f52d559655"
      },
      "source": [
        "stats_train = mytable(train)\n",
        "stats_train"
      ],
      "execution_count": null,
      "outputs": [
        {
          "output_type": "execute_result",
          "data": {
            "text/html": [
              "<div>\n",
              "<style scoped>\n",
              "    .dataframe tbody tr th:only-of-type {\n",
              "        vertical-align: middle;\n",
              "    }\n",
              "\n",
              "    .dataframe tbody tr th {\n",
              "        vertical-align: top;\n",
              "    }\n",
              "\n",
              "    .dataframe thead th {\n",
              "        text-align: right;\n",
              "    }\n",
              "</style>\n",
              "<table border=\"1\" class=\"dataframe\">\n",
              "  <thead>\n",
              "    <tr style=\"text-align: right;\">\n",
              "      <th></th>\n",
              "      <th>Variable</th>\n",
              "      <th>% de datos nulos</th>\n",
              "      <th>% de ceros</th>\n",
              "      <th>Tipo de datos</th>\n",
              "      <th># de valores diferentes</th>\n",
              "      <th>% de la categoria con más datos</th>\n",
              "    </tr>\n",
              "  </thead>\n",
              "  <tbody>\n",
              "    <tr>\n",
              "      <th>0</th>\n",
              "      <td>EngineVersion</td>\n",
              "      <td>0.0</td>\n",
              "      <td>0.000000</td>\n",
              "      <td>category</td>\n",
              "      <td>65</td>\n",
              "      <td>42.775118</td>\n",
              "    </tr>\n",
              "    <tr>\n",
              "      <th>1</th>\n",
              "      <td>AppVersion</td>\n",
              "      <td>0.0</td>\n",
              "      <td>0.000000</td>\n",
              "      <td>category</td>\n",
              "      <td>104</td>\n",
              "      <td>60.089405</td>\n",
              "    </tr>\n",
              "    <tr>\n",
              "      <th>2</th>\n",
              "      <td>AvSigVersion</td>\n",
              "      <td>0.0</td>\n",
              "      <td>0.000000</td>\n",
              "      <td>category</td>\n",
              "      <td>8474</td>\n",
              "      <td>1.184222</td>\n",
              "    </tr>\n",
              "    <tr>\n",
              "      <th>3</th>\n",
              "      <td>AVProductStatesIdentifier</td>\n",
              "      <td>0.0</td>\n",
              "      <td>0.000000</td>\n",
              "      <td>float32</td>\n",
              "      <td>25390</td>\n",
              "      <td>64.970671</td>\n",
              "    </tr>\n",
              "    <tr>\n",
              "      <th>4</th>\n",
              "      <td>AVProductsInstalled</td>\n",
              "      <td>0.0</td>\n",
              "      <td>0.000000</td>\n",
              "      <td>float16</td>\n",
              "      <td>7</td>\n",
              "      <td>68.410071</td>\n",
              "    </tr>\n",
              "    <tr>\n",
              "      <th>5</th>\n",
              "      <td>CountryIdentifier</td>\n",
              "      <td>0.0</td>\n",
              "      <td>0.000000</td>\n",
              "      <td>int16</td>\n",
              "      <td>222</td>\n",
              "      <td>4.292392</td>\n",
              "    </tr>\n",
              "    <tr>\n",
              "      <th>6</th>\n",
              "      <td>CityIdentifier</td>\n",
              "      <td>0.0</td>\n",
              "      <td>0.000000</td>\n",
              "      <td>float32</td>\n",
              "      <td>103879</td>\n",
              "      <td>1.140770</td>\n",
              "    </tr>\n",
              "    <tr>\n",
              "      <th>7</th>\n",
              "      <td>GeoNameIdentifier</td>\n",
              "      <td>0.0</td>\n",
              "      <td>0.000000</td>\n",
              "      <td>float16</td>\n",
              "      <td>290</td>\n",
              "      <td>16.923977</td>\n",
              "    </tr>\n",
              "    <tr>\n",
              "      <th>8</th>\n",
              "      <td>LocaleEnglishNameIdentifier</td>\n",
              "      <td>0.0</td>\n",
              "      <td>0.000000</td>\n",
              "      <td>int8</td>\n",
              "      <td>251</td>\n",
              "      <td>23.363949</td>\n",
              "    </tr>\n",
              "    <tr>\n",
              "      <th>9</th>\n",
              "      <td>OsBuild</td>\n",
              "      <td>0.0</td>\n",
              "      <td>0.000000</td>\n",
              "      <td>int16</td>\n",
              "      <td>71</td>\n",
              "      <td>45.027516</td>\n",
              "    </tr>\n",
              "    <tr>\n",
              "      <th>10</th>\n",
              "      <td>OsSuite</td>\n",
              "      <td>0.0</td>\n",
              "      <td>0.000000</td>\n",
              "      <td>int16</td>\n",
              "      <td>4</td>\n",
              "      <td>63.852267</td>\n",
              "    </tr>\n",
              "    <tr>\n",
              "      <th>11</th>\n",
              "      <td>OsPlatformSubRelease</td>\n",
              "      <td>0.0</td>\n",
              "      <td>0.000000</td>\n",
              "      <td>category</td>\n",
              "      <td>9</td>\n",
              "      <td>45.027568</td>\n",
              "    </tr>\n",
              "    <tr>\n",
              "      <th>12</th>\n",
              "      <td>OsBuildLab</td>\n",
              "      <td>0.0</td>\n",
              "      <td>0.000000</td>\n",
              "      <td>category</td>\n",
              "      <td>553</td>\n",
              "      <td>42.196168</td>\n",
              "    </tr>\n",
              "    <tr>\n",
              "      <th>13</th>\n",
              "      <td>SkuEdition</td>\n",
              "      <td>0.0</td>\n",
              "      <td>0.000000</td>\n",
              "      <td>category</td>\n",
              "      <td>7</td>\n",
              "      <td>63.809533</td>\n",
              "    </tr>\n",
              "    <tr>\n",
              "      <th>14</th>\n",
              "      <td>IeVerIdentifier</td>\n",
              "      <td>0.0</td>\n",
              "      <td>0.000000</td>\n",
              "      <td>float16</td>\n",
              "      <td>213</td>\n",
              "      <td>45.027307</td>\n",
              "    </tr>\n",
              "    <tr>\n",
              "      <th>15</th>\n",
              "      <td>Census_MDC2FormFactor</td>\n",
              "      <td>0.0</td>\n",
              "      <td>0.000000</td>\n",
              "      <td>category</td>\n",
              "      <td>12</td>\n",
              "      <td>65.401221</td>\n",
              "    </tr>\n",
              "    <tr>\n",
              "      <th>16</th>\n",
              "      <td>Census_OEMNameIdentifier</td>\n",
              "      <td>0.0</td>\n",
              "      <td>0.000000</td>\n",
              "      <td>float16</td>\n",
              "      <td>2348</td>\n",
              "      <td>14.842293</td>\n",
              "    </tr>\n",
              "    <tr>\n",
              "      <th>17</th>\n",
              "      <td>Census_OEMModelIdentifier</td>\n",
              "      <td>0.0</td>\n",
              "      <td>0.000000</td>\n",
              "      <td>float32</td>\n",
              "      <td>161038</td>\n",
              "      <td>3.391718</td>\n",
              "    </tr>\n",
              "    <tr>\n",
              "      <th>18</th>\n",
              "      <td>Census_ProcessorCoreCount</td>\n",
              "      <td>0.0</td>\n",
              "      <td>0.000000</td>\n",
              "      <td>float16</td>\n",
              "      <td>37</td>\n",
              "      <td>61.890362</td>\n",
              "    </tr>\n",
              "    <tr>\n",
              "      <th>19</th>\n",
              "      <td>Census_ProcessorManufacturerIdentifier</td>\n",
              "      <td>0.0</td>\n",
              "      <td>0.000000</td>\n",
              "      <td>float16</td>\n",
              "      <td>6</td>\n",
              "      <td>88.203011</td>\n",
              "    </tr>\n",
              "    <tr>\n",
              "      <th>20</th>\n",
              "      <td>Census_ProcessorModelIdentifier</td>\n",
              "      <td>0.0</td>\n",
              "      <td>0.000000</td>\n",
              "      <td>float16</td>\n",
              "      <td>2339</td>\n",
              "      <td>3.417948</td>\n",
              "    </tr>\n",
              "    <tr>\n",
              "      <th>21</th>\n",
              "      <td>Census_PrimaryDiskTotalCapacity</td>\n",
              "      <td>0.0</td>\n",
              "      <td>0.000157</td>\n",
              "      <td>float32</td>\n",
              "      <td>3071</td>\n",
              "      <td>32.540558</td>\n",
              "    </tr>\n",
              "    <tr>\n",
              "      <th>22</th>\n",
              "      <td>Census_PrimaryDiskTypeName</td>\n",
              "      <td>0.0</td>\n",
              "      <td>0.000000</td>\n",
              "      <td>category</td>\n",
              "      <td>4</td>\n",
              "      <td>66.795038</td>\n",
              "    </tr>\n",
              "    <tr>\n",
              "      <th>23</th>\n",
              "      <td>Census_SystemVolumeTotalCapacity</td>\n",
              "      <td>0.0</td>\n",
              "      <td>0.000157</td>\n",
              "      <td>float32</td>\n",
              "      <td>511614</td>\n",
              "      <td>0.623420</td>\n",
              "    </tr>\n",
              "    <tr>\n",
              "      <th>24</th>\n",
              "      <td>Census_TotalPhysicalRAM</td>\n",
              "      <td>0.0</td>\n",
              "      <td>0.000000</td>\n",
              "      <td>float32</td>\n",
              "      <td>1752</td>\n",
              "      <td>46.903743</td>\n",
              "    </tr>\n",
              "    <tr>\n",
              "      <th>25</th>\n",
              "      <td>Census_ChassisTypeName</td>\n",
              "      <td>0.0</td>\n",
              "      <td>0.000000</td>\n",
              "      <td>category</td>\n",
              "      <td>46</td>\n",
              "      <td>60.412658</td>\n",
              "    </tr>\n",
              "    <tr>\n",
              "      <th>26</th>\n",
              "      <td>Census_InternalPrimaryDiagonalDisplaySizeInInches</td>\n",
              "      <td>0.0</td>\n",
              "      <td>0.000000</td>\n",
              "      <td>float16</td>\n",
              "      <td>755</td>\n",
              "      <td>35.269777</td>\n",
              "    </tr>\n",
              "    <tr>\n",
              "      <th>27</th>\n",
              "      <td>Census_InternalPrimaryDisplayResolutionHorizontal</td>\n",
              "      <td>0.0</td>\n",
              "      <td>0.000000</td>\n",
              "      <td>float16</td>\n",
              "      <td>1579</td>\n",
              "      <td>52.319384</td>\n",
              "    </tr>\n",
              "    <tr>\n",
              "      <th>28</th>\n",
              "      <td>Census_InternalPrimaryDisplayResolutionVertical</td>\n",
              "      <td>0.0</td>\n",
              "      <td>0.000000</td>\n",
              "      <td>float16</td>\n",
              "      <td>1233</td>\n",
              "      <td>56.628488</td>\n",
              "    </tr>\n",
              "    <tr>\n",
              "      <th>29</th>\n",
              "      <td>Census_PowerPlatformRoleName</td>\n",
              "      <td>0.0</td>\n",
              "      <td>0.000000</td>\n",
              "      <td>category</td>\n",
              "      <td>9</td>\n",
              "      <td>70.776543</td>\n",
              "    </tr>\n",
              "    <tr>\n",
              "      <th>30</th>\n",
              "      <td>Census_InternalBatteryNumberOfCharges</td>\n",
              "      <td>0.0</td>\n",
              "      <td>59.028750</td>\n",
              "      <td>float32</td>\n",
              "      <td>38551</td>\n",
              "      <td>59.028750</td>\n",
              "    </tr>\n",
              "    <tr>\n",
              "      <th>31</th>\n",
              "      <td>Census_OSVersion</td>\n",
              "      <td>0.0</td>\n",
              "      <td>0.000000</td>\n",
              "      <td>category</td>\n",
              "      <td>425</td>\n",
              "      <td>16.412294</td>\n",
              "    </tr>\n",
              "    <tr>\n",
              "      <th>32</th>\n",
              "      <td>Census_OSBranch</td>\n",
              "      <td>0.0</td>\n",
              "      <td>0.000000</td>\n",
              "      <td>category</td>\n",
              "      <td>26</td>\n",
              "      <td>46.053689</td>\n",
              "    </tr>\n",
              "    <tr>\n",
              "      <th>33</th>\n",
              "      <td>Census_OSBuildNumber</td>\n",
              "      <td>0.0</td>\n",
              "      <td>0.000000</td>\n",
              "      <td>int16</td>\n",
              "      <td>150</td>\n",
              "      <td>46.052018</td>\n",
              "    </tr>\n",
              "    <tr>\n",
              "      <th>34</th>\n",
              "      <td>Census_OSBuildRevision</td>\n",
              "      <td>0.0</td>\n",
              "      <td>0.899643</td>\n",
              "      <td>int32</td>\n",
              "      <td>259</td>\n",
              "      <td>16.412359</td>\n",
              "    </tr>\n",
              "    <tr>\n",
              "      <th>35</th>\n",
              "      <td>Census_OSEdition</td>\n",
              "      <td>0.0</td>\n",
              "      <td>0.000000</td>\n",
              "      <td>category</td>\n",
              "      <td>29</td>\n",
              "      <td>39.390503</td>\n",
              "    </tr>\n",
              "    <tr>\n",
              "      <th>36</th>\n",
              "      <td>Census_OSSkuName</td>\n",
              "      <td>0.0</td>\n",
              "      <td>0.000000</td>\n",
              "      <td>category</td>\n",
              "      <td>25</td>\n",
              "      <td>39.390111</td>\n",
              "    </tr>\n",
              "    <tr>\n",
              "      <th>37</th>\n",
              "      <td>Census_OSInstallTypeName</td>\n",
              "      <td>0.0</td>\n",
              "      <td>0.000000</td>\n",
              "      <td>category</td>\n",
              "      <td>9</td>\n",
              "      <td>31.663019</td>\n",
              "    </tr>\n",
              "    <tr>\n",
              "      <th>38</th>\n",
              "      <td>Census_OSInstallLanguageIdentifier</td>\n",
              "      <td>0.0</td>\n",
              "      <td>0.000000</td>\n",
              "      <td>float16</td>\n",
              "      <td>39</td>\n",
              "      <td>36.162657</td>\n",
              "    </tr>\n",
              "    <tr>\n",
              "      <th>39</th>\n",
              "      <td>Census_OSUILocaleIdentifier</td>\n",
              "      <td>0.0</td>\n",
              "      <td>0.000000</td>\n",
              "      <td>int16</td>\n",
              "      <td>144</td>\n",
              "      <td>35.775245</td>\n",
              "    </tr>\n",
              "    <tr>\n",
              "      <th>40</th>\n",
              "      <td>Census_OSWUAutoUpdateOptionsName</td>\n",
              "      <td>0.0</td>\n",
              "      <td>0.000000</td>\n",
              "      <td>category</td>\n",
              "      <td>5</td>\n",
              "      <td>44.713638</td>\n",
              "    </tr>\n",
              "    <tr>\n",
              "      <th>41</th>\n",
              "      <td>Census_ActivationChannel</td>\n",
              "      <td>0.0</td>\n",
              "      <td>0.000000</td>\n",
              "      <td>category</td>\n",
              "      <td>5</td>\n",
              "      <td>51.683677</td>\n",
              "    </tr>\n",
              "    <tr>\n",
              "      <th>42</th>\n",
              "      <td>Census_FirmwareManufacturerIdentifier</td>\n",
              "      <td>0.0</td>\n",
              "      <td>0.000000</td>\n",
              "      <td>float16</td>\n",
              "      <td>644</td>\n",
              "      <td>30.690104</td>\n",
              "    </tr>\n",
              "    <tr>\n",
              "      <th>43</th>\n",
              "      <td>Census_FirmwareVersionIdentifier</td>\n",
              "      <td>0.0</td>\n",
              "      <td>0.000000</td>\n",
              "      <td>float32</td>\n",
              "      <td>46662</td>\n",
              "      <td>1.070944</td>\n",
              "    </tr>\n",
              "    <tr>\n",
              "      <th>44</th>\n",
              "      <td>Census_IsSecureBootEnabled</td>\n",
              "      <td>0.0</td>\n",
              "      <td>49.274889</td>\n",
              "      <td>int8</td>\n",
              "      <td>2</td>\n",
              "      <td>50.725111</td>\n",
              "    </tr>\n",
              "    <tr>\n",
              "      <th>45</th>\n",
              "      <td>Census_IsTouchEnabled</td>\n",
              "      <td>0.0</td>\n",
              "      <td>86.909624</td>\n",
              "      <td>int8</td>\n",
              "      <td>2</td>\n",
              "      <td>86.909624</td>\n",
              "    </tr>\n",
              "    <tr>\n",
              "      <th>46</th>\n",
              "      <td>Wdft_IsGamer</td>\n",
              "      <td>0.0</td>\n",
              "      <td>70.690801</td>\n",
              "      <td>float16</td>\n",
              "      <td>2</td>\n",
              "      <td>70.690801</td>\n",
              "    </tr>\n",
              "    <tr>\n",
              "      <th>47</th>\n",
              "      <td>Wdft_RegionIdentifier</td>\n",
              "      <td>0.0</td>\n",
              "      <td>0.000000</td>\n",
              "      <td>float16</td>\n",
              "      <td>15</td>\n",
              "      <td>20.897491</td>\n",
              "    </tr>\n",
              "    <tr>\n",
              "      <th>48</th>\n",
              "      <td>HasDetections</td>\n",
              "      <td>0.0</td>\n",
              "      <td>49.834881</td>\n",
              "      <td>int8</td>\n",
              "      <td>2</td>\n",
              "      <td>50.165119</td>\n",
              "    </tr>\n",
              "  </tbody>\n",
              "</table>\n",
              "</div>"
            ],
            "text/plain": [
              "                                             Variable  ...  % de la categoria con más datos\n",
              "0                                       EngineVersion  ...                        42.775118\n",
              "1                                          AppVersion  ...                        60.089405\n",
              "2                                        AvSigVersion  ...                         1.184222\n",
              "3                           AVProductStatesIdentifier  ...                        64.970671\n",
              "4                                 AVProductsInstalled  ...                        68.410071\n",
              "5                                   CountryIdentifier  ...                         4.292392\n",
              "6                                      CityIdentifier  ...                         1.140770\n",
              "7                                   GeoNameIdentifier  ...                        16.923977\n",
              "8                         LocaleEnglishNameIdentifier  ...                        23.363949\n",
              "9                                             OsBuild  ...                        45.027516\n",
              "10                                            OsSuite  ...                        63.852267\n",
              "11                               OsPlatformSubRelease  ...                        45.027568\n",
              "12                                         OsBuildLab  ...                        42.196168\n",
              "13                                         SkuEdition  ...                        63.809533\n",
              "14                                    IeVerIdentifier  ...                        45.027307\n",
              "15                              Census_MDC2FormFactor  ...                        65.401221\n",
              "16                           Census_OEMNameIdentifier  ...                        14.842293\n",
              "17                          Census_OEMModelIdentifier  ...                         3.391718\n",
              "18                          Census_ProcessorCoreCount  ...                        61.890362\n",
              "19             Census_ProcessorManufacturerIdentifier  ...                        88.203011\n",
              "20                    Census_ProcessorModelIdentifier  ...                         3.417948\n",
              "21                    Census_PrimaryDiskTotalCapacity  ...                        32.540558\n",
              "22                         Census_PrimaryDiskTypeName  ...                        66.795038\n",
              "23                   Census_SystemVolumeTotalCapacity  ...                         0.623420\n",
              "24                            Census_TotalPhysicalRAM  ...                        46.903743\n",
              "25                             Census_ChassisTypeName  ...                        60.412658\n",
              "26  Census_InternalPrimaryDiagonalDisplaySizeInInches  ...                        35.269777\n",
              "27  Census_InternalPrimaryDisplayResolutionHorizontal  ...                        52.319384\n",
              "28    Census_InternalPrimaryDisplayResolutionVertical  ...                        56.628488\n",
              "29                       Census_PowerPlatformRoleName  ...                        70.776543\n",
              "30              Census_InternalBatteryNumberOfCharges  ...                        59.028750\n",
              "31                                   Census_OSVersion  ...                        16.412294\n",
              "32                                    Census_OSBranch  ...                        46.053689\n",
              "33                               Census_OSBuildNumber  ...                        46.052018\n",
              "34                             Census_OSBuildRevision  ...                        16.412359\n",
              "35                                   Census_OSEdition  ...                        39.390503\n",
              "36                                   Census_OSSkuName  ...                        39.390111\n",
              "37                           Census_OSInstallTypeName  ...                        31.663019\n",
              "38                 Census_OSInstallLanguageIdentifier  ...                        36.162657\n",
              "39                        Census_OSUILocaleIdentifier  ...                        35.775245\n",
              "40                   Census_OSWUAutoUpdateOptionsName  ...                        44.713638\n",
              "41                           Census_ActivationChannel  ...                        51.683677\n",
              "42              Census_FirmwareManufacturerIdentifier  ...                        30.690104\n",
              "43                   Census_FirmwareVersionIdentifier  ...                         1.070944\n",
              "44                         Census_IsSecureBootEnabled  ...                        50.725111\n",
              "45                              Census_IsTouchEnabled  ...                        86.909624\n",
              "46                                       Wdft_IsGamer  ...                        70.690801\n",
              "47                              Wdft_RegionIdentifier  ...                        20.897491\n",
              "48                                      HasDetections  ...                        50.165119\n",
              "\n",
              "[49 rows x 6 columns]"
            ]
          },
          "metadata": {
            "tags": []
          },
          "execution_count": 23
        }
      ]
    },
    {
      "cell_type": "markdown",
      "metadata": {
        "id": "kmRstVNdN6Dz"
      },
      "source": [
        "Con el fin de dar inicio al análisis exploratorio de los datos, se divide los datos de tipo numericos y categoricos."
      ]
    },
    {
      "cell_type": "code",
      "metadata": {
        "id": "59DJ90mmaJSu",
        "colab": {
          "base_uri": "https://localhost:8080/"
        },
        "outputId": "95922bc2-a8e8-49d6-9ac7-9f2d52a7b052"
      },
      "source": [
        "categorical_data = train.select_dtypes('object')\n",
        "categorical_data.shape"
      ],
      "execution_count": null,
      "outputs": [
        {
          "output_type": "execute_result",
          "data": {
            "text/plain": [
              "(7659039, 0)"
            ]
          },
          "metadata": {
            "tags": []
          },
          "execution_count": 24
        }
      ]
    },
    {
      "cell_type": "code",
      "metadata": {
        "id": "9noFlGJqaiLm",
        "colab": {
          "base_uri": "https://localhost:8080/"
        },
        "outputId": "29ce369e-e6b6-4885-82b2-9a87bf2b299b"
      },
      "source": [
        "numerical_data = train.select_dtypes(exclude='object')\n",
        "numerical_data.shape"
      ],
      "execution_count": null,
      "outputs": [
        {
          "output_type": "execute_result",
          "data": {
            "text/plain": [
              "(7659039, 49)"
            ]
          },
          "metadata": {
            "tags": []
          },
          "execution_count": 25
        }
      ]
    },
    {
      "cell_type": "markdown",
      "metadata": {
        "id": "zIB1Z7_7a2Ud"
      },
      "source": [
        "Se obtiene que en el dataframe resultante tenemos 17 variables categoricas y 32 variables numericas. A simple vista se puede notar que algunas de las variables numericas son identificadores de alguna característica, por lo que deberían ser considerados como variables categoricas nominales, puesto que no tienen un peso que haga una característica más importante que otra y no puede ser categorizada numericamente. Este análisis será profundizado en el análisis exploratorio de los datos. "
      ]
    },
    {
      "cell_type": "markdown",
      "metadata": {
        "id": "Vjjy3b2zyPc9"
      },
      "source": [
        "### Análisis Exploratorio de los Datos (EDA)\n",
        "\n",
        "1.   Elemento de lista\n",
        "2.   Elemento de lista\n",
        "\n"
      ]
    },
    {
      "cell_type": "markdown",
      "metadata": {
        "id": "rU8uzZDtsau8"
      },
      "source": [
        "Lo primero a determinar es cuales de las variables de tipo numerico actualmente deberían considerarse como categoricas nominales, pues representan a identificadores sin orden numerico especifico. De esta manera, se analiza la tabla de calidad de datos que se viene utilizando este documento."
      ]
    },
    {
      "cell_type": "code",
      "metadata": {
        "id": "pj7-JRaQtbWC",
        "colab": {
          "base_uri": "https://localhost:8080/",
          "height": 302
        },
        "outputId": "75bdbe4d-3359-4646-ef0f-4479f78e6925"
      },
      "source": [
        "numerical_data.head()"
      ],
      "execution_count": null,
      "outputs": [
        {
          "output_type": "execute_result",
          "data": {
            "text/html": [
              "<div>\n",
              "<style scoped>\n",
              "    .dataframe tbody tr th:only-of-type {\n",
              "        vertical-align: middle;\n",
              "    }\n",
              "\n",
              "    .dataframe tbody tr th {\n",
              "        vertical-align: top;\n",
              "    }\n",
              "\n",
              "    .dataframe thead th {\n",
              "        text-align: right;\n",
              "    }\n",
              "</style>\n",
              "<table border=\"1\" class=\"dataframe\">\n",
              "  <thead>\n",
              "    <tr style=\"text-align: right;\">\n",
              "      <th></th>\n",
              "      <th>EngineVersion</th>\n",
              "      <th>AppVersion</th>\n",
              "      <th>AvSigVersion</th>\n",
              "      <th>AVProductStatesIdentifier</th>\n",
              "      <th>AVProductsInstalled</th>\n",
              "      <th>CountryIdentifier</th>\n",
              "      <th>CityIdentifier</th>\n",
              "      <th>GeoNameIdentifier</th>\n",
              "      <th>LocaleEnglishNameIdentifier</th>\n",
              "      <th>OsBuild</th>\n",
              "      <th>OsSuite</th>\n",
              "      <th>OsPlatformSubRelease</th>\n",
              "      <th>OsBuildLab</th>\n",
              "      <th>SkuEdition</th>\n",
              "      <th>IeVerIdentifier</th>\n",
              "      <th>Census_MDC2FormFactor</th>\n",
              "      <th>Census_OEMNameIdentifier</th>\n",
              "      <th>Census_OEMModelIdentifier</th>\n",
              "      <th>Census_ProcessorCoreCount</th>\n",
              "      <th>Census_ProcessorManufacturerIdentifier</th>\n",
              "      <th>Census_ProcessorModelIdentifier</th>\n",
              "      <th>Census_PrimaryDiskTotalCapacity</th>\n",
              "      <th>Census_PrimaryDiskTypeName</th>\n",
              "      <th>Census_SystemVolumeTotalCapacity</th>\n",
              "      <th>Census_TotalPhysicalRAM</th>\n",
              "      <th>Census_ChassisTypeName</th>\n",
              "      <th>Census_InternalPrimaryDiagonalDisplaySizeInInches</th>\n",
              "      <th>Census_InternalPrimaryDisplayResolutionHorizontal</th>\n",
              "      <th>Census_InternalPrimaryDisplayResolutionVertical</th>\n",
              "      <th>Census_PowerPlatformRoleName</th>\n",
              "      <th>Census_InternalBatteryNumberOfCharges</th>\n",
              "      <th>Census_OSVersion</th>\n",
              "      <th>Census_OSBranch</th>\n",
              "      <th>Census_OSBuildNumber</th>\n",
              "      <th>Census_OSBuildRevision</th>\n",
              "      <th>Census_OSEdition</th>\n",
              "      <th>Census_OSSkuName</th>\n",
              "      <th>Census_OSInstallTypeName</th>\n",
              "      <th>Census_OSInstallLanguageIdentifier</th>\n",
              "      <th>Census_OSUILocaleIdentifier</th>\n",
              "      <th>Census_OSWUAutoUpdateOptionsName</th>\n",
              "      <th>Census_ActivationChannel</th>\n",
              "      <th>Census_FirmwareManufacturerIdentifier</th>\n",
              "      <th>Census_FirmwareVersionIdentifier</th>\n",
              "      <th>Census_IsSecureBootEnabled</th>\n",
              "      <th>Census_IsTouchEnabled</th>\n",
              "      <th>Wdft_IsGamer</th>\n",
              "      <th>Wdft_RegionIdentifier</th>\n",
              "      <th>HasDetections</th>\n",
              "    </tr>\n",
              "  </thead>\n",
              "  <tbody>\n",
              "    <tr>\n",
              "      <th>0</th>\n",
              "      <td>1.1.15100.1</td>\n",
              "      <td>4.18.1807.18075</td>\n",
              "      <td>1.273.1735.0</td>\n",
              "      <td>53447.0</td>\n",
              "      <td>1.0</td>\n",
              "      <td>29</td>\n",
              "      <td>128035.0</td>\n",
              "      <td>35.0</td>\n",
              "      <td>-85</td>\n",
              "      <td>17134</td>\n",
              "      <td>256</td>\n",
              "      <td>rs4</td>\n",
              "      <td>17134.1.amd64fre.rs4_release.180410-1804</td>\n",
              "      <td>Pro</td>\n",
              "      <td>137.0</td>\n",
              "      <td>Desktop</td>\n",
              "      <td>2668.0</td>\n",
              "      <td>9124.0</td>\n",
              "      <td>4.0</td>\n",
              "      <td>5.0</td>\n",
              "      <td>2340.0</td>\n",
              "      <td>476940.0</td>\n",
              "      <td>HDD</td>\n",
              "      <td>299451.0</td>\n",
              "      <td>4096.0</td>\n",
              "      <td>Desktop</td>\n",
              "      <td>18.906250</td>\n",
              "      <td>1440.0</td>\n",
              "      <td>900.0</td>\n",
              "      <td>Desktop</td>\n",
              "      <td>4.294967e+09</td>\n",
              "      <td>10.0.17134.165</td>\n",
              "      <td>rs4_release</td>\n",
              "      <td>17134</td>\n",
              "      <td>165</td>\n",
              "      <td>Professional</td>\n",
              "      <td>PROFESSIONAL</td>\n",
              "      <td>UUPUpgrade</td>\n",
              "      <td>26.0</td>\n",
              "      <td>119</td>\n",
              "      <td>UNKNOWN</td>\n",
              "      <td>Retail</td>\n",
              "      <td>628.0</td>\n",
              "      <td>36144.0</td>\n",
              "      <td>0</td>\n",
              "      <td>0</td>\n",
              "      <td>0.0</td>\n",
              "      <td>10.0</td>\n",
              "      <td>0</td>\n",
              "    </tr>\n",
              "    <tr>\n",
              "      <th>1</th>\n",
              "      <td>1.1.14600.4</td>\n",
              "      <td>4.13.17134.1</td>\n",
              "      <td>1.263.48.0</td>\n",
              "      <td>53447.0</td>\n",
              "      <td>1.0</td>\n",
              "      <td>93</td>\n",
              "      <td>1482.0</td>\n",
              "      <td>119.0</td>\n",
              "      <td>64</td>\n",
              "      <td>17134</td>\n",
              "      <td>256</td>\n",
              "      <td>rs4</td>\n",
              "      <td>17134.1.amd64fre.rs4_release.180410-1804</td>\n",
              "      <td>Pro</td>\n",
              "      <td>137.0</td>\n",
              "      <td>Notebook</td>\n",
              "      <td>2668.0</td>\n",
              "      <td>91656.0</td>\n",
              "      <td>4.0</td>\n",
              "      <td>5.0</td>\n",
              "      <td>2404.0</td>\n",
              "      <td>476940.0</td>\n",
              "      <td>HDD</td>\n",
              "      <td>102385.0</td>\n",
              "      <td>4096.0</td>\n",
              "      <td>Notebook</td>\n",
              "      <td>13.898438</td>\n",
              "      <td>1366.0</td>\n",
              "      <td>768.0</td>\n",
              "      <td>Mobile</td>\n",
              "      <td>1.000000e+00</td>\n",
              "      <td>10.0.17134.1</td>\n",
              "      <td>rs4_release</td>\n",
              "      <td>17134</td>\n",
              "      <td>1</td>\n",
              "      <td>Professional</td>\n",
              "      <td>PROFESSIONAL</td>\n",
              "      <td>IBSClean</td>\n",
              "      <td>8.0</td>\n",
              "      <td>31</td>\n",
              "      <td>UNKNOWN</td>\n",
              "      <td>Retail</td>\n",
              "      <td>628.0</td>\n",
              "      <td>57858.0</td>\n",
              "      <td>0</td>\n",
              "      <td>0</td>\n",
              "      <td>0.0</td>\n",
              "      <td>8.0</td>\n",
              "      <td>0</td>\n",
              "    </tr>\n",
              "    <tr>\n",
              "      <th>2</th>\n",
              "      <td>1.1.15100.1</td>\n",
              "      <td>4.18.1807.18075</td>\n",
              "      <td>1.273.1341.0</td>\n",
              "      <td>53447.0</td>\n",
              "      <td>1.0</td>\n",
              "      <td>86</td>\n",
              "      <td>153579.0</td>\n",
              "      <td>64.0</td>\n",
              "      <td>49</td>\n",
              "      <td>17134</td>\n",
              "      <td>768</td>\n",
              "      <td>rs4</td>\n",
              "      <td>17134.1.amd64fre.rs4_release.180410-1804</td>\n",
              "      <td>Home</td>\n",
              "      <td>137.0</td>\n",
              "      <td>Desktop</td>\n",
              "      <td>4908.0</td>\n",
              "      <td>317701.0</td>\n",
              "      <td>4.0</td>\n",
              "      <td>5.0</td>\n",
              "      <td>1972.0</td>\n",
              "      <td>114473.0</td>\n",
              "      <td>SSD</td>\n",
              "      <td>113907.0</td>\n",
              "      <td>4096.0</td>\n",
              "      <td>Desktop</td>\n",
              "      <td>21.500000</td>\n",
              "      <td>1920.0</td>\n",
              "      <td>1080.0</td>\n",
              "      <td>Desktop</td>\n",
              "      <td>4.294967e+09</td>\n",
              "      <td>10.0.17134.165</td>\n",
              "      <td>rs4_release</td>\n",
              "      <td>17134</td>\n",
              "      <td>165</td>\n",
              "      <td>Core</td>\n",
              "      <td>CORE</td>\n",
              "      <td>UUPUpgrade</td>\n",
              "      <td>7.0</td>\n",
              "      <td>30</td>\n",
              "      <td>FullAuto</td>\n",
              "      <td>OEM:NONSLP</td>\n",
              "      <td>142.0</td>\n",
              "      <td>52682.0</td>\n",
              "      <td>0</td>\n",
              "      <td>0</td>\n",
              "      <td>0.0</td>\n",
              "      <td>3.0</td>\n",
              "      <td>0</td>\n",
              "    </tr>\n",
              "    <tr>\n",
              "      <th>3</th>\n",
              "      <td>1.1.15100.1</td>\n",
              "      <td>4.18.1807.18075</td>\n",
              "      <td>1.273.1527.0</td>\n",
              "      <td>53447.0</td>\n",
              "      <td>1.0</td>\n",
              "      <td>88</td>\n",
              "      <td>20710.0</td>\n",
              "      <td>117.0</td>\n",
              "      <td>115</td>\n",
              "      <td>17134</td>\n",
              "      <td>256</td>\n",
              "      <td>rs4</td>\n",
              "      <td>17134.1.amd64fre.rs4_release.180410-1804</td>\n",
              "      <td>Pro</td>\n",
              "      <td>137.0</td>\n",
              "      <td>Desktop</td>\n",
              "      <td>1443.0</td>\n",
              "      <td>275890.0</td>\n",
              "      <td>4.0</td>\n",
              "      <td>5.0</td>\n",
              "      <td>2272.0</td>\n",
              "      <td>238475.0</td>\n",
              "      <td>UNKNOWN</td>\n",
              "      <td>227116.0</td>\n",
              "      <td>4096.0</td>\n",
              "      <td>MiniTower</td>\n",
              "      <td>18.500000</td>\n",
              "      <td>1366.0</td>\n",
              "      <td>768.0</td>\n",
              "      <td>Desktop</td>\n",
              "      <td>4.294967e+09</td>\n",
              "      <td>10.0.17134.228</td>\n",
              "      <td>rs4_release</td>\n",
              "      <td>17134</td>\n",
              "      <td>228</td>\n",
              "      <td>Professional</td>\n",
              "      <td>PROFESSIONAL</td>\n",
              "      <td>UUPUpgrade</td>\n",
              "      <td>17.0</td>\n",
              "      <td>64</td>\n",
              "      <td>FullAuto</td>\n",
              "      <td>OEM:NONSLP</td>\n",
              "      <td>355.0</td>\n",
              "      <td>20050.0</td>\n",
              "      <td>0</td>\n",
              "      <td>0</td>\n",
              "      <td>0.0</td>\n",
              "      <td>3.0</td>\n",
              "      <td>1</td>\n",
              "    </tr>\n",
              "    <tr>\n",
              "      <th>4</th>\n",
              "      <td>1.1.15100.1</td>\n",
              "      <td>4.18.1807.18075</td>\n",
              "      <td>1.273.1379.0</td>\n",
              "      <td>53447.0</td>\n",
              "      <td>1.0</td>\n",
              "      <td>18</td>\n",
              "      <td>37376.0</td>\n",
              "      <td>277.0</td>\n",
              "      <td>75</td>\n",
              "      <td>17134</td>\n",
              "      <td>768</td>\n",
              "      <td>rs4</td>\n",
              "      <td>17134.1.amd64fre.rs4_release.180410-1804</td>\n",
              "      <td>Home</td>\n",
              "      <td>137.0</td>\n",
              "      <td>Notebook</td>\n",
              "      <td>1443.0</td>\n",
              "      <td>331929.0</td>\n",
              "      <td>4.0</td>\n",
              "      <td>5.0</td>\n",
              "      <td>2500.0</td>\n",
              "      <td>476940.0</td>\n",
              "      <td>HDD</td>\n",
              "      <td>101900.0</td>\n",
              "      <td>6144.0</td>\n",
              "      <td>Portable</td>\n",
              "      <td>14.000000</td>\n",
              "      <td>1366.0</td>\n",
              "      <td>768.0</td>\n",
              "      <td>Mobile</td>\n",
              "      <td>0.000000e+00</td>\n",
              "      <td>10.0.17134.191</td>\n",
              "      <td>rs4_release</td>\n",
              "      <td>17134</td>\n",
              "      <td>191</td>\n",
              "      <td>Core</td>\n",
              "      <td>CORE</td>\n",
              "      <td>Update</td>\n",
              "      <td>8.0</td>\n",
              "      <td>31</td>\n",
              "      <td>FullAuto</td>\n",
              "      <td>Retail</td>\n",
              "      <td>355.0</td>\n",
              "      <td>19844.0</td>\n",
              "      <td>0</td>\n",
              "      <td>0</td>\n",
              "      <td>0.0</td>\n",
              "      <td>1.0</td>\n",
              "      <td>1</td>\n",
              "    </tr>\n",
              "  </tbody>\n",
              "</table>\n",
              "</div>"
            ],
            "text/plain": [
              "  EngineVersion       AppVersion  ... Wdft_RegionIdentifier  HasDetections\n",
              "0   1.1.15100.1  4.18.1807.18075  ...                  10.0              0\n",
              "1   1.1.14600.4     4.13.17134.1  ...                   8.0              0\n",
              "2   1.1.15100.1  4.18.1807.18075  ...                   3.0              0\n",
              "3   1.1.15100.1  4.18.1807.18075  ...                   3.0              1\n",
              "4   1.1.15100.1  4.18.1807.18075  ...                   1.0              1\n",
              "\n",
              "[5 rows x 49 columns]"
            ]
          },
          "metadata": {
            "tags": []
          },
          "execution_count": 26
        }
      ]
    },
    {
      "cell_type": "code",
      "metadata": {
        "id": "5iIYQu3KyYKo",
        "colab": {
          "base_uri": "https://localhost:8080/",
          "height": 1000
        },
        "outputId": "4815b74a-8fa5-4c36-ff74-611eb2847da5"
      },
      "source": [
        "stats_numerical = mytable(numerical_data)\n",
        "stats_numerical"
      ],
      "execution_count": null,
      "outputs": [
        {
          "output_type": "execute_result",
          "data": {
            "text/html": [
              "<div>\n",
              "<style scoped>\n",
              "    .dataframe tbody tr th:only-of-type {\n",
              "        vertical-align: middle;\n",
              "    }\n",
              "\n",
              "    .dataframe tbody tr th {\n",
              "        vertical-align: top;\n",
              "    }\n",
              "\n",
              "    .dataframe thead th {\n",
              "        text-align: right;\n",
              "    }\n",
              "</style>\n",
              "<table border=\"1\" class=\"dataframe\">\n",
              "  <thead>\n",
              "    <tr style=\"text-align: right;\">\n",
              "      <th></th>\n",
              "      <th>Variable</th>\n",
              "      <th>% de datos nulos</th>\n",
              "      <th>% de ceros</th>\n",
              "      <th>Tipo de datos</th>\n",
              "      <th># de valores diferentes</th>\n",
              "      <th>% de la categoria con más datos</th>\n",
              "    </tr>\n",
              "  </thead>\n",
              "  <tbody>\n",
              "    <tr>\n",
              "      <th>0</th>\n",
              "      <td>EngineVersion</td>\n",
              "      <td>0.0</td>\n",
              "      <td>0.000000</td>\n",
              "      <td>category</td>\n",
              "      <td>65</td>\n",
              "      <td>42.775118</td>\n",
              "    </tr>\n",
              "    <tr>\n",
              "      <th>1</th>\n",
              "      <td>AppVersion</td>\n",
              "      <td>0.0</td>\n",
              "      <td>0.000000</td>\n",
              "      <td>category</td>\n",
              "      <td>104</td>\n",
              "      <td>60.089405</td>\n",
              "    </tr>\n",
              "    <tr>\n",
              "      <th>2</th>\n",
              "      <td>AvSigVersion</td>\n",
              "      <td>0.0</td>\n",
              "      <td>0.000000</td>\n",
              "      <td>category</td>\n",
              "      <td>8474</td>\n",
              "      <td>1.184222</td>\n",
              "    </tr>\n",
              "    <tr>\n",
              "      <th>3</th>\n",
              "      <td>AVProductStatesIdentifier</td>\n",
              "      <td>0.0</td>\n",
              "      <td>0.000000</td>\n",
              "      <td>float32</td>\n",
              "      <td>25390</td>\n",
              "      <td>64.970671</td>\n",
              "    </tr>\n",
              "    <tr>\n",
              "      <th>4</th>\n",
              "      <td>AVProductsInstalled</td>\n",
              "      <td>0.0</td>\n",
              "      <td>0.000000</td>\n",
              "      <td>float16</td>\n",
              "      <td>7</td>\n",
              "      <td>68.410071</td>\n",
              "    </tr>\n",
              "    <tr>\n",
              "      <th>5</th>\n",
              "      <td>CountryIdentifier</td>\n",
              "      <td>0.0</td>\n",
              "      <td>0.000000</td>\n",
              "      <td>int16</td>\n",
              "      <td>222</td>\n",
              "      <td>4.292392</td>\n",
              "    </tr>\n",
              "    <tr>\n",
              "      <th>6</th>\n",
              "      <td>CityIdentifier</td>\n",
              "      <td>0.0</td>\n",
              "      <td>0.000000</td>\n",
              "      <td>float32</td>\n",
              "      <td>103879</td>\n",
              "      <td>1.140770</td>\n",
              "    </tr>\n",
              "    <tr>\n",
              "      <th>7</th>\n",
              "      <td>GeoNameIdentifier</td>\n",
              "      <td>0.0</td>\n",
              "      <td>0.000000</td>\n",
              "      <td>float16</td>\n",
              "      <td>290</td>\n",
              "      <td>16.923977</td>\n",
              "    </tr>\n",
              "    <tr>\n",
              "      <th>8</th>\n",
              "      <td>LocaleEnglishNameIdentifier</td>\n",
              "      <td>0.0</td>\n",
              "      <td>0.000000</td>\n",
              "      <td>int8</td>\n",
              "      <td>251</td>\n",
              "      <td>23.363949</td>\n",
              "    </tr>\n",
              "    <tr>\n",
              "      <th>9</th>\n",
              "      <td>OsBuild</td>\n",
              "      <td>0.0</td>\n",
              "      <td>0.000000</td>\n",
              "      <td>int16</td>\n",
              "      <td>71</td>\n",
              "      <td>45.027516</td>\n",
              "    </tr>\n",
              "    <tr>\n",
              "      <th>10</th>\n",
              "      <td>OsSuite</td>\n",
              "      <td>0.0</td>\n",
              "      <td>0.000000</td>\n",
              "      <td>int16</td>\n",
              "      <td>4</td>\n",
              "      <td>63.852267</td>\n",
              "    </tr>\n",
              "    <tr>\n",
              "      <th>11</th>\n",
              "      <td>OsPlatformSubRelease</td>\n",
              "      <td>0.0</td>\n",
              "      <td>0.000000</td>\n",
              "      <td>category</td>\n",
              "      <td>9</td>\n",
              "      <td>45.027568</td>\n",
              "    </tr>\n",
              "    <tr>\n",
              "      <th>12</th>\n",
              "      <td>OsBuildLab</td>\n",
              "      <td>0.0</td>\n",
              "      <td>0.000000</td>\n",
              "      <td>category</td>\n",
              "      <td>553</td>\n",
              "      <td>42.196168</td>\n",
              "    </tr>\n",
              "    <tr>\n",
              "      <th>13</th>\n",
              "      <td>SkuEdition</td>\n",
              "      <td>0.0</td>\n",
              "      <td>0.000000</td>\n",
              "      <td>category</td>\n",
              "      <td>7</td>\n",
              "      <td>63.809533</td>\n",
              "    </tr>\n",
              "    <tr>\n",
              "      <th>14</th>\n",
              "      <td>IeVerIdentifier</td>\n",
              "      <td>0.0</td>\n",
              "      <td>0.000000</td>\n",
              "      <td>float16</td>\n",
              "      <td>213</td>\n",
              "      <td>45.027307</td>\n",
              "    </tr>\n",
              "    <tr>\n",
              "      <th>15</th>\n",
              "      <td>Census_MDC2FormFactor</td>\n",
              "      <td>0.0</td>\n",
              "      <td>0.000000</td>\n",
              "      <td>category</td>\n",
              "      <td>12</td>\n",
              "      <td>65.401221</td>\n",
              "    </tr>\n",
              "    <tr>\n",
              "      <th>16</th>\n",
              "      <td>Census_OEMNameIdentifier</td>\n",
              "      <td>0.0</td>\n",
              "      <td>0.000000</td>\n",
              "      <td>float16</td>\n",
              "      <td>2348</td>\n",
              "      <td>14.842293</td>\n",
              "    </tr>\n",
              "    <tr>\n",
              "      <th>17</th>\n",
              "      <td>Census_OEMModelIdentifier</td>\n",
              "      <td>0.0</td>\n",
              "      <td>0.000000</td>\n",
              "      <td>float32</td>\n",
              "      <td>161038</td>\n",
              "      <td>3.391718</td>\n",
              "    </tr>\n",
              "    <tr>\n",
              "      <th>18</th>\n",
              "      <td>Census_ProcessorCoreCount</td>\n",
              "      <td>0.0</td>\n",
              "      <td>0.000000</td>\n",
              "      <td>float16</td>\n",
              "      <td>37</td>\n",
              "      <td>61.890362</td>\n",
              "    </tr>\n",
              "    <tr>\n",
              "      <th>19</th>\n",
              "      <td>Census_ProcessorManufacturerIdentifier</td>\n",
              "      <td>0.0</td>\n",
              "      <td>0.000000</td>\n",
              "      <td>float16</td>\n",
              "      <td>6</td>\n",
              "      <td>88.203011</td>\n",
              "    </tr>\n",
              "    <tr>\n",
              "      <th>20</th>\n",
              "      <td>Census_ProcessorModelIdentifier</td>\n",
              "      <td>0.0</td>\n",
              "      <td>0.000000</td>\n",
              "      <td>float16</td>\n",
              "      <td>2339</td>\n",
              "      <td>3.417948</td>\n",
              "    </tr>\n",
              "    <tr>\n",
              "      <th>21</th>\n",
              "      <td>Census_PrimaryDiskTotalCapacity</td>\n",
              "      <td>0.0</td>\n",
              "      <td>0.000157</td>\n",
              "      <td>float32</td>\n",
              "      <td>3071</td>\n",
              "      <td>32.540558</td>\n",
              "    </tr>\n",
              "    <tr>\n",
              "      <th>22</th>\n",
              "      <td>Census_PrimaryDiskTypeName</td>\n",
              "      <td>0.0</td>\n",
              "      <td>0.000000</td>\n",
              "      <td>category</td>\n",
              "      <td>4</td>\n",
              "      <td>66.795038</td>\n",
              "    </tr>\n",
              "    <tr>\n",
              "      <th>23</th>\n",
              "      <td>Census_SystemVolumeTotalCapacity</td>\n",
              "      <td>0.0</td>\n",
              "      <td>0.000157</td>\n",
              "      <td>float32</td>\n",
              "      <td>511614</td>\n",
              "      <td>0.623420</td>\n",
              "    </tr>\n",
              "    <tr>\n",
              "      <th>24</th>\n",
              "      <td>Census_TotalPhysicalRAM</td>\n",
              "      <td>0.0</td>\n",
              "      <td>0.000000</td>\n",
              "      <td>float32</td>\n",
              "      <td>1752</td>\n",
              "      <td>46.903743</td>\n",
              "    </tr>\n",
              "    <tr>\n",
              "      <th>25</th>\n",
              "      <td>Census_ChassisTypeName</td>\n",
              "      <td>0.0</td>\n",
              "      <td>0.000000</td>\n",
              "      <td>category</td>\n",
              "      <td>46</td>\n",
              "      <td>60.412658</td>\n",
              "    </tr>\n",
              "    <tr>\n",
              "      <th>26</th>\n",
              "      <td>Census_InternalPrimaryDiagonalDisplaySizeInInches</td>\n",
              "      <td>0.0</td>\n",
              "      <td>0.000000</td>\n",
              "      <td>float16</td>\n",
              "      <td>755</td>\n",
              "      <td>35.269777</td>\n",
              "    </tr>\n",
              "    <tr>\n",
              "      <th>27</th>\n",
              "      <td>Census_InternalPrimaryDisplayResolutionHorizontal</td>\n",
              "      <td>0.0</td>\n",
              "      <td>0.000000</td>\n",
              "      <td>float16</td>\n",
              "      <td>1579</td>\n",
              "      <td>52.319384</td>\n",
              "    </tr>\n",
              "    <tr>\n",
              "      <th>28</th>\n",
              "      <td>Census_InternalPrimaryDisplayResolutionVertical</td>\n",
              "      <td>0.0</td>\n",
              "      <td>0.000000</td>\n",
              "      <td>float16</td>\n",
              "      <td>1233</td>\n",
              "      <td>56.628488</td>\n",
              "    </tr>\n",
              "    <tr>\n",
              "      <th>29</th>\n",
              "      <td>Census_PowerPlatformRoleName</td>\n",
              "      <td>0.0</td>\n",
              "      <td>0.000000</td>\n",
              "      <td>category</td>\n",
              "      <td>9</td>\n",
              "      <td>70.776543</td>\n",
              "    </tr>\n",
              "    <tr>\n",
              "      <th>30</th>\n",
              "      <td>Census_InternalBatteryNumberOfCharges</td>\n",
              "      <td>0.0</td>\n",
              "      <td>59.028750</td>\n",
              "      <td>float32</td>\n",
              "      <td>38551</td>\n",
              "      <td>59.028750</td>\n",
              "    </tr>\n",
              "    <tr>\n",
              "      <th>31</th>\n",
              "      <td>Census_OSVersion</td>\n",
              "      <td>0.0</td>\n",
              "      <td>0.000000</td>\n",
              "      <td>category</td>\n",
              "      <td>425</td>\n",
              "      <td>16.412294</td>\n",
              "    </tr>\n",
              "    <tr>\n",
              "      <th>32</th>\n",
              "      <td>Census_OSBranch</td>\n",
              "      <td>0.0</td>\n",
              "      <td>0.000000</td>\n",
              "      <td>category</td>\n",
              "      <td>26</td>\n",
              "      <td>46.053689</td>\n",
              "    </tr>\n",
              "    <tr>\n",
              "      <th>33</th>\n",
              "      <td>Census_OSBuildNumber</td>\n",
              "      <td>0.0</td>\n",
              "      <td>0.000000</td>\n",
              "      <td>int16</td>\n",
              "      <td>150</td>\n",
              "      <td>46.052018</td>\n",
              "    </tr>\n",
              "    <tr>\n",
              "      <th>34</th>\n",
              "      <td>Census_OSBuildRevision</td>\n",
              "      <td>0.0</td>\n",
              "      <td>0.899643</td>\n",
              "      <td>int32</td>\n",
              "      <td>259</td>\n",
              "      <td>16.412359</td>\n",
              "    </tr>\n",
              "    <tr>\n",
              "      <th>35</th>\n",
              "      <td>Census_OSEdition</td>\n",
              "      <td>0.0</td>\n",
              "      <td>0.000000</td>\n",
              "      <td>category</td>\n",
              "      <td>29</td>\n",
              "      <td>39.390503</td>\n",
              "    </tr>\n",
              "    <tr>\n",
              "      <th>36</th>\n",
              "      <td>Census_OSSkuName</td>\n",
              "      <td>0.0</td>\n",
              "      <td>0.000000</td>\n",
              "      <td>category</td>\n",
              "      <td>25</td>\n",
              "      <td>39.390111</td>\n",
              "    </tr>\n",
              "    <tr>\n",
              "      <th>37</th>\n",
              "      <td>Census_OSInstallTypeName</td>\n",
              "      <td>0.0</td>\n",
              "      <td>0.000000</td>\n",
              "      <td>category</td>\n",
              "      <td>9</td>\n",
              "      <td>31.663019</td>\n",
              "    </tr>\n",
              "    <tr>\n",
              "      <th>38</th>\n",
              "      <td>Census_OSInstallLanguageIdentifier</td>\n",
              "      <td>0.0</td>\n",
              "      <td>0.000000</td>\n",
              "      <td>float16</td>\n",
              "      <td>39</td>\n",
              "      <td>36.162657</td>\n",
              "    </tr>\n",
              "    <tr>\n",
              "      <th>39</th>\n",
              "      <td>Census_OSUILocaleIdentifier</td>\n",
              "      <td>0.0</td>\n",
              "      <td>0.000000</td>\n",
              "      <td>int16</td>\n",
              "      <td>144</td>\n",
              "      <td>35.775245</td>\n",
              "    </tr>\n",
              "    <tr>\n",
              "      <th>40</th>\n",
              "      <td>Census_OSWUAutoUpdateOptionsName</td>\n",
              "      <td>0.0</td>\n",
              "      <td>0.000000</td>\n",
              "      <td>category</td>\n",
              "      <td>5</td>\n",
              "      <td>44.713638</td>\n",
              "    </tr>\n",
              "    <tr>\n",
              "      <th>41</th>\n",
              "      <td>Census_ActivationChannel</td>\n",
              "      <td>0.0</td>\n",
              "      <td>0.000000</td>\n",
              "      <td>category</td>\n",
              "      <td>5</td>\n",
              "      <td>51.683677</td>\n",
              "    </tr>\n",
              "    <tr>\n",
              "      <th>42</th>\n",
              "      <td>Census_FirmwareManufacturerIdentifier</td>\n",
              "      <td>0.0</td>\n",
              "      <td>0.000000</td>\n",
              "      <td>float16</td>\n",
              "      <td>644</td>\n",
              "      <td>30.690104</td>\n",
              "    </tr>\n",
              "    <tr>\n",
              "      <th>43</th>\n",
              "      <td>Census_FirmwareVersionIdentifier</td>\n",
              "      <td>0.0</td>\n",
              "      <td>0.000000</td>\n",
              "      <td>float32</td>\n",
              "      <td>46662</td>\n",
              "      <td>1.070944</td>\n",
              "    </tr>\n",
              "    <tr>\n",
              "      <th>44</th>\n",
              "      <td>Census_IsSecureBootEnabled</td>\n",
              "      <td>0.0</td>\n",
              "      <td>49.274889</td>\n",
              "      <td>int8</td>\n",
              "      <td>2</td>\n",
              "      <td>50.725111</td>\n",
              "    </tr>\n",
              "    <tr>\n",
              "      <th>45</th>\n",
              "      <td>Census_IsTouchEnabled</td>\n",
              "      <td>0.0</td>\n",
              "      <td>86.909624</td>\n",
              "      <td>int8</td>\n",
              "      <td>2</td>\n",
              "      <td>86.909624</td>\n",
              "    </tr>\n",
              "    <tr>\n",
              "      <th>46</th>\n",
              "      <td>Wdft_IsGamer</td>\n",
              "      <td>0.0</td>\n",
              "      <td>70.690801</td>\n",
              "      <td>float16</td>\n",
              "      <td>2</td>\n",
              "      <td>70.690801</td>\n",
              "    </tr>\n",
              "    <tr>\n",
              "      <th>47</th>\n",
              "      <td>Wdft_RegionIdentifier</td>\n",
              "      <td>0.0</td>\n",
              "      <td>0.000000</td>\n",
              "      <td>float16</td>\n",
              "      <td>15</td>\n",
              "      <td>20.897491</td>\n",
              "    </tr>\n",
              "    <tr>\n",
              "      <th>48</th>\n",
              "      <td>HasDetections</td>\n",
              "      <td>0.0</td>\n",
              "      <td>49.834881</td>\n",
              "      <td>int8</td>\n",
              "      <td>2</td>\n",
              "      <td>50.165119</td>\n",
              "    </tr>\n",
              "  </tbody>\n",
              "</table>\n",
              "</div>"
            ],
            "text/plain": [
              "                                             Variable  ...  % de la categoria con más datos\n",
              "0                                       EngineVersion  ...                        42.775118\n",
              "1                                          AppVersion  ...                        60.089405\n",
              "2                                        AvSigVersion  ...                         1.184222\n",
              "3                           AVProductStatesIdentifier  ...                        64.970671\n",
              "4                                 AVProductsInstalled  ...                        68.410071\n",
              "5                                   CountryIdentifier  ...                         4.292392\n",
              "6                                      CityIdentifier  ...                         1.140770\n",
              "7                                   GeoNameIdentifier  ...                        16.923977\n",
              "8                         LocaleEnglishNameIdentifier  ...                        23.363949\n",
              "9                                             OsBuild  ...                        45.027516\n",
              "10                                            OsSuite  ...                        63.852267\n",
              "11                               OsPlatformSubRelease  ...                        45.027568\n",
              "12                                         OsBuildLab  ...                        42.196168\n",
              "13                                         SkuEdition  ...                        63.809533\n",
              "14                                    IeVerIdentifier  ...                        45.027307\n",
              "15                              Census_MDC2FormFactor  ...                        65.401221\n",
              "16                           Census_OEMNameIdentifier  ...                        14.842293\n",
              "17                          Census_OEMModelIdentifier  ...                         3.391718\n",
              "18                          Census_ProcessorCoreCount  ...                        61.890362\n",
              "19             Census_ProcessorManufacturerIdentifier  ...                        88.203011\n",
              "20                    Census_ProcessorModelIdentifier  ...                         3.417948\n",
              "21                    Census_PrimaryDiskTotalCapacity  ...                        32.540558\n",
              "22                         Census_PrimaryDiskTypeName  ...                        66.795038\n",
              "23                   Census_SystemVolumeTotalCapacity  ...                         0.623420\n",
              "24                            Census_TotalPhysicalRAM  ...                        46.903743\n",
              "25                             Census_ChassisTypeName  ...                        60.412658\n",
              "26  Census_InternalPrimaryDiagonalDisplaySizeInInches  ...                        35.269777\n",
              "27  Census_InternalPrimaryDisplayResolutionHorizontal  ...                        52.319384\n",
              "28    Census_InternalPrimaryDisplayResolutionVertical  ...                        56.628488\n",
              "29                       Census_PowerPlatformRoleName  ...                        70.776543\n",
              "30              Census_InternalBatteryNumberOfCharges  ...                        59.028750\n",
              "31                                   Census_OSVersion  ...                        16.412294\n",
              "32                                    Census_OSBranch  ...                        46.053689\n",
              "33                               Census_OSBuildNumber  ...                        46.052018\n",
              "34                             Census_OSBuildRevision  ...                        16.412359\n",
              "35                                   Census_OSEdition  ...                        39.390503\n",
              "36                                   Census_OSSkuName  ...                        39.390111\n",
              "37                           Census_OSInstallTypeName  ...                        31.663019\n",
              "38                 Census_OSInstallLanguageIdentifier  ...                        36.162657\n",
              "39                        Census_OSUILocaleIdentifier  ...                        35.775245\n",
              "40                   Census_OSWUAutoUpdateOptionsName  ...                        44.713638\n",
              "41                           Census_ActivationChannel  ...                        51.683677\n",
              "42              Census_FirmwareManufacturerIdentifier  ...                        30.690104\n",
              "43                   Census_FirmwareVersionIdentifier  ...                         1.070944\n",
              "44                         Census_IsSecureBootEnabled  ...                        50.725111\n",
              "45                              Census_IsTouchEnabled  ...                        86.909624\n",
              "46                                       Wdft_IsGamer  ...                        70.690801\n",
              "47                              Wdft_RegionIdentifier  ...                        20.897491\n",
              "48                                      HasDetections  ...                        50.165119\n",
              "\n",
              "[49 rows x 6 columns]"
            ]
          },
          "metadata": {
            "tags": []
          },
          "execution_count": 27
        }
      ]
    },
    {
      "cell_type": "markdown",
      "metadata": {
        "id": "YTvYX3VDtEsA"
      },
      "source": [
        "De esta manera, se identifican las siguientes variables que deben ser tratadas como variables categoricas nominales: ```AVProductStatesIdentifier```, ```CountryIdentifier```, ```CityIdentifier```, ```GeoNameIdentifier```, ```LocaleEnglishNameIdentifier```, ```IeVerIdentifier```,```Census_OEMNameIdentifier```,```Census_OEMModelIdentifier```,```Census_ProcessorManufacturerIdentifier```, ```Census_ProcessorModelIdentifier```, ```Census_OSInstallLanguageIdentifier```, ```Census_OSUILocaleIdentifier```, ```Census_FirmwareManufacturerIdentifier```,```Census_FirmwareVersionIdentifier```,```Wdft_RegionIdentifier```.\n",
        "\n",
        "Haciendose necesaria la transformación 15 variables numericas a categoricas, teniendo en cuenta que son identificadores (ID) para alguna característica de las variables."
      ]
    },
    {
      "cell_type": "code",
      "metadata": {
        "id": "9Ncm_0pavKjC"
      },
      "source": [
        "to_cat = ['AVProductStatesIdentifier','CountryIdentifier','CityIdentifier','GeoNameIdentifier','LocaleEnglishNameIdentifier'\n",
        "          ,'IeVerIdentifier','Census_OEMNameIdentifier','Census_OEMModelIdentifier','Census_ProcessorManufacturerIdentifier'\n",
        "          ,'Census_ProcessorModelIdentifier','Census_OSInstallLanguageIdentifier','Census_OSUILocaleIdentifier'\n",
        "          ,'Census_FirmwareManufacturerIdentifier','Census_FirmwareVersionIdentifier','Wdft_RegionIdentifier']\n",
        "\n",
        "for var in to_cat:\n",
        "  train[var] = train[var].astype('object')"
      ],
      "execution_count": null,
      "outputs": []
    },
    {
      "cell_type": "markdown",
      "metadata": {
        "id": "GQcqmsvfwh2T"
      },
      "source": [
        "De esta manera, se obtienen los nuevos conjuntos de variables categoricas y numéricas. "
      ]
    },
    {
      "cell_type": "code",
      "metadata": {
        "id": "wfxCfyAowmna",
        "colab": {
          "base_uri": "https://localhost:8080/"
        },
        "outputId": "eaf8e81f-dafa-467e-9755-cc8e31532ed2"
      },
      "source": [
        "categorical_data = train.select_dtypes('object')\n",
        "categorical_data.shape"
      ],
      "execution_count": null,
      "outputs": [
        {
          "output_type": "execute_result",
          "data": {
            "text/plain": [
              "(7659039, 15)"
            ]
          },
          "metadata": {
            "tags": []
          },
          "execution_count": 29
        }
      ]
    },
    {
      "cell_type": "code",
      "metadata": {
        "id": "ZzYPVjkAwrxG",
        "colab": {
          "base_uri": "https://localhost:8080/"
        },
        "outputId": "dad2cb8d-391f-4904-d52c-7cdac2e366fe"
      },
      "source": [
        "numerical_data = train.select_dtypes(exclude='object')\n",
        "numerical_data.shape"
      ],
      "execution_count": null,
      "outputs": [
        {
          "output_type": "execute_result",
          "data": {
            "text/plain": [
              "(7659039, 34)"
            ]
          },
          "metadata": {
            "tags": []
          },
          "execution_count": 30
        }
      ]
    },
    {
      "cell_type": "markdown",
      "metadata": {
        "id": "YuUS0zfksQ91"
      },
      "source": [
        "El nuevo numero de variables categoricas es 32, mientras que sólo hay 17 variables númericas, en la que se incluye la variable objetivo."
      ]
    },
    {
      "cell_type": "markdown",
      "metadata": {
        "id": "6F0Z269Wwwjp"
      },
      "source": [
        "#### Análisis de variables númericas\n",
        "\n",
        "Primero se analiza cual de las variables presenta valores atípicos, es decir observaciones que se encuentren alejadas de las otras observaciones. Para ello se graficará los diagramas de cajas los cuales permiten una representación grafica de los grupos de datos numericos através de sus cuartiles estadísticos. Los datos atípicos son gráficados como puntos individuales fuera de las cajas que representa el comportamiento dentro de los cuartiles."
      ]
    },
    {
      "cell_type": "code",
      "metadata": {
        "id": "r680SFln8_FW"
      },
      "source": [
        "f, axarr = plt.subplots(4, 5, figsize=(20,15))\n",
        "f.suptitle('Diagramas de cajas de las variables numericas', y=0.9, fontsize=16)\n",
        "\n",
        "c = 0\n",
        "for i in range(4):\n",
        "  for j in range(5):\n",
        "    if c==numerical_data.shape[1]:\n",
        "      break\n",
        "    dat = numerical_data.iloc[:,c]\n",
        "    axarr[i,j].boxplot(x=dat)\n",
        "    axarr[i,j].set_xlabel(dat.name)\n",
        "    c += 1    "
      ],
      "execution_count": null,
      "outputs": []
    },
    {
      "cell_type": "markdown",
      "metadata": {
        "id": "9O-stXpQsM-Z"
      },
      "source": [
        "Se puede observar que sólo 5 variables (```OsSuite```, ```Census_InternalBatteryNumberOfCharges```, ```Census_IsSecureBootEnabled```, ```Wdft_IsGamer```, ```HasDetections```) nos presentaron valores atípicos en sus muestras. En las demás variables se detectaron datos atípicos, sin embargo, parece ser necesario tenerlos en cuenta debido a que pueden presentar información relevante para el estudio, mostrando características diferentes para algunas de las máquinas evaluadas.\n",
        "\n",
        "A continuación se analiza la correlación lineal entre las variables númericas."
      ]
    },
    {
      "cell_type": "code",
      "metadata": {
        "id": "gnN75B5zAJGP"
      },
      "source": [
        "fig = plt.figure(figsize =(16,24))\n",
        "plt.subplot(2,1,1)\n",
        "sns.heatmap(numerical_data.corr(method ='pearson'),annot = True, fmt='.2f')\n",
        "plt.title(r'$\\bf{Pearson}$')\n",
        "plt.subplot(2,1,2)\n",
        "sns.heatmap(numerical_data.corr(method ='spearman'),annot = True, fmt='.2f')\n",
        "plt.title(r'$\\bf{Spearman}$')\n",
        "fig.suptitle('Mapa de calor para las correlaciones de los datos', y=1, fontsize=16)\n",
        "fig.tight_layout(pad=4.5)"
      ],
      "execution_count": null,
      "outputs": []
    },
    {
      "cell_type": "markdown",
      "metadata": {
        "id": "k-ZJsZyntleP"
      },
      "source": [
        "Antes de entrar al análisis de los resultados, es importante tener en mente que la correlación de pearson tiene en cuenta el comportamiento de los datos atípicos de las variables, mientras que spearman no los considera en gran medida.\n",
        "\n",
        "Con esto en mente, se puede ver que:\n",
        "*  La variable ```Census_InternalPrimaryDisplayResolutionVertical``` y la variable ```Census_InternalPrimaryDisplayResolutionHorizontal``` están altamente relacionadas debido a los datos atípicos, puesto que cuando estos no se tienen en cuenta la correlación es mucho más baja.\n",
        "*  Las variables ```OsBuild``` y ```Census_OSBuildNumber``` están altamente correlacionadas con ambas métricas de correlación. Adicionalmente, ambas tienen baja correlación con la variable objetivo y en general tienen las mismas correlaciones respecto a las otras variables, por lo que se podría considerar en **eliminar una de las dos**, puesto que no aportan información adicional la una con la otra.\n",
        "*  Se puede ver que existe baja correlación entre todas las variables y la variable objetivo, lo que puede afectar considerablemente en un modelo lineal."
      ]
    },
    {
      "cell_type": "code",
      "metadata": {
        "id": "W4BhSf2o-DN6"
      },
      "source": [
        "A_eliminar2 = ['Census_OSBuildNumber']"
      ],
      "execution_count": null,
      "outputs": []
    },
    {
      "cell_type": "markdown",
      "metadata": {
        "id": "wv4hbiMKxpx7"
      },
      "source": [
        "#### Análisis de variables categoricas\n",
        "\n",
        "En esta sección se realiza el análisis descriptivo de las variables categoricas para poder tomar decisiones respecto a su transformación para poderlo incluir en el modelo."
      ]
    },
    {
      "cell_type": "markdown",
      "metadata": {
        "id": "r9wriPwz5JZu"
      },
      "source": [
        "Primero se realiza un análisis con la tabla que se ha venido utilizando previamente."
      ]
    },
    {
      "cell_type": "code",
      "metadata": {
        "id": "w5pPzYsDOxns"
      },
      "source": [
        "stats_numerical = mytable(categorical_data)\n",
        "stats_numerical"
      ],
      "execution_count": null,
      "outputs": []
    },
    {
      "cell_type": "markdown",
      "metadata": {
        "id": "CzNSBgk05Pno"
      },
      "source": [
        "Se observa que muchas variables tienen miles de valores únicos, lo que podría ser un problema al momento de transformar las variables categoricas nominales a dummies. Se puede observar que muchas de estas variables corresponden a identificadores, las cuales deben ser tomadas como variables categoricas nominales. Teniendo en cuenta que los identificadores típicamente son excluidos de los análisis, puesto que no aportan información característica a los modelos, plantea la siguiente hipotesis:\n",
        "\n",
        "*  No existe evidencia estadística que muestre relación de dependencia entre las variables categoricas identificadoras (aquellas que finalizan en \"Identifier\") y la variable objetivo ```HasDetections```.\n",
        "\n",
        "Para dar respuesta a la hipótesis se evaluará mediante un análisis de contingencia a todas las variables. Las variables que muestren dependencia con la variable objetivo, se tendrán en cuenta para realizar un análisis más profundo para su transformación. Aquellas que no presenten evidencia estadística de dependencia, serán agregadas al grupo de variables a eliminar ```A_eliminar2```.\n",
        "\n",
        "A continuación se define la función con la que se realizará el análisis de contingencia con una significancia del 0.1% y el p-value como métrica."
      ]
    },
    {
      "cell_type": "markdown",
      "metadata": {
        "id": "4wxPlcN8__cC"
      },
      "source": [
        "##### Análisis de contingencia"
      ]
    },
    {
      "cell_type": "code",
      "metadata": {
        "id": "YER_62wn6xsy"
      },
      "source": [
        "def contingency_analysis(data1,data2):\n",
        "  Tabla_c = pd.crosstab(index=data1,columns=data2,margins=True)\n",
        "  # Guardo el p-value en una variable para luego evaluarla dado las condiciones de abajo\n",
        "  pvalue = chi2_contingency(Tabla_c)[1]\n",
        "  # Usando prints y if para saber si acepto o no la hipotesis nula y \n",
        "  # asi concentrarme en el analisis \n",
        "  print(\"Hipotesis NULA:\", \"Las variables son independendientes\")\n",
        "  print(\"P-Value:\", pvalue)\n",
        "\n",
        "  pval = pvalue\n",
        "  # nivel de significancia 0.001\n",
        "  if pval > 0.001:\n",
        "      print(\"Accept NULL hypothesis - Las variables son independientes es decir que no tienen relación entre ellas.\")\n",
        "  if pval <= 0.001:\n",
        "      print(\"Reject NULL hypothesis - Las variables son dependientes.\")"
      ],
      "execution_count": null,
      "outputs": []
    },
    {
      "cell_type": "markdown",
      "metadata": {
        "id": "hpo_Lv8J-g9R"
      },
      "source": [
        "###### Variable: EngineVersion"
      ]
    },
    {
      "cell_type": "code",
      "metadata": {
        "id": "2sSNOo3q7SCA"
      },
      "source": [
        "contingency_analysis(categorical_data['EngineVersion'],numerical_data['HasDetections'])"
      ],
      "execution_count": null,
      "outputs": []
    },
    {
      "cell_type": "markdown",
      "metadata": {
        "id": "MegEVTjn-sVQ"
      },
      "source": [
        "###### Variable: AppVersion"
      ]
    },
    {
      "cell_type": "code",
      "metadata": {
        "id": "cTqqU69V_E1x"
      },
      "source": [
        "contingency_analysis(categorical_data['AppVersion'],numerical_data['HasDetections'])"
      ],
      "execution_count": null,
      "outputs": []
    },
    {
      "cell_type": "markdown",
      "metadata": {
        "id": "vXCnJqXk-01o"
      },
      "source": [
        "###### Variable: AvSigVersion"
      ]
    },
    {
      "cell_type": "code",
      "metadata": {
        "id": "6z3wqiEx_KH5"
      },
      "source": [
        "contingency_analysis(categorical_data['AvSigVersion'],numerical_data['HasDetections'])"
      ],
      "execution_count": null,
      "outputs": []
    },
    {
      "cell_type": "markdown",
      "metadata": {
        "id": "GCW4Xdrn_THR"
      },
      "source": [
        "###### Variable: AVProductStatesIdentifier"
      ]
    },
    {
      "cell_type": "code",
      "metadata": {
        "id": "4Y2kIONb_THS"
      },
      "source": [
        "contingency_analysis(categorical_data['AVProductStatesIdentifier'],numerical_data['HasDetections'])"
      ],
      "execution_count": null,
      "outputs": []
    },
    {
      "cell_type": "markdown",
      "metadata": {
        "id": "pDvAP2Ze_VdL"
      },
      "source": [
        "###### Variable: CountryIdentifier"
      ]
    },
    {
      "cell_type": "code",
      "metadata": {
        "id": "loc-pQAs_VdL"
      },
      "source": [
        "contingency_analysis(categorical_data['CountryIdentifier'],numerical_data['HasDetections'])"
      ],
      "execution_count": null,
      "outputs": []
    },
    {
      "cell_type": "markdown",
      "metadata": {
        "id": "JdUFrWvF_VpK"
      },
      "source": [
        "###### Variable: CityIdentifier"
      ]
    },
    {
      "cell_type": "code",
      "metadata": {
        "id": "-Zg_Ya1P_VpK"
      },
      "source": [
        "contingency_analysis(categorical_data['CityIdentifier'],numerical_data['HasDetections'])"
      ],
      "execution_count": null,
      "outputs": []
    },
    {
      "cell_type": "code",
      "metadata": {
        "id": "yrYxNR-D_2Nk"
      },
      "source": [
        "A_eliminar2.append('CityIdentifier')"
      ],
      "execution_count": null,
      "outputs": []
    },
    {
      "cell_type": "markdown",
      "metadata": {
        "id": "SMN8RGs0_V0A"
      },
      "source": [
        "###### Variable: GeoNameIdentifier"
      ]
    },
    {
      "cell_type": "code",
      "metadata": {
        "id": "_athXnCQ_V0A"
      },
      "source": [
        "contingency_analysis(categorical_data['GeoNameIdentifier'],numerical_data['HasDetections'])"
      ],
      "execution_count": null,
      "outputs": []
    },
    {
      "cell_type": "markdown",
      "metadata": {
        "id": "nxBVr1Yx_V-U"
      },
      "source": [
        "###### Variable: LocaleEnglishNameIdentifier"
      ]
    },
    {
      "cell_type": "code",
      "metadata": {
        "id": "rcuUOH1V_V-U"
      },
      "source": [
        "contingency_analysis(categorical_data['LocaleEnglishNameIdentifier'],numerical_data['HasDetections'])"
      ],
      "execution_count": null,
      "outputs": []
    },
    {
      "cell_type": "markdown",
      "metadata": {
        "id": "bwBlakFU_WIs"
      },
      "source": [
        "###### Variable: OsPlatformSubRelease"
      ]
    },
    {
      "cell_type": "code",
      "metadata": {
        "id": "7h3_1iSt_WIs"
      },
      "source": [
        "contingency_analysis(categorical_data['OsPlatformSubRelease'],numerical_data['HasDetections'])"
      ],
      "execution_count": null,
      "outputs": []
    },
    {
      "cell_type": "markdown",
      "metadata": {
        "id": "dewUQzSS_WTF"
      },
      "source": [
        "###### Variable: OsBuildLab"
      ]
    },
    {
      "cell_type": "code",
      "metadata": {
        "id": "ZhlkOylv_WTF"
      },
      "source": [
        "contingency_analysis(categorical_data['OsBuildLab'],numerical_data['HasDetections'])"
      ],
      "execution_count": null,
      "outputs": []
    },
    {
      "cell_type": "markdown",
      "metadata": {
        "id": "ukkEOcY5_Wdy"
      },
      "source": [
        "###### Variable: SkuEdition"
      ]
    },
    {
      "cell_type": "code",
      "metadata": {
        "id": "Are_2Xro_Wdy"
      },
      "source": [
        "contingency_analysis(categorical_data['SkuEdition'],numerical_data['HasDetections'])"
      ],
      "execution_count": null,
      "outputs": []
    },
    {
      "cell_type": "markdown",
      "metadata": {
        "id": "aoN4tx0D_XVz"
      },
      "source": [
        "###### Variable: IeVerIdentifier"
      ]
    },
    {
      "cell_type": "code",
      "metadata": {
        "id": "CxORM35p_XVz"
      },
      "source": [
        "contingency_analysis(categorical_data['IeVerIdentifier'],numerical_data['HasDetections'])"
      ],
      "execution_count": null,
      "outputs": []
    },
    {
      "cell_type": "markdown",
      "metadata": {
        "id": "IXYrdHux_XfY"
      },
      "source": [
        "###### Variable: Census_MDC2FormFactor"
      ]
    },
    {
      "cell_type": "code",
      "metadata": {
        "id": "1gsO_dlB_XfY"
      },
      "source": [
        "contingency_analysis(categorical_data['Census_MDC2FormFactor'],numerical_data['HasDetections'])"
      ],
      "execution_count": null,
      "outputs": []
    },
    {
      "cell_type": "markdown",
      "metadata": {
        "id": "DKKht7n-_Xn_"
      },
      "source": [
        "###### Variable: Census_OEMNameIdentifier"
      ]
    },
    {
      "cell_type": "code",
      "metadata": {
        "id": "HBDaOkdS_XoA"
      },
      "source": [
        "contingency_analysis(categorical_data['Census_OEMNameIdentifier'],numerical_data['HasDetections'])"
      ],
      "execution_count": null,
      "outputs": []
    },
    {
      "cell_type": "markdown",
      "metadata": {
        "id": "lDb7Dvk__XwY"
      },
      "source": [
        "###### Variable: Census_OEMModelIdentifier"
      ]
    },
    {
      "cell_type": "code",
      "metadata": {
        "id": "w_kypmdh_XwY"
      },
      "source": [
        "contingency_analysis(categorical_data['Census_OEMModelIdentifier'],numerical_data['HasDetections'])"
      ],
      "execution_count": null,
      "outputs": []
    },
    {
      "cell_type": "markdown",
      "metadata": {
        "id": "Liw804O__X5k"
      },
      "source": [
        "###### Variable: Census_ProcessorManufacturerIdentifier"
      ]
    },
    {
      "cell_type": "code",
      "metadata": {
        "id": "KvUHS4oY_X5k"
      },
      "source": [
        "contingency_analysis(categorical_data['Census_ProcessorManufacturerIdentifier'],numerical_data['HasDetections'])"
      ],
      "execution_count": null,
      "outputs": []
    },
    {
      "cell_type": "markdown",
      "metadata": {
        "id": "x6NoAmjg_YBp"
      },
      "source": [
        "###### Variable: Census_ProcessorModelIdentifier"
      ]
    },
    {
      "cell_type": "code",
      "metadata": {
        "id": "sztDB7Q0_YBp"
      },
      "source": [
        "contingency_analysis(categorical_data['Census_ProcessorModelIdentifier'],numerical_data['HasDetections'])"
      ],
      "execution_count": null,
      "outputs": []
    },
    {
      "cell_type": "markdown",
      "metadata": {
        "id": "_JFYYqL4_YUL"
      },
      "source": [
        "###### Variable: Census_PrimaryDiskTypeName"
      ]
    },
    {
      "cell_type": "code",
      "metadata": {
        "id": "TZ4ar8OH_YUL"
      },
      "source": [
        "contingency_analysis(categorical_data['Census_PrimaryDiskTypeName'],numerical_data['HasDetections'])"
      ],
      "execution_count": null,
      "outputs": []
    },
    {
      "cell_type": "markdown",
      "metadata": {
        "id": "wI8ak851_Yd0"
      },
      "source": [
        "###### Variable: Census_ChassisTypeName"
      ]
    },
    {
      "cell_type": "code",
      "metadata": {
        "id": "jQACporO_Yd0"
      },
      "source": [
        "contingency_analysis(categorical_data['Census_ChassisTypeName'],numerical_data['HasDetections'])"
      ],
      "execution_count": null,
      "outputs": []
    },
    {
      "cell_type": "markdown",
      "metadata": {
        "id": "1Cy3aN34_YnX"
      },
      "source": [
        "###### Variable: Census_PowerPlatformRoleName"
      ]
    },
    {
      "cell_type": "code",
      "metadata": {
        "id": "CeXTIbl7_YnX"
      },
      "source": [
        "contingency_analysis(categorical_data['Census_PowerPlatformRoleName'],numerical_data['HasDetections'])"
      ],
      "execution_count": null,
      "outputs": []
    },
    {
      "cell_type": "markdown",
      "metadata": {
        "id": "khsqKi4O_YwX"
      },
      "source": [
        "###### Variable: Census_OSVersion"
      ]
    },
    {
      "cell_type": "code",
      "metadata": {
        "id": "82kNK_nc_YwX"
      },
      "source": [
        "contingency_analysis(categorical_data['Census_OSVersion'],numerical_data['HasDetections'])"
      ],
      "execution_count": null,
      "outputs": []
    },
    {
      "cell_type": "markdown",
      "metadata": {
        "id": "xlvqNTwy_Y4r"
      },
      "source": [
        "###### Variable: Census_OSBranch"
      ]
    },
    {
      "cell_type": "code",
      "metadata": {
        "id": "rpk0JyiW_Y4s"
      },
      "source": [
        "contingency_analysis(categorical_data['Census_OSBranch'],numerical_data['HasDetections'])"
      ],
      "execution_count": null,
      "outputs": []
    },
    {
      "cell_type": "markdown",
      "metadata": {
        "id": "jwpdJVwS_ZCc"
      },
      "source": [
        "###### Variable: Census_OSEdition"
      ]
    },
    {
      "cell_type": "code",
      "metadata": {
        "id": "z_Nh0fw0_ZCc"
      },
      "source": [
        "contingency_analysis(categorical_data['Census_OSEdition'],numerical_data['HasDetections'])"
      ],
      "execution_count": null,
      "outputs": []
    },
    {
      "cell_type": "markdown",
      "metadata": {
        "id": "t9l1UeNv_ZLE"
      },
      "source": [
        "###### Variable: Census_OSSkuName"
      ]
    },
    {
      "cell_type": "code",
      "metadata": {
        "id": "MFSHzsjq_ZLE"
      },
      "source": [
        "contingency_analysis(categorical_data['Census_OSSkuName'],numerical_data['HasDetections'])"
      ],
      "execution_count": null,
      "outputs": []
    },
    {
      "cell_type": "markdown",
      "metadata": {
        "id": "DwKnUiGw_ZVP"
      },
      "source": [
        "###### Variable: Census_OSInstallTypeName"
      ]
    },
    {
      "cell_type": "code",
      "metadata": {
        "id": "j_FYSHyo_ZVQ"
      },
      "source": [
        "contingency_analysis(categorical_data['Census_OSInstallTypeName'],numerical_data['HasDetections'])"
      ],
      "execution_count": null,
      "outputs": []
    },
    {
      "cell_type": "markdown",
      "metadata": {
        "id": "YoJh7TuP_ZkB"
      },
      "source": [
        "###### Variable: Census_OSInstallLanguageIdentifier"
      ]
    },
    {
      "cell_type": "code",
      "metadata": {
        "id": "urP-BEbI_ZkB"
      },
      "source": [
        "contingency_analysis(categorical_data['Census_OSInstallLanguageIdentifier'],numerical_data['HasDetections'])"
      ],
      "execution_count": null,
      "outputs": []
    },
    {
      "cell_type": "markdown",
      "metadata": {
        "id": "5W9h9RlH_ZyH"
      },
      "source": [
        "###### Variable: Census_OSUILocaleIdentifier"
      ]
    },
    {
      "cell_type": "code",
      "metadata": {
        "id": "SL0YFVTm_ZyH"
      },
      "source": [
        "contingency_analysis(categorical_data['Census_OSUILocaleIdentifier'],numerical_data['HasDetections'])"
      ],
      "execution_count": null,
      "outputs": []
    },
    {
      "cell_type": "markdown",
      "metadata": {
        "id": "SwiUX3ng_Z8u"
      },
      "source": [
        "###### Variable: Census_OSWUAutoUpdateOptionsName"
      ]
    },
    {
      "cell_type": "code",
      "metadata": {
        "id": "QPDPAu5t_Z8u"
      },
      "source": [
        "contingency_analysis(categorical_data['Census_OSWUAutoUpdateOptionsName'],numerical_data['HasDetections'])"
      ],
      "execution_count": null,
      "outputs": []
    },
    {
      "cell_type": "markdown",
      "metadata": {
        "id": "Bz53wcTa_aH2"
      },
      "source": [
        "###### Variable: Census_ActivationChannel"
      ]
    },
    {
      "cell_type": "code",
      "metadata": {
        "id": "TsLQRVJz_aH2"
      },
      "source": [
        "contingency_analysis(categorical_data['Census_ActivationChannel'],numerical_data['HasDetections'])"
      ],
      "execution_count": null,
      "outputs": []
    },
    {
      "cell_type": "markdown",
      "metadata": {
        "id": "hmcTUKt8_aZh"
      },
      "source": [
        "###### Variable: Census_FirmwareManufacturerIdentifier"
      ]
    },
    {
      "cell_type": "code",
      "metadata": {
        "id": "XVQRuuY-_aZh"
      },
      "source": [
        "contingency_analysis(categorical_data['Census_FirmwareManufacturerIdentifier'],numerical_data['HasDetections'])"
      ],
      "execution_count": null,
      "outputs": []
    },
    {
      "cell_type": "markdown",
      "metadata": {
        "id": "de0v0ADz_aiF"
      },
      "source": [
        "###### Variable: Census_FirmwareVersionIdentifier"
      ]
    },
    {
      "cell_type": "code",
      "metadata": {
        "id": "jQUtcrYc_aiF"
      },
      "source": [
        "contingency_analysis(categorical_data['Census_FirmwareVersionIdentifier'],numerical_data['HasDetections'])"
      ],
      "execution_count": null,
      "outputs": []
    },
    {
      "cell_type": "markdown",
      "metadata": {
        "id": "2EHQXj1C_aqZ"
      },
      "source": [
        "###### Variable: Wdft_RegionIdentifier"
      ]
    },
    {
      "cell_type": "code",
      "metadata": {
        "id": "YbpIHhnn_aqa"
      },
      "source": [
        "contingency_analysis(categorical_data['Wdft_RegionIdentifier'],numerical_data['HasDetections'])"
      ],
      "execution_count": null,
      "outputs": []
    },
    {
      "cell_type": "markdown",
      "metadata": {
        "id": "W5DOrVWwCP-i"
      },
      "source": [
        "#### Eliminación de variables\n",
        "\n",
        "Después de realizar el análisis de la relación lineal entre las variables, se decide eliminar las siguientes columnas adicionales: ```Census_OSBuildNumber```, ```CityIdentifier```."
      ]
    },
    {
      "cell_type": "code",
      "metadata": {
        "id": "C2LIUD8RETk6"
      },
      "source": [
        "A_eliminar2"
      ],
      "execution_count": null,
      "outputs": []
    },
    {
      "cell_type": "code",
      "metadata": {
        "id": "6Zx331_cCtTU"
      },
      "source": [
        "for rem in A_eliminar2:\n",
        "  train = train.drop(rem, axis=1)"
      ],
      "execution_count": null,
      "outputs": []
    },
    {
      "cell_type": "markdown",
      "metadata": {
        "id": "lsCL2qN_Ea_6"
      },
      "source": [
        "Se verifica el nuevo tamaño del dataframe"
      ]
    },
    {
      "cell_type": "code",
      "metadata": {
        "id": "5XUR8RvJEjYS"
      },
      "source": [
        "train.shape"
      ],
      "execution_count": null,
      "outputs": []
    },
    {
      "cell_type": "markdown",
      "metadata": {
        "id": "nXCNhMC6Jm18"
      },
      "source": [
        "### Transformación de las variables catégoricas\n",
        "\n",
        "Aunque muchas de las variables son del tipo categorica nominal y deberían manejarse con el uso de dummies, debido a la cantidad elevada de valores únicos de cada variable, resulta dificil de manejar computacionamente una columna adicional por cada categoria de cada variable. Por tal motivo, se decide tratar todas las variables categoricas como si fueran ordinales, y darles un valor y un peso característico a cada una de las características de las variables."
      ]
    },
    {
      "cell_type": "markdown",
      "metadata": {
        "id": "ncNxq3kpL7t2"
      },
      "source": [
        "Inicialmente se vuelven a dar el tipo con el que vienen originalmente las variables idenficadoras."
      ]
    },
    {
      "cell_type": "code",
      "metadata": {
        "id": "NLPH2h2qJrxJ"
      },
      "source": [
        "dtypes = {'AVProductStatesIdentifier':'float64',\n",
        "    'CountryIdentifier':'int64',\n",
        "    'GeoNameIdentifier':'float64',\n",
        "    'LocaleEnglishNameIdentifier':'int64',\n",
        "    'IeVerIdentifier':'float64',\n",
        "    'Census_OEMNameIdentifier':'float64',\n",
        "    'Census_OEMModelIdentifier':'float64',\n",
        "    'Census_ProcessorManufacturerIdentifier':'float64',\n",
        "    'Census_ProcessorModelIdentifier':'float64',\n",
        "    'Census_OSInstallLanguageIdentifier':'float64',\n",
        "    'Census_OSUILocaleIdentifier':'int64',\n",
        "    'Census_FirmwareManufacturerIdentifier':'float64',\n",
        "    'Census_FirmwareVersionIdentifier':'float64',\n",
        "    'Wdft_RegionIdentifier':'float64'}\n",
        "\n",
        "train = train.astype(dtype=dtypes)"
      ],
      "execution_count": null,
      "outputs": []
    },
    {
      "cell_type": "markdown",
      "metadata": {
        "id": "XqzxqBcwf8Fg"
      },
      "source": [
        "De esta manera se vuelve a tener 17 variables categoricas."
      ]
    },
    {
      "cell_type": "code",
      "metadata": {
        "id": "GCE5QM7wf3B1"
      },
      "source": [
        "categorical_data = train.select_dtypes('object')\n",
        "categorical_data.shape"
      ],
      "execution_count": null,
      "outputs": []
    },
    {
      "cell_type": "code",
      "metadata": {
        "id": "TsiUhecOgdxn"
      },
      "source": [
        "categorical_data.dtypes"
      ],
      "execution_count": null,
      "outputs": []
    },
    {
      "cell_type": "markdown",
      "metadata": {
        "id": "ehCDL3TRgB0f"
      },
      "source": [
        "Para la transformación de estas variables se hará uso de la técnica de *mean encoding*."
      ]
    },
    {
      "cell_type": "code",
      "metadata": {
        "id": "VSgzKcKlg2uA"
      },
      "source": [
        "columns_cat = categorical_data.columns\n",
        "for col in columns_cat:\n",
        "  Mean_encoded_subject = train.groupby([col])['HasDetections'].mean().to_dict() \n",
        "  train[col] =  train[col].map(Mean_encoded_subject)"
      ],
      "execution_count": null,
      "outputs": []
    },
    {
      "cell_type": "markdown",
      "metadata": {
        "id": "hqDGCfDihn7_"
      },
      "source": [
        "Una vez realizada esta transformación, se verifica que todas las variables sean númericas para finalmente obtener el modelo."
      ]
    },
    {
      "cell_type": "code",
      "metadata": {
        "id": "INEpgn84gNpR"
      },
      "source": [
        "stats_numerical = mytable(train)\n",
        "stats_numerical"
      ],
      "execution_count": null,
      "outputs": []
    },
    {
      "cell_type": "markdown",
      "metadata": {
        "id": "ytI93bP9iLTo"
      },
      "source": [
        "Ahora, verificamos el comportamiento de los datos"
      ]
    },
    {
      "cell_type": "code",
      "metadata": {
        "id": "9_sTSpZWiRav"
      },
      "source": [
        "train.head()"
      ],
      "execution_count": null,
      "outputs": []
    },
    {
      "cell_type": "markdown",
      "metadata": {
        "id": "zsqnyhediV-A"
      },
      "source": [
        "Se puede notar que todos los datos no se encuentran a escala, con el fin de obtener un mejor modelo se realiza la estandarización de las variables."
      ]
    },
    {
      "cell_type": "code",
      "metadata": {
        "id": "6y_tsEgCkzuS"
      },
      "source": [
        "scaler = MinMaxScaler()\n",
        "train = pd.DataFrame(scaler.fit_transform(train), columns=train.columns)\n",
        "train.head()"
      ],
      "execution_count": null,
      "outputs": []
    },
    {
      "cell_type": "markdown",
      "metadata": {
        "id": "_izCBD71qyPh"
      },
      "source": [
        "Para que el conjunto de datos con el preprocesamiento pueda ser utilizado en el notebook que corre el modelo, y así liberar espacio para un mejor procesamiento de los datos, se guardará el conjunto de datos en un archivo csv. "
      ]
    },
    {
      "cell_type": "code",
      "metadata": {
        "id": "4PBiF3xUqw7O"
      },
      "source": [
        "#%%time\n",
        "#train.to_csv('train_clean.csv')\n",
        "#!cp train_clean.csv \"/content/drive/MyDrive/Machine Learning\""
      ],
      "execution_count": null,
      "outputs": []
    },
    {
      "cell_type": "markdown",
      "metadata": {
        "id": "F6AHS7UbLHfi"
      },
      "source": [
        "Se ejecutan un barrido de neuronas en dos solucionadores de redes neuronales\n",
        "\n",
        "\n",
        "1.   sgd\n",
        "2.   adam\n",
        "\n",
        "que realiza un recorrido desde 20 a 500 neuronas con pasos de 30 neuronas.\n"
      ]
    },
    {
      "cell_type": "code",
      "metadata": {
        "id": "uBxDp_5Bik4Y"
      },
      "source": [
        "from sklearn.neural_network import MLPClassifier\n",
        "from sklearn.datasets import make_classification\n",
        "from sklearn.model_selection import train_test_split\n",
        "X_train, X_test, y_train, y_test = train_test_split(train.drop(['HasDetections'], axis=1), train['HasDetections'], test_size=0.50, train_size=0.50, random_state=42)\n",
        "resul = []\n",
        "for i in range(20,500,30):\n",
        "  clf = MLPClassifier(random_state=1, max_iter=200, activation='logistic', solver='sgd', hidden_layer_sizes=(i,)).fit(X_train, y_train)\n",
        "  score = clf.score(X_test, y_test)\n",
        "  resul.append([i, score])"
      ],
      "execution_count": null,
      "outputs": []
    },
    {
      "cell_type": "code",
      "metadata": {
        "colab": {
          "base_uri": "https://localhost:8080/",
          "height": 194
        },
        "id": "G09R-i6LoG3v",
        "outputId": "b33fe2db-3c6b-492d-f4bf-ba71d3ce0c9e"
      },
      "source": [
        "resultados = pd.DataFrame(data=resul, columns=['Neuronas', 'Score'])\n",
        "resultados = resultados.sort_values(by=['Score'], ascending=False)\n",
        "resultados.head()"
      ],
      "execution_count": null,
      "outputs": [
        {
          "output_type": "execute_result",
          "data": {
            "text/html": [
              "<div>\n",
              "<style scoped>\n",
              "    .dataframe tbody tr th:only-of-type {\n",
              "        vertical-align: middle;\n",
              "    }\n",
              "\n",
              "    .dataframe tbody tr th {\n",
              "        vertical-align: top;\n",
              "    }\n",
              "\n",
              "    .dataframe thead th {\n",
              "        text-align: right;\n",
              "    }\n",
              "</style>\n",
              "<table border=\"1\" class=\"dataframe\">\n",
              "  <thead>\n",
              "    <tr style=\"text-align: right;\">\n",
              "      <th></th>\n",
              "      <th>Neuronas</th>\n",
              "      <th>Score</th>\n",
              "    </tr>\n",
              "  </thead>\n",
              "  <tbody>\n",
              "    <tr>\n",
              "      <th>0</th>\n",
              "      <td>20</td>\n",
              "      <td>0.501042</td>\n",
              "    </tr>\n",
              "    <tr>\n",
              "      <th>1</th>\n",
              "      <td>50</td>\n",
              "      <td>0.501041</td>\n",
              "    </tr>\n",
              "    <tr>\n",
              "      <th>6</th>\n",
              "      <td>200</td>\n",
              "      <td>0.501041</td>\n",
              "    </tr>\n",
              "    <tr>\n",
              "      <th>9</th>\n",
              "      <td>290</td>\n",
              "      <td>0.501041</td>\n",
              "    </tr>\n",
              "    <tr>\n",
              "      <th>7</th>\n",
              "      <td>230</td>\n",
              "      <td>0.501035</td>\n",
              "    </tr>\n",
              "  </tbody>\n",
              "</table>\n",
              "</div>"
            ],
            "text/plain": [
              "   Neuronas     Score\n",
              "0        20  0.501042\n",
              "1        50  0.501041\n",
              "6       200  0.501041\n",
              "9       290  0.501041\n",
              "7       230  0.501035"
            ]
          },
          "metadata": {
            "tags": []
          },
          "execution_count": 22
        }
      ]
    },
    {
      "cell_type": "code",
      "metadata": {
        "colab": {
          "base_uri": "https://localhost:8080/"
        },
        "id": "M8JE5k_0zV2O",
        "outputId": "c23c5e64-3535-433e-a4fd-6cbcc8145c4b"
      },
      "source": [
        "resul2 = []\n",
        "for i in range(20,500,30):\n",
        "  clf = MLPClassifier(random_state=1, max_iter=200, activation='logistic', solver='adam', hidden_layer_sizes=(i,)).fit(X_train, y_train)\n",
        "  score = clf.score(X_test, y_test)\n",
        "  resul2.append([i, score])\n",
        "  print(i)"
      ],
      "execution_count": null,
      "outputs": [
        {
          "output_type": "stream",
          "text": [
            "20\n",
            "50\n",
            "80\n",
            "110\n",
            "140\n",
            "170\n",
            "200\n",
            "230\n",
            "260\n",
            "290\n",
            "320\n",
            "350\n",
            "380\n",
            "410\n",
            "440\n",
            "470\n"
          ],
          "name": "stdout"
        }
      ]
    },
    {
      "cell_type": "code",
      "metadata": {
        "colab": {
          "base_uri": "https://localhost:8080/",
          "height": 194
        },
        "id": "FAqR-Wj-Ga0E",
        "outputId": "70da5328-949f-4f70-e0ae-a903eda99856"
      },
      "source": [
        "resultados2 = pd.DataFrame(data=resul2, columns=['Neuronas', 'Score'])\n",
        "resultados2 = resultados.sort_values(by=['Score'], ascending=False)\n",
        "resultados2.head()"
      ],
      "execution_count": null,
      "outputs": [
        {
          "output_type": "execute_result",
          "data": {
            "text/html": [
              "<div>\n",
              "<style scoped>\n",
              "    .dataframe tbody tr th:only-of-type {\n",
              "        vertical-align: middle;\n",
              "    }\n",
              "\n",
              "    .dataframe tbody tr th {\n",
              "        vertical-align: top;\n",
              "    }\n",
              "\n",
              "    .dataframe thead th {\n",
              "        text-align: right;\n",
              "    }\n",
              "</style>\n",
              "<table border=\"1\" class=\"dataframe\">\n",
              "  <thead>\n",
              "    <tr style=\"text-align: right;\">\n",
              "      <th></th>\n",
              "      <th>Neuronas</th>\n",
              "      <th>Score</th>\n",
              "    </tr>\n",
              "  </thead>\n",
              "  <tbody>\n",
              "    <tr>\n",
              "      <th>0</th>\n",
              "      <td>20</td>\n",
              "      <td>0.501042</td>\n",
              "    </tr>\n",
              "    <tr>\n",
              "      <th>1</th>\n",
              "      <td>50</td>\n",
              "      <td>0.501041</td>\n",
              "    </tr>\n",
              "    <tr>\n",
              "      <th>6</th>\n",
              "      <td>200</td>\n",
              "      <td>0.501041</td>\n",
              "    </tr>\n",
              "    <tr>\n",
              "      <th>9</th>\n",
              "      <td>290</td>\n",
              "      <td>0.501041</td>\n",
              "    </tr>\n",
              "    <tr>\n",
              "      <th>7</th>\n",
              "      <td>230</td>\n",
              "      <td>0.501035</td>\n",
              "    </tr>\n",
              "  </tbody>\n",
              "</table>\n",
              "</div>"
            ],
            "text/plain": [
              "   Neuronas     Score\n",
              "0        20  0.501042\n",
              "1        50  0.501041\n",
              "6       200  0.501041\n",
              "9       290  0.501041\n",
              "7       230  0.501035"
            ]
          },
          "metadata": {
            "tags": []
          },
          "execution_count": 21
        }
      ]
    },
    {
      "cell_type": "code",
      "metadata": {
        "colab": {
          "base_uri": "https://localhost:8080/",
          "height": 615
        },
        "id": "7ZKguSZNGjI6",
        "outputId": "70778a3d-9c39-417f-d439-b53327868daf"
      },
      "source": [
        "plt.figure(figsize=(22,10))\n",
        "plt.plot(resultados['Neuronas'].values, resultados['Score'].values)\n",
        "plt.plot(resultados2['Neuronas'].values, resultados2['Score'].values)\n",
        "plt.title('Score vs Neuronas')\n",
        "plt.legend(['Solver = sgd', 'solver=adam'])\n",
        "plt.xlabel('Neuronas')\n",
        "plt.ylabel('Score')"
      ],
      "execution_count": null,
      "outputs": [
        {
          "output_type": "execute_result",
          "data": {
            "text/plain": [
              "Text(0, 0.5, 'Score')"
            ]
          },
          "metadata": {
            "tags": []
          },
          "execution_count": 20
        },
        {
          "output_type": "display_data",
          "data": {
            "image/png": "[encoded data removed]",
            "text/plain": [
              "<Figure size 1584x720 with 1 Axes>"
            ]
          },
          "metadata": {
            "tags": []
          }
        }
      ]
    },
    {
      "cell_type": "markdown",
      "metadata": {
        "id": "78m-jyroLaIs"
      },
      "source": [
        "Ambos métodos oscilan el score del entrenamiento entre 0.4990 y 0.5010. Se resaltan los tiempos largos de calculo de cada red neuronal que aproximan a las 2 horas por modelo. Se buscará implementar una solución que permita mejores tiempos de procesamiento y resultados."
      ]
    }
  ]
}