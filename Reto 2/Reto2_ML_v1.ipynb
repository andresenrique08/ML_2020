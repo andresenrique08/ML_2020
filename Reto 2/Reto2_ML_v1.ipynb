{
  "nbformat": 4,
  "nbformat_minor": 0,
  "metadata": {
    "colab": {
      "name": "Reto2_ML_v1.ipynb",
      "provenance": [],
      "collapsed_sections": [],
      "authorship_tag": "ABX9TyOySNfRlH1RQsqYM7/wP8Vm",
      "include_colab_link": true
    },
    "kernelspec": {
      "name": "python3",
      "display_name": "Python 3"
    }
  },
  "cells": [
    {
      "cell_type": "markdown",
      "metadata": {
        "id": "view-in-github",
        "colab_type": "text"
      },
      "source": [
        "<a href=\"https://colab.research.google.com/github/andresenrique08/ML_2020/blob/master/Reto%202/Reto2_ML_v1.ipynb\" target=\"_parent\"><img src=\"https://colab.research.google.com/assets/colab-badge.svg\" alt=\"Open In Colab\"/></a>"
      ]
    },
    {
      "cell_type": "markdown",
      "metadata": {
        "id": "XAiQmmImr36D"
      },
      "source": [
        "# Reto 2\n",
        "\n",
        "Autores:\n",
        "*   Andrés Enrique Ávila Rojas (201319127)\n",
        "*   Jeison Alexander Timana Rangel (201617870)\n",
        "\n",
        "**Regresión Logística - Predicción de lluvia**"
      ]
    },
    {
      "cell_type": "code",
      "metadata": {
        "id": "IyzNZKhoq-XH"
      },
      "source": [
        "# Import libraries \n",
        "import numpy as np \n",
        "import pandas as pd\n",
        "import seaborn as sns\n",
        "import matplotlib.pyplot as plt\n",
        "from sklearn import datasets\n",
        "from sklearn.linear_model import LogisticRegression\n",
        "from sklearn.metrics import mean_squared_error, r2_score # las dos medidas que se van a utilizar pero en diferentes datasets.\n",
        "from sklearn.model_selection import train_test_split\n",
        "from sklearn.preprocessing import MinMaxScaler\n",
        "from sklearn.metrics import accuracy_score"
      ],
      "execution_count": 1,
      "outputs": []
    },
    {
      "cell_type": "markdown",
      "metadata": {
        "id": "7tm39pKDN5hF"
      },
      "source": [
        "\n",
        "Se toman los datos del repositorio de github con el siguiente link https://github.com/andresenrique08/ML_2020/blob/master/Reto%202/weatherAUS.csv"
      ]
    },
    {
      "cell_type": "code",
      "metadata": {
        "id": "DrpF47kxOXjr",
        "outputId": "a4ad6f3f-5034-47b6-8ae1-9d0eab33ccda",
        "colab": {
          "base_uri": "https://localhost:8080/",
          "height": 309
        }
      },
      "source": [
        "# Reading file from github\n",
        "url = \"https://raw.githubusercontent.com/andresenrique08/ML_2020/master/Reto%202/weatherAUS.csv\"\n",
        "data  = pd.read_csv(url)\n",
        "data.head()"
      ],
      "execution_count": 2,
      "outputs": [
        {
          "output_type": "execute_result",
          "data": {
            "text/html": [
              "<div>\n",
              "<style scoped>\n",
              "    .dataframe tbody tr th:only-of-type {\n",
              "        vertical-align: middle;\n",
              "    }\n",
              "\n",
              "    .dataframe tbody tr th {\n",
              "        vertical-align: top;\n",
              "    }\n",
              "\n",
              "    .dataframe thead th {\n",
              "        text-align: right;\n",
              "    }\n",
              "</style>\n",
              "<table border=\"1\" class=\"dataframe\">\n",
              "  <thead>\n",
              "    <tr style=\"text-align: right;\">\n",
              "      <th></th>\n",
              "      <th>Date</th>\n",
              "      <th>Location</th>\n",
              "      <th>MinTemp</th>\n",
              "      <th>MaxTemp</th>\n",
              "      <th>Rainfall</th>\n",
              "      <th>Evaporation</th>\n",
              "      <th>Sunshine</th>\n",
              "      <th>WindGustDir</th>\n",
              "      <th>WindGustSpeed</th>\n",
              "      <th>WindDir9am</th>\n",
              "      <th>WindDir3pm</th>\n",
              "      <th>WindSpeed9am</th>\n",
              "      <th>WindSpeed3pm</th>\n",
              "      <th>Humidity9am</th>\n",
              "      <th>Humidity3pm</th>\n",
              "      <th>Pressure9am</th>\n",
              "      <th>Pressure3pm</th>\n",
              "      <th>Cloud9am</th>\n",
              "      <th>Cloud3pm</th>\n",
              "      <th>Temp9am</th>\n",
              "      <th>Temp3pm</th>\n",
              "      <th>RainToday</th>\n",
              "      <th>RISK_MM</th>\n",
              "      <th>RainTomorrow</th>\n",
              "    </tr>\n",
              "  </thead>\n",
              "  <tbody>\n",
              "    <tr>\n",
              "      <th>0</th>\n",
              "      <td>2008-12-01</td>\n",
              "      <td>Albury</td>\n",
              "      <td>13.4</td>\n",
              "      <td>22.9</td>\n",
              "      <td>0.6</td>\n",
              "      <td>NaN</td>\n",
              "      <td>NaN</td>\n",
              "      <td>W</td>\n",
              "      <td>44.0</td>\n",
              "      <td>W</td>\n",
              "      <td>WNW</td>\n",
              "      <td>20.0</td>\n",
              "      <td>24.0</td>\n",
              "      <td>71.0</td>\n",
              "      <td>22.0</td>\n",
              "      <td>1007.7</td>\n",
              "      <td>1007.1</td>\n",
              "      <td>8.0</td>\n",
              "      <td>NaN</td>\n",
              "      <td>16.9</td>\n",
              "      <td>21.8</td>\n",
              "      <td>No</td>\n",
              "      <td>0.0</td>\n",
              "      <td>No</td>\n",
              "    </tr>\n",
              "    <tr>\n",
              "      <th>1</th>\n",
              "      <td>2008-12-02</td>\n",
              "      <td>Albury</td>\n",
              "      <td>7.4</td>\n",
              "      <td>25.1</td>\n",
              "      <td>0.0</td>\n",
              "      <td>NaN</td>\n",
              "      <td>NaN</td>\n",
              "      <td>WNW</td>\n",
              "      <td>44.0</td>\n",
              "      <td>NNW</td>\n",
              "      <td>WSW</td>\n",
              "      <td>4.0</td>\n",
              "      <td>22.0</td>\n",
              "      <td>44.0</td>\n",
              "      <td>25.0</td>\n",
              "      <td>1010.6</td>\n",
              "      <td>1007.8</td>\n",
              "      <td>NaN</td>\n",
              "      <td>NaN</td>\n",
              "      <td>17.2</td>\n",
              "      <td>24.3</td>\n",
              "      <td>No</td>\n",
              "      <td>0.0</td>\n",
              "      <td>No</td>\n",
              "    </tr>\n",
              "    <tr>\n",
              "      <th>2</th>\n",
              "      <td>2008-12-03</td>\n",
              "      <td>Albury</td>\n",
              "      <td>12.9</td>\n",
              "      <td>25.7</td>\n",
              "      <td>0.0</td>\n",
              "      <td>NaN</td>\n",
              "      <td>NaN</td>\n",
              "      <td>WSW</td>\n",
              "      <td>46.0</td>\n",
              "      <td>W</td>\n",
              "      <td>WSW</td>\n",
              "      <td>19.0</td>\n",
              "      <td>26.0</td>\n",
              "      <td>38.0</td>\n",
              "      <td>30.0</td>\n",
              "      <td>1007.6</td>\n",
              "      <td>1008.7</td>\n",
              "      <td>NaN</td>\n",
              "      <td>2.0</td>\n",
              "      <td>21.0</td>\n",
              "      <td>23.2</td>\n",
              "      <td>No</td>\n",
              "      <td>0.0</td>\n",
              "      <td>No</td>\n",
              "    </tr>\n",
              "    <tr>\n",
              "      <th>3</th>\n",
              "      <td>2008-12-04</td>\n",
              "      <td>Albury</td>\n",
              "      <td>9.2</td>\n",
              "      <td>28.0</td>\n",
              "      <td>0.0</td>\n",
              "      <td>NaN</td>\n",
              "      <td>NaN</td>\n",
              "      <td>NE</td>\n",
              "      <td>24.0</td>\n",
              "      <td>SE</td>\n",
              "      <td>E</td>\n",
              "      <td>11.0</td>\n",
              "      <td>9.0</td>\n",
              "      <td>45.0</td>\n",
              "      <td>16.0</td>\n",
              "      <td>1017.6</td>\n",
              "      <td>1012.8</td>\n",
              "      <td>NaN</td>\n",
              "      <td>NaN</td>\n",
              "      <td>18.1</td>\n",
              "      <td>26.5</td>\n",
              "      <td>No</td>\n",
              "      <td>1.0</td>\n",
              "      <td>No</td>\n",
              "    </tr>\n",
              "    <tr>\n",
              "      <th>4</th>\n",
              "      <td>2008-12-05</td>\n",
              "      <td>Albury</td>\n",
              "      <td>17.5</td>\n",
              "      <td>32.3</td>\n",
              "      <td>1.0</td>\n",
              "      <td>NaN</td>\n",
              "      <td>NaN</td>\n",
              "      <td>W</td>\n",
              "      <td>41.0</td>\n",
              "      <td>ENE</td>\n",
              "      <td>NW</td>\n",
              "      <td>7.0</td>\n",
              "      <td>20.0</td>\n",
              "      <td>82.0</td>\n",
              "      <td>33.0</td>\n",
              "      <td>1010.8</td>\n",
              "      <td>1006.0</td>\n",
              "      <td>7.0</td>\n",
              "      <td>8.0</td>\n",
              "      <td>17.8</td>\n",
              "      <td>29.7</td>\n",
              "      <td>No</td>\n",
              "      <td>0.2</td>\n",
              "      <td>No</td>\n",
              "    </tr>\n",
              "  </tbody>\n",
              "</table>\n",
              "</div>"
            ],
            "text/plain": [
              "         Date Location  MinTemp  ...  RainToday  RISK_MM  RainTomorrow\n",
              "0  2008-12-01   Albury     13.4  ...         No      0.0            No\n",
              "1  2008-12-02   Albury      7.4  ...         No      0.0            No\n",
              "2  2008-12-03   Albury     12.9  ...         No      0.0            No\n",
              "3  2008-12-04   Albury      9.2  ...         No      1.0            No\n",
              "4  2008-12-05   Albury     17.5  ...         No      0.2            No\n",
              "\n",
              "[5 rows x 24 columns]"
            ]
          },
          "metadata": {
            "tags": []
          },
          "execution_count": 2
        }
      ]
    },
    {
      "cell_type": "markdown",
      "metadata": {
        "id": "gMtp_5GgQmmy"
      },
      "source": [
        "###Análisis de variables\n",
        "\n",
        "Este análisis se realiza con el fin de conocer los datos con los que se generará el modelo y posteriormente análizarlos estadísticamente.\n",
        "\n",
        "Se obtiene el tipo de cada una de las variables"
      ]
    },
    {
      "cell_type": "code",
      "metadata": {
        "id": "Z8mieM8cRMDL",
        "outputId": "66bcfe5b-5db2-4100-e82f-1a476245f0a5",
        "colab": {
          "base_uri": "https://localhost:8080/",
          "height": 442
        }
      },
      "source": [
        "data.dtypes"
      ],
      "execution_count": 3,
      "outputs": [
        {
          "output_type": "execute_result",
          "data": {
            "text/plain": [
              "Date              object\n",
              "Location          object\n",
              "MinTemp          float64\n",
              "MaxTemp          float64\n",
              "Rainfall         float64\n",
              "Evaporation      float64\n",
              "Sunshine         float64\n",
              "WindGustDir       object\n",
              "WindGustSpeed    float64\n",
              "WindDir9am        object\n",
              "WindDir3pm        object\n",
              "WindSpeed9am     float64\n",
              "WindSpeed3pm     float64\n",
              "Humidity9am      float64\n",
              "Humidity3pm      float64\n",
              "Pressure9am      float64\n",
              "Pressure3pm      float64\n",
              "Cloud9am         float64\n",
              "Cloud3pm         float64\n",
              "Temp9am          float64\n",
              "Temp3pm          float64\n",
              "RainToday         object\n",
              "RISK_MM          float64\n",
              "RainTomorrow      object\n",
              "dtype: object"
            ]
          },
          "metadata": {
            "tags": []
          },
          "execution_count": 3
        }
      ]
    },
    {
      "cell_type": "markdown",
      "metadata": {
        "id": "LgN4oCINKQ7A"
      },
      "source": [
        "La descripción y el tipo de cada variable se muestra en la siguiente tabla con el fin de entender la naturaleza de las variables y realizar un mejor análisis de los modelos a seleccionar."
      ]
    },
    {
      "cell_type": "markdown",
      "metadata": {
        "id": "-EOnsi5OKkO2"
      },
      "source": [
        "Variable                  | Descripción \t\t|\t Tipo de Variable\n",
        "  ------------------------| --------------------|-------------------\n",
        " Date                     | La fecha de observación                      |     Categorica\n",
        "Location                  | El nombre de ubicación de la estación                      |    Categorica nominal\n",
        "MinTemp                   | Temperatura mínima en grados celsius                      |   Númerica\n",
        "MaxTemp                   | Temperatura máxima en grados celsius                      |   Númerica\n",
        "Rainfall                  | Cantidad de lluvía del día en mm                     |   Númerica\n",
        "Evaporation               | Evaporación de clase A (mm) en las 24h a las 9am                      |   Númerica\n",
        "Sunshine                  | El numero de horas de sol en el día                      |   Númerica\n",
        "WindGustDir               | Dirección de la ráfaga de viento más alta en 24h a medianoche                      |    Categorica Nominal\n",
        "WindGustSpeed             | Velocidad de la ráfaga de viento más alta en 24h a medianoche                      |   Númerica\n",
        "WindDir9am                | Dirección del viento a las 9am                      |    Categorica nominal\n",
        "WindDir3pm                | Dirección del viento a las 3pm                      |    Categorica nominal\n",
        "WindSpeed9am              | Velocidad del viento promedio (km/h) en más 10 min antes de las 9am                      |   Númerica\n",
        "WindSpeed3pm              | Velocidad del viento promedio (km/h) en más 10 min antes de las 3pm                       |   Númerica\n",
        "Humidity9am               | Humedad (%) a las 9am                      |   Númerica\n",
        "Humidity3pm               | Humedad (%) a las 3pm                      |   Númerica\n",
        "Pressure9am               | Presión atmosférica (hpa) reducida al nivel medio del mar a las 9 am                      |   Númerica\n",
        "Pressure3pm               | Presión atmosférica (hpa) reducida al nivel medio del mar a las 3 pm                      |   Númerica\n",
        "Cloud9am                  | Fracción del cielo nueblado a las 9am (oktas)                      |   Númerica\n",
        "Cloud3pm                  | Fracción del cielo nueblado a las 3pm (oktas)                      |   Númerica\n",
        "Temp9am                   | Tempratura (grados C) a las 9am                      |  Númerica\n",
        "Temp3pm                   | Tempratura (grados C) a las 3pm                      |   Númerica\n",
        "RainToday                 | 1 si la precipitación a las 9am es superior a 1mm, 0 de lo contrario                      |    Categorica nominal\n",
        "RISK_MM                   | Cantidad de lluvia del día siguiente en mm                      |   Númerica\n",
        "RainTomorrow              | Variable objetivo                      |    Categorica nominal"
      ]
    },
    {
      "cell_type": "code",
      "metadata": {
        "id": "k84PatUyRUmF",
        "outputId": "3108e411-e159-4f1b-8f92-08d5a2580aa7",
        "colab": {
          "base_uri": "https://localhost:8080/",
          "height": 34
        }
      },
      "source": [
        "#Tamaño del dataframe\n",
        "data.shape"
      ],
      "execution_count": 4,
      "outputs": [
        {
          "output_type": "execute_result",
          "data": {
            "text/plain": [
              "(142193, 24)"
            ]
          },
          "metadata": {
            "tags": []
          },
          "execution_count": 4
        }
      ]
    },
    {
      "cell_type": "markdown",
      "metadata": {
        "id": "koMfzHSnRgry"
      },
      "source": [
        "#### Análisis Univariado"
      ]
    },
    {
      "cell_type": "markdown",
      "metadata": {
        "id": "5FEvjPvOf7QO"
      },
      "source": [
        "Se analiza la variable `RainTomorrow`, que es la variable objetivo."
      ]
    },
    {
      "cell_type": "code",
      "metadata": {
        "id": "xE66jVxGf6a9",
        "outputId": "da9d13a1-b135-420a-ff87-dba627a05c5e",
        "colab": {
          "base_uri": "https://localhost:8080/",
          "height": 34
        }
      },
      "source": [
        "# Se observan los valores únicos de la variable\n",
        "data.RainTomorrow.unique()"
      ],
      "execution_count": 5,
      "outputs": [
        {
          "output_type": "execute_result",
          "data": {
            "text/plain": [
              "array(['No', 'Yes'], dtype=object)"
            ]
          },
          "metadata": {
            "tags": []
          },
          "execution_count": 5
        }
      ]
    },
    {
      "cell_type": "markdown",
      "metadata": {
        "id": "77rLjpzkVawh"
      },
      "source": [
        "Se calcula el porcentaje de No y Si en la variable"
      ]
    },
    {
      "cell_type": "code",
      "metadata": {
        "id": "IbjoIQgNg-nb",
        "outputId": "9f172cc1-fa2a-43f2-cacf-7f8fa29d1207",
        "colab": {
          "base_uri": "https://localhost:8080/",
          "height": 497
        }
      },
      "source": [
        "f, ax = plt.subplots(figsize=(6, 8))\n",
        "ax = sns.countplot(x=\"RainTomorrow\", data=data, palette=\"Set1\")\n",
        "plt.show()"
      ],
      "execution_count": 6,
      "outputs": [
        {
          "output_type": "display_data",
          "data": {
            "image/png": "[encoded data removed]",
            "text/plain": [
              "<Figure size 432x576 with 1 Axes>"
            ]
          },
          "metadata": {
            "tags": [],
            "needs_background": "light"
          }
        }
      ]
    },
    {
      "cell_type": "code",
      "metadata": {
        "id": "KIwqwqs3X3z4",
        "outputId": "41867a7a-44c7-40f4-f6cd-99699fe866ca",
        "colab": {
          "base_uri": "https://localhost:8080/",
          "height": 68
        }
      },
      "source": [
        "data['RainTomorrow'].value_counts()/len(data)"
      ],
      "execution_count": 7,
      "outputs": [
        {
          "output_type": "execute_result",
          "data": {
            "text/plain": [
              "No     0.775819\n",
              "Yes    0.224181\n",
              "Name: RainTomorrow, dtype: float64"
            ]
          },
          "metadata": {
            "tags": []
          },
          "execution_count": 7
        }
      ]
    },
    {
      "cell_type": "markdown",
      "metadata": {
        "id": "xaowc6FLXgr7"
      },
      "source": [
        "Analisis de la variable:\n",
        "\n",
        "\n",
        "*   Se tienen 2 valores únicos: Yes y no\n",
        "*   Se tiene un porcentaje de 77.58% días que no lloverán y un 22.42% en los que si habrá lluvia.\n",
        "\n"
      ]
    },
    {
      "cell_type": "markdown",
      "metadata": {
        "id": "N9vZgXCIYI_h"
      },
      "source": [
        "#### Limpieza de datos"
      ]
    },
    {
      "cell_type": "markdown",
      "metadata": {
        "id": "u84kuIS7RiSP"
      },
      "source": [
        "Se determina si existen valores perdidos en cada una de las variables"
      ]
    },
    {
      "cell_type": "code",
      "metadata": {
        "id": "YoQjahNqReIU"
      },
      "source": [
        "def missing_values_table(df): \n",
        "        val_per = df.isnull().sum()\n",
        "        porcentaje_val_per = 100 * df.isnull().sum()/len(df)\n",
        "        tabla_val_per = pd.concat([val_per, porcentaje_val_per], axis=1)\n",
        "        tabla_val_per_ren_columnas = tabla_val_per.rename(\n",
        "        columns = {0 : 'Valores perdidos', 1 : '% sobre el total'})\n",
        "        return tabla_val_per_ren_columnas "
      ],
      "execution_count": 8,
      "outputs": []
    },
    {
      "cell_type": "code",
      "metadata": {
        "id": "u0WmEvxmSHnH",
        "outputId": "3f59109e-645e-444a-d808-2e483f25592f",
        "colab": {
          "base_uri": "https://localhost:8080/",
          "height": 793
        }
      },
      "source": [
        "missing_values_table(data)"
      ],
      "execution_count": 9,
      "outputs": [
        {
          "output_type": "execute_result",
          "data": {
            "text/html": [
              "<div>\n",
              "<style scoped>\n",
              "    .dataframe tbody tr th:only-of-type {\n",
              "        vertical-align: middle;\n",
              "    }\n",
              "\n",
              "    .dataframe tbody tr th {\n",
              "        vertical-align: top;\n",
              "    }\n",
              "\n",
              "    .dataframe thead th {\n",
              "        text-align: right;\n",
              "    }\n",
              "</style>\n",
              "<table border=\"1\" class=\"dataframe\">\n",
              "  <thead>\n",
              "    <tr style=\"text-align: right;\">\n",
              "      <th></th>\n",
              "      <th>Valores perdidos</th>\n",
              "      <th>% sobre el total</th>\n",
              "    </tr>\n",
              "  </thead>\n",
              "  <tbody>\n",
              "    <tr>\n",
              "      <th>Date</th>\n",
              "      <td>0</td>\n",
              "      <td>0.000000</td>\n",
              "    </tr>\n",
              "    <tr>\n",
              "      <th>Location</th>\n",
              "      <td>0</td>\n",
              "      <td>0.000000</td>\n",
              "    </tr>\n",
              "    <tr>\n",
              "      <th>MinTemp</th>\n",
              "      <td>637</td>\n",
              "      <td>0.447983</td>\n",
              "    </tr>\n",
              "    <tr>\n",
              "      <th>MaxTemp</th>\n",
              "      <td>322</td>\n",
              "      <td>0.226453</td>\n",
              "    </tr>\n",
              "    <tr>\n",
              "      <th>Rainfall</th>\n",
              "      <td>1406</td>\n",
              "      <td>0.988797</td>\n",
              "    </tr>\n",
              "    <tr>\n",
              "      <th>Evaporation</th>\n",
              "      <td>60843</td>\n",
              "      <td>42.789026</td>\n",
              "    </tr>\n",
              "    <tr>\n",
              "      <th>Sunshine</th>\n",
              "      <td>67816</td>\n",
              "      <td>47.692924</td>\n",
              "    </tr>\n",
              "    <tr>\n",
              "      <th>WindGustDir</th>\n",
              "      <td>9330</td>\n",
              "      <td>6.561504</td>\n",
              "    </tr>\n",
              "    <tr>\n",
              "      <th>WindGustSpeed</th>\n",
              "      <td>9270</td>\n",
              "      <td>6.519308</td>\n",
              "    </tr>\n",
              "    <tr>\n",
              "      <th>WindDir9am</th>\n",
              "      <td>10013</td>\n",
              "      <td>7.041838</td>\n",
              "    </tr>\n",
              "    <tr>\n",
              "      <th>WindDir3pm</th>\n",
              "      <td>3778</td>\n",
              "      <td>2.656952</td>\n",
              "    </tr>\n",
              "    <tr>\n",
              "      <th>WindSpeed9am</th>\n",
              "      <td>1348</td>\n",
              "      <td>0.948007</td>\n",
              "    </tr>\n",
              "    <tr>\n",
              "      <th>WindSpeed3pm</th>\n",
              "      <td>2630</td>\n",
              "      <td>1.849599</td>\n",
              "    </tr>\n",
              "    <tr>\n",
              "      <th>Humidity9am</th>\n",
              "      <td>1774</td>\n",
              "      <td>1.247600</td>\n",
              "    </tr>\n",
              "    <tr>\n",
              "      <th>Humidity3pm</th>\n",
              "      <td>3610</td>\n",
              "      <td>2.538803</td>\n",
              "    </tr>\n",
              "    <tr>\n",
              "      <th>Pressure9am</th>\n",
              "      <td>14014</td>\n",
              "      <td>9.855619</td>\n",
              "    </tr>\n",
              "    <tr>\n",
              "      <th>Pressure3pm</th>\n",
              "      <td>13981</td>\n",
              "      <td>9.832411</td>\n",
              "    </tr>\n",
              "    <tr>\n",
              "      <th>Cloud9am</th>\n",
              "      <td>53657</td>\n",
              "      <td>37.735332</td>\n",
              "    </tr>\n",
              "    <tr>\n",
              "      <th>Cloud3pm</th>\n",
              "      <td>57094</td>\n",
              "      <td>40.152469</td>\n",
              "    </tr>\n",
              "    <tr>\n",
              "      <th>Temp9am</th>\n",
              "      <td>904</td>\n",
              "      <td>0.635756</td>\n",
              "    </tr>\n",
              "    <tr>\n",
              "      <th>Temp3pm</th>\n",
              "      <td>2726</td>\n",
              "      <td>1.917113</td>\n",
              "    </tr>\n",
              "    <tr>\n",
              "      <th>RainToday</th>\n",
              "      <td>1406</td>\n",
              "      <td>0.988797</td>\n",
              "    </tr>\n",
              "    <tr>\n",
              "      <th>RISK_MM</th>\n",
              "      <td>0</td>\n",
              "      <td>0.000000</td>\n",
              "    </tr>\n",
              "    <tr>\n",
              "      <th>RainTomorrow</th>\n",
              "      <td>0</td>\n",
              "      <td>0.000000</td>\n",
              "    </tr>\n",
              "  </tbody>\n",
              "</table>\n",
              "</div>"
            ],
            "text/plain": [
              "               Valores perdidos  % sobre el total\n",
              "Date                          0          0.000000\n",
              "Location                      0          0.000000\n",
              "MinTemp                     637          0.447983\n",
              "MaxTemp                     322          0.226453\n",
              "Rainfall                   1406          0.988797\n",
              "Evaporation               60843         42.789026\n",
              "Sunshine                  67816         47.692924\n",
              "WindGustDir                9330          6.561504\n",
              "WindGustSpeed              9270          6.519308\n",
              "WindDir9am                10013          7.041838\n",
              "WindDir3pm                 3778          2.656952\n",
              "WindSpeed9am               1348          0.948007\n",
              "WindSpeed3pm               2630          1.849599\n",
              "Humidity9am                1774          1.247600\n",
              "Humidity3pm                3610          2.538803\n",
              "Pressure9am               14014          9.855619\n",
              "Pressure3pm               13981          9.832411\n",
              "Cloud9am                  53657         37.735332\n",
              "Cloud3pm                  57094         40.152469\n",
              "Temp9am                     904          0.635756\n",
              "Temp3pm                    2726          1.917113\n",
              "RainToday                  1406          0.988797\n",
              "RISK_MM                       0          0.000000\n",
              "RainTomorrow                  0          0.000000"
            ]
          },
          "metadata": {
            "tags": []
          },
          "execution_count": 9
        }
      ]
    },
    {
      "cell_type": "markdown",
      "metadata": {
        "id": "J2DajdhoYHv5"
      },
      "source": [
        "Se procede a elimininar todas las variables con un porcentaje de datos perdidos superior al 30%, consideandose un porcentaje alto de pérdidas."
      ]
    },
    {
      "cell_type": "code",
      "metadata": {
        "id": "Mp1ZARJJYGdv"
      },
      "source": [
        "# Se define la función para eliminar las variables del dataframe df con porcentaje p\n",
        "def eliminar_var(df,p):\n",
        "    daticos = missing_values_table(df)\n",
        "    names = list(df.columns)\n",
        "    for i in range(len(daticos)):\n",
        "        if daticos.iloc[i,1]>p:\n",
        "            df.drop(names[i], axis=1, inplace=True)"
      ],
      "execution_count": 10,
      "outputs": []
    },
    {
      "cell_type": "code",
      "metadata": {
        "id": "zQF4roWlYvg1",
        "outputId": "37ace385-cf54-47e0-a748-ea9092973f42",
        "colab": {
          "base_uri": "https://localhost:8080/",
          "height": 669
        }
      },
      "source": [
        "# Se eliminan las variables con 30% de datos perdidos\n",
        "eliminar_var(data,30)\n",
        "# Se muestran las variables que quedan para el análisis y su porcentaje de datos perdidos\n",
        "missing_values_table(data)"
      ],
      "execution_count": 11,
      "outputs": [
        {
          "output_type": "execute_result",
          "data": {
            "text/html": [
              "<div>\n",
              "<style scoped>\n",
              "    .dataframe tbody tr th:only-of-type {\n",
              "        vertical-align: middle;\n",
              "    }\n",
              "\n",
              "    .dataframe tbody tr th {\n",
              "        vertical-align: top;\n",
              "    }\n",
              "\n",
              "    .dataframe thead th {\n",
              "        text-align: right;\n",
              "    }\n",
              "</style>\n",
              "<table border=\"1\" class=\"dataframe\">\n",
              "  <thead>\n",
              "    <tr style=\"text-align: right;\">\n",
              "      <th></th>\n",
              "      <th>Valores perdidos</th>\n",
              "      <th>% sobre el total</th>\n",
              "    </tr>\n",
              "  </thead>\n",
              "  <tbody>\n",
              "    <tr>\n",
              "      <th>Date</th>\n",
              "      <td>0</td>\n",
              "      <td>0.000000</td>\n",
              "    </tr>\n",
              "    <tr>\n",
              "      <th>Location</th>\n",
              "      <td>0</td>\n",
              "      <td>0.000000</td>\n",
              "    </tr>\n",
              "    <tr>\n",
              "      <th>MinTemp</th>\n",
              "      <td>637</td>\n",
              "      <td>0.447983</td>\n",
              "    </tr>\n",
              "    <tr>\n",
              "      <th>MaxTemp</th>\n",
              "      <td>322</td>\n",
              "      <td>0.226453</td>\n",
              "    </tr>\n",
              "    <tr>\n",
              "      <th>Rainfall</th>\n",
              "      <td>1406</td>\n",
              "      <td>0.988797</td>\n",
              "    </tr>\n",
              "    <tr>\n",
              "      <th>WindGustDir</th>\n",
              "      <td>9330</td>\n",
              "      <td>6.561504</td>\n",
              "    </tr>\n",
              "    <tr>\n",
              "      <th>WindGustSpeed</th>\n",
              "      <td>9270</td>\n",
              "      <td>6.519308</td>\n",
              "    </tr>\n",
              "    <tr>\n",
              "      <th>WindDir9am</th>\n",
              "      <td>10013</td>\n",
              "      <td>7.041838</td>\n",
              "    </tr>\n",
              "    <tr>\n",
              "      <th>WindDir3pm</th>\n",
              "      <td>3778</td>\n",
              "      <td>2.656952</td>\n",
              "    </tr>\n",
              "    <tr>\n",
              "      <th>WindSpeed9am</th>\n",
              "      <td>1348</td>\n",
              "      <td>0.948007</td>\n",
              "    </tr>\n",
              "    <tr>\n",
              "      <th>WindSpeed3pm</th>\n",
              "      <td>2630</td>\n",
              "      <td>1.849599</td>\n",
              "    </tr>\n",
              "    <tr>\n",
              "      <th>Humidity9am</th>\n",
              "      <td>1774</td>\n",
              "      <td>1.247600</td>\n",
              "    </tr>\n",
              "    <tr>\n",
              "      <th>Humidity3pm</th>\n",
              "      <td>3610</td>\n",
              "      <td>2.538803</td>\n",
              "    </tr>\n",
              "    <tr>\n",
              "      <th>Pressure9am</th>\n",
              "      <td>14014</td>\n",
              "      <td>9.855619</td>\n",
              "    </tr>\n",
              "    <tr>\n",
              "      <th>Pressure3pm</th>\n",
              "      <td>13981</td>\n",
              "      <td>9.832411</td>\n",
              "    </tr>\n",
              "    <tr>\n",
              "      <th>Temp9am</th>\n",
              "      <td>904</td>\n",
              "      <td>0.635756</td>\n",
              "    </tr>\n",
              "    <tr>\n",
              "      <th>Temp3pm</th>\n",
              "      <td>2726</td>\n",
              "      <td>1.917113</td>\n",
              "    </tr>\n",
              "    <tr>\n",
              "      <th>RainToday</th>\n",
              "      <td>1406</td>\n",
              "      <td>0.988797</td>\n",
              "    </tr>\n",
              "    <tr>\n",
              "      <th>RISK_MM</th>\n",
              "      <td>0</td>\n",
              "      <td>0.000000</td>\n",
              "    </tr>\n",
              "    <tr>\n",
              "      <th>RainTomorrow</th>\n",
              "      <td>0</td>\n",
              "      <td>0.000000</td>\n",
              "    </tr>\n",
              "  </tbody>\n",
              "</table>\n",
              "</div>"
            ],
            "text/plain": [
              "               Valores perdidos  % sobre el total\n",
              "Date                          0          0.000000\n",
              "Location                      0          0.000000\n",
              "MinTemp                     637          0.447983\n",
              "MaxTemp                     322          0.226453\n",
              "Rainfall                   1406          0.988797\n",
              "WindGustDir                9330          6.561504\n",
              "WindGustSpeed              9270          6.519308\n",
              "WindDir9am                10013          7.041838\n",
              "WindDir3pm                 3778          2.656952\n",
              "WindSpeed9am               1348          0.948007\n",
              "WindSpeed3pm               2630          1.849599\n",
              "Humidity9am                1774          1.247600\n",
              "Humidity3pm                3610          2.538803\n",
              "Pressure9am               14014          9.855619\n",
              "Pressure3pm               13981          9.832411\n",
              "Temp9am                     904          0.635756\n",
              "Temp3pm                    2726          1.917113\n",
              "RainToday                  1406          0.988797\n",
              "RISK_MM                       0          0.000000\n",
              "RainTomorrow                  0          0.000000"
            ]
          },
          "metadata": {
            "tags": []
          },
          "execution_count": 11
        }
      ]
    },
    {
      "cell_type": "markdown",
      "metadata": {
        "id": "Wa5uphpHSsZO"
      },
      "source": [
        "Se verifica que no filas de datos repetidas"
      ]
    },
    {
      "cell_type": "code",
      "metadata": {
        "id": "zAGy_0NZSzL0",
        "outputId": "c1ffba0d-faae-4e5b-9170-27e99294d40c",
        "colab": {
          "base_uri": "https://localhost:8080/",
          "height": 34
        }
      },
      "source": [
        "data.duplicated().sum()"
      ],
      "execution_count": 12,
      "outputs": [
        {
          "output_type": "execute_result",
          "data": {
            "text/plain": [
              "0"
            ]
          },
          "metadata": {
            "tags": []
          },
          "execution_count": 12
        }
      ]
    },
    {
      "cell_type": "markdown",
      "metadata": {
        "id": "DFiYr9DIZcN9"
      },
      "source": [
        "Se elimina la variable `RISK_MM`, puesto que podría filtrar información al modelo y reducir el porcentaje de acierto en la predicción. Más información en https://www.kaggle.com/jsphyg/weather-dataset-rattle-package. Por otra parte, también se eliminará la variable `location` puesto que la predicción se realizará para cualquier lugar de Australia y no una ubicación en especifico."
      ]
    },
    {
      "cell_type": "code",
      "metadata": {
        "id": "Yr--ItQvZbOF"
      },
      "source": [
        "data = data.drop(columns=['Location','RISK_MM'],axis=1)"
      ],
      "execution_count": 13,
      "outputs": []
    },
    {
      "cell_type": "code",
      "metadata": {
        "id": "J4tlmVY-a0Wg",
        "outputId": "1e93b39a-c9b8-4d14-eb4a-f3df9f1d8f11",
        "colab": {
          "base_uri": "https://localhost:8080/",
          "height": 309
        }
      },
      "source": [
        "data.head()"
      ],
      "execution_count": 14,
      "outputs": [
        {
          "output_type": "execute_result",
          "data": {
            "text/html": [
              "<div>\n",
              "<style scoped>\n",
              "    .dataframe tbody tr th:only-of-type {\n",
              "        vertical-align: middle;\n",
              "    }\n",
              "\n",
              "    .dataframe tbody tr th {\n",
              "        vertical-align: top;\n",
              "    }\n",
              "\n",
              "    .dataframe thead th {\n",
              "        text-align: right;\n",
              "    }\n",
              "</style>\n",
              "<table border=\"1\" class=\"dataframe\">\n",
              "  <thead>\n",
              "    <tr style=\"text-align: right;\">\n",
              "      <th></th>\n",
              "      <th>Date</th>\n",
              "      <th>MinTemp</th>\n",
              "      <th>MaxTemp</th>\n",
              "      <th>Rainfall</th>\n",
              "      <th>WindGustDir</th>\n",
              "      <th>WindGustSpeed</th>\n",
              "      <th>WindDir9am</th>\n",
              "      <th>WindDir3pm</th>\n",
              "      <th>WindSpeed9am</th>\n",
              "      <th>WindSpeed3pm</th>\n",
              "      <th>Humidity9am</th>\n",
              "      <th>Humidity3pm</th>\n",
              "      <th>Pressure9am</th>\n",
              "      <th>Pressure3pm</th>\n",
              "      <th>Temp9am</th>\n",
              "      <th>Temp3pm</th>\n",
              "      <th>RainToday</th>\n",
              "      <th>RainTomorrow</th>\n",
              "    </tr>\n",
              "  </thead>\n",
              "  <tbody>\n",
              "    <tr>\n",
              "      <th>0</th>\n",
              "      <td>2008-12-01</td>\n",
              "      <td>13.4</td>\n",
              "      <td>22.9</td>\n",
              "      <td>0.6</td>\n",
              "      <td>W</td>\n",
              "      <td>44.0</td>\n",
              "      <td>W</td>\n",
              "      <td>WNW</td>\n",
              "      <td>20.0</td>\n",
              "      <td>24.0</td>\n",
              "      <td>71.0</td>\n",
              "      <td>22.0</td>\n",
              "      <td>1007.7</td>\n",
              "      <td>1007.1</td>\n",
              "      <td>16.9</td>\n",
              "      <td>21.8</td>\n",
              "      <td>No</td>\n",
              "      <td>No</td>\n",
              "    </tr>\n",
              "    <tr>\n",
              "      <th>1</th>\n",
              "      <td>2008-12-02</td>\n",
              "      <td>7.4</td>\n",
              "      <td>25.1</td>\n",
              "      <td>0.0</td>\n",
              "      <td>WNW</td>\n",
              "      <td>44.0</td>\n",
              "      <td>NNW</td>\n",
              "      <td>WSW</td>\n",
              "      <td>4.0</td>\n",
              "      <td>22.0</td>\n",
              "      <td>44.0</td>\n",
              "      <td>25.0</td>\n",
              "      <td>1010.6</td>\n",
              "      <td>1007.8</td>\n",
              "      <td>17.2</td>\n",
              "      <td>24.3</td>\n",
              "      <td>No</td>\n",
              "      <td>No</td>\n",
              "    </tr>\n",
              "    <tr>\n",
              "      <th>2</th>\n",
              "      <td>2008-12-03</td>\n",
              "      <td>12.9</td>\n",
              "      <td>25.7</td>\n",
              "      <td>0.0</td>\n",
              "      <td>WSW</td>\n",
              "      <td>46.0</td>\n",
              "      <td>W</td>\n",
              "      <td>WSW</td>\n",
              "      <td>19.0</td>\n",
              "      <td>26.0</td>\n",
              "      <td>38.0</td>\n",
              "      <td>30.0</td>\n",
              "      <td>1007.6</td>\n",
              "      <td>1008.7</td>\n",
              "      <td>21.0</td>\n",
              "      <td>23.2</td>\n",
              "      <td>No</td>\n",
              "      <td>No</td>\n",
              "    </tr>\n",
              "    <tr>\n",
              "      <th>3</th>\n",
              "      <td>2008-12-04</td>\n",
              "      <td>9.2</td>\n",
              "      <td>28.0</td>\n",
              "      <td>0.0</td>\n",
              "      <td>NE</td>\n",
              "      <td>24.0</td>\n",
              "      <td>SE</td>\n",
              "      <td>E</td>\n",
              "      <td>11.0</td>\n",
              "      <td>9.0</td>\n",
              "      <td>45.0</td>\n",
              "      <td>16.0</td>\n",
              "      <td>1017.6</td>\n",
              "      <td>1012.8</td>\n",
              "      <td>18.1</td>\n",
              "      <td>26.5</td>\n",
              "      <td>No</td>\n",
              "      <td>No</td>\n",
              "    </tr>\n",
              "    <tr>\n",
              "      <th>4</th>\n",
              "      <td>2008-12-05</td>\n",
              "      <td>17.5</td>\n",
              "      <td>32.3</td>\n",
              "      <td>1.0</td>\n",
              "      <td>W</td>\n",
              "      <td>41.0</td>\n",
              "      <td>ENE</td>\n",
              "      <td>NW</td>\n",
              "      <td>7.0</td>\n",
              "      <td>20.0</td>\n",
              "      <td>82.0</td>\n",
              "      <td>33.0</td>\n",
              "      <td>1010.8</td>\n",
              "      <td>1006.0</td>\n",
              "      <td>17.8</td>\n",
              "      <td>29.7</td>\n",
              "      <td>No</td>\n",
              "      <td>No</td>\n",
              "    </tr>\n",
              "  </tbody>\n",
              "</table>\n",
              "</div>"
            ],
            "text/plain": [
              "         Date  MinTemp  MaxTemp  ...  Temp3pm RainToday  RainTomorrow\n",
              "0  2008-12-01     13.4     22.9  ...     21.8        No            No\n",
              "1  2008-12-02      7.4     25.1  ...     24.3        No            No\n",
              "2  2008-12-03     12.9     25.7  ...     23.2        No            No\n",
              "3  2008-12-04      9.2     28.0  ...     26.5        No            No\n",
              "4  2008-12-05     17.5     32.3  ...     29.7        No            No\n",
              "\n",
              "[5 rows x 18 columns]"
            ]
          },
          "metadata": {
            "tags": []
          },
          "execution_count": 14
        }
      ]
    },
    {
      "cell_type": "markdown",
      "metadata": {
        "id": "sxdfApribqBB"
      },
      "source": [
        "Se eliminan las filas de las variables perdidas, realizando la limpieza completa de los datos"
      ]
    },
    {
      "cell_type": "code",
      "metadata": {
        "id": "cAmcZg7TboE0",
        "outputId": "ebad14a0-4c84-4362-bbc2-8f8690e2699e",
        "colab": {
          "base_uri": "https://localhost:8080/",
          "height": 607
        }
      },
      "source": [
        "data=data.dropna(how=\"any\")\n",
        "missing_values_table(data)"
      ],
      "execution_count": 15,
      "outputs": [
        {
          "output_type": "execute_result",
          "data": {
            "text/html": [
              "<div>\n",
              "<style scoped>\n",
              "    .dataframe tbody tr th:only-of-type {\n",
              "        vertical-align: middle;\n",
              "    }\n",
              "\n",
              "    .dataframe tbody tr th {\n",
              "        vertical-align: top;\n",
              "    }\n",
              "\n",
              "    .dataframe thead th {\n",
              "        text-align: right;\n",
              "    }\n",
              "</style>\n",
              "<table border=\"1\" class=\"dataframe\">\n",
              "  <thead>\n",
              "    <tr style=\"text-align: right;\">\n",
              "      <th></th>\n",
              "      <th>Valores perdidos</th>\n",
              "      <th>% sobre el total</th>\n",
              "    </tr>\n",
              "  </thead>\n",
              "  <tbody>\n",
              "    <tr>\n",
              "      <th>Date</th>\n",
              "      <td>0</td>\n",
              "      <td>0.0</td>\n",
              "    </tr>\n",
              "    <tr>\n",
              "      <th>MinTemp</th>\n",
              "      <td>0</td>\n",
              "      <td>0.0</td>\n",
              "    </tr>\n",
              "    <tr>\n",
              "      <th>MaxTemp</th>\n",
              "      <td>0</td>\n",
              "      <td>0.0</td>\n",
              "    </tr>\n",
              "    <tr>\n",
              "      <th>Rainfall</th>\n",
              "      <td>0</td>\n",
              "      <td>0.0</td>\n",
              "    </tr>\n",
              "    <tr>\n",
              "      <th>WindGustDir</th>\n",
              "      <td>0</td>\n",
              "      <td>0.0</td>\n",
              "    </tr>\n",
              "    <tr>\n",
              "      <th>WindGustSpeed</th>\n",
              "      <td>0</td>\n",
              "      <td>0.0</td>\n",
              "    </tr>\n",
              "    <tr>\n",
              "      <th>WindDir9am</th>\n",
              "      <td>0</td>\n",
              "      <td>0.0</td>\n",
              "    </tr>\n",
              "    <tr>\n",
              "      <th>WindDir3pm</th>\n",
              "      <td>0</td>\n",
              "      <td>0.0</td>\n",
              "    </tr>\n",
              "    <tr>\n",
              "      <th>WindSpeed9am</th>\n",
              "      <td>0</td>\n",
              "      <td>0.0</td>\n",
              "    </tr>\n",
              "    <tr>\n",
              "      <th>WindSpeed3pm</th>\n",
              "      <td>0</td>\n",
              "      <td>0.0</td>\n",
              "    </tr>\n",
              "    <tr>\n",
              "      <th>Humidity9am</th>\n",
              "      <td>0</td>\n",
              "      <td>0.0</td>\n",
              "    </tr>\n",
              "    <tr>\n",
              "      <th>Humidity3pm</th>\n",
              "      <td>0</td>\n",
              "      <td>0.0</td>\n",
              "    </tr>\n",
              "    <tr>\n",
              "      <th>Pressure9am</th>\n",
              "      <td>0</td>\n",
              "      <td>0.0</td>\n",
              "    </tr>\n",
              "    <tr>\n",
              "      <th>Pressure3pm</th>\n",
              "      <td>0</td>\n",
              "      <td>0.0</td>\n",
              "    </tr>\n",
              "    <tr>\n",
              "      <th>Temp9am</th>\n",
              "      <td>0</td>\n",
              "      <td>0.0</td>\n",
              "    </tr>\n",
              "    <tr>\n",
              "      <th>Temp3pm</th>\n",
              "      <td>0</td>\n",
              "      <td>0.0</td>\n",
              "    </tr>\n",
              "    <tr>\n",
              "      <th>RainToday</th>\n",
              "      <td>0</td>\n",
              "      <td>0.0</td>\n",
              "    </tr>\n",
              "    <tr>\n",
              "      <th>RainTomorrow</th>\n",
              "      <td>0</td>\n",
              "      <td>0.0</td>\n",
              "    </tr>\n",
              "  </tbody>\n",
              "</table>\n",
              "</div>"
            ],
            "text/plain": [
              "               Valores perdidos  % sobre el total\n",
              "Date                          0               0.0\n",
              "MinTemp                       0               0.0\n",
              "MaxTemp                       0               0.0\n",
              "Rainfall                      0               0.0\n",
              "WindGustDir                   0               0.0\n",
              "WindGustSpeed                 0               0.0\n",
              "WindDir9am                    0               0.0\n",
              "WindDir3pm                    0               0.0\n",
              "WindSpeed9am                  0               0.0\n",
              "WindSpeed3pm                  0               0.0\n",
              "Humidity9am                   0               0.0\n",
              "Humidity3pm                   0               0.0\n",
              "Pressure9am                   0               0.0\n",
              "Pressure3pm                   0               0.0\n",
              "Temp9am                       0               0.0\n",
              "Temp3pm                       0               0.0\n",
              "RainToday                     0               0.0\n",
              "RainTomorrow                  0               0.0"
            ]
          },
          "metadata": {
            "tags": []
          },
          "execution_count": 15
        }
      ]
    },
    {
      "cell_type": "markdown",
      "metadata": {
        "id": "Zyty16wfcEzS"
      },
      "source": [
        "Se observa que el dataframe ya no tiene valores perdidos, ahora se procede a verificar su tamaño"
      ]
    },
    {
      "cell_type": "code",
      "metadata": {
        "id": "jjRsEFwjcNKp",
        "outputId": "995d07b6-e39e-4e3a-ec6a-beced3a55666",
        "colab": {
          "base_uri": "https://localhost:8080/",
          "height": 34
        }
      },
      "source": [
        "data.shape"
      ],
      "execution_count": 16,
      "outputs": [
        {
          "output_type": "execute_result",
          "data": {
            "text/plain": [
              "(112925, 18)"
            ]
          },
          "metadata": {
            "tags": []
          },
          "execution_count": 16
        }
      ]
    },
    {
      "cell_type": "markdown",
      "metadata": {
        "id": "UpXjPg4hYrT6"
      },
      "source": [
        "#### Análisis de variables categoricas\n",
        "\n",
        "\n",
        "\n",
        "\n"
      ]
    },
    {
      "cell_type": "markdown",
      "metadata": {
        "id": "Ufm2ezP8K5la"
      },
      "source": [
        "Teniendo en cuenta que las variables categoricas no pueden ser estandarizadas númericamente, se presenta un resumen de las variables de este tipo que aún están dentro de los datos de interes para este analisis, esto es resumido en la siguiente tabla."
      ]
    },
    {
      "cell_type": "markdown",
      "metadata": {
        "id": "F2EhtlTGLi3N"
      },
      "source": [
        "Variable                  | Descripción \t\t|\t Tipo de Variable\n",
        "  ------------------------| --------------------|-------------------\n",
        " Date                     | La fecha de observación                      |     Categorica\n",
        "WindGustDir               | Dirección de la ráfaga de viento más alta en 24h a medianoche                      |    Categorica Nominal\n",
        "WindDir9am                | Dirección del viento a las 9am                      |    Categorica nominal\n",
        "WindDir3pm                | Dirección del viento a las 3pm                      |    Categorica nominal\n",
        "RainToday                 | 1 si la precipitación a las 9am es superior a 1mm, 0 de lo contrario                      |    Categorica nominal\n",
        "RainTomorrow              | Variable objetivo                      |    Categorica nominal"
      ]
    },
    {
      "cell_type": "markdown",
      "metadata": {
        "id": "Tl9hTFwFOaMy"
      },
      "source": [
        "Ahora, con el fin de obtener un mejor manejo de la variable `date` se pondrá el mes y el día en una nueva variable, puesto que el año no es relevante para el análisis, ya que las temporadas se repiten por meses y días."
      ]
    },
    {
      "cell_type": "code",
      "metadata": {
        "id": "q0SADgNFPpQD"
      },
      "source": [
        "# Se transforma el formato de la fecha\n",
        "data['Date'] = pd.to_datetime(data['Date'])\n",
        "# Se extra el mes en una nueva columna\n",
        "data['Month'] = data['Date'].dt.month\n",
        "# Se extrae el día en una nueva columna\n",
        "data['Day'] = data['Date'].dt.day"
      ],
      "execution_count": 17,
      "outputs": []
    },
    {
      "cell_type": "markdown",
      "metadata": {
        "id": "uPSN_EioQ5YW"
      },
      "source": [
        "Se elimina la columna de fecha, que está dividida y guarda en dos columnas adiciones: `Month` y `Day`."
      ]
    },
    {
      "cell_type": "code",
      "metadata": {
        "id": "f8Cw4F6oRErT",
        "outputId": "11e8bfaa-c576-460f-f827-e9fe5758c766",
        "colab": {
          "base_uri": "https://localhost:8080/",
          "height": 224
        }
      },
      "source": [
        "data.drop('Date', axis=1, inplace = True)\n",
        "data.head()"
      ],
      "execution_count": 18,
      "outputs": [
        {
          "output_type": "execute_result",
          "data": {
            "text/html": [
              "<div>\n",
              "<style scoped>\n",
              "    .dataframe tbody tr th:only-of-type {\n",
              "        vertical-align: middle;\n",
              "    }\n",
              "\n",
              "    .dataframe tbody tr th {\n",
              "        vertical-align: top;\n",
              "    }\n",
              "\n",
              "    .dataframe thead th {\n",
              "        text-align: right;\n",
              "    }\n",
              "</style>\n",
              "<table border=\"1\" class=\"dataframe\">\n",
              "  <thead>\n",
              "    <tr style=\"text-align: right;\">\n",
              "      <th></th>\n",
              "      <th>MinTemp</th>\n",
              "      <th>MaxTemp</th>\n",
              "      <th>Rainfall</th>\n",
              "      <th>WindGustDir</th>\n",
              "      <th>WindGustSpeed</th>\n",
              "      <th>WindDir9am</th>\n",
              "      <th>WindDir3pm</th>\n",
              "      <th>WindSpeed9am</th>\n",
              "      <th>WindSpeed3pm</th>\n",
              "      <th>Humidity9am</th>\n",
              "      <th>Humidity3pm</th>\n",
              "      <th>Pressure9am</th>\n",
              "      <th>Pressure3pm</th>\n",
              "      <th>Temp9am</th>\n",
              "      <th>Temp3pm</th>\n",
              "      <th>RainToday</th>\n",
              "      <th>RainTomorrow</th>\n",
              "      <th>Month</th>\n",
              "      <th>Day</th>\n",
              "    </tr>\n",
              "  </thead>\n",
              "  <tbody>\n",
              "    <tr>\n",
              "      <th>0</th>\n",
              "      <td>13.4</td>\n",
              "      <td>22.9</td>\n",
              "      <td>0.6</td>\n",
              "      <td>W</td>\n",
              "      <td>44.0</td>\n",
              "      <td>W</td>\n",
              "      <td>WNW</td>\n",
              "      <td>20.0</td>\n",
              "      <td>24.0</td>\n",
              "      <td>71.0</td>\n",
              "      <td>22.0</td>\n",
              "      <td>1007.7</td>\n",
              "      <td>1007.1</td>\n",
              "      <td>16.9</td>\n",
              "      <td>21.8</td>\n",
              "      <td>No</td>\n",
              "      <td>No</td>\n",
              "      <td>12</td>\n",
              "      <td>1</td>\n",
              "    </tr>\n",
              "    <tr>\n",
              "      <th>1</th>\n",
              "      <td>7.4</td>\n",
              "      <td>25.1</td>\n",
              "      <td>0.0</td>\n",
              "      <td>WNW</td>\n",
              "      <td>44.0</td>\n",
              "      <td>NNW</td>\n",
              "      <td>WSW</td>\n",
              "      <td>4.0</td>\n",
              "      <td>22.0</td>\n",
              "      <td>44.0</td>\n",
              "      <td>25.0</td>\n",
              "      <td>1010.6</td>\n",
              "      <td>1007.8</td>\n",
              "      <td>17.2</td>\n",
              "      <td>24.3</td>\n",
              "      <td>No</td>\n",
              "      <td>No</td>\n",
              "      <td>12</td>\n",
              "      <td>2</td>\n",
              "    </tr>\n",
              "    <tr>\n",
              "      <th>2</th>\n",
              "      <td>12.9</td>\n",
              "      <td>25.7</td>\n",
              "      <td>0.0</td>\n",
              "      <td>WSW</td>\n",
              "      <td>46.0</td>\n",
              "      <td>W</td>\n",
              "      <td>WSW</td>\n",
              "      <td>19.0</td>\n",
              "      <td>26.0</td>\n",
              "      <td>38.0</td>\n",
              "      <td>30.0</td>\n",
              "      <td>1007.6</td>\n",
              "      <td>1008.7</td>\n",
              "      <td>21.0</td>\n",
              "      <td>23.2</td>\n",
              "      <td>No</td>\n",
              "      <td>No</td>\n",
              "      <td>12</td>\n",
              "      <td>3</td>\n",
              "    </tr>\n",
              "    <tr>\n",
              "      <th>3</th>\n",
              "      <td>9.2</td>\n",
              "      <td>28.0</td>\n",
              "      <td>0.0</td>\n",
              "      <td>NE</td>\n",
              "      <td>24.0</td>\n",
              "      <td>SE</td>\n",
              "      <td>E</td>\n",
              "      <td>11.0</td>\n",
              "      <td>9.0</td>\n",
              "      <td>45.0</td>\n",
              "      <td>16.0</td>\n",
              "      <td>1017.6</td>\n",
              "      <td>1012.8</td>\n",
              "      <td>18.1</td>\n",
              "      <td>26.5</td>\n",
              "      <td>No</td>\n",
              "      <td>No</td>\n",
              "      <td>12</td>\n",
              "      <td>4</td>\n",
              "    </tr>\n",
              "    <tr>\n",
              "      <th>4</th>\n",
              "      <td>17.5</td>\n",
              "      <td>32.3</td>\n",
              "      <td>1.0</td>\n",
              "      <td>W</td>\n",
              "      <td>41.0</td>\n",
              "      <td>ENE</td>\n",
              "      <td>NW</td>\n",
              "      <td>7.0</td>\n",
              "      <td>20.0</td>\n",
              "      <td>82.0</td>\n",
              "      <td>33.0</td>\n",
              "      <td>1010.8</td>\n",
              "      <td>1006.0</td>\n",
              "      <td>17.8</td>\n",
              "      <td>29.7</td>\n",
              "      <td>No</td>\n",
              "      <td>No</td>\n",
              "      <td>12</td>\n",
              "      <td>5</td>\n",
              "    </tr>\n",
              "  </tbody>\n",
              "</table>\n",
              "</div>"
            ],
            "text/plain": [
              "   MinTemp  MaxTemp  Rainfall WindGustDir  ...  RainToday RainTomorrow Month  Day\n",
              "0     13.4     22.9       0.6           W  ...         No           No    12    1\n",
              "1      7.4     25.1       0.0         WNW  ...         No           No    12    2\n",
              "2     12.9     25.7       0.0         WSW  ...         No           No    12    3\n",
              "3      9.2     28.0       0.0          NE  ...         No           No    12    4\n",
              "4     17.5     32.3       1.0           W  ...         No           No    12    5\n",
              "\n",
              "[5 rows x 19 columns]"
            ]
          },
          "metadata": {
            "tags": []
          },
          "execution_count": 18
        }
      ]
    },
    {
      "cell_type": "markdown",
      "metadata": {
        "id": "3gUqiTolRSMk"
      },
      "source": [
        "Con la transformación de la variable `Date` y su eliminación, el dataframe solo tiene las siguientes variables categoricas:"
      ]
    },
    {
      "cell_type": "markdown",
      "metadata": {
        "id": "WPBHEforRddb"
      },
      "source": [
        "Variable                  | Descripción \t\t|\t Tipo de Variable\n",
        "  ------------------------| --------------------|-------------------\n",
        "WindGustDir               | Dirección de la ráfaga de viento más alta en 24h a medianoche                      |    Categorica Nominal\n",
        "WindDir9am                | Dirección del viento a las 9am                      |    Categorica nominal\n",
        "WindDir3pm                | Dirección del viento a las 3pm                      |    Categorica nominal\n",
        "RainToday                 | 1 si la precipitación a las 9am es superior a 1mm, 0 de lo contrario                      |    Categorica nominal\n",
        "RainTomorrow              | Variable objetivo                      |    Categorica nominal"
      ]
    },
    {
      "cell_type": "markdown",
      "metadata": {
        "id": "NpEDfRlmZBWx"
      },
      "source": [
        "#### Análisis Multivariable"
      ]
    },
    {
      "cell_type": "markdown",
      "metadata": {
        "id": "_4HsgA92ZGHx"
      },
      "source": [
        "Se definen las correlaciones de los datos númericos para así obtener un mapa de correlación"
      ]
    },
    {
      "cell_type": "code",
      "metadata": {
        "id": "j2gPYhD3ZBES"
      },
      "source": [
        "correlacion = data.corr()"
      ],
      "execution_count": 19,
      "outputs": []
    },
    {
      "cell_type": "code",
      "metadata": {
        "id": "56QY8vm2ZThp",
        "outputId": "f40eeeb0-d321-4fdf-cbf9-1ca95e814d7e",
        "colab": {
          "base_uri": "https://localhost:8080/",
          "height": 786
        }
      },
      "source": [
        "plt.figure(figsize=(16,12))\n",
        "plt.title('Mapa de calor para la correlación de los datos de lluvia en Australia')\n",
        "ax = sns.heatmap(correlacion, square=True, annot=True, fmt='.2f', linecolor='white')\n",
        "ax.set_xticklabels(ax.get_xticklabels(), rotation=90)\n",
        "ax.set_yticklabels(ax.get_yticklabels(), rotation=30)           \n",
        "plt.show()"
      ],
      "execution_count": 20,
      "outputs": [
        {
          "output_type": "display_data",
          "data": {
            "image/png": "[encoded data removed]",
            "text/plain": [
              "<Figure size 1152x864 with 2 Axes>"
            ]
          },
          "metadata": {
            "tags": [],
            "needs_background": "light"
          }
        }
      ]
    },
    {
      "cell_type": "markdown",
      "metadata": {
        "id": "YtmwjPOEZlWA"
      },
      "source": [
        "Se evidencian altas correlaciones entre las siguientes variables:\n",
        "\n",
        "\n",
        "*   `MinTemp` y `MaxTemp`\n",
        "*   `MinTemp` y `Temp3pm`\n",
        "*   `MinTemp` y `Temp9am`\n",
        "*   `MaxTemp` y `Temp9am`\n",
        "*   `MaxTemp` y `Temp3pm`\n",
        "*   `WindGustSpeed` y `WindSpeed3pm`\n",
        "*   `Pressure9am` y `Pressure3pm`\n",
        "*   `Temp9am` y `Temp3pm`\n",
        "\n"
      ]
    },
    {
      "cell_type": "markdown",
      "metadata": {
        "id": "STDKH1IcbNE1"
      },
      "source": [
        "### Transformación de variables categoricas dentro del dataframe"
      ]
    },
    {
      "cell_type": "markdown",
      "metadata": {
        "id": "MeB8L6Bzbaz7"
      },
      "source": [
        "Teniendo en cuenta las variables categoricas ya identificadas, se procede a cambiar su tipo para el análisis. Para esto se realiza la conversión de tipo categoricas a númericas, de la siguiente manera"
      ]
    },
    {
      "cell_type": "code",
      "metadata": {
        "id": "RwnbiWHjcytJ"
      },
      "source": [
        "# Los datos con 2 categorias unicas, si o no. El sí se reemplaza por 1 y el no por 0.\n",
        "data['RainToday'].replace({'No': 0, 'Yes': 1},inplace = True)\n",
        "data['RainTomorrow'].replace({'No': 0, 'Yes': 1},inplace = True)"
      ],
      "execution_count": 21,
      "outputs": []
    },
    {
      "cell_type": "code",
      "metadata": {
        "id": "1rGcYAvhjNaj",
        "outputId": "d68d857b-a747-41ae-b38b-e9a76d1ce760",
        "colab": {
          "base_uri": "https://localhost:8080/",
          "height": 51
        }
      },
      "source": [
        "data['WindGustDir'].unique()"
      ],
      "execution_count": 22,
      "outputs": [
        {
          "output_type": "execute_result",
          "data": {
            "text/plain": [
              "array(['W', 'WNW', 'WSW', 'NE', 'NNW', 'N', 'NNE', 'SW', 'ENE', 'SSE',\n",
              "       'S', 'NW', 'SE', 'ESE', 'E', 'SSW'], dtype=object)"
            ]
          },
          "metadata": {
            "tags": []
          },
          "execution_count": 22
        }
      ]
    },
    {
      "cell_type": "code",
      "metadata": {
        "id": "crBwyRB-jYJJ",
        "outputId": "5ffad06d-76d5-4d6e-83ca-77384df1a0dc",
        "colab": {
          "base_uri": "https://localhost:8080/",
          "height": 51
        }
      },
      "source": [
        "data['WindDir3pm'].unique()"
      ],
      "execution_count": 23,
      "outputs": [
        {
          "output_type": "execute_result",
          "data": {
            "text/plain": [
              "array(['WNW', 'WSW', 'E', 'NW', 'W', 'SSE', 'ESE', 'ENE', 'NNW', 'SSW',\n",
              "       'SW', 'SE', 'N', 'S', 'NNE', 'NE'], dtype=object)"
            ]
          },
          "metadata": {
            "tags": []
          },
          "execution_count": 23
        }
      ]
    },
    {
      "cell_type": "code",
      "metadata": {
        "id": "S3a91LVijZrr",
        "outputId": "de6436a7-c7d3-42bc-87a2-605e0b4324cb",
        "colab": {
          "base_uri": "https://localhost:8080/",
          "height": 51
        }
      },
      "source": [
        "data['WindDir9am'].unique()"
      ],
      "execution_count": 24,
      "outputs": [
        {
          "output_type": "execute_result",
          "data": {
            "text/plain": [
              "array(['W', 'NNW', 'SE', 'ENE', 'SW', 'SSE', 'S', 'NE', 'SSW', 'N', 'WSW',\n",
              "       'ESE', 'E', 'NW', 'WNW', 'NNE'], dtype=object)"
            ]
          },
          "metadata": {
            "tags": []
          },
          "execution_count": 24
        }
      ]
    },
    {
      "cell_type": "code",
      "metadata": {
        "id": "xpSI5ZTchghp",
        "outputId": "222ecd52-8bd6-4f31-c9ed-960ffe7192c5",
        "colab": {
          "base_uri": "https://localhost:8080/",
          "height": 357
        }
      },
      "source": [
        "data['WindGustDir'] = data['WindGustDir'].astype('category')\n",
        "data['WindDir3pm'] = data['WindDir3pm'].astype('category')\n",
        "data['WindDir9am'] = data['WindDir9am'].astype('category')\n",
        "data.dtypes\n"
      ],
      "execution_count": 25,
      "outputs": [
        {
          "output_type": "execute_result",
          "data": {
            "text/plain": [
              "MinTemp           float64\n",
              "MaxTemp           float64\n",
              "Rainfall          float64\n",
              "WindGustDir      category\n",
              "WindGustSpeed     float64\n",
              "WindDir9am       category\n",
              "WindDir3pm       category\n",
              "WindSpeed9am      float64\n",
              "WindSpeed3pm      float64\n",
              "Humidity9am       float64\n",
              "Humidity3pm       float64\n",
              "Pressure9am       float64\n",
              "Pressure3pm       float64\n",
              "Temp9am           float64\n",
              "Temp3pm           float64\n",
              "RainToday           int64\n",
              "RainTomorrow        int64\n",
              "Month               int64\n",
              "Day                 int64\n",
              "dtype: object"
            ]
          },
          "metadata": {
            "tags": []
          },
          "execution_count": 25
        }
      ]
    },
    {
      "cell_type": "code",
      "metadata": {
        "id": "omGplVlZip_1",
        "outputId": "900e5dad-5ecf-4f2b-d3c3-a08dd9cc8ba7",
        "colab": {
          "base_uri": "https://localhost:8080/",
          "height": 224
        }
      },
      "source": [
        "data[\"WindGustDir\"] = data[\"WindGustDir\"].cat.codes\n",
        "data[\"WindDir3pm\"] = data[\"WindDir3pm\"].cat.codes\n",
        "data[\"WindDir9am\"] = data[\"WindDir9am\"].cat.codes\n",
        "data.head()"
      ],
      "execution_count": 26,
      "outputs": [
        {
          "output_type": "execute_result",
          "data": {
            "text/html": [
              "<div>\n",
              "<style scoped>\n",
              "    .dataframe tbody tr th:only-of-type {\n",
              "        vertical-align: middle;\n",
              "    }\n",
              "\n",
              "    .dataframe tbody tr th {\n",
              "        vertical-align: top;\n",
              "    }\n",
              "\n",
              "    .dataframe thead th {\n",
              "        text-align: right;\n",
              "    }\n",
              "</style>\n",
              "<table border=\"1\" class=\"dataframe\">\n",
              "  <thead>\n",
              "    <tr style=\"text-align: right;\">\n",
              "      <th></th>\n",
              "      <th>MinTemp</th>\n",
              "      <th>MaxTemp</th>\n",
              "      <th>Rainfall</th>\n",
              "      <th>WindGustDir</th>\n",
              "      <th>WindGustSpeed</th>\n",
              "      <th>WindDir9am</th>\n",
              "      <th>WindDir3pm</th>\n",
              "      <th>WindSpeed9am</th>\n",
              "      <th>WindSpeed3pm</th>\n",
              "      <th>Humidity9am</th>\n",
              "      <th>Humidity3pm</th>\n",
              "      <th>Pressure9am</th>\n",
              "      <th>Pressure3pm</th>\n",
              "      <th>Temp9am</th>\n",
              "      <th>Temp3pm</th>\n",
              "      <th>RainToday</th>\n",
              "      <th>RainTomorrow</th>\n",
              "      <th>Month</th>\n",
              "      <th>Day</th>\n",
              "    </tr>\n",
              "  </thead>\n",
              "  <tbody>\n",
              "    <tr>\n",
              "      <th>0</th>\n",
              "      <td>13.4</td>\n",
              "      <td>22.9</td>\n",
              "      <td>0.6</td>\n",
              "      <td>13</td>\n",
              "      <td>44.0</td>\n",
              "      <td>13</td>\n",
              "      <td>14</td>\n",
              "      <td>20.0</td>\n",
              "      <td>24.0</td>\n",
              "      <td>71.0</td>\n",
              "      <td>22.0</td>\n",
              "      <td>1007.7</td>\n",
              "      <td>1007.1</td>\n",
              "      <td>16.9</td>\n",
              "      <td>21.8</td>\n",
              "      <td>0</td>\n",
              "      <td>0</td>\n",
              "      <td>12</td>\n",
              "      <td>1</td>\n",
              "    </tr>\n",
              "    <tr>\n",
              "      <th>1</th>\n",
              "      <td>7.4</td>\n",
              "      <td>25.1</td>\n",
              "      <td>0.0</td>\n",
              "      <td>14</td>\n",
              "      <td>44.0</td>\n",
              "      <td>6</td>\n",
              "      <td>15</td>\n",
              "      <td>4.0</td>\n",
              "      <td>22.0</td>\n",
              "      <td>44.0</td>\n",
              "      <td>25.0</td>\n",
              "      <td>1010.6</td>\n",
              "      <td>1007.8</td>\n",
              "      <td>17.2</td>\n",
              "      <td>24.3</td>\n",
              "      <td>0</td>\n",
              "      <td>0</td>\n",
              "      <td>12</td>\n",
              "      <td>2</td>\n",
              "    </tr>\n",
              "    <tr>\n",
              "      <th>2</th>\n",
              "      <td>12.9</td>\n",
              "      <td>25.7</td>\n",
              "      <td>0.0</td>\n",
              "      <td>15</td>\n",
              "      <td>46.0</td>\n",
              "      <td>13</td>\n",
              "      <td>15</td>\n",
              "      <td>19.0</td>\n",
              "      <td>26.0</td>\n",
              "      <td>38.0</td>\n",
              "      <td>30.0</td>\n",
              "      <td>1007.6</td>\n",
              "      <td>1008.7</td>\n",
              "      <td>21.0</td>\n",
              "      <td>23.2</td>\n",
              "      <td>0</td>\n",
              "      <td>0</td>\n",
              "      <td>12</td>\n",
              "      <td>3</td>\n",
              "    </tr>\n",
              "    <tr>\n",
              "      <th>3</th>\n",
              "      <td>9.2</td>\n",
              "      <td>28.0</td>\n",
              "      <td>0.0</td>\n",
              "      <td>4</td>\n",
              "      <td>24.0</td>\n",
              "      <td>9</td>\n",
              "      <td>0</td>\n",
              "      <td>11.0</td>\n",
              "      <td>9.0</td>\n",
              "      <td>45.0</td>\n",
              "      <td>16.0</td>\n",
              "      <td>1017.6</td>\n",
              "      <td>1012.8</td>\n",
              "      <td>18.1</td>\n",
              "      <td>26.5</td>\n",
              "      <td>0</td>\n",
              "      <td>0</td>\n",
              "      <td>12</td>\n",
              "      <td>4</td>\n",
              "    </tr>\n",
              "    <tr>\n",
              "      <th>4</th>\n",
              "      <td>17.5</td>\n",
              "      <td>32.3</td>\n",
              "      <td>1.0</td>\n",
              "      <td>13</td>\n",
              "      <td>41.0</td>\n",
              "      <td>1</td>\n",
              "      <td>7</td>\n",
              "      <td>7.0</td>\n",
              "      <td>20.0</td>\n",
              "      <td>82.0</td>\n",
              "      <td>33.0</td>\n",
              "      <td>1010.8</td>\n",
              "      <td>1006.0</td>\n",
              "      <td>17.8</td>\n",
              "      <td>29.7</td>\n",
              "      <td>0</td>\n",
              "      <td>0</td>\n",
              "      <td>12</td>\n",
              "      <td>5</td>\n",
              "    </tr>\n",
              "  </tbody>\n",
              "</table>\n",
              "</div>"
            ],
            "text/plain": [
              "   MinTemp  MaxTemp  Rainfall  WindGustDir  ...  RainToday  RainTomorrow  Month  Day\n",
              "0     13.4     22.9       0.6           13  ...          0             0     12    1\n",
              "1      7.4     25.1       0.0           14  ...          0             0     12    2\n",
              "2     12.9     25.7       0.0           15  ...          0             0     12    3\n",
              "3      9.2     28.0       0.0            4  ...          0             0     12    4\n",
              "4     17.5     32.3       1.0           13  ...          0             0     12    5\n",
              "\n",
              "[5 rows x 19 columns]"
            ]
          },
          "metadata": {
            "tags": []
          },
          "execution_count": 26
        }
      ]
    },
    {
      "cell_type": "markdown",
      "metadata": {
        "id": "437G55axdoqC"
      },
      "source": [
        "Se miran las estadísticas de cada variable"
      ]
    },
    {
      "cell_type": "code",
      "metadata": {
        "id": "ev6YcLS7doJe",
        "outputId": "7eb33caa-9f3d-4a22-f6c8-a489ee796b0b",
        "colab": {
          "base_uri": "https://localhost:8080/",
          "height": 317
        }
      },
      "source": [
        "data.describe()"
      ],
      "execution_count": 27,
      "outputs": [
        {
          "output_type": "execute_result",
          "data": {
            "text/html": [
              "<div>\n",
              "<style scoped>\n",
              "    .dataframe tbody tr th:only-of-type {\n",
              "        vertical-align: middle;\n",
              "    }\n",
              "\n",
              "    .dataframe tbody tr th {\n",
              "        vertical-align: top;\n",
              "    }\n",
              "\n",
              "    .dataframe thead th {\n",
              "        text-align: right;\n",
              "    }\n",
              "</style>\n",
              "<table border=\"1\" class=\"dataframe\">\n",
              "  <thead>\n",
              "    <tr style=\"text-align: right;\">\n",
              "      <th></th>\n",
              "      <th>MinTemp</th>\n",
              "      <th>MaxTemp</th>\n",
              "      <th>Rainfall</th>\n",
              "      <th>WindGustDir</th>\n",
              "      <th>WindGustSpeed</th>\n",
              "      <th>WindDir9am</th>\n",
              "      <th>WindDir3pm</th>\n",
              "      <th>WindSpeed9am</th>\n",
              "      <th>WindSpeed3pm</th>\n",
              "      <th>Humidity9am</th>\n",
              "      <th>Humidity3pm</th>\n",
              "      <th>Pressure9am</th>\n",
              "      <th>Pressure3pm</th>\n",
              "      <th>Temp9am</th>\n",
              "      <th>Temp3pm</th>\n",
              "      <th>RainToday</th>\n",
              "      <th>RainTomorrow</th>\n",
              "      <th>Month</th>\n",
              "      <th>Day</th>\n",
              "    </tr>\n",
              "  </thead>\n",
              "  <tbody>\n",
              "    <tr>\n",
              "      <th>count</th>\n",
              "      <td>112925.000000</td>\n",
              "      <td>112925.000000</td>\n",
              "      <td>112925.000000</td>\n",
              "      <td>112925.000000</td>\n",
              "      <td>112925.000000</td>\n",
              "      <td>112925.000000</td>\n",
              "      <td>112925.000000</td>\n",
              "      <td>112925.000000</td>\n",
              "      <td>112925.000000</td>\n",
              "      <td>112925.000000</td>\n",
              "      <td>112925.000000</td>\n",
              "      <td>112925.000000</td>\n",
              "      <td>112925.000000</td>\n",
              "      <td>112925.000000</td>\n",
              "      <td>112925.000000</td>\n",
              "      <td>112925.000000</td>\n",
              "      <td>112925.000000</td>\n",
              "      <td>112925.000000</td>\n",
              "      <td>112925.000000</td>\n",
              "    </tr>\n",
              "    <tr>\n",
              "      <th>mean</th>\n",
              "      <td>12.664721</td>\n",
              "      <td>23.655670</td>\n",
              "      <td>2.377892</td>\n",
              "      <td>7.720655</td>\n",
              "      <td>40.786611</td>\n",
              "      <td>7.237618</td>\n",
              "      <td>7.759478</td>\n",
              "      <td>15.179163</td>\n",
              "      <td>19.500545</td>\n",
              "      <td>67.404162</td>\n",
              "      <td>50.669055</td>\n",
              "      <td>1017.425847</td>\n",
              "      <td>1015.048962</td>\n",
              "      <td>17.462008</td>\n",
              "      <td>22.127306</td>\n",
              "      <td>0.224654</td>\n",
              "      <td>0.221554</td>\n",
              "      <td>6.431499</td>\n",
              "      <td>15.714678</td>\n",
              "    </tr>\n",
              "    <tr>\n",
              "      <th>std</th>\n",
              "      <td>6.254135</td>\n",
              "      <td>6.982702</td>\n",
              "      <td>8.602968</td>\n",
              "      <td>4.673142</td>\n",
              "      <td>13.321774</td>\n",
              "      <td>4.550401</td>\n",
              "      <td>4.615792</td>\n",
              "      <td>8.344304</td>\n",
              "      <td>8.580097</td>\n",
              "      <td>18.911610</td>\n",
              "      <td>20.768550</td>\n",
              "      <td>7.032654</td>\n",
              "      <td>6.957822</td>\n",
              "      <td>6.355045</td>\n",
              "      <td>6.837380</td>\n",
              "      <td>0.417356</td>\n",
              "      <td>0.415294</td>\n",
              "      <td>3.476314</td>\n",
              "      <td>8.790323</td>\n",
              "    </tr>\n",
              "    <tr>\n",
              "      <th>min</th>\n",
              "      <td>-8.200000</td>\n",
              "      <td>2.600000</td>\n",
              "      <td>0.000000</td>\n",
              "      <td>0.000000</td>\n",
              "      <td>7.000000</td>\n",
              "      <td>0.000000</td>\n",
              "      <td>0.000000</td>\n",
              "      <td>2.000000</td>\n",
              "      <td>2.000000</td>\n",
              "      <td>0.000000</td>\n",
              "      <td>0.000000</td>\n",
              "      <td>980.500000</td>\n",
              "      <td>977.100000</td>\n",
              "      <td>-3.100000</td>\n",
              "      <td>1.700000</td>\n",
              "      <td>0.000000</td>\n",
              "      <td>0.000000</td>\n",
              "      <td>1.000000</td>\n",
              "      <td>1.000000</td>\n",
              "    </tr>\n",
              "    <tr>\n",
              "      <th>25%</th>\n",
              "      <td>8.100000</td>\n",
              "      <td>18.300000</td>\n",
              "      <td>0.000000</td>\n",
              "      <td>3.000000</td>\n",
              "      <td>31.000000</td>\n",
              "      <td>3.000000</td>\n",
              "      <td>4.000000</td>\n",
              "      <td>9.000000</td>\n",
              "      <td>13.000000</td>\n",
              "      <td>56.000000</td>\n",
              "      <td>36.000000</td>\n",
              "      <td>1012.800000</td>\n",
              "      <td>1010.300000</td>\n",
              "      <td>12.700000</td>\n",
              "      <td>16.900000</td>\n",
              "      <td>0.000000</td>\n",
              "      <td>0.000000</td>\n",
              "      <td>3.000000</td>\n",
              "      <td>8.000000</td>\n",
              "    </tr>\n",
              "    <tr>\n",
              "      <th>50%</th>\n",
              "      <td>12.400000</td>\n",
              "      <td>23.100000</td>\n",
              "      <td>0.000000</td>\n",
              "      <td>8.000000</td>\n",
              "      <td>39.000000</td>\n",
              "      <td>7.000000</td>\n",
              "      <td>8.000000</td>\n",
              "      <td>13.000000</td>\n",
              "      <td>19.000000</td>\n",
              "      <td>68.000000</td>\n",
              "      <td>51.000000</td>\n",
              "      <td>1017.400000</td>\n",
              "      <td>1015.000000</td>\n",
              "      <td>17.100000</td>\n",
              "      <td>21.600000</td>\n",
              "      <td>0.000000</td>\n",
              "      <td>0.000000</td>\n",
              "      <td>6.000000</td>\n",
              "      <td>16.000000</td>\n",
              "    </tr>\n",
              "    <tr>\n",
              "      <th>75%</th>\n",
              "      <td>17.200000</td>\n",
              "      <td>28.700000</td>\n",
              "      <td>0.800000</td>\n",
              "      <td>12.000000</td>\n",
              "      <td>48.000000</td>\n",
              "      <td>11.000000</td>\n",
              "      <td>12.000000</td>\n",
              "      <td>20.000000</td>\n",
              "      <td>24.000000</td>\n",
              "      <td>81.000000</td>\n",
              "      <td>65.000000</td>\n",
              "      <td>1022.100000</td>\n",
              "      <td>1019.700000</td>\n",
              "      <td>22.000000</td>\n",
              "      <td>26.900000</td>\n",
              "      <td>0.000000</td>\n",
              "      <td>0.000000</td>\n",
              "      <td>9.000000</td>\n",
              "      <td>23.000000</td>\n",
              "    </tr>\n",
              "    <tr>\n",
              "      <th>max</th>\n",
              "      <td>33.900000</td>\n",
              "      <td>48.100000</td>\n",
              "      <td>367.600000</td>\n",
              "      <td>15.000000</td>\n",
              "      <td>135.000000</td>\n",
              "      <td>15.000000</td>\n",
              "      <td>15.000000</td>\n",
              "      <td>87.000000</td>\n",
              "      <td>87.000000</td>\n",
              "      <td>100.000000</td>\n",
              "      <td>100.000000</td>\n",
              "      <td>1041.000000</td>\n",
              "      <td>1039.600000</td>\n",
              "      <td>40.200000</td>\n",
              "      <td>46.700000</td>\n",
              "      <td>1.000000</td>\n",
              "      <td>1.000000</td>\n",
              "      <td>12.000000</td>\n",
              "      <td>31.000000</td>\n",
              "    </tr>\n",
              "  </tbody>\n",
              "</table>\n",
              "</div>"
            ],
            "text/plain": [
              "             MinTemp        MaxTemp  ...          Month            Day\n",
              "count  112925.000000  112925.000000  ...  112925.000000  112925.000000\n",
              "mean       12.664721      23.655670  ...       6.431499      15.714678\n",
              "std         6.254135       6.982702  ...       3.476314       8.790323\n",
              "min        -8.200000       2.600000  ...       1.000000       1.000000\n",
              "25%         8.100000      18.300000  ...       3.000000       8.000000\n",
              "50%        12.400000      23.100000  ...       6.000000      16.000000\n",
              "75%        17.200000      28.700000  ...       9.000000      23.000000\n",
              "max        33.900000      48.100000  ...      12.000000      31.000000\n",
              "\n",
              "[8 rows x 19 columns]"
            ]
          },
          "metadata": {
            "tags": []
          },
          "execution_count": 27
        }
      ]
    },
    {
      "cell_type": "markdown",
      "metadata": {
        "id": "ZselpaKIeMqL"
      },
      "source": [
        "###Estandarización de variables\n",
        "\n",
        "Se crea un dataset con las variables no categoricas para realizar la estandarización y conocer la influencia de cada varible sobre la variable de interés, que en este caso es `RainTomorrow`"
      ]
    },
    {
      "cell_type": "code",
      "metadata": {
        "id": "LU31QTfZhec4",
        "outputId": "4fc01cf3-2490-4b8c-d84e-241d8f239fea",
        "colab": {
          "base_uri": "https://localhost:8080/",
          "height": 224
        }
      },
      "source": [
        "# Se usa el minmaxscaler\n",
        "scaler = MinMaxScaler()\n",
        "data_estandar = pd.DataFrame(scaler.fit_transform(data), columns = data.columns) \n",
        "data_estandar.head()"
      ],
      "execution_count": 28,
      "outputs": [
        {
          "output_type": "execute_result",
          "data": {
            "text/html": [
              "<div>\n",
              "<style scoped>\n",
              "    .dataframe tbody tr th:only-of-type {\n",
              "        vertical-align: middle;\n",
              "    }\n",
              "\n",
              "    .dataframe tbody tr th {\n",
              "        vertical-align: top;\n",
              "    }\n",
              "\n",
              "    .dataframe thead th {\n",
              "        text-align: right;\n",
              "    }\n",
              "</style>\n",
              "<table border=\"1\" class=\"dataframe\">\n",
              "  <thead>\n",
              "    <tr style=\"text-align: right;\">\n",
              "      <th></th>\n",
              "      <th>MinTemp</th>\n",
              "      <th>MaxTemp</th>\n",
              "      <th>Rainfall</th>\n",
              "      <th>WindGustDir</th>\n",
              "      <th>WindGustSpeed</th>\n",
              "      <th>WindDir9am</th>\n",
              "      <th>WindDir3pm</th>\n",
              "      <th>WindSpeed9am</th>\n",
              "      <th>WindSpeed3pm</th>\n",
              "      <th>Humidity9am</th>\n",
              "      <th>Humidity3pm</th>\n",
              "      <th>Pressure9am</th>\n",
              "      <th>Pressure3pm</th>\n",
              "      <th>Temp9am</th>\n",
              "      <th>Temp3pm</th>\n",
              "      <th>RainToday</th>\n",
              "      <th>RainTomorrow</th>\n",
              "      <th>Month</th>\n",
              "      <th>Day</th>\n",
              "    </tr>\n",
              "  </thead>\n",
              "  <tbody>\n",
              "    <tr>\n",
              "      <th>0</th>\n",
              "      <td>0.513064</td>\n",
              "      <td>0.446154</td>\n",
              "      <td>0.001632</td>\n",
              "      <td>0.866667</td>\n",
              "      <td>0.289062</td>\n",
              "      <td>0.866667</td>\n",
              "      <td>0.933333</td>\n",
              "      <td>0.211765</td>\n",
              "      <td>0.258824</td>\n",
              "      <td>0.71</td>\n",
              "      <td>0.22</td>\n",
              "      <td>0.449587</td>\n",
              "      <td>0.4800</td>\n",
              "      <td>0.461894</td>\n",
              "      <td>0.446667</td>\n",
              "      <td>0.0</td>\n",
              "      <td>0.0</td>\n",
              "      <td>1.0</td>\n",
              "      <td>0.000000</td>\n",
              "    </tr>\n",
              "    <tr>\n",
              "      <th>1</th>\n",
              "      <td>0.370546</td>\n",
              "      <td>0.494505</td>\n",
              "      <td>0.000000</td>\n",
              "      <td>0.933333</td>\n",
              "      <td>0.289062</td>\n",
              "      <td>0.400000</td>\n",
              "      <td>1.000000</td>\n",
              "      <td>0.023529</td>\n",
              "      <td>0.235294</td>\n",
              "      <td>0.44</td>\n",
              "      <td>0.25</td>\n",
              "      <td>0.497521</td>\n",
              "      <td>0.4912</td>\n",
              "      <td>0.468822</td>\n",
              "      <td>0.502222</td>\n",
              "      <td>0.0</td>\n",
              "      <td>0.0</td>\n",
              "      <td>1.0</td>\n",
              "      <td>0.033333</td>\n",
              "    </tr>\n",
              "    <tr>\n",
              "      <th>2</th>\n",
              "      <td>0.501188</td>\n",
              "      <td>0.507692</td>\n",
              "      <td>0.000000</td>\n",
              "      <td>1.000000</td>\n",
              "      <td>0.304688</td>\n",
              "      <td>0.866667</td>\n",
              "      <td>1.000000</td>\n",
              "      <td>0.200000</td>\n",
              "      <td>0.282353</td>\n",
              "      <td>0.38</td>\n",
              "      <td>0.30</td>\n",
              "      <td>0.447934</td>\n",
              "      <td>0.5056</td>\n",
              "      <td>0.556582</td>\n",
              "      <td>0.477778</td>\n",
              "      <td>0.0</td>\n",
              "      <td>0.0</td>\n",
              "      <td>1.0</td>\n",
              "      <td>0.066667</td>\n",
              "    </tr>\n",
              "    <tr>\n",
              "      <th>3</th>\n",
              "      <td>0.413302</td>\n",
              "      <td>0.558242</td>\n",
              "      <td>0.000000</td>\n",
              "      <td>0.266667</td>\n",
              "      <td>0.132812</td>\n",
              "      <td>0.600000</td>\n",
              "      <td>0.000000</td>\n",
              "      <td>0.105882</td>\n",
              "      <td>0.082353</td>\n",
              "      <td>0.45</td>\n",
              "      <td>0.16</td>\n",
              "      <td>0.613223</td>\n",
              "      <td>0.5712</td>\n",
              "      <td>0.489607</td>\n",
              "      <td>0.551111</td>\n",
              "      <td>0.0</td>\n",
              "      <td>0.0</td>\n",
              "      <td>1.0</td>\n",
              "      <td>0.100000</td>\n",
              "    </tr>\n",
              "    <tr>\n",
              "      <th>4</th>\n",
              "      <td>0.610451</td>\n",
              "      <td>0.652747</td>\n",
              "      <td>0.002720</td>\n",
              "      <td>0.866667</td>\n",
              "      <td>0.265625</td>\n",
              "      <td>0.066667</td>\n",
              "      <td>0.466667</td>\n",
              "      <td>0.058824</td>\n",
              "      <td>0.211765</td>\n",
              "      <td>0.82</td>\n",
              "      <td>0.33</td>\n",
              "      <td>0.500826</td>\n",
              "      <td>0.4624</td>\n",
              "      <td>0.482679</td>\n",
              "      <td>0.622222</td>\n",
              "      <td>0.0</td>\n",
              "      <td>0.0</td>\n",
              "      <td>1.0</td>\n",
              "      <td>0.133333</td>\n",
              "    </tr>\n",
              "  </tbody>\n",
              "</table>\n",
              "</div>"
            ],
            "text/plain": [
              "    MinTemp   MaxTemp  Rainfall  ...  RainTomorrow  Month       Day\n",
              "0  0.513064  0.446154  0.001632  ...           0.0    1.0  0.000000\n",
              "1  0.370546  0.494505  0.000000  ...           0.0    1.0  0.033333\n",
              "2  0.501188  0.507692  0.000000  ...           0.0    1.0  0.066667\n",
              "3  0.413302  0.558242  0.000000  ...           0.0    1.0  0.100000\n",
              "4  0.610451  0.652747  0.002720  ...           0.0    1.0  0.133333\n",
              "\n",
              "[5 rows x 19 columns]"
            ]
          },
          "metadata": {
            "tags": []
          },
          "execution_count": 28
        }
      ]
    },
    {
      "cell_type": "code",
      "metadata": {
        "id": "ji6I0V80eRhO",
        "outputId": "0509c67d-3b2e-4101-9abd-1a97baca96bd",
        "colab": {
          "base_uri": "https://localhost:8080/",
          "height": 317
        }
      },
      "source": [
        "data_estandar.describe()"
      ],
      "execution_count": 29,
      "outputs": [
        {
          "output_type": "execute_result",
          "data": {
            "text/html": [
              "<div>\n",
              "<style scoped>\n",
              "    .dataframe tbody tr th:only-of-type {\n",
              "        vertical-align: middle;\n",
              "    }\n",
              "\n",
              "    .dataframe tbody tr th {\n",
              "        vertical-align: top;\n",
              "    }\n",
              "\n",
              "    .dataframe thead th {\n",
              "        text-align: right;\n",
              "    }\n",
              "</style>\n",
              "<table border=\"1\" class=\"dataframe\">\n",
              "  <thead>\n",
              "    <tr style=\"text-align: right;\">\n",
              "      <th></th>\n",
              "      <th>MinTemp</th>\n",
              "      <th>MaxTemp</th>\n",
              "      <th>Rainfall</th>\n",
              "      <th>WindGustDir</th>\n",
              "      <th>WindGustSpeed</th>\n",
              "      <th>WindDir9am</th>\n",
              "      <th>WindDir3pm</th>\n",
              "      <th>WindSpeed9am</th>\n",
              "      <th>WindSpeed3pm</th>\n",
              "      <th>Humidity9am</th>\n",
              "      <th>Humidity3pm</th>\n",
              "      <th>Pressure9am</th>\n",
              "      <th>Pressure3pm</th>\n",
              "      <th>Temp9am</th>\n",
              "      <th>Temp3pm</th>\n",
              "      <th>RainToday</th>\n",
              "      <th>RainTomorrow</th>\n",
              "      <th>Month</th>\n",
              "      <th>Day</th>\n",
              "    </tr>\n",
              "  </thead>\n",
              "  <tbody>\n",
              "    <tr>\n",
              "      <th>count</th>\n",
              "      <td>112925.000000</td>\n",
              "      <td>112925.000000</td>\n",
              "      <td>112925.000000</td>\n",
              "      <td>112925.000000</td>\n",
              "      <td>112925.000000</td>\n",
              "      <td>112925.000000</td>\n",
              "      <td>112925.000000</td>\n",
              "      <td>112925.000000</td>\n",
              "      <td>112925.000000</td>\n",
              "      <td>112925.000000</td>\n",
              "      <td>112925.000000</td>\n",
              "      <td>112925.000000</td>\n",
              "      <td>112925.000000</td>\n",
              "      <td>112925.000000</td>\n",
              "      <td>112925.000000</td>\n",
              "      <td>112925.000000</td>\n",
              "      <td>112925.000000</td>\n",
              "      <td>112925.000000</td>\n",
              "      <td>112925.000000</td>\n",
              "    </tr>\n",
              "    <tr>\n",
              "      <th>mean</th>\n",
              "      <td>0.495599</td>\n",
              "      <td>0.462762</td>\n",
              "      <td>0.006469</td>\n",
              "      <td>0.514710</td>\n",
              "      <td>0.263958</td>\n",
              "      <td>0.482508</td>\n",
              "      <td>0.517299</td>\n",
              "      <td>0.155049</td>\n",
              "      <td>0.205889</td>\n",
              "      <td>0.674042</td>\n",
              "      <td>0.506691</td>\n",
              "      <td>0.610345</td>\n",
              "      <td>0.607183</td>\n",
              "      <td>0.474873</td>\n",
              "      <td>0.453940</td>\n",
              "      <td>0.224654</td>\n",
              "      <td>0.221554</td>\n",
              "      <td>0.493773</td>\n",
              "      <td>0.490489</td>\n",
              "    </tr>\n",
              "    <tr>\n",
              "      <th>std</th>\n",
              "      <td>0.148554</td>\n",
              "      <td>0.153466</td>\n",
              "      <td>0.023403</td>\n",
              "      <td>0.311543</td>\n",
              "      <td>0.104076</td>\n",
              "      <td>0.303360</td>\n",
              "      <td>0.307719</td>\n",
              "      <td>0.098168</td>\n",
              "      <td>0.100942</td>\n",
              "      <td>0.189116</td>\n",
              "      <td>0.207685</td>\n",
              "      <td>0.116242</td>\n",
              "      <td>0.111325</td>\n",
              "      <td>0.146768</td>\n",
              "      <td>0.151942</td>\n",
              "      <td>0.417356</td>\n",
              "      <td>0.415294</td>\n",
              "      <td>0.316029</td>\n",
              "      <td>0.293011</td>\n",
              "    </tr>\n",
              "    <tr>\n",
              "      <th>min</th>\n",
              "      <td>0.000000</td>\n",
              "      <td>0.000000</td>\n",
              "      <td>0.000000</td>\n",
              "      <td>0.000000</td>\n",
              "      <td>0.000000</td>\n",
              "      <td>0.000000</td>\n",
              "      <td>0.000000</td>\n",
              "      <td>0.000000</td>\n",
              "      <td>0.000000</td>\n",
              "      <td>0.000000</td>\n",
              "      <td>0.000000</td>\n",
              "      <td>0.000000</td>\n",
              "      <td>0.000000</td>\n",
              "      <td>0.000000</td>\n",
              "      <td>0.000000</td>\n",
              "      <td>0.000000</td>\n",
              "      <td>0.000000</td>\n",
              "      <td>0.000000</td>\n",
              "      <td>0.000000</td>\n",
              "    </tr>\n",
              "    <tr>\n",
              "      <th>25%</th>\n",
              "      <td>0.387173</td>\n",
              "      <td>0.345055</td>\n",
              "      <td>0.000000</td>\n",
              "      <td>0.200000</td>\n",
              "      <td>0.187500</td>\n",
              "      <td>0.200000</td>\n",
              "      <td>0.266667</td>\n",
              "      <td>0.082353</td>\n",
              "      <td>0.129412</td>\n",
              "      <td>0.560000</td>\n",
              "      <td>0.360000</td>\n",
              "      <td>0.533884</td>\n",
              "      <td>0.531200</td>\n",
              "      <td>0.364896</td>\n",
              "      <td>0.337778</td>\n",
              "      <td>0.000000</td>\n",
              "      <td>0.000000</td>\n",
              "      <td>0.181818</td>\n",
              "      <td>0.233333</td>\n",
              "    </tr>\n",
              "    <tr>\n",
              "      <th>50%</th>\n",
              "      <td>0.489311</td>\n",
              "      <td>0.450549</td>\n",
              "      <td>0.000000</td>\n",
              "      <td>0.533333</td>\n",
              "      <td>0.250000</td>\n",
              "      <td>0.466667</td>\n",
              "      <td>0.533333</td>\n",
              "      <td>0.129412</td>\n",
              "      <td>0.200000</td>\n",
              "      <td>0.680000</td>\n",
              "      <td>0.510000</td>\n",
              "      <td>0.609917</td>\n",
              "      <td>0.606400</td>\n",
              "      <td>0.466513</td>\n",
              "      <td>0.442222</td>\n",
              "      <td>0.000000</td>\n",
              "      <td>0.000000</td>\n",
              "      <td>0.454545</td>\n",
              "      <td>0.500000</td>\n",
              "    </tr>\n",
              "    <tr>\n",
              "      <th>75%</th>\n",
              "      <td>0.603325</td>\n",
              "      <td>0.573626</td>\n",
              "      <td>0.002176</td>\n",
              "      <td>0.800000</td>\n",
              "      <td>0.320312</td>\n",
              "      <td>0.733333</td>\n",
              "      <td>0.800000</td>\n",
              "      <td>0.211765</td>\n",
              "      <td>0.258824</td>\n",
              "      <td>0.810000</td>\n",
              "      <td>0.650000</td>\n",
              "      <td>0.687603</td>\n",
              "      <td>0.681600</td>\n",
              "      <td>0.579677</td>\n",
              "      <td>0.560000</td>\n",
              "      <td>0.000000</td>\n",
              "      <td>0.000000</td>\n",
              "      <td>0.727273</td>\n",
              "      <td>0.733333</td>\n",
              "    </tr>\n",
              "    <tr>\n",
              "      <th>max</th>\n",
              "      <td>1.000000</td>\n",
              "      <td>1.000000</td>\n",
              "      <td>1.000000</td>\n",
              "      <td>1.000000</td>\n",
              "      <td>1.000000</td>\n",
              "      <td>1.000000</td>\n",
              "      <td>1.000000</td>\n",
              "      <td>1.000000</td>\n",
              "      <td>1.000000</td>\n",
              "      <td>1.000000</td>\n",
              "      <td>1.000000</td>\n",
              "      <td>1.000000</td>\n",
              "      <td>1.000000</td>\n",
              "      <td>1.000000</td>\n",
              "      <td>1.000000</td>\n",
              "      <td>1.000000</td>\n",
              "      <td>1.000000</td>\n",
              "      <td>1.000000</td>\n",
              "      <td>1.000000</td>\n",
              "    </tr>\n",
              "  </tbody>\n",
              "</table>\n",
              "</div>"
            ],
            "text/plain": [
              "             MinTemp        MaxTemp  ...          Month            Day\n",
              "count  112925.000000  112925.000000  ...  112925.000000  112925.000000\n",
              "mean        0.495599       0.462762  ...       0.493773       0.490489\n",
              "std         0.148554       0.153466  ...       0.316029       0.293011\n",
              "min         0.000000       0.000000  ...       0.000000       0.000000\n",
              "25%         0.387173       0.345055  ...       0.181818       0.233333\n",
              "50%         0.489311       0.450549  ...       0.454545       0.500000\n",
              "75%         0.603325       0.573626  ...       0.727273       0.733333\n",
              "max         1.000000       1.000000  ...       1.000000       1.000000\n",
              "\n",
              "[8 rows x 19 columns]"
            ]
          },
          "metadata": {
            "tags": []
          },
          "execution_count": 29
        }
      ]
    },
    {
      "cell_type": "markdown",
      "metadata": {
        "id": "wRglIZINni_M"
      },
      "source": [
        "### Selección del modelo "
      ]
    },
    {
      "cell_type": "markdown",
      "metadata": {
        "id": "Er2S-SQelsV9"
      },
      "source": [
        "Se analiza la correlación de las variables respecto a la variable de interés `RainTomorrow`"
      ]
    },
    {
      "cell_type": "code",
      "metadata": {
        "id": "CxB1a0_Jl1g3",
        "outputId": "d1514e09-b25b-49a4-fc62-614b25cdac6c",
        "colab": {
          "base_uri": "https://localhost:8080/",
          "height": 340
        }
      },
      "source": [
        "data_estandar[data_estandar.columns[1:]].corr()['RainTomorrow'][:]"
      ],
      "execution_count": 30,
      "outputs": [
        {
          "output_type": "execute_result",
          "data": {
            "text/plain": [
              "MaxTemp         -0.168872\n",
              "Rainfall         0.238379\n",
              "WindGustDir      0.051767\n",
              "WindGustSpeed    0.238664\n",
              "WindDir9am       0.029832\n",
              "WindDir3pm       0.026099\n",
              "WindSpeed9am     0.093173\n",
              "WindSpeed3pm     0.096277\n",
              "Humidity9am      0.276704\n",
              "Humidity3pm      0.455945\n",
              "Pressure9am     -0.243702\n",
              "Pressure3pm     -0.224142\n",
              "Temp9am         -0.035385\n",
              "Temp3pm         -0.203525\n",
              "RainToday        0.315359\n",
              "RainTomorrow     1.000000\n",
              "Month            0.006124\n",
              "Day              0.004700\n",
              "Name: RainTomorrow, dtype: float64"
            ]
          },
          "metadata": {
            "tags": []
          },
          "execution_count": 30
        }
      ]
    },
    {
      "cell_type": "code",
      "metadata": {
        "id": "LE6r3dcXmb2s",
        "outputId": "460f8f7b-2974-469f-8257-c2c7f358955c",
        "colab": {
          "base_uri": "https://localhost:8080/",
          "height": 340
        }
      },
      "source": [
        "data_estandar[data_estandar.columns[1:]].corr(method=\"spearman\")['RainTomorrow'][:]"
      ],
      "execution_count": 31,
      "outputs": [
        {
          "output_type": "execute_result",
          "data": {
            "text/plain": [
              "MaxTemp         -0.167848\n",
              "Rainfall         0.337085\n",
              "WindGustDir      0.050944\n",
              "WindGustSpeed    0.217441\n",
              "WindDir9am       0.030297\n",
              "WindDir3pm       0.025117\n",
              "WindSpeed9am     0.083600\n",
              "WindSpeed3pm     0.083290\n",
              "Humidity9am      0.288081\n",
              "Humidity3pm      0.440897\n",
              "Pressure9am     -0.233203\n",
              "Pressure3pm     -0.213465\n",
              "Temp9am         -0.040014\n",
              "Temp3pm         -0.202522\n",
              "RainToday        0.315359\n",
              "RainTomorrow     1.000000\n",
              "Month            0.006399\n",
              "Day              0.004691\n",
              "Name: RainTomorrow, dtype: float64"
            ]
          },
          "metadata": {
            "tags": []
          },
          "execution_count": 31
        }
      ]
    },
    {
      "cell_type": "markdown",
      "metadata": {
        "id": "5HC63cWsmPmM"
      },
      "source": [
        "Teniendo en cuenta la correlación de pearson y spearman mostradas previamente, se realiza la selección de estas variables, considerando las variables con correlaciones superiores a una magnitud de 0.15: "
      ]
    },
    {
      "cell_type": "markdown",
      "metadata": {
        "id": "g40xysu8ncEe"
      },
      "source": [
        "Variables para el modelo seleccionado\n",
        "----------\n",
        "MaxTemp         \n",
        "Rainfall        \n",
        "WindGustSpeed   \n",
        "Humidity9am     \n",
        "Humidity3pm     \n",
        "Pressure9am     \n",
        "Pressure3pm     \n",
        "Temp3pm         \n",
        "RainToday"
      ]
    },
    {
      "cell_type": "code",
      "metadata": {
        "id": "idRc6ilhoDrN",
        "outputId": "de661e7d-ca8f-48c5-876a-cc22ad6f36f9",
        "colab": {
          "base_uri": "https://localhost:8080/",
          "height": 204
        }
      },
      "source": [
        "# Modelo de variables\n",
        "modelo = ['MaxTemp','Rainfall','WindGustSpeed','Humidity9am','Humidity3pm','Pressure9am','Pressure3pm','Temp3pm','RainToday','RainTomorrow']\n",
        "X = data_estandar[modelo]\n",
        "X.head()"
      ],
      "execution_count": 32,
      "outputs": [
        {
          "output_type": "execute_result",
          "data": {
            "text/html": [
              "<div>\n",
              "<style scoped>\n",
              "    .dataframe tbody tr th:only-of-type {\n",
              "        vertical-align: middle;\n",
              "    }\n",
              "\n",
              "    .dataframe tbody tr th {\n",
              "        vertical-align: top;\n",
              "    }\n",
              "\n",
              "    .dataframe thead th {\n",
              "        text-align: right;\n",
              "    }\n",
              "</style>\n",
              "<table border=\"1\" class=\"dataframe\">\n",
              "  <thead>\n",
              "    <tr style=\"text-align: right;\">\n",
              "      <th></th>\n",
              "      <th>MaxTemp</th>\n",
              "      <th>Rainfall</th>\n",
              "      <th>WindGustSpeed</th>\n",
              "      <th>Humidity9am</th>\n",
              "      <th>Humidity3pm</th>\n",
              "      <th>Pressure9am</th>\n",
              "      <th>Pressure3pm</th>\n",
              "      <th>Temp3pm</th>\n",
              "      <th>RainToday</th>\n",
              "      <th>RainTomorrow</th>\n",
              "    </tr>\n",
              "  </thead>\n",
              "  <tbody>\n",
              "    <tr>\n",
              "      <th>0</th>\n",
              "      <td>0.446154</td>\n",
              "      <td>0.001632</td>\n",
              "      <td>0.289062</td>\n",
              "      <td>0.71</td>\n",
              "      <td>0.22</td>\n",
              "      <td>0.449587</td>\n",
              "      <td>0.4800</td>\n",
              "      <td>0.446667</td>\n",
              "      <td>0.0</td>\n",
              "      <td>0.0</td>\n",
              "    </tr>\n",
              "    <tr>\n",
              "      <th>1</th>\n",
              "      <td>0.494505</td>\n",
              "      <td>0.000000</td>\n",
              "      <td>0.289062</td>\n",
              "      <td>0.44</td>\n",
              "      <td>0.25</td>\n",
              "      <td>0.497521</td>\n",
              "      <td>0.4912</td>\n",
              "      <td>0.502222</td>\n",
              "      <td>0.0</td>\n",
              "      <td>0.0</td>\n",
              "    </tr>\n",
              "    <tr>\n",
              "      <th>2</th>\n",
              "      <td>0.507692</td>\n",
              "      <td>0.000000</td>\n",
              "      <td>0.304688</td>\n",
              "      <td>0.38</td>\n",
              "      <td>0.30</td>\n",
              "      <td>0.447934</td>\n",
              "      <td>0.5056</td>\n",
              "      <td>0.477778</td>\n",
              "      <td>0.0</td>\n",
              "      <td>0.0</td>\n",
              "    </tr>\n",
              "    <tr>\n",
              "      <th>3</th>\n",
              "      <td>0.558242</td>\n",
              "      <td>0.000000</td>\n",
              "      <td>0.132812</td>\n",
              "      <td>0.45</td>\n",
              "      <td>0.16</td>\n",
              "      <td>0.613223</td>\n",
              "      <td>0.5712</td>\n",
              "      <td>0.551111</td>\n",
              "      <td>0.0</td>\n",
              "      <td>0.0</td>\n",
              "    </tr>\n",
              "    <tr>\n",
              "      <th>4</th>\n",
              "      <td>0.652747</td>\n",
              "      <td>0.002720</td>\n",
              "      <td>0.265625</td>\n",
              "      <td>0.82</td>\n",
              "      <td>0.33</td>\n",
              "      <td>0.500826</td>\n",
              "      <td>0.4624</td>\n",
              "      <td>0.622222</td>\n",
              "      <td>0.0</td>\n",
              "      <td>0.0</td>\n",
              "    </tr>\n",
              "  </tbody>\n",
              "</table>\n",
              "</div>"
            ],
            "text/plain": [
              "    MaxTemp  Rainfall  WindGustSpeed  ...   Temp3pm  RainToday  RainTomorrow\n",
              "0  0.446154  0.001632       0.289062  ...  0.446667        0.0           0.0\n",
              "1  0.494505  0.000000       0.289062  ...  0.502222        0.0           0.0\n",
              "2  0.507692  0.000000       0.304688  ...  0.477778        0.0           0.0\n",
              "3  0.558242  0.000000       0.132812  ...  0.551111        0.0           0.0\n",
              "4  0.652747  0.002720       0.265625  ...  0.622222        0.0           0.0\n",
              "\n",
              "[5 rows x 10 columns]"
            ]
          },
          "metadata": {
            "tags": []
          },
          "execution_count": 32
        }
      ]
    },
    {
      "cell_type": "code",
      "metadata": {
        "id": "1nRXewCRpDBF",
        "outputId": "7a23af70-048b-4dfc-a52f-856471f0711a",
        "colab": {
          "base_uri": "https://localhost:8080/",
          "height": 119
        }
      },
      "source": [
        "Y = data_estandar['RainTomorrow']\n",
        "Y.head()"
      ],
      "execution_count": 33,
      "outputs": [
        {
          "output_type": "execute_result",
          "data": {
            "text/plain": [
              "0    0.0\n",
              "1    0.0\n",
              "2    0.0\n",
              "3    0.0\n",
              "4    0.0\n",
              "Name: RainTomorrow, dtype: float64"
            ]
          },
          "metadata": {
            "tags": []
          },
          "execution_count": 33
        }
      ]
    },
    {
      "cell_type": "markdown",
      "metadata": {
        "id": "dT3KXIKqpRp-"
      },
      "source": [
        "### Separación de datos entre entrenamiento y evaluación"
      ]
    },
    {
      "cell_type": "code",
      "metadata": {
        "id": "iJdh5HMBpQuF",
        "outputId": "3e7ffd56-ddfb-4173-ba7c-205f3d8e97b5",
        "colab": {
          "base_uri": "https://localhost:8080/",
          "height": 34
        }
      },
      "source": [
        "X_train, X_test, y_train, y_test = train_test_split(X, Y, test_size = 0.2, random_state = 0)\n",
        "# Comparación de tamaños\n",
        "X_train.shape, X_test.shape"
      ],
      "execution_count": 34,
      "outputs": [
        {
          "output_type": "execute_result",
          "data": {
            "text/plain": [
              "((90340, 10), (22585, 10))"
            ]
          },
          "metadata": {
            "tags": []
          },
          "execution_count": 34
        }
      ]
    },
    {
      "cell_type": "markdown",
      "metadata": {
        "id": "KR7fpKMxp9Vm"
      },
      "source": [
        "### Modelo de entrenamiento"
      ]
    },
    {
      "cell_type": "code",
      "metadata": {
        "id": "HTjZNSlrpNC8",
        "outputId": "a96022b4-f764-4ae1-acea-ed598f5bcd6d",
        "colab": {
          "base_uri": "https://localhost:8080/",
          "height": 102
        }
      },
      "source": [
        "logreg = LogisticRegression(solver='liblinear', random_state=0)\n",
        "logreg.fit(X_train, y_train)"
      ],
      "execution_count": 35,
      "outputs": [
        {
          "output_type": "execute_result",
          "data": {
            "text/plain": [
              "LogisticRegression(C=1.0, class_weight=None, dual=False, fit_intercept=True,\n",
              "                   intercept_scaling=1, l1_ratio=None, max_iter=100,\n",
              "                   multi_class='auto', n_jobs=None, penalty='l2',\n",
              "                   random_state=0, solver='liblinear', tol=0.0001, verbose=0,\n",
              "                   warm_start=False)"
            ]
          },
          "metadata": {
            "tags": []
          },
          "execution_count": 35
        }
      ]
    },
    {
      "cell_type": "markdown",
      "metadata": {
        "id": "pb9SSYyMq04-"
      },
      "source": [
        "### Resultados de predicción"
      ]
    },
    {
      "cell_type": "code",
      "metadata": {
        "id": "5MwFksliqnc9",
        "outputId": "2e1347c1-a696-432b-b785-ec287c5399a9",
        "colab": {
          "base_uri": "https://localhost:8080/",
          "height": 34
        }
      },
      "source": [
        "# Se ubican los valores obtenidos en un vector\n",
        "y_pred_test = logreg.predict(X_test)\n",
        "y_pred_test"
      ],
      "execution_count": 36,
      "outputs": [
        {
          "output_type": "execute_result",
          "data": {
            "text/plain": [
              "array([0., 0., 0., ..., 0., 0., 0.])"
            ]
          },
          "metadata": {
            "tags": []
          },
          "execution_count": 36
        }
      ]
    },
    {
      "cell_type": "markdown",
      "metadata": {
        "id": "ZvGGujF3rXjw"
      },
      "source": [
        "Se calcula la probabilidad de lluvia del día siguiente, donde 1 es la probabilidad de que llueva y 0 es que no llueva"
      ]
    },
    {
      "cell_type": "code",
      "metadata": {
        "id": "NvXQV_3Hq8SV",
        "outputId": "845096fe-9fd2-45db-fb99-d0bf2a8f2b78",
        "colab": {
          "base_uri": "https://localhost:8080/",
          "height": 51
        }
      },
      "source": [
        "# Probabilidad que no llueva\n",
        "logreg.predict_proba(X_test)[:,0]"
      ],
      "execution_count": 37,
      "outputs": [
        {
          "output_type": "execute_result",
          "data": {
            "text/plain": [
              "array([0.99984149, 0.99980727, 0.99978623, ..., 0.99980956, 0.99982445,\n",
              "       0.99964817])"
            ]
          },
          "metadata": {
            "tags": []
          },
          "execution_count": 37
        }
      ]
    },
    {
      "cell_type": "code",
      "metadata": {
        "id": "GJbx4k7mraa_",
        "outputId": "9b324942-d3d6-4e91-b66b-b41e9cea4d3f",
        "colab": {
          "base_uri": "https://localhost:8080/",
          "height": 51
        }
      },
      "source": [
        "# Probabilidad que llueva\n",
        "logreg.predict_proba(X_test)[:,1]"
      ],
      "execution_count": 38,
      "outputs": [
        {
          "output_type": "execute_result",
          "data": {
            "text/plain": [
              "array([0.00015851, 0.00019273, 0.00021377, ..., 0.00019044, 0.00017555,\n",
              "       0.00035183])"
            ]
          },
          "metadata": {
            "tags": []
          },
          "execution_count": 38
        }
      ]
    },
    {
      "cell_type": "markdown",
      "metadata": {
        "id": "Tt49ComDr0_d"
      },
      "source": [
        "Se evalua la exactitud del modelo seleccionado"
      ]
    },
    {
      "cell_type": "code",
      "metadata": {
        "id": "KcgqYEQUrfld",
        "outputId": "c142d35b-b11e-4225-99d6-b3735f354179",
        "colab": {
          "base_uri": "https://localhost:8080/",
          "height": 34
        }
      },
      "source": [
        "print('Puntaje de exactitud del modelo: {0:0.4f}'. format(accuracy_score(y_test, y_pred_test)))"
      ],
      "execution_count": 40,
      "outputs": [
        {
          "output_type": "stream",
          "text": [
            "Model accuracy score: 1.0000\n"
          ],
          "name": "stdout"
        }
      ]
    },
    {
      "cell_type": "markdown",
      "metadata": {
        "id": "rxLMjtIXr92m"
      },
      "source": [
        "Se observa que hay una exactitud del 100% del modelo, por lo que se concluye que el modelo seleccionado es correcto. Ahora, se evalua si hay un sobre ajuste o un desajuste en los modelos seleccionados"
      ]
    },
    {
      "cell_type": "code",
      "metadata": {
        "id": "kDNnLfqrsbbO",
        "outputId": "ae77fdb4-da62-4956-f39f-687c9ba287a0",
        "colab": {
          "base_uri": "https://localhost:8080/",
          "height": 51
        }
      },
      "source": [
        "print('Puntaje del conjunto de entrenamiento: {:.4f}'.format(logreg.score(X_train, y_train)))\n",
        "\n",
        "print('Puntaje del conjunto de prueba: {:.4f}'.format(logreg.score(X_test, y_test)))"
      ],
      "execution_count": 41,
      "outputs": [
        {
          "output_type": "stream",
          "text": [
            "Training set score: 1.0000\n",
            "Test set score: 1.0000\n"
          ],
          "name": "stdout"
        }
      ]
    },
    {
      "cell_type": "markdown",
      "metadata": {
        "id": "rcKztfUosuHp"
      },
      "source": [
        "### Comparación con un modelo con todas las variables"
      ]
    },
    {
      "cell_type": "markdown",
      "metadata": {
        "id": "0g82inKiuOvO"
      },
      "source": [
        "El modelo seleccionado para comparar y verificar la exactitud del modelo seleccionado, es un modelo que incluye a todas las variables. Estas se toman del dataframe de las variables estandarizadas, como se muestra a continuación:"
      ]
    },
    {
      "cell_type": "code",
      "metadata": {
        "id": "9mu1uGx6sryR",
        "outputId": "b15e1cff-bdb9-4442-b7b4-3430735eb27d",
        "colab": {
          "base_uri": "https://localhost:8080/",
          "height": 224
        }
      },
      "source": [
        "# La variable data_estandar contiene todos las variables\n",
        "\n",
        "X2 = data_estandar.drop(['RainTomorrow'], axis=1)\n",
        "Y2 = data_estandar['RainTomorrow']\n",
        "X2.head()"
      ],
      "execution_count": 42,
      "outputs": [
        {
          "output_type": "execute_result",
          "data": {
            "text/html": [
              "<div>\n",
              "<style scoped>\n",
              "    .dataframe tbody tr th:only-of-type {\n",
              "        vertical-align: middle;\n",
              "    }\n",
              "\n",
              "    .dataframe tbody tr th {\n",
              "        vertical-align: top;\n",
              "    }\n",
              "\n",
              "    .dataframe thead th {\n",
              "        text-align: right;\n",
              "    }\n",
              "</style>\n",
              "<table border=\"1\" class=\"dataframe\">\n",
              "  <thead>\n",
              "    <tr style=\"text-align: right;\">\n",
              "      <th></th>\n",
              "      <th>MinTemp</th>\n",
              "      <th>MaxTemp</th>\n",
              "      <th>Rainfall</th>\n",
              "      <th>WindGustDir</th>\n",
              "      <th>WindGustSpeed</th>\n",
              "      <th>WindDir9am</th>\n",
              "      <th>WindDir3pm</th>\n",
              "      <th>WindSpeed9am</th>\n",
              "      <th>WindSpeed3pm</th>\n",
              "      <th>Humidity9am</th>\n",
              "      <th>Humidity3pm</th>\n",
              "      <th>Pressure9am</th>\n",
              "      <th>Pressure3pm</th>\n",
              "      <th>Temp9am</th>\n",
              "      <th>Temp3pm</th>\n",
              "      <th>RainToday</th>\n",
              "      <th>Month</th>\n",
              "      <th>Day</th>\n",
              "    </tr>\n",
              "  </thead>\n",
              "  <tbody>\n",
              "    <tr>\n",
              "      <th>0</th>\n",
              "      <td>0.513064</td>\n",
              "      <td>0.446154</td>\n",
              "      <td>0.001632</td>\n",
              "      <td>0.866667</td>\n",
              "      <td>0.289062</td>\n",
              "      <td>0.866667</td>\n",
              "      <td>0.933333</td>\n",
              "      <td>0.211765</td>\n",
              "      <td>0.258824</td>\n",
              "      <td>0.71</td>\n",
              "      <td>0.22</td>\n",
              "      <td>0.449587</td>\n",
              "      <td>0.4800</td>\n",
              "      <td>0.461894</td>\n",
              "      <td>0.446667</td>\n",
              "      <td>0.0</td>\n",
              "      <td>1.0</td>\n",
              "      <td>0.000000</td>\n",
              "    </tr>\n",
              "    <tr>\n",
              "      <th>1</th>\n",
              "      <td>0.370546</td>\n",
              "      <td>0.494505</td>\n",
              "      <td>0.000000</td>\n",
              "      <td>0.933333</td>\n",
              "      <td>0.289062</td>\n",
              "      <td>0.400000</td>\n",
              "      <td>1.000000</td>\n",
              "      <td>0.023529</td>\n",
              "      <td>0.235294</td>\n",
              "      <td>0.44</td>\n",
              "      <td>0.25</td>\n",
              "      <td>0.497521</td>\n",
              "      <td>0.4912</td>\n",
              "      <td>0.468822</td>\n",
              "      <td>0.502222</td>\n",
              "      <td>0.0</td>\n",
              "      <td>1.0</td>\n",
              "      <td>0.033333</td>\n",
              "    </tr>\n",
              "    <tr>\n",
              "      <th>2</th>\n",
              "      <td>0.501188</td>\n",
              "      <td>0.507692</td>\n",
              "      <td>0.000000</td>\n",
              "      <td>1.000000</td>\n",
              "      <td>0.304688</td>\n",
              "      <td>0.866667</td>\n",
              "      <td>1.000000</td>\n",
              "      <td>0.200000</td>\n",
              "      <td>0.282353</td>\n",
              "      <td>0.38</td>\n",
              "      <td>0.30</td>\n",
              "      <td>0.447934</td>\n",
              "      <td>0.5056</td>\n",
              "      <td>0.556582</td>\n",
              "      <td>0.477778</td>\n",
              "      <td>0.0</td>\n",
              "      <td>1.0</td>\n",
              "      <td>0.066667</td>\n",
              "    </tr>\n",
              "    <tr>\n",
              "      <th>3</th>\n",
              "      <td>0.413302</td>\n",
              "      <td>0.558242</td>\n",
              "      <td>0.000000</td>\n",
              "      <td>0.266667</td>\n",
              "      <td>0.132812</td>\n",
              "      <td>0.600000</td>\n",
              "      <td>0.000000</td>\n",
              "      <td>0.105882</td>\n",
              "      <td>0.082353</td>\n",
              "      <td>0.45</td>\n",
              "      <td>0.16</td>\n",
              "      <td>0.613223</td>\n",
              "      <td>0.5712</td>\n",
              "      <td>0.489607</td>\n",
              "      <td>0.551111</td>\n",
              "      <td>0.0</td>\n",
              "      <td>1.0</td>\n",
              "      <td>0.100000</td>\n",
              "    </tr>\n",
              "    <tr>\n",
              "      <th>4</th>\n",
              "      <td>0.610451</td>\n",
              "      <td>0.652747</td>\n",
              "      <td>0.002720</td>\n",
              "      <td>0.866667</td>\n",
              "      <td>0.265625</td>\n",
              "      <td>0.066667</td>\n",
              "      <td>0.466667</td>\n",
              "      <td>0.058824</td>\n",
              "      <td>0.211765</td>\n",
              "      <td>0.82</td>\n",
              "      <td>0.33</td>\n",
              "      <td>0.500826</td>\n",
              "      <td>0.4624</td>\n",
              "      <td>0.482679</td>\n",
              "      <td>0.622222</td>\n",
              "      <td>0.0</td>\n",
              "      <td>1.0</td>\n",
              "      <td>0.133333</td>\n",
              "    </tr>\n",
              "  </tbody>\n",
              "</table>\n",
              "</div>"
            ],
            "text/plain": [
              "    MinTemp   MaxTemp  Rainfall  ...  RainToday  Month       Day\n",
              "0  0.513064  0.446154  0.001632  ...        0.0    1.0  0.000000\n",
              "1  0.370546  0.494505  0.000000  ...        0.0    1.0  0.033333\n",
              "2  0.501188  0.507692  0.000000  ...        0.0    1.0  0.066667\n",
              "3  0.413302  0.558242  0.000000  ...        0.0    1.0  0.100000\n",
              "4  0.610451  0.652747  0.002720  ...        0.0    1.0  0.133333\n",
              "\n",
              "[5 rows x 18 columns]"
            ]
          },
          "metadata": {
            "tags": []
          },
          "execution_count": 42
        }
      ]
    },
    {
      "cell_type": "markdown",
      "metadata": {
        "id": "nrisp5Sot52n"
      },
      "source": [
        "Se separan las variables de entrenamiento y de prueba"
      ]
    },
    {
      "cell_type": "code",
      "metadata": {
        "id": "pm0wSY54s-Rv",
        "outputId": "2a01690f-f661-4d90-ad24-6d6787cbf8a0",
        "colab": {
          "base_uri": "https://localhost:8080/",
          "height": 34
        }
      },
      "source": [
        "X_train2, X_test2, y_train2, y_test2 = train_test_split(X2, Y2, test_size = 0.2, random_state = 0)\n",
        "# Comparación de tamaños\n",
        "X_train2.shape, X_test2.shape"
      ],
      "execution_count": 43,
      "outputs": [
        {
          "output_type": "execute_result",
          "data": {
            "text/plain": [
              "((90340, 18), (22585, 18))"
            ]
          },
          "metadata": {
            "tags": []
          },
          "execution_count": 43
        }
      ]
    },
    {
      "cell_type": "markdown",
      "metadata": {
        "id": "O8IYGWSOt_lu"
      },
      "source": [
        "Se crea entrena el modelo"
      ]
    },
    {
      "cell_type": "code",
      "metadata": {
        "id": "TAQSsyeNtc0m",
        "outputId": "173729d7-5556-49ee-c38e-4534d6cc85db",
        "colab": {
          "base_uri": "https://localhost:8080/",
          "height": 102
        }
      },
      "source": [
        "logreg2 = LogisticRegression(solver='liblinear', random_state=0)\n",
        "logreg2.fit(X_train2, y_train2)"
      ],
      "execution_count": 44,
      "outputs": [
        {
          "output_type": "execute_result",
          "data": {
            "text/plain": [
              "LogisticRegression(C=1.0, class_weight=None, dual=False, fit_intercept=True,\n",
              "                   intercept_scaling=1, l1_ratio=None, max_iter=100,\n",
              "                   multi_class='auto', n_jobs=None, penalty='l2',\n",
              "                   random_state=0, solver='liblinear', tol=0.0001, verbose=0,\n",
              "                   warm_start=False)"
            ]
          },
          "metadata": {
            "tags": []
          },
          "execution_count": 44
        }
      ]
    },
    {
      "cell_type": "markdown",
      "metadata": {
        "id": "o6ZwqdZXuEFu"
      },
      "source": [
        "Se realizan pruebas con el modelo"
      ]
    },
    {
      "cell_type": "code",
      "metadata": {
        "id": "ovRU86Vttu3u",
        "outputId": "4f9f3fe5-366c-4c9f-92b8-e9964b9eec92",
        "colab": {
          "base_uri": "https://localhost:8080/",
          "height": 34
        }
      },
      "source": [
        "# Se ubican los valores obtenidos en un vector\n",
        "y_pred_test2 = logreg2.predict(X_test2)\n",
        "y_pred_test2"
      ],
      "execution_count": 45,
      "outputs": [
        {
          "output_type": "execute_result",
          "data": {
            "text/plain": [
              "array([0., 0., 0., ..., 0., 0., 0.])"
            ]
          },
          "metadata": {
            "tags": []
          },
          "execution_count": 45
        }
      ]
    },
    {
      "cell_type": "markdown",
      "metadata": {
        "id": "3kMVyKswuJZP"
      },
      "source": [
        "Se verifica la exactitud del modelo con todas las variables"
      ]
    },
    {
      "cell_type": "code",
      "metadata": {
        "id": "Mrx4GjIItqXu",
        "outputId": "dfbb42c8-6a65-48b1-840c-8d91109215aa",
        "colab": {
          "base_uri": "https://localhost:8080/",
          "height": 34
        }
      },
      "source": [
        "print('Puntaje de exactitud del modelo: {0:0.4f}'. format(accuracy_score(y_test2, y_pred_test2)))"
      ],
      "execution_count": 46,
      "outputs": [
        {
          "output_type": "stream",
          "text": [
            "Puntaje de exactitud del modelo: 0.8483\n"
          ],
          "name": "stdout"
        }
      ]
    },
    {
      "cell_type": "markdown",
      "metadata": {
        "id": "FJviUEPju6MG"
      },
      "source": [
        "Se verifica el sobreajuste o el desajuste de los datos"
      ]
    },
    {
      "cell_type": "code",
      "metadata": {
        "id": "19w8Zojeuo8I",
        "outputId": "e8acabe3-3227-4738-8b38-7960704c34f2",
        "colab": {
          "base_uri": "https://localhost:8080/",
          "height": 51
        }
      },
      "source": [
        "print('Puntaje del conjunto de entrenamiento: {:.4f}'.format(logreg2.score(X_train2, y_train2)))\n",
        "\n",
        "print('Puntaje del conjunto de prueba: {:.4f}'.format(logreg2.score(X_test2, y_test2)))"
      ],
      "execution_count": 48,
      "outputs": [
        {
          "output_type": "stream",
          "text": [
            "Puntaje del conjunto de entrenamiento: 0.8494\n",
            "Puntaje del conjunto de prueba: 0.8483\n"
          ],
          "name": "stdout"
        }
      ]
    },
    {
      "cell_type": "markdown",
      "metadata": {
        "id": "biOsNDxivOfX"
      },
      "source": [
        "### Conclusiones Finales"
      ]
    },
    {
      "cell_type": "markdown",
      "metadata": {
        "id": "6jvzZDTtvQpX"
      },
      "source": [
        "Se observa que el modelo seleccionado con las variables con correlación mayor a una magnitud de 0.15 es el mejor modelo que puede ser seleccionado, puesto que dio una exactitud del 100% respecto a la predicción del día, con la muestra de prueba seleccionada. Por otra parte, teniendo en cuenta las correlaciones de las demas variables respecto a la variable de interés, se puede concluir que la variable que afecta en mayor medida la probabilidad de que mañana llueva en Australia es `Humidity3pm`, que corresponde al porcentaje de humedad a las 3pm del día anterior a la predicción, pues que es la variable que presenta mayor correlación."
      ]
    }
  ]
}