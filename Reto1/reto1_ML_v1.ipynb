{
  "nbformat": 4,
  "nbformat_minor": 0,
  "metadata": {
    "colab": {
      "name": "reto1_ML_v1.ipynb",
      "provenance": [],
      "collapsed_sections": [],
      "authorship_tag": "ABX9TyNscWOn8F4iZri9bY3yVBn2",
      "include_colab_link": true
    },
    "kernelspec": {
      "name": "python3",
      "display_name": "Python 3"
    }
  },
  "cells": [
    {
      "cell_type": "markdown",
      "metadata": {
        "id": "view-in-github",
        "colab_type": "text"
      },
      "source": [
        "<a href=\"https://colab.research.google.com/github/andresenrique08/ML_2020/blob/master/Reto1/reto1_ML_v1.ipynb\" target=\"_parent\"><img src=\"https://colab.research.google.com/assets/colab-badge.svg\" alt=\"Open In Colab\"/></a>"
      ]
    },
    {
      "cell_type": "markdown",
      "metadata": {
        "id": "9fsXSr-XoFSc",
        "colab_type": "text"
      },
      "source": [
        "## **Reto 1**\n",
        "### Curso de Machine Learning 2020-20\n",
        "Autores:\n",
        "*    Andrés Enrique Ávila Rojas (201319127)\n",
        "*   Jeison Alexander Timana Rangel (Código)\n"
      ]
    },
    {
      "cell_type": "markdown",
      "metadata": {
        "id": "z6xqFjbtqUB-",
        "colab_type": "text"
      },
      "source": [
        "**Predicción de la expectativa de vida**"
      ]
    },
    {
      "cell_type": "code",
      "metadata": {
        "id": "SiMyox8fTkUE",
        "colab_type": "code",
        "colab": {}
      },
      "source": [
        "# Import libraries \n",
        "import numpy as np \n",
        "import pandas as pd\n",
        "from sklearn import datasets, linear_model\n",
        "from sklearn.metrics import mean_squared_error, r2_score # las dos medidas que se van a utilizar pero en diferentes datasets.\n",
        "from sklearn.model_selection import train_test_split\n"
      ],
      "execution_count": 1,
      "outputs": []
    },
    {
      "cell_type": "markdown",
      "metadata": {
        "id": "WQMlUMei2AiE",
        "colab_type": "text"
      },
      "source": [
        "Se toman los datos del repositorio de github con el siguiente link https://github.com/andresenrique08/ML_2020/blob/master/Reto1/Life_Expectancy_Data.csv"
      ]
    },
    {
      "cell_type": "code",
      "metadata": {
        "id": "5crQvHFIkbKi",
        "colab_type": "code",
        "colab": {}
      },
      "source": [
        "# Reading file from github\n",
        "url = \"https://raw.githubusercontent.com/andresenrique08/ML_2020/master/Reto1/Life_Expectancy_Data.csv\"\n",
        "data  = pd.read_csv(url) "
      ],
      "execution_count": 2,
      "outputs": []
    },
    {
      "cell_type": "markdown",
      "metadata": {
        "id": "AnwVJ2142P7T",
        "colab_type": "text"
      },
      "source": [
        "Se reemplazan los datos de la columna Status por una variable binaria, donde el 0 indica \"Developing\" y el 1 indica \"Developed\". Además se elimina la variable Country del conjunto de datos totales."
      ]
    },
    {
      "cell_type": "code",
      "metadata": {
        "id": "72u90UqhxhVt",
        "colab_type": "code",
        "colab": {
          "base_uri": "https://localhost:8080/",
          "height": 490
        },
        "outputId": "fe7bf9ce-cc4c-470d-d9bd-8b0d548bd609"
      },
      "source": [
        "# Preparing data\n",
        "data['Status'].replace(['Developing','Developed'],[0,1], inplace=True)\n",
        "# Deleting variable named \"Country\"\n",
        "del data['Country']\n",
        "# Converting nan values to zero\n",
        "data = data.fillna(0)\n",
        "# Showing the data set\n",
        "data.head(130)"
      ],
      "execution_count": 3,
      "outputs": [
        {
          "output_type": "execute_result",
          "data": {
            "text/html": [
              "<div>\n",
              "<style scoped>\n",
              "    .dataframe tbody tr th:only-of-type {\n",
              "        vertical-align: middle;\n",
              "    }\n",
              "\n",
              "    .dataframe tbody tr th {\n",
              "        vertical-align: top;\n",
              "    }\n",
              "\n",
              "    .dataframe thead th {\n",
              "        text-align: right;\n",
              "    }\n",
              "</style>\n",
              "<table border=\"1\" class=\"dataframe\">\n",
              "  <thead>\n",
              "    <tr style=\"text-align: right;\">\n",
              "      <th></th>\n",
              "      <th>Year</th>\n",
              "      <th>Status</th>\n",
              "      <th>Life expectancy</th>\n",
              "      <th>Adult Mortality</th>\n",
              "      <th>infant deaths</th>\n",
              "      <th>Alcohol</th>\n",
              "      <th>percentage expenditure</th>\n",
              "      <th>Hepatitis B</th>\n",
              "      <th>Measles</th>\n",
              "      <th>BMI</th>\n",
              "      <th>under-five deaths</th>\n",
              "      <th>Polio</th>\n",
              "      <th>Total expenditure</th>\n",
              "      <th>Diphtheria</th>\n",
              "      <th>HIV/AIDS</th>\n",
              "      <th>GDP</th>\n",
              "      <th>Population</th>\n",
              "      <th>thinness  1-19 years</th>\n",
              "      <th>thinness 5-9 years</th>\n",
              "      <th>Income composition of resources</th>\n",
              "      <th>Schooling</th>\n",
              "    </tr>\n",
              "  </thead>\n",
              "  <tbody>\n",
              "    <tr>\n",
              "      <th>0</th>\n",
              "      <td>2015</td>\n",
              "      <td>0</td>\n",
              "      <td>65.0</td>\n",
              "      <td>263.0</td>\n",
              "      <td>62</td>\n",
              "      <td>0.01</td>\n",
              "      <td>71.279624</td>\n",
              "      <td>65.0</td>\n",
              "      <td>1154</td>\n",
              "      <td>19.1</td>\n",
              "      <td>83</td>\n",
              "      <td>6.0</td>\n",
              "      <td>8.16</td>\n",
              "      <td>65.0</td>\n",
              "      <td>0.1</td>\n",
              "      <td>584.259210</td>\n",
              "      <td>33736494.0</td>\n",
              "      <td>17.2</td>\n",
              "      <td>17.3</td>\n",
              "      <td>0.479</td>\n",
              "      <td>10.1</td>\n",
              "    </tr>\n",
              "    <tr>\n",
              "      <th>1</th>\n",
              "      <td>2014</td>\n",
              "      <td>0</td>\n",
              "      <td>59.9</td>\n",
              "      <td>271.0</td>\n",
              "      <td>64</td>\n",
              "      <td>0.01</td>\n",
              "      <td>73.523582</td>\n",
              "      <td>62.0</td>\n",
              "      <td>492</td>\n",
              "      <td>18.6</td>\n",
              "      <td>86</td>\n",
              "      <td>58.0</td>\n",
              "      <td>8.18</td>\n",
              "      <td>62.0</td>\n",
              "      <td>0.1</td>\n",
              "      <td>612.696514</td>\n",
              "      <td>327582.0</td>\n",
              "      <td>17.5</td>\n",
              "      <td>17.5</td>\n",
              "      <td>0.476</td>\n",
              "      <td>10.0</td>\n",
              "    </tr>\n",
              "    <tr>\n",
              "      <th>2</th>\n",
              "      <td>2013</td>\n",
              "      <td>0</td>\n",
              "      <td>59.9</td>\n",
              "      <td>268.0</td>\n",
              "      <td>66</td>\n",
              "      <td>0.01</td>\n",
              "      <td>73.219243</td>\n",
              "      <td>64.0</td>\n",
              "      <td>430</td>\n",
              "      <td>18.1</td>\n",
              "      <td>89</td>\n",
              "      <td>62.0</td>\n",
              "      <td>8.13</td>\n",
              "      <td>64.0</td>\n",
              "      <td>0.1</td>\n",
              "      <td>631.744976</td>\n",
              "      <td>31731688.0</td>\n",
              "      <td>17.7</td>\n",
              "      <td>17.7</td>\n",
              "      <td>0.470</td>\n",
              "      <td>9.9</td>\n",
              "    </tr>\n",
              "    <tr>\n",
              "      <th>3</th>\n",
              "      <td>2012</td>\n",
              "      <td>0</td>\n",
              "      <td>59.5</td>\n",
              "      <td>272.0</td>\n",
              "      <td>69</td>\n",
              "      <td>0.01</td>\n",
              "      <td>78.184215</td>\n",
              "      <td>67.0</td>\n",
              "      <td>2787</td>\n",
              "      <td>17.6</td>\n",
              "      <td>93</td>\n",
              "      <td>67.0</td>\n",
              "      <td>8.52</td>\n",
              "      <td>67.0</td>\n",
              "      <td>0.1</td>\n",
              "      <td>669.959000</td>\n",
              "      <td>3696958.0</td>\n",
              "      <td>17.9</td>\n",
              "      <td>18.0</td>\n",
              "      <td>0.463</td>\n",
              "      <td>9.8</td>\n",
              "    </tr>\n",
              "    <tr>\n",
              "      <th>4</th>\n",
              "      <td>2011</td>\n",
              "      <td>0</td>\n",
              "      <td>59.2</td>\n",
              "      <td>275.0</td>\n",
              "      <td>71</td>\n",
              "      <td>0.01</td>\n",
              "      <td>7.097109</td>\n",
              "      <td>68.0</td>\n",
              "      <td>3013</td>\n",
              "      <td>17.2</td>\n",
              "      <td>97</td>\n",
              "      <td>68.0</td>\n",
              "      <td>7.87</td>\n",
              "      <td>68.0</td>\n",
              "      <td>0.1</td>\n",
              "      <td>63.537231</td>\n",
              "      <td>2978599.0</td>\n",
              "      <td>18.2</td>\n",
              "      <td>18.2</td>\n",
              "      <td>0.454</td>\n",
              "      <td>9.5</td>\n",
              "    </tr>\n",
              "    <tr>\n",
              "      <th>...</th>\n",
              "      <td>...</td>\n",
              "      <td>...</td>\n",
              "      <td>...</td>\n",
              "      <td>...</td>\n",
              "      <td>...</td>\n",
              "      <td>...</td>\n",
              "      <td>...</td>\n",
              "      <td>...</td>\n",
              "      <td>...</td>\n",
              "      <td>...</td>\n",
              "      <td>...</td>\n",
              "      <td>...</td>\n",
              "      <td>...</td>\n",
              "      <td>...</td>\n",
              "      <td>...</td>\n",
              "      <td>...</td>\n",
              "      <td>...</td>\n",
              "      <td>...</td>\n",
              "      <td>...</td>\n",
              "      <td>...</td>\n",
              "      <td>...</td>\n",
              "    </tr>\n",
              "    <tr>\n",
              "      <th>125</th>\n",
              "      <td>2002</td>\n",
              "      <td>1</td>\n",
              "      <td>79.9</td>\n",
              "      <td>73.0</td>\n",
              "      <td>1</td>\n",
              "      <td>9.84</td>\n",
              "      <td>46.387182</td>\n",
              "      <td>95.0</td>\n",
              "      <td>32</td>\n",
              "      <td>59.6</td>\n",
              "      <td>2</td>\n",
              "      <td>92.0</td>\n",
              "      <td>8.39</td>\n",
              "      <td>92.0</td>\n",
              "      <td>0.1</td>\n",
              "      <td>281.817630</td>\n",
              "      <td>196514.0</td>\n",
              "      <td>0.7</td>\n",
              "      <td>0.7</td>\n",
              "      <td>0.902</td>\n",
              "      <td>20.1</td>\n",
              "    </tr>\n",
              "    <tr>\n",
              "      <th>126</th>\n",
              "      <td>2001</td>\n",
              "      <td>1</td>\n",
              "      <td>79.9</td>\n",
              "      <td>75.0</td>\n",
              "      <td>1</td>\n",
              "      <td>9.53</td>\n",
              "      <td>3064.301144</td>\n",
              "      <td>94.0</td>\n",
              "      <td>141</td>\n",
              "      <td>59.0</td>\n",
              "      <td>2</td>\n",
              "      <td>91.0</td>\n",
              "      <td>8.18</td>\n",
              "      <td>92.0</td>\n",
              "      <td>0.1</td>\n",
              "      <td>19517.841680</td>\n",
              "      <td>19413.0</td>\n",
              "      <td>0.7</td>\n",
              "      <td>0.7</td>\n",
              "      <td>0.899</td>\n",
              "      <td>20.5</td>\n",
              "    </tr>\n",
              "    <tr>\n",
              "      <th>127</th>\n",
              "      <td>2000</td>\n",
              "      <td>1</td>\n",
              "      <td>79.5</td>\n",
              "      <td>78.0</td>\n",
              "      <td>1</td>\n",
              "      <td>10.17</td>\n",
              "      <td>347.187360</td>\n",
              "      <td>0.0</td>\n",
              "      <td>108</td>\n",
              "      <td>58.2</td>\n",
              "      <td>2</td>\n",
              "      <td>9.0</td>\n",
              "      <td>8.80</td>\n",
              "      <td>9.0</td>\n",
              "      <td>0.1</td>\n",
              "      <td>2169.921000</td>\n",
              "      <td>19153.0</td>\n",
              "      <td>0.7</td>\n",
              "      <td>0.7</td>\n",
              "      <td>0.897</td>\n",
              "      <td>20.4</td>\n",
              "    </tr>\n",
              "    <tr>\n",
              "      <th>128</th>\n",
              "      <td>2015</td>\n",
              "      <td>1</td>\n",
              "      <td>81.5</td>\n",
              "      <td>65.0</td>\n",
              "      <td>0</td>\n",
              "      <td>0.00</td>\n",
              "      <td>0.000000</td>\n",
              "      <td>93.0</td>\n",
              "      <td>309</td>\n",
              "      <td>57.6</td>\n",
              "      <td>0</td>\n",
              "      <td>93.0</td>\n",
              "      <td>0.00</td>\n",
              "      <td>93.0</td>\n",
              "      <td>0.1</td>\n",
              "      <td>43665.947000</td>\n",
              "      <td>8633169.0</td>\n",
              "      <td>1.9</td>\n",
              "      <td>2.1</td>\n",
              "      <td>0.892</td>\n",
              "      <td>15.9</td>\n",
              "    </tr>\n",
              "    <tr>\n",
              "      <th>129</th>\n",
              "      <td>2014</td>\n",
              "      <td>1</td>\n",
              "      <td>81.4</td>\n",
              "      <td>66.0</td>\n",
              "      <td>0</td>\n",
              "      <td>12.32</td>\n",
              "      <td>8350.193523</td>\n",
              "      <td>98.0</td>\n",
              "      <td>117</td>\n",
              "      <td>57.1</td>\n",
              "      <td>0</td>\n",
              "      <td>98.0</td>\n",
              "      <td>11.21</td>\n",
              "      <td>98.0</td>\n",
              "      <td>0.1</td>\n",
              "      <td>51322.639970</td>\n",
              "      <td>8541575.0</td>\n",
              "      <td>1.8</td>\n",
              "      <td>2.0</td>\n",
              "      <td>0.892</td>\n",
              "      <td>15.9</td>\n",
              "    </tr>\n",
              "  </tbody>\n",
              "</table>\n",
              "<p>130 rows × 21 columns</p>\n",
              "</div>"
            ],
            "text/plain": [
              "     Year  Status  ...  Income composition of resources  Schooling\n",
              "0    2015       0  ...                            0.479       10.1\n",
              "1    2014       0  ...                            0.476       10.0\n",
              "2    2013       0  ...                            0.470        9.9\n",
              "3    2012       0  ...                            0.463        9.8\n",
              "4    2011       0  ...                            0.454        9.5\n",
              "..    ...     ...  ...                              ...        ...\n",
              "125  2002       1  ...                            0.902       20.1\n",
              "126  2001       1  ...                            0.899       20.5\n",
              "127  2000       1  ...                            0.897       20.4\n",
              "128  2015       1  ...                            0.892       15.9\n",
              "129  2014       1  ...                            0.892       15.9\n",
              "\n",
              "[130 rows x 21 columns]"
            ]
          },
          "metadata": {
            "tags": []
          },
          "execution_count": 3
        }
      ]
    },
    {
      "cell_type": "markdown",
      "metadata": {
        "id": "KrYaCsgxIhqs",
        "colab_type": "text"
      },
      "source": [
        "Se separan los datos objetivo y los datos del modelo"
      ]
    },
    {
      "cell_type": "code",
      "metadata": {
        "id": "zCkOXYsiJEop",
        "colab_type": "code",
        "colab": {}
      },
      "source": [
        "# Target dataset (Life expectancy)\n",
        "data_Y=data.loc[:,'Life expectancy ']\n",
        "# Deleting the targets to define the whole dataset for models\n",
        "del data['Life expectancy ']\n",
        "data_X=data"
      ],
      "execution_count": 4,
      "outputs": []
    },
    {
      "cell_type": "markdown",
      "metadata": {
        "id": "wk7VUw7-2ksu",
        "colab_type": "text"
      },
      "source": [
        "Se parte en el conjunto de entrenamiento (train) y el de prueba (test) y se seleccionan los distintos modelos"
      ]
    },
    {
      "cell_type": "code",
      "metadata": {
        "id": "tuiETuzF2w4r",
        "colab_type": "code",
        "colab": {}
      },
      "source": [
        "data_X_train, data_X_test, data_Y_train, data_Y_test = train_test_split(data_X,data_Y, test_size=0.2)\n",
        "# First model\n",
        "data_m1_X_train = data_X_train.iloc[:, 0:11]\n",
        "data_m1_X_test = data_X_test.iloc[:, 0:11]\n",
        "\n",
        "# Second model\n",
        "modelo_2 = ['Status','Adult Mortality','infant deaths','Alcohol','Hepatitis B','Measles ',' BMI ','under-five deaths ','Polio','Diphtheria ',' HIV/AIDS','GDP','Population',' thinness  1-19 years',' thinness 5-9 years']\n",
        "data_m2_X_train = data_X_train.loc[:, modelo_2]\n",
        "data_m2_X_test = data_X_test.loc[:, modelo_2]\n",
        "\n",
        "# Third model\n",
        "data_m3_X_train = data_X_train\n",
        "data_m3_X_test = data_X_test"
      ],
      "execution_count": 5,
      "outputs": []
    },
    {
      "cell_type": "markdown",
      "metadata": {
        "id": "YZk8DC1cU0RU",
        "colab_type": "text"
      },
      "source": [
        "### **Regresión Lineal para el modelo 1**"
      ]
    },
    {
      "cell_type": "code",
      "metadata": {
        "id": "Jkdpj2ZsSSMu",
        "colab_type": "code",
        "colab": {
          "base_uri": "https://localhost:8080/",
          "height": 102
        },
        "outputId": "6069514d-36e4-480b-bd56-500aea80f3b9"
      },
      "source": [
        "# Creating the linear regression object\n",
        "regr = linear_model.LinearRegression()\n",
        "\n",
        "# Training the model using the training sets\n",
        "regr.fit(data_m1_X_train, data_Y_train)\n",
        "\n",
        "\n",
        "\n",
        "# The coefficients\n",
        "print('Coeficientes: \\n', regr.coef_)\n",
        "print(\"Intercepto:\",regr.intercept_)"
      ],
      "execution_count": 6,
      "outputs": [
        {
          "output_type": "stream",
          "text": [
            "Coeficientes: \n",
            " [ 6.14698281e-02  3.94665383e+00 -3.05925218e-02  1.52371134e-01\n",
            "  2.80990564e-01  5.60552292e-04  2.06350513e-02 -1.93348192e-05\n",
            "  8.28632689e-02 -1.13910317e-01  5.19704582e-02]\n",
            "Intercepto: -60.30172775927328\n"
          ],
          "name": "stdout"
        }
      ]
    },
    {
      "cell_type": "markdown",
      "metadata": {
        "id": "flBL2PzOqhw9",
        "colab_type": "text"
      },
      "source": [
        "El siguiente cálculo se realiza teniendo en cuenta que el coeficiente de determinación ($R^2$) ajustado está dado por la siguiente fórmula:\n",
        "\\begin{align}\n",
        "      R_{ajustado}^2=1-\\frac{n-1}{n-k-1}(1-R^2)\n",
        "\\end{align}\n",
        "Donde $n$ es el numero de puntos en las muestras y $k$ es el número de variables independientes. \\\\\n",
        "Esto se realiza teniendo en cuenta que la función ``` r2_score ``` encuentra el coeficiente de determinanción ($R^2$), pero no ajustado.\n",
        "\n",
        "\n",
        "\n",
        "\n",
        "\n"
      ]
    },
    {
      "cell_type": "markdown",
      "metadata": {
        "id": "uMBnBDlH3XDd",
        "colab_type": "text"
      },
      "source": [
        "Para el cálculo del error cuadrático medio se usa la función ``` mean_squared_error ```."
      ]
    },
    {
      "cell_type": "code",
      "metadata": {
        "id": "Cqi6qru6YM2o",
        "colab_type": "code",
        "colab": {
          "base_uri": "https://localhost:8080/",
          "height": 111
        },
        "outputId": "64a97887-3155-477d-bdbf-f66db5581abc"
      },
      "source": [
        "# Making predictions using the testing set\n",
        "data_m1_Y_predict = regr.predict(data_m1_X_test)\n",
        "\n",
        "# Finding the coefficient of determination (In mind: 1 is perfect prediction)\n",
        "r2_m1=r2_score(data_Y_test,data_m1_Y_predict)\n",
        "k = data_m1_X_train.shape[1]\n",
        "n=len(data_Y_train)\n",
        "r2_ajustado_m1 = 1-((n-1)/(n-k-1))*(1-r2_m1)\n",
        "\n",
        "# Finding de Mean Squared Error\n",
        "MSE_m1 = mean_squared_error(data_Y_test, data_m1_Y_predict)\n",
        "\n",
        "# Show results in a table\n",
        "results_m1 = np.array([r2_ajustado_m1,MSE_m1])\n",
        "medida =['Coef. Determ. Ajustado', 'MSE']\n",
        "pd.DataFrame(results_m1,medida,columns=['Valor'])"
      ],
      "execution_count": 7,
      "outputs": [
        {
          "output_type": "execute_result",
          "data": {
            "text/html": [
              "<div>\n",
              "<style scoped>\n",
              "    .dataframe tbody tr th:only-of-type {\n",
              "        vertical-align: middle;\n",
              "    }\n",
              "\n",
              "    .dataframe tbody tr th {\n",
              "        vertical-align: top;\n",
              "    }\n",
              "\n",
              "    .dataframe thead th {\n",
              "        text-align: right;\n",
              "    }\n",
              "</style>\n",
              "<table border=\"1\" class=\"dataframe\">\n",
              "  <thead>\n",
              "    <tr style=\"text-align: right;\">\n",
              "      <th></th>\n",
              "      <th>Valor</th>\n",
              "    </tr>\n",
              "  </thead>\n",
              "  <tbody>\n",
              "    <tr>\n",
              "      <th>Coef. Determ. Ajustado</th>\n",
              "      <td>0.685640</td>\n",
              "    </tr>\n",
              "    <tr>\n",
              "      <th>MSE</th>\n",
              "      <td>29.837037</td>\n",
              "    </tr>\n",
              "  </tbody>\n",
              "</table>\n",
              "</div>"
            ],
            "text/plain": [
              "                            Valor\n",
              "Coef. Determ. Ajustado   0.685640\n",
              "MSE                     29.837037"
            ]
          },
          "metadata": {
            "tags": []
          },
          "execution_count": 7
        }
      ]
    },
    {
      "cell_type": "markdown",
      "metadata": {
        "colab_type": "text",
        "id": "D0mR264Ax1iw"
      },
      "source": [
        "### **Regresión Lineal para el modelo 2**"
      ]
    },
    {
      "cell_type": "code",
      "metadata": {
        "colab_type": "code",
        "id": "vgPo-s9Xx29Q",
        "colab": {
          "base_uri": "https://localhost:8080/",
          "height": 119
        },
        "outputId": "f4ceef70-cc18-4956-f4fd-beaca2cf4072"
      },
      "source": [
        "# Creating the linear regression object\n",
        "regr = linear_model.LinearRegression()\n",
        "\n",
        "# Training the model using the training sets\n",
        "regr.fit(data_m2_X_train, data_Y_train)\n",
        "\n",
        "\n",
        "\n",
        "# The coefficients\n",
        "print('Coeficientes: \\n', regr.coef_)\n",
        "print(\"Intercepto:\",regr.intercept_)"
      ],
      "execution_count": 8,
      "outputs": [
        {
          "output_type": "stream",
          "text": [
            "Coeficientes: \n",
            " [ 3.33769547e+00 -1.93072361e-02  1.35154058e-01  3.04424527e-01\n",
            "  1.25463140e-02 -1.76293416e-05  7.04410875e-02 -1.01086995e-01\n",
            "  3.45019151e-02  3.52915594e-02 -5.15493506e-01  1.03735846e-04\n",
            "  4.65550164e-10 -1.20108727e-01  6.87999449e-02]\n",
            "Intercepto: 61.65959650474999\n"
          ],
          "name": "stdout"
        }
      ]
    },
    {
      "cell_type": "markdown",
      "metadata": {
        "colab_type": "text",
        "id": "PZQgZCSGx29S"
      },
      "source": [
        "El siguiente cálculo se realiza teniendo en cuenta que el coeficiente de determinación ($R^2$) ajustado está dado por la siguiente fórmula:\n",
        "\\begin{align}\n",
        "      R_{ajustado}^2=1-\\frac{n-1}{n-k-1}(1-R^2)\n",
        "\\end{align}\n",
        "Donde $n$ es el numero de puntos en las muestras y $k$ es el número de variables independientes. \\\\\n",
        "Esto se realiza teniendo en cuenta que la función ``` r2_score ``` encuentra el coeficiente de determinanción ($R^2$), pero no ajustado.\n",
        "\n",
        "\n",
        "\n",
        "\n",
        "\n"
      ]
    },
    {
      "cell_type": "markdown",
      "metadata": {
        "id": "QvlpifuG3Uu9",
        "colab_type": "text"
      },
      "source": [
        "Para el cálculo del error cuadrático medio se usa la función ``` mean_squared_error ```."
      ]
    },
    {
      "cell_type": "code",
      "metadata": {
        "colab_type": "code",
        "id": "1nbmjW-6x29S",
        "colab": {
          "base_uri": "https://localhost:8080/",
          "height": 111
        },
        "outputId": "704d4fe3-5274-48e3-f023-f03bda1d0b46"
      },
      "source": [
        "# Making predictions using the testing set\n",
        "data_m2_Y_predict = regr.predict(data_m2_X_test)\n",
        "\n",
        "# Finding the coefficient of determination (In mind: 1 is perfect prediction)\n",
        "r2_m2=r2_score(data_Y_test,data_m2_Y_predict)\n",
        "k = data_m2_X_train.shape[1]\n",
        "n=len(data_Y_train)\n",
        "r2_ajustado_m2 = 1-((n-1)/(n-k-1))*(1-r2_m2)\n",
        "\n",
        "# Finding de Mean Squared Error\n",
        "MSE_m2 = mean_squared_error(data_Y_test, data_m2_Y_predict)\n",
        "\n",
        "# Show results in a table\n",
        "results_m2 = np.array([r2_ajustado_m2,MSE_m2])\n",
        "medida =['Coef. Determ. Ajustado', 'MSE']\n",
        "pd.DataFrame(results_m2,medida,columns=['Valor'])"
      ],
      "execution_count": 9,
      "outputs": [
        {
          "output_type": "execute_result",
          "data": {
            "text/html": [
              "<div>\n",
              "<style scoped>\n",
              "    .dataframe tbody tr th:only-of-type {\n",
              "        vertical-align: middle;\n",
              "    }\n",
              "\n",
              "    .dataframe tbody tr th {\n",
              "        vertical-align: top;\n",
              "    }\n",
              "\n",
              "    .dataframe thead th {\n",
              "        text-align: right;\n",
              "    }\n",
              "</style>\n",
              "<table border=\"1\" class=\"dataframe\">\n",
              "  <thead>\n",
              "    <tr style=\"text-align: right;\">\n",
              "      <th></th>\n",
              "      <th>Valor</th>\n",
              "    </tr>\n",
              "  </thead>\n",
              "  <tbody>\n",
              "    <tr>\n",
              "      <th>Coef. Determ. Ajustado</th>\n",
              "      <td>0.746212</td>\n",
              "    </tr>\n",
              "    <tr>\n",
              "      <th>MSE</th>\n",
              "      <td>24.046681</td>\n",
              "    </tr>\n",
              "  </tbody>\n",
              "</table>\n",
              "</div>"
            ],
            "text/plain": [
              "                            Valor\n",
              "Coef. Determ. Ajustado   0.746212\n",
              "MSE                     24.046681"
            ]
          },
          "metadata": {
            "tags": []
          },
          "execution_count": 9
        }
      ]
    },
    {
      "cell_type": "markdown",
      "metadata": {
        "colab_type": "text",
        "id": "6HZPoCAcx29P"
      },
      "source": [
        "### **Regresión Lineal para el modelo 3**"
      ]
    },
    {
      "cell_type": "code",
      "metadata": {
        "colab_type": "code",
        "id": "Y5wwlJfxx1ix",
        "colab": {
          "base_uri": "https://localhost:8080/",
          "height": 136
        },
        "outputId": "58fca8d6-4ad3-4796-92bc-b82683aac2f0"
      },
      "source": [
        "# Creating the linear regression object\n",
        "regr = linear_model.LinearRegression()\n",
        "\n",
        "# Training the model using the training sets\n",
        "regr.fit(data_m3_X_train, data_Y_train)\n",
        "\n",
        "\n",
        "\n",
        "# The coefficients\n",
        "print('Coeficientes: \\n', regr.coef_)\n",
        "print(\"Intercepto:\",regr.intercept_)"
      ],
      "execution_count": 10,
      "outputs": [
        {
          "output_type": "stream",
          "text": [
            "Coeficientes: \n",
            " [-4.41291346e-02  3.19430122e+00 -1.60459971e-02  1.16219001e-01\n",
            "  2.60157635e-01 -6.28633414e-05  8.36493714e-03 -7.29911944e-06\n",
            "  4.27788855e-02 -8.64737693e-02  2.93506686e-02 -8.89865508e-02\n",
            "  2.47437946e-02 -5.30279083e-01  6.25230702e-05 -2.00151536e-09\n",
            " -4.68953911e-02 -1.78751348e-02  6.76157706e+00  2.35265166e-01]\n",
            "Intercepto: 146.72314093993631\n"
          ],
          "name": "stdout"
        }
      ]
    },
    {
      "cell_type": "markdown",
      "metadata": {
        "colab_type": "text",
        "id": "vMgC9Kl_x1i1"
      },
      "source": [
        "El siguiente cálculo se realiza teniendo en cuenta que el coeficiente de determinación ($R^2$) ajustado está dado por la siguiente fórmula:\n",
        "\\begin{align}\n",
        "      R_{ajustado}^2=1-\\frac{n-1}{n-k-1}(1-R^2)\n",
        "\\end{align}\n",
        "Donde $n$ es el numero de puntos en las muestras y $k$ es el número de variables independientes. \\\\\n",
        "Esto se realiza teniendo en cuenta que la función ``` r2_score ``` encuentra el coeficiente de determinanción ($R^2$), pero no ajustado.\n",
        "\n",
        "\n",
        "\n",
        "\n",
        "\n"
      ]
    },
    {
      "cell_type": "markdown",
      "metadata": {
        "id": "5sAkSRkh3DLW",
        "colab_type": "text"
      },
      "source": [
        "Para el cálculo del error cuadrático medio se usa la función ``` mean_squared_error ```."
      ]
    },
    {
      "cell_type": "code",
      "metadata": {
        "colab_type": "code",
        "id": "czl9ecBEx1i1",
        "colab": {
          "base_uri": "https://localhost:8080/",
          "height": 111
        },
        "outputId": "99a2b202-ce6b-4712-a73e-7daf6a710735"
      },
      "source": [
        "# Making predictions using the testing set\n",
        "data_m3_Y_predict = regr.predict(data_m3_X_test)\n",
        "\n",
        "# Finding the coefficient of determination (In mind: 1 is perfect prediction)\n",
        "r2_m3=r2_score(data_Y_test,data_m3_Y_predict)\n",
        "k = data_m3_X_train.shape[1]\n",
        "n=len(data_Y_train)\n",
        "r2_ajustado_m3 = 1-((n-1)/(n-k-1))*(1-r2_m3)\n",
        "\n",
        "# Finding de Mean Squared Error\n",
        "MSE_m3 = mean_squared_error(data_Y_test, data_m3_Y_predict)\n",
        "\n",
        "# Show results in a table\n",
        "results_m3 = np.array([r2_ajustado_m3,MSE_m3])\n",
        "medida =['Coef. Determ. Ajustado', 'MSE']\n",
        "pd.DataFrame(results_m3,medida,columns=['Valor'])"
      ],
      "execution_count": 11,
      "outputs": [
        {
          "output_type": "execute_result",
          "data": {
            "text/html": [
              "<div>\n",
              "<style scoped>\n",
              "    .dataframe tbody tr th:only-of-type {\n",
              "        vertical-align: middle;\n",
              "    }\n",
              "\n",
              "    .dataframe tbody tr th {\n",
              "        vertical-align: top;\n",
              "    }\n",
              "\n",
              "    .dataframe thead th {\n",
              "        text-align: right;\n",
              "    }\n",
              "</style>\n",
              "<table border=\"1\" class=\"dataframe\">\n",
              "  <thead>\n",
              "    <tr style=\"text-align: right;\">\n",
              "      <th></th>\n",
              "      <th>Valor</th>\n",
              "    </tr>\n",
              "  </thead>\n",
              "  <tbody>\n",
              "    <tr>\n",
              "      <th>Coef. Determ. Ajustado</th>\n",
              "      <td>0.758381</td>\n",
              "    </tr>\n",
              "    <tr>\n",
              "      <th>MSE</th>\n",
              "      <td>22.844651</td>\n",
              "    </tr>\n",
              "  </tbody>\n",
              "</table>\n",
              "</div>"
            ],
            "text/plain": [
              "                            Valor\n",
              "Coef. Determ. Ajustado   0.758381\n",
              "MSE                     22.844651"
            ]
          },
          "metadata": {
            "tags": []
          },
          "execution_count": 11
        }
      ]
    },
    {
      "cell_type": "markdown",
      "metadata": {
        "id": "6cJ0IOqFyuSp",
        "colab_type": "text"
      },
      "source": [
        "### **Análisis y selección final del modelo**"
      ]
    },
    {
      "cell_type": "code",
      "metadata": {
        "id": "nXlCZotwy4lb",
        "colab_type": "code",
        "colab": {
          "base_uri": "https://localhost:8080/",
          "height": 111
        },
        "outputId": "8db0ce68-46b6-4317-a973-a195b1d006a9"
      },
      "source": [
        "medida =['Coef. Determ. Ajustado', 'MSE']\n",
        "results = {'Modelo 1': results_m1,\n",
        "           'Modelo 2': results_m2,\n",
        "           'Modelo 3': results_m3}\n",
        "pd.DataFrame(results,medida,columns=['Modelo 1','Modelo 2', 'Modelo 3'])"
      ],
      "execution_count": 12,
      "outputs": [
        {
          "output_type": "execute_result",
          "data": {
            "text/html": [
              "<div>\n",
              "<style scoped>\n",
              "    .dataframe tbody tr th:only-of-type {\n",
              "        vertical-align: middle;\n",
              "    }\n",
              "\n",
              "    .dataframe tbody tr th {\n",
              "        vertical-align: top;\n",
              "    }\n",
              "\n",
              "    .dataframe thead th {\n",
              "        text-align: right;\n",
              "    }\n",
              "</style>\n",
              "<table border=\"1\" class=\"dataframe\">\n",
              "  <thead>\n",
              "    <tr style=\"text-align: right;\">\n",
              "      <th></th>\n",
              "      <th>Modelo 1</th>\n",
              "      <th>Modelo 2</th>\n",
              "      <th>Modelo 3</th>\n",
              "    </tr>\n",
              "  </thead>\n",
              "  <tbody>\n",
              "    <tr>\n",
              "      <th>Coef. Determ. Ajustado</th>\n",
              "      <td>0.685640</td>\n",
              "      <td>0.746212</td>\n",
              "      <td>0.758381</td>\n",
              "    </tr>\n",
              "    <tr>\n",
              "      <th>MSE</th>\n",
              "      <td>29.837037</td>\n",
              "      <td>24.046681</td>\n",
              "      <td>22.844651</td>\n",
              "    </tr>\n",
              "  </tbody>\n",
              "</table>\n",
              "</div>"
            ],
            "text/plain": [
              "                         Modelo 1   Modelo 2   Modelo 3\n",
              "Coef. Determ. Ajustado   0.685640   0.746212   0.758381\n",
              "MSE                     29.837037  24.046681  22.844651"
            ]
          },
          "metadata": {
            "tags": []
          },
          "execution_count": 12
        }
      ]
    },
    {
      "cell_type": "markdown",
      "metadata": {
        "id": "vOjbt6rp2CDp",
        "colab_type": "text"
      },
      "source": [
        "Como se puede notar en la tabla anterior, el mejor modelo es el modelo 3. Este modelo es el que cuenta con el coeficiente de derterminación ajustado más cercano a 1, y con el menor error cuadrático medio, por lo que es considerado el mejor. Este modelo incluía todas las variables entregadas y que podrían ser usadas para el análisis. "
      ]
    },
    {
      "cell_type": "markdown",
      "metadata": {
        "id": "Kd0xxd182iy2",
        "colab_type": "text"
      },
      "source": [
        "RESPONDER LA PREGUNTA: ¿Cual es la variable que afecta en mayor medida la esperanza de vida?"
      ]
    }
  ]
}