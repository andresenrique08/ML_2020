{
  "nbformat": 4,
  "nbformat_minor": 0,
  "metadata": {
    "colab": {
      "name": "reto1_ML_v1.ipynb",
      "provenance": [],
      "collapsed_sections": [],
      "authorship_tag": "ABX9TyMdbJol5mIjmvc5tEgEvC9V",
      "include_colab_link": true
    },
    "kernelspec": {
      "name": "python3",
      "display_name": "Python 3"
    }
  },
  "cells": [
    {
      "cell_type": "markdown",
      "metadata": {
        "id": "view-in-github",
        "colab_type": "text"
      },
      "source": [
        "<a href=\"https://colab.research.google.com/github/andresenrique08/ML_2020/blob/master/Reto1/reto1_ML_v1.ipynb\" target=\"_parent\"><img src=\"https://colab.research.google.com/assets/colab-badge.svg\" alt=\"Open In Colab\"/></a>"
      ]
    },
    {
      "cell_type": "markdown",
      "metadata": {
        "id": "9fsXSr-XoFSc",
        "colab_type": "text"
      },
      "source": [
        "## **Reto 1**\n",
        "### Curso de Machine Learning 2020-20\n",
        "Autores:\n",
        "*    Andrés Enrique Ávila Rojas (201319127)\n",
        "*   Jeison Alexander Timana Rangel (Código)\n"
      ]
    },
    {
      "cell_type": "markdown",
      "metadata": {
        "id": "z6xqFjbtqUB-",
        "colab_type": "text"
      },
      "source": [
        "**Predicción de la expectativa de vida**"
      ]
    },
    {
      "cell_type": "code",
      "metadata": {
        "id": "SiMyox8fTkUE",
        "colab_type": "code",
        "colab": {}
      },
      "source": [
        "# Import libraries \n",
        "import numpy as np \n",
        "import pandas as pd\n",
        "from sklearn import datasets, linear_model\n",
        "from sklearn.metrics import mean_squared_error, r2_score # las dos medidas que se van a utilizar pero en diferentes datasets.\n",
        "from sklearn.model_selection import train_test_split\n"
      ],
      "execution_count": 1,
      "outputs": []
    },
    {
      "cell_type": "markdown",
      "metadata": {
        "id": "WQMlUMei2AiE",
        "colab_type": "text"
      },
      "source": [
        "Se toman los datos del repositorio de github con el siguiente link https://github.com/andresenrique08/ML_2020/blob/master/Reto1/Life_Expectancy_Data.csv"
      ]
    },
    {
      "cell_type": "code",
      "metadata": {
        "id": "5crQvHFIkbKi",
        "colab_type": "code",
        "colab": {}
      },
      "source": [
        "# Reading file from github\n",
        "url = \"https://raw.githubusercontent.com/andresenrique08/ML_2020/master/Reto1/Life_Expectancy_Data.csv\"\n",
        "data  = pd.read_csv(url) "
      ],
      "execution_count": 2,
      "outputs": []
    },
    {
      "cell_type": "markdown",
      "metadata": {
        "id": "AnwVJ2142P7T",
        "colab_type": "text"
      },
      "source": [
        "Se reemplazan los datos de la columna Status por una variable binaria, donde el 0 indica \"Developing\" y el 1 indica \"Developed\". Además se elimina la variable Country del conjunto de datos totales."
      ]
    },
    {
      "cell_type": "code",
      "metadata": {
        "id": "72u90UqhxhVt",
        "colab_type": "code",
        "colab": {
          "base_uri": "https://localhost:8080/",
          "height": 490
        },
        "outputId": "cd9f3fb6-80b8-4263-b853-5dda4fcdb391"
      },
      "source": [
        "# Preparing data\n",
        "data['Status'].replace(['Developing','Developed'],[0,1], inplace=True)\n",
        "# Deleting variable named \"Country\"\n",
        "del data['Country']\n",
        "# Converting nan values to zero\n",
        "data=data.dropna()\n",
        "# Showing the data set\n",
        "data.head(130)"
      ],
      "execution_count": 3,
      "outputs": [
        {
          "output_type": "execute_result",
          "data": {
            "text/html": [
              "<div>\n",
              "<style scoped>\n",
              "    .dataframe tbody tr th:only-of-type {\n",
              "        vertical-align: middle;\n",
              "    }\n",
              "\n",
              "    .dataframe tbody tr th {\n",
              "        vertical-align: top;\n",
              "    }\n",
              "\n",
              "    .dataframe thead th {\n",
              "        text-align: right;\n",
              "    }\n",
              "</style>\n",
              "<table border=\"1\" class=\"dataframe\">\n",
              "  <thead>\n",
              "    <tr style=\"text-align: right;\">\n",
              "      <th></th>\n",
              "      <th>Year</th>\n",
              "      <th>Status</th>\n",
              "      <th>Life expectancy</th>\n",
              "      <th>Adult Mortality</th>\n",
              "      <th>infant deaths</th>\n",
              "      <th>Alcohol</th>\n",
              "      <th>percentage expenditure</th>\n",
              "      <th>Hepatitis B</th>\n",
              "      <th>Measles</th>\n",
              "      <th>BMI</th>\n",
              "      <th>under-five deaths</th>\n",
              "      <th>Polio</th>\n",
              "      <th>Total expenditure</th>\n",
              "      <th>Diphtheria</th>\n",
              "      <th>HIV/AIDS</th>\n",
              "      <th>GDP</th>\n",
              "      <th>Population</th>\n",
              "      <th>thinness  1-19 years</th>\n",
              "      <th>thinness 5-9 years</th>\n",
              "      <th>Income composition of resources</th>\n",
              "      <th>Schooling</th>\n",
              "    </tr>\n",
              "  </thead>\n",
              "  <tbody>\n",
              "    <tr>\n",
              "      <th>0</th>\n",
              "      <td>2015</td>\n",
              "      <td>0</td>\n",
              "      <td>65.0</td>\n",
              "      <td>263.0</td>\n",
              "      <td>62</td>\n",
              "      <td>0.01</td>\n",
              "      <td>71.279624</td>\n",
              "      <td>65.0</td>\n",
              "      <td>1154</td>\n",
              "      <td>19.1</td>\n",
              "      <td>83</td>\n",
              "      <td>6.0</td>\n",
              "      <td>8.16</td>\n",
              "      <td>65.0</td>\n",
              "      <td>0.1</td>\n",
              "      <td>584.259210</td>\n",
              "      <td>33736494.0</td>\n",
              "      <td>17.2</td>\n",
              "      <td>17.3</td>\n",
              "      <td>0.479</td>\n",
              "      <td>10.1</td>\n",
              "    </tr>\n",
              "    <tr>\n",
              "      <th>1</th>\n",
              "      <td>2014</td>\n",
              "      <td>0</td>\n",
              "      <td>59.9</td>\n",
              "      <td>271.0</td>\n",
              "      <td>64</td>\n",
              "      <td>0.01</td>\n",
              "      <td>73.523582</td>\n",
              "      <td>62.0</td>\n",
              "      <td>492</td>\n",
              "      <td>18.6</td>\n",
              "      <td>86</td>\n",
              "      <td>58.0</td>\n",
              "      <td>8.18</td>\n",
              "      <td>62.0</td>\n",
              "      <td>0.1</td>\n",
              "      <td>612.696514</td>\n",
              "      <td>327582.0</td>\n",
              "      <td>17.5</td>\n",
              "      <td>17.5</td>\n",
              "      <td>0.476</td>\n",
              "      <td>10.0</td>\n",
              "    </tr>\n",
              "    <tr>\n",
              "      <th>2</th>\n",
              "      <td>2013</td>\n",
              "      <td>0</td>\n",
              "      <td>59.9</td>\n",
              "      <td>268.0</td>\n",
              "      <td>66</td>\n",
              "      <td>0.01</td>\n",
              "      <td>73.219243</td>\n",
              "      <td>64.0</td>\n",
              "      <td>430</td>\n",
              "      <td>18.1</td>\n",
              "      <td>89</td>\n",
              "      <td>62.0</td>\n",
              "      <td>8.13</td>\n",
              "      <td>64.0</td>\n",
              "      <td>0.1</td>\n",
              "      <td>631.744976</td>\n",
              "      <td>31731688.0</td>\n",
              "      <td>17.7</td>\n",
              "      <td>17.7</td>\n",
              "      <td>0.470</td>\n",
              "      <td>9.9</td>\n",
              "    </tr>\n",
              "    <tr>\n",
              "      <th>3</th>\n",
              "      <td>2012</td>\n",
              "      <td>0</td>\n",
              "      <td>59.5</td>\n",
              "      <td>272.0</td>\n",
              "      <td>69</td>\n",
              "      <td>0.01</td>\n",
              "      <td>78.184215</td>\n",
              "      <td>67.0</td>\n",
              "      <td>2787</td>\n",
              "      <td>17.6</td>\n",
              "      <td>93</td>\n",
              "      <td>67.0</td>\n",
              "      <td>8.52</td>\n",
              "      <td>67.0</td>\n",
              "      <td>0.1</td>\n",
              "      <td>669.959000</td>\n",
              "      <td>3696958.0</td>\n",
              "      <td>17.9</td>\n",
              "      <td>18.0</td>\n",
              "      <td>0.463</td>\n",
              "      <td>9.8</td>\n",
              "    </tr>\n",
              "    <tr>\n",
              "      <th>4</th>\n",
              "      <td>2011</td>\n",
              "      <td>0</td>\n",
              "      <td>59.2</td>\n",
              "      <td>275.0</td>\n",
              "      <td>71</td>\n",
              "      <td>0.01</td>\n",
              "      <td>7.097109</td>\n",
              "      <td>68.0</td>\n",
              "      <td>3013</td>\n",
              "      <td>17.2</td>\n",
              "      <td>97</td>\n",
              "      <td>68.0</td>\n",
              "      <td>7.87</td>\n",
              "      <td>68.0</td>\n",
              "      <td>0.1</td>\n",
              "      <td>63.537231</td>\n",
              "      <td>2978599.0</td>\n",
              "      <td>18.2</td>\n",
              "      <td>18.2</td>\n",
              "      <td>0.454</td>\n",
              "      <td>9.5</td>\n",
              "    </tr>\n",
              "    <tr>\n",
              "      <th>...</th>\n",
              "      <td>...</td>\n",
              "      <td>...</td>\n",
              "      <td>...</td>\n",
              "      <td>...</td>\n",
              "      <td>...</td>\n",
              "      <td>...</td>\n",
              "      <td>...</td>\n",
              "      <td>...</td>\n",
              "      <td>...</td>\n",
              "      <td>...</td>\n",
              "      <td>...</td>\n",
              "      <td>...</td>\n",
              "      <td>...</td>\n",
              "      <td>...</td>\n",
              "      <td>...</td>\n",
              "      <td>...</td>\n",
              "      <td>...</td>\n",
              "      <td>...</td>\n",
              "      <td>...</td>\n",
              "      <td>...</td>\n",
              "      <td>...</td>\n",
              "    </tr>\n",
              "    <tr>\n",
              "      <th>197</th>\n",
              "      <td>2010</td>\n",
              "      <td>0</td>\n",
              "      <td>69.9</td>\n",
              "      <td>142.0</td>\n",
              "      <td>126</td>\n",
              "      <td>0.01</td>\n",
              "      <td>62.659454</td>\n",
              "      <td>94.0</td>\n",
              "      <td>788</td>\n",
              "      <td>15.2</td>\n",
              "      <td>161</td>\n",
              "      <td>94.0</td>\n",
              "      <td>3.60</td>\n",
              "      <td>94.0</td>\n",
              "      <td>0.1</td>\n",
              "      <td>757.671757</td>\n",
              "      <td>15214912.0</td>\n",
              "      <td>18.9</td>\n",
              "      <td>19.4</td>\n",
              "      <td>0.535</td>\n",
              "      <td>8.9</td>\n",
              "    </tr>\n",
              "    <tr>\n",
              "      <th>198</th>\n",
              "      <td>2009</td>\n",
              "      <td>0</td>\n",
              "      <td>69.5</td>\n",
              "      <td>144.0</td>\n",
              "      <td>135</td>\n",
              "      <td>0.01</td>\n",
              "      <td>53.264004</td>\n",
              "      <td>97.0</td>\n",
              "      <td>718</td>\n",
              "      <td>14.6</td>\n",
              "      <td>173</td>\n",
              "      <td>97.0</td>\n",
              "      <td>2.91</td>\n",
              "      <td>97.0</td>\n",
              "      <td>0.1</td>\n",
              "      <td>681.125368</td>\n",
              "      <td>1545478.0</td>\n",
              "      <td>19.1</td>\n",
              "      <td>19.7</td>\n",
              "      <td>0.523</td>\n",
              "      <td>8.4</td>\n",
              "    </tr>\n",
              "    <tr>\n",
              "      <th>199</th>\n",
              "      <td>2008</td>\n",
              "      <td>0</td>\n",
              "      <td>69.1</td>\n",
              "      <td>147.0</td>\n",
              "      <td>144</td>\n",
              "      <td>0.01</td>\n",
              "      <td>42.488650</td>\n",
              "      <td>96.0</td>\n",
              "      <td>2660</td>\n",
              "      <td>14.0</td>\n",
              "      <td>186</td>\n",
              "      <td>96.0</td>\n",
              "      <td>2.85</td>\n",
              "      <td>96.0</td>\n",
              "      <td>0.1</td>\n",
              "      <td>615.777541</td>\n",
              "      <td>14885814.0</td>\n",
              "      <td>19.3</td>\n",
              "      <td>19.9</td>\n",
              "      <td>0.520</td>\n",
              "      <td>8.6</td>\n",
              "    </tr>\n",
              "    <tr>\n",
              "      <th>200</th>\n",
              "      <td>2007</td>\n",
              "      <td>0</td>\n",
              "      <td>68.6</td>\n",
              "      <td>151.0</td>\n",
              "      <td>154</td>\n",
              "      <td>0.01</td>\n",
              "      <td>46.365367</td>\n",
              "      <td>95.0</td>\n",
              "      <td>2924</td>\n",
              "      <td>13.5</td>\n",
              "      <td>201</td>\n",
              "      <td>96.0</td>\n",
              "      <td>2.80</td>\n",
              "      <td>94.0</td>\n",
              "      <td>0.1</td>\n",
              "      <td>541.651484</td>\n",
              "      <td>147139191.0</td>\n",
              "      <td>19.5</td>\n",
              "      <td>2.1</td>\n",
              "      <td>0.513</td>\n",
              "      <td>8.6</td>\n",
              "    </tr>\n",
              "    <tr>\n",
              "      <th>201</th>\n",
              "      <td>2006</td>\n",
              "      <td>0</td>\n",
              "      <td>68.2</td>\n",
              "      <td>152.0</td>\n",
              "      <td>164</td>\n",
              "      <td>0.01</td>\n",
              "      <td>42.330455</td>\n",
              "      <td>86.0</td>\n",
              "      <td>6192</td>\n",
              "      <td>13.0</td>\n",
              "      <td>215</td>\n",
              "      <td>95.0</td>\n",
              "      <td>2.80</td>\n",
              "      <td>94.0</td>\n",
              "      <td>0.1</td>\n",
              "      <td>494.514660</td>\n",
              "      <td>1453684.0</td>\n",
              "      <td>19.7</td>\n",
              "      <td>2.3</td>\n",
              "      <td>0.506</td>\n",
              "      <td>8.4</td>\n",
              "    </tr>\n",
              "  </tbody>\n",
              "</table>\n",
              "<p>130 rows × 21 columns</p>\n",
              "</div>"
            ],
            "text/plain": [
              "     Year  Status  ...  Income composition of resources  Schooling\n",
              "0    2015       0  ...                            0.479       10.1\n",
              "1    2014       0  ...                            0.476       10.0\n",
              "2    2013       0  ...                            0.470        9.9\n",
              "3    2012       0  ...                            0.463        9.8\n",
              "4    2011       0  ...                            0.454        9.5\n",
              "..    ...     ...  ...                              ...        ...\n",
              "197  2010       0  ...                            0.535        8.9\n",
              "198  2009       0  ...                            0.523        8.4\n",
              "199  2008       0  ...                            0.520        8.6\n",
              "200  2007       0  ...                            0.513        8.6\n",
              "201  2006       0  ...                            0.506        8.4\n",
              "\n",
              "[130 rows x 21 columns]"
            ]
          },
          "metadata": {
            "tags": []
          },
          "execution_count": 3
        }
      ]
    },
    {
      "cell_type": "markdown",
      "metadata": {
        "id": "KrYaCsgxIhqs",
        "colab_type": "text"
      },
      "source": [
        "Se separan los datos objetivo y los datos del modelo"
      ]
    },
    {
      "cell_type": "code",
      "metadata": {
        "id": "zCkOXYsiJEop",
        "colab_type": "code",
        "colab": {}
      },
      "source": [
        "# Target dataset (Life expectancy)\n",
        "data_Y=data.loc[:,'Life expectancy ']\n",
        "# Deleting the targets to define the whole dataset for models\n",
        "del data['Life expectancy ']\n",
        "data_X=data"
      ],
      "execution_count": 4,
      "outputs": []
    },
    {
      "cell_type": "markdown",
      "metadata": {
        "id": "wk7VUw7-2ksu",
        "colab_type": "text"
      },
      "source": [
        "Se parte en el conjunto de entrenamiento (train) y el de prueba (test) y se seleccionan los distintos modelos"
      ]
    },
    {
      "cell_type": "code",
      "metadata": {
        "id": "tuiETuzF2w4r",
        "colab_type": "code",
        "colab": {}
      },
      "source": [
        "data_X_train, data_X_test, data_Y_train, data_Y_test = train_test_split(data_X,data_Y, test_size=0.2)\n",
        "# First model\n",
        "data_m1_X_train = data_X_train.iloc[:, 0:11]\n",
        "data_m1_X_test = data_X_test.iloc[:, 0:11]\n",
        "\n",
        "# Second model\n",
        "modelo_2 = ['Status','Adult Mortality','infant deaths','Alcohol','Hepatitis B','Measles ',' BMI ','under-five deaths ','Polio','Diphtheria ',' HIV/AIDS','GDP','Population',' thinness  1-19 years',' thinness 5-9 years']\n",
        "data_m2_X_train = data_X_train.loc[:, modelo_2]\n",
        "data_m2_X_test = data_X_test.loc[:, modelo_2]\n",
        "\n",
        "# Third model\n",
        "data_m3_X_train = data_X_train\n",
        "data_m3_X_test = data_X_test"
      ],
      "execution_count": 5,
      "outputs": []
    },
    {
      "cell_type": "markdown",
      "metadata": {
        "id": "YZk8DC1cU0RU",
        "colab_type": "text"
      },
      "source": [
        "### **Regresión Lineal para el modelo 1**"
      ]
    },
    {
      "cell_type": "code",
      "metadata": {
        "id": "Jkdpj2ZsSSMu",
        "colab_type": "code",
        "colab": {
          "base_uri": "https://localhost:8080/",
          "height": 102
        },
        "outputId": "1581920c-4ac3-46c6-a5aa-58a71bdbfc5e"
      },
      "source": [
        "# Creating the linear regression object\n",
        "regr = linear_model.LinearRegression()\n",
        "\n",
        "# Training the model using the training sets\n",
        "regr.fit(data_m1_X_train, data_Y_train)\n",
        "\n",
        "\n",
        "\n",
        "# The coefficients\n",
        "print('Coeficientes: \\n', regr.coef_)\n",
        "print(\"Intercepto:\",regr.intercept_)"
      ],
      "execution_count": 6,
      "outputs": [
        {
          "output_type": "stream",
          "text": [
            "Coeficientes: \n",
            " [ 8.33340295e-02  1.76209073e+00 -3.47029160e-02  1.32691714e-01\n",
            "  2.85275779e-01  6.89056929e-04  3.06839277e-03 -1.69507271e-05\n",
            "  9.69860189e-02 -1.00567763e-01  2.94653355e-02]\n",
            "Intercepto: -100.34221045238411\n"
          ],
          "name": "stdout"
        }
      ]
    },
    {
      "cell_type": "markdown",
      "metadata": {
        "id": "flBL2PzOqhw9",
        "colab_type": "text"
      },
      "source": [
        "El siguiente cálculo se realiza teniendo en cuenta que el coeficiente de determinación ($R^2$) ajustado está dado por la siguiente fórmula:\n",
        "\\begin{align}\n",
        "      R_{ajustado}^2=1-\\frac{n-1}{n-k-1}(1-R^2)\n",
        "\\end{align}\n",
        "Donde $n$ es el numero de puntos en las muestras y $k$ es el número de variables independientes. \\\\\n",
        "Esto se realiza teniendo en cuenta que la función ``` r2_score ``` encuentra el coeficiente de determinanción ($R^2$), pero no ajustado.\n",
        "\n",
        "\n",
        "\n",
        "\n",
        "\n"
      ]
    },
    {
      "cell_type": "markdown",
      "metadata": {
        "id": "uMBnBDlH3XDd",
        "colab_type": "text"
      },
      "source": [
        "Para el cálculo del error cuadrático medio se usa la función ``` mean_squared_error ```."
      ]
    },
    {
      "cell_type": "code",
      "metadata": {
        "id": "Cqi6qru6YM2o",
        "colab_type": "code",
        "colab": {
          "base_uri": "https://localhost:8080/",
          "height": 111
        },
        "outputId": "d7ade7ef-a94c-47ff-a2fc-5eb70029a9d2"
      },
      "source": [
        "# Making predictions using the testing set\n",
        "data_m1_Y_predict = regr.predict(data_m1_X_test)\n",
        "\n",
        "# Finding the coefficient of determination (In mind: 1 is perfect prediction)\n",
        "r2_m1=r2_score(data_Y_test,data_m1_Y_predict)\n",
        "k = data_m1_X_train.shape[1]\n",
        "n=len(data_Y_train)\n",
        "r2_ajustado_m1 = 1-((n-1)/(n-k-1))*(1-r2_m1)\n",
        "\n",
        "# Finding de Mean Squared Error\n",
        "MSE_m1 = mean_squared_error(data_Y_test, data_m1_Y_predict)\n",
        "\n",
        "# Show results in a table\n",
        "results_m1 = np.array([r2_ajustado_m1,MSE_m1])\n",
        "medida =['Coef. Determ. Ajustado', 'MSE']\n",
        "pd.DataFrame(results_m1,medida,columns=['Valor'])"
      ],
      "execution_count": 7,
      "outputs": [
        {
          "output_type": "execute_result",
          "data": {
            "text/html": [
              "<div>\n",
              "<style scoped>\n",
              "    .dataframe tbody tr th:only-of-type {\n",
              "        vertical-align: middle;\n",
              "    }\n",
              "\n",
              "    .dataframe tbody tr th {\n",
              "        vertical-align: top;\n",
              "    }\n",
              "\n",
              "    .dataframe thead th {\n",
              "        text-align: right;\n",
              "    }\n",
              "</style>\n",
              "<table border=\"1\" class=\"dataframe\">\n",
              "  <thead>\n",
              "    <tr style=\"text-align: right;\">\n",
              "      <th></th>\n",
              "      <th>Valor</th>\n",
              "    </tr>\n",
              "  </thead>\n",
              "  <tbody>\n",
              "    <tr>\n",
              "      <th>Coef. Determ. Ajustado</th>\n",
              "      <td>0.700455</td>\n",
              "    </tr>\n",
              "    <tr>\n",
              "      <th>MSE</th>\n",
              "      <td>22.377166</td>\n",
              "    </tr>\n",
              "  </tbody>\n",
              "</table>\n",
              "</div>"
            ],
            "text/plain": [
              "                            Valor\n",
              "Coef. Determ. Ajustado   0.700455\n",
              "MSE                     22.377166"
            ]
          },
          "metadata": {
            "tags": []
          },
          "execution_count": 7
        }
      ]
    },
    {
      "cell_type": "markdown",
      "metadata": {
        "colab_type": "text",
        "id": "D0mR264Ax1iw"
      },
      "source": [
        "### **Regresión Lineal para el modelo 2**"
      ]
    },
    {
      "cell_type": "code",
      "metadata": {
        "colab_type": "code",
        "id": "vgPo-s9Xx29Q",
        "colab": {
          "base_uri": "https://localhost:8080/",
          "height": 119
        },
        "outputId": "76fc1ec2-affc-41e0-cbe4-774ff291c074"
      },
      "source": [
        "# Creating the linear regression object\n",
        "regr = linear_model.LinearRegression()\n",
        "\n",
        "# Training the model using the training sets\n",
        "regr.fit(data_m2_X_train, data_Y_train)\n",
        "\n",
        "\n",
        "\n",
        "# The coefficients\n",
        "print('Coeficientes: \\n', regr.coef_)\n",
        "print(\"Intercepto:\",regr.intercept_)"
      ],
      "execution_count": 8,
      "outputs": [
        {
          "output_type": "stream",
          "text": [
            "Coeficientes: \n",
            " [ 1.50574227e+00 -2.12228795e-02  1.25423537e-01  2.52792303e-01\n",
            " -8.46444856e-03 -2.46535296e-05  7.89980206e-02 -9.37120466e-02\n",
            "  1.67732832e-02  3.73489280e-02 -4.51614589e-01  1.17679851e-04\n",
            "  1.54676567e-09 -1.34752779e-01 -3.81495458e-02]\n",
            "Intercepto: 65.90714515080931\n"
          ],
          "name": "stdout"
        }
      ]
    },
    {
      "cell_type": "markdown",
      "metadata": {
        "colab_type": "text",
        "id": "PZQgZCSGx29S"
      },
      "source": [
        "El siguiente cálculo se realiza teniendo en cuenta que el coeficiente de determinación ($R^2$) ajustado está dado por la siguiente fórmula:\n",
        "\\begin{align}\n",
        "      R_{ajustado}^2=1-\\frac{n-1}{n-k-1}(1-R^2)\n",
        "\\end{align}\n",
        "Donde $n$ es el numero de puntos en las muestras y $k$ es el número de variables independientes. \\\\\n",
        "Esto se realiza teniendo en cuenta que la función ``` r2_score ``` encuentra el coeficiente de determinanción ($R^2$), pero no ajustado.\n",
        "\n",
        "\n",
        "\n",
        "\n",
        "\n"
      ]
    },
    {
      "cell_type": "markdown",
      "metadata": {
        "id": "QvlpifuG3Uu9",
        "colab_type": "text"
      },
      "source": [
        "Para el cálculo del error cuadrático medio se usa la función ``` mean_squared_error ```."
      ]
    },
    {
      "cell_type": "code",
      "metadata": {
        "colab_type": "code",
        "id": "1nbmjW-6x29S",
        "colab": {
          "base_uri": "https://localhost:8080/",
          "height": 111
        },
        "outputId": "61e332b9-b7e8-4054-d9fa-c7e9a859c963"
      },
      "source": [
        "# Making predictions using the testing set\n",
        "data_m2_Y_predict = regr.predict(data_m2_X_test)\n",
        "\n",
        "# Finding the coefficient of determination (In mind: 1 is perfect prediction)\n",
        "r2_m2=r2_score(data_Y_test,data_m2_Y_predict)\n",
        "k = data_m2_X_train.shape[1]\n",
        "n=len(data_Y_train)\n",
        "r2_ajustado_m2 = 1-((n-1)/(n-k-1))*(1-r2_m2)\n",
        "\n",
        "# Finding de Mean Squared Error\n",
        "MSE_m2 = mean_squared_error(data_Y_test, data_m2_Y_predict)\n",
        "\n",
        "# Show results in a table\n",
        "results_m2 = np.array([r2_ajustado_m2,MSE_m2])\n",
        "medida =['Coef. Determ. Ajustado', 'MSE']\n",
        "pd.DataFrame(results_m2,medida,columns=['Valor'])"
      ],
      "execution_count": 9,
      "outputs": [
        {
          "output_type": "execute_result",
          "data": {
            "text/html": [
              "<div>\n",
              "<style scoped>\n",
              "    .dataframe tbody tr th:only-of-type {\n",
              "        vertical-align: middle;\n",
              "    }\n",
              "\n",
              "    .dataframe tbody tr th {\n",
              "        vertical-align: top;\n",
              "    }\n",
              "\n",
              "    .dataframe thead th {\n",
              "        text-align: right;\n",
              "    }\n",
              "</style>\n",
              "<table border=\"1\" class=\"dataframe\">\n",
              "  <thead>\n",
              "    <tr style=\"text-align: right;\">\n",
              "      <th></th>\n",
              "      <th>Valor</th>\n",
              "    </tr>\n",
              "  </thead>\n",
              "  <tbody>\n",
              "    <tr>\n",
              "      <th>Coef. Determ. Ajustado</th>\n",
              "      <td>0.761078</td>\n",
              "    </tr>\n",
              "    <tr>\n",
              "      <th>MSE</th>\n",
              "      <td>17.793783</td>\n",
              "    </tr>\n",
              "  </tbody>\n",
              "</table>\n",
              "</div>"
            ],
            "text/plain": [
              "                            Valor\n",
              "Coef. Determ. Ajustado   0.761078\n",
              "MSE                     17.793783"
            ]
          },
          "metadata": {
            "tags": []
          },
          "execution_count": 9
        }
      ]
    },
    {
      "cell_type": "markdown",
      "metadata": {
        "colab_type": "text",
        "id": "6HZPoCAcx29P"
      },
      "source": [
        "### **Regresión Lineal para el modelo 3**"
      ]
    },
    {
      "cell_type": "code",
      "metadata": {
        "colab_type": "code",
        "id": "Y5wwlJfxx1ix",
        "colab": {
          "base_uri": "https://localhost:8080/",
          "height": 136
        },
        "outputId": "56cea08e-4dd6-40c8-f6e6-b61b0d130067"
      },
      "source": [
        "# Creating the linear regression object\n",
        "regr = linear_model.LinearRegression()\n",
        "\n",
        "# Training the model using the training sets\n",
        "regr.fit(data_m3_X_train, data_Y_train)\n",
        "\n",
        "\n",
        "\n",
        "# The coefficients\n",
        "print('Coeficientes: \\n', regr.coef_)\n",
        "print(\"Intercepto:\",regr.intercept_)"
      ],
      "execution_count": 10,
      "outputs": [
        {
          "output_type": "stream",
          "text": [
            "Coeficientes: \n",
            " [-1.33225793e-01  7.92347291e-01 -1.51310840e-02  8.53919255e-02\n",
            " -1.32738491e-01  4.00062171e-04 -5.32418100e-03 -1.36237455e-05\n",
            "  2.84465637e-02 -6.38665244e-02  2.45169092e-03  1.05136841e-01\n",
            "  1.74048445e-02 -4.62753878e-01  1.35718365e-05 -6.65689573e-10\n",
            "  3.54011541e-02 -9.38442296e-02  1.10983096e+01  8.87265893e-01]\n",
            "Intercepto: 320.0929608071382\n"
          ],
          "name": "stdout"
        }
      ]
    },
    {
      "cell_type": "markdown",
      "metadata": {
        "colab_type": "text",
        "id": "vMgC9Kl_x1i1"
      },
      "source": [
        "El siguiente cálculo se realiza teniendo en cuenta que el coeficiente de determinación ($R^2$) ajustado está dado por la siguiente fórmula:\n",
        "\\begin{align}\n",
        "      R_{ajustado}^2=1-\\frac{n-1}{n-k-1}(1-R^2)\n",
        "\\end{align}\n",
        "Donde $n$ es el numero de puntos en las muestras y $k$ es el número de variables independientes. \\\\\n",
        "Esto se realiza teniendo en cuenta que la función ``` r2_score ``` encuentra el coeficiente de determinanción ($R^2$), pero no ajustado.\n",
        "\n",
        "\n",
        "\n",
        "\n",
        "\n"
      ]
    },
    {
      "cell_type": "markdown",
      "metadata": {
        "id": "5sAkSRkh3DLW",
        "colab_type": "text"
      },
      "source": [
        "Para el cálculo del error cuadrático medio se usa la función ``` mean_squared_error ```."
      ]
    },
    {
      "cell_type": "code",
      "metadata": {
        "colab_type": "code",
        "id": "czl9ecBEx1i1",
        "colab": {
          "base_uri": "https://localhost:8080/",
          "height": 111
        },
        "outputId": "bd32221c-7c5b-43c0-e53b-c1bde6034559"
      },
      "source": [
        "# Making predictions using the testing set\n",
        "data_m3_Y_predict = regr.predict(data_m3_X_test)\n",
        "\n",
        "# Finding the coefficient of determination (In mind: 1 is perfect prediction)\n",
        "r2_m3=r2_score(data_Y_test,data_m3_Y_predict)\n",
        "k = data_m3_X_train.shape[1]\n",
        "n=len(data_Y_train)\n",
        "r2_ajustado_m3 = 1-((n-1)/(n-k-1))*(1-r2_m3)\n",
        "\n",
        "# Finding de Mean Squared Error\n",
        "MSE_m3 = mean_squared_error(data_Y_test, data_m3_Y_predict)\n",
        "\n",
        "# Show results in a table\n",
        "results_m3 = np.array([r2_ajustado_m3,MSE_m3])\n",
        "medida =['Coef. Determ. Ajustado', 'MSE']\n",
        "pd.DataFrame(results_m3,medida,columns=['Valor'])"
      ],
      "execution_count": 11,
      "outputs": [
        {
          "output_type": "execute_result",
          "data": {
            "text/html": [
              "<div>\n",
              "<style scoped>\n",
              "    .dataframe tbody tr th:only-of-type {\n",
              "        vertical-align: middle;\n",
              "    }\n",
              "\n",
              "    .dataframe tbody tr th {\n",
              "        vertical-align: top;\n",
              "    }\n",
              "\n",
              "    .dataframe thead th {\n",
              "        text-align: right;\n",
              "    }\n",
              "</style>\n",
              "<table border=\"1\" class=\"dataframe\">\n",
              "  <thead>\n",
              "    <tr style=\"text-align: right;\">\n",
              "      <th></th>\n",
              "      <th>Valor</th>\n",
              "    </tr>\n",
              "  </thead>\n",
              "  <tbody>\n",
              "    <tr>\n",
              "      <th>Coef. Determ. Ajustado</th>\n",
              "      <td>0.835239</td>\n",
              "    </tr>\n",
              "    <tr>\n",
              "      <th>MSE</th>\n",
              "      <td>12.223559</td>\n",
              "    </tr>\n",
              "  </tbody>\n",
              "</table>\n",
              "</div>"
            ],
            "text/plain": [
              "                            Valor\n",
              "Coef. Determ. Ajustado   0.835239\n",
              "MSE                     12.223559"
            ]
          },
          "metadata": {
            "tags": []
          },
          "execution_count": 11
        }
      ]
    },
    {
      "cell_type": "markdown",
      "metadata": {
        "id": "6cJ0IOqFyuSp",
        "colab_type": "text"
      },
      "source": [
        "### **Análisis y selección final del modelo**"
      ]
    },
    {
      "cell_type": "code",
      "metadata": {
        "id": "nXlCZotwy4lb",
        "colab_type": "code",
        "colab": {
          "base_uri": "https://localhost:8080/",
          "height": 111
        },
        "outputId": "fa78c964-51dc-4cae-c8e6-7702a556a959"
      },
      "source": [
        "medida =['Coef. Determ. Ajustado', 'MSE']\n",
        "results = {'Modelo 1': results_m1,\n",
        "           'Modelo 2': results_m2,\n",
        "           'Modelo 3': results_m3}\n",
        "pd.DataFrame(results,medida,columns=['Modelo 1','Modelo 2', 'Modelo 3'])"
      ],
      "execution_count": 12,
      "outputs": [
        {
          "output_type": "execute_result",
          "data": {
            "text/html": [
              "<div>\n",
              "<style scoped>\n",
              "    .dataframe tbody tr th:only-of-type {\n",
              "        vertical-align: middle;\n",
              "    }\n",
              "\n",
              "    .dataframe tbody tr th {\n",
              "        vertical-align: top;\n",
              "    }\n",
              "\n",
              "    .dataframe thead th {\n",
              "        text-align: right;\n",
              "    }\n",
              "</style>\n",
              "<table border=\"1\" class=\"dataframe\">\n",
              "  <thead>\n",
              "    <tr style=\"text-align: right;\">\n",
              "      <th></th>\n",
              "      <th>Modelo 1</th>\n",
              "      <th>Modelo 2</th>\n",
              "      <th>Modelo 3</th>\n",
              "    </tr>\n",
              "  </thead>\n",
              "  <tbody>\n",
              "    <tr>\n",
              "      <th>Coef. Determ. Ajustado</th>\n",
              "      <td>0.700455</td>\n",
              "      <td>0.761078</td>\n",
              "      <td>0.835239</td>\n",
              "    </tr>\n",
              "    <tr>\n",
              "      <th>MSE</th>\n",
              "      <td>22.377166</td>\n",
              "      <td>17.793783</td>\n",
              "      <td>12.223559</td>\n",
              "    </tr>\n",
              "  </tbody>\n",
              "</table>\n",
              "</div>"
            ],
            "text/plain": [
              "                         Modelo 1   Modelo 2   Modelo 3\n",
              "Coef. Determ. Ajustado   0.700455   0.761078   0.835239\n",
              "MSE                     22.377166  17.793783  12.223559"
            ]
          },
          "metadata": {
            "tags": []
          },
          "execution_count": 12
        }
      ]
    },
    {
      "cell_type": "markdown",
      "metadata": {
        "id": "vOjbt6rp2CDp",
        "colab_type": "text"
      },
      "source": [
        "Como se puede notar en la tabla anterior, el mejor modelo es el modelo 3. Este modelo es el que cuenta con el coeficiente de derterminación ajustado más cercano a 1, y con el menor error cuadrático medio, por lo que es considerado el mejor. Este modelo incluía todas las variables entregadas y que podrían ser usadas para el análisis. "
      ]
    },
    {
      "cell_type": "markdown",
      "metadata": {
        "id": "Kd0xxd182iy2",
        "colab_type": "text"
      },
      "source": [
        "Para determinar cuál es la variable que afecta en mayor medida la esperanza de vida se miran los valores de los coeficientes, teniendo en cuenta que el coeficiente de la variable Income composition of resources es mayor que el resto, esta es la variable que mayor afecta a la esperanza de vida."
      ]
    },
    {
      "cell_type": "markdown",
      "metadata": {
        "id": "BAOkiql4HRcE",
        "colab_type": "text"
      },
      "source": [
        "Un segundo criterio de decisión respecto a la variable que afecta en mayor medida la esperanza de vida es el coeficiente de correlación, puesto que este valor permite medir el nivel de asociación que hay entre dos variables. El coeficiente de correlación de Pearson varía entre -1 y 1, su signo dependerá de la covarianza. Que el coeficiente sea cero solo significa que las variables no tienen ninguna relación lineal, pero puede que tengan otro tipo de relación. Teniendo en cuenta el modelo lineal seleccionado, se calculan los coeficientes de correlación de pearson para cada variable respecto a la variable esperanza de vida, y se selecciona la variable que mayor coeficiente de correlación tenga (el más cercano a 1 o -1).\n",
        "\n"
      ]
    },
    {
      "cell_type": "code",
      "metadata": {
        "id": "aJ4m0Ad4nDtx",
        "colab_type": "code",
        "colab": {
          "base_uri": "https://localhost:8080/",
          "height": 51
        },
        "outputId": "ef2797c2-652e-401f-c445-e1a2c725a80c"
      },
      "source": [
        "n = len(data_m3_X_train.columns)\n",
        "pearson_corr = [0]*n # Vector para ubicar las correlaciones por columna\n",
        "for i in range(n):\n",
        "  data_m3_X=data_m3_X_train.iloc[:,i]\n",
        "  pearson_corr[i]=data_Y_train.corr(data_m3_X) # Se calcula la correlación de los datos objetivo y cada una de las columnas\n",
        "\n",
        "def abs_lista(lista):\n",
        "  for i in range(len(lista)):\n",
        "    lista[i] = abs(lista[i])\n",
        "\n",
        "abs_lista(pearson_corr) # Se saca el valor absoluto para dejar los valores en 0 y 1\n",
        "max_pearson_corr = np.max(pearson_corr)\n",
        "num_col = np.argmax(pearson_corr)\n",
        "names = list(data_m3_X_train.columns)\n",
        "print(\"Variable con mayor correlación:\",names[num_col])\n",
        "print(\"El valor de la correlación es\", max_pearson_corr)\n"
      ],
      "execution_count": 13,
      "outputs": [
        {
          "output_type": "stream",
          "text": [
            "Variable con mayor correlación: Income composition of resources\n",
            "El valor de la correlación es 0.7292813364121956\n"
          ],
          "name": "stdout"
        }
      ]
    },
    {
      "cell_type": "markdown",
      "metadata": {
        "id": "16xG9769INEC",
        "colab_type": "text"
      },
      "source": [
        "Teniendo en cuenta los valores previamente mostrados, se confirma que la variable que más afectación tiene sobre la esperanza de vida es la variable de Composición de ingresos de los recursos (Income composition of resources)."
      ]
    }
  ]
}