{
  "nbformat": 4,
  "nbformat_minor": 0,
  "metadata": {
    "colab": {
      "name": "reto1_ML_v1.ipynb",
      "provenance": [],
      "collapsed_sections": [],
      "authorship_tag": "ABX9TyOCczcTo04ZI/OOrPwhsTRh",
      "include_colab_link": true
    },
    "kernelspec": {
      "name": "python3",
      "display_name": "Python 3"
    }
  },
  "cells": [
    {
      "cell_type": "markdown",
      "metadata": {
        "id": "view-in-github",
        "colab_type": "text"
      },
      "source": [
        "<a href=\"https://colab.research.google.com/github/andresenrique08/ML_2020/blob/master/Reto1/reto1_ML_v1.ipynb\" target=\"_parent\"><img src=\"https://colab.research.google.com/assets/colab-badge.svg\" alt=\"Open In Colab\"/></a>"
      ]
    },
    {
      "cell_type": "markdown",
      "metadata": {
        "id": "9fsXSr-XoFSc",
        "colab_type": "text"
      },
      "source": [
        "## **Reto 1**\n",
        "### Curso de Machine Learning 2020-20\n",
        "Autores:\n",
        "*    Andrés Enrique Ávila Rojas (201319127)\n",
        "*   Jeison Alexander Timana Rangel (Código)\n"
      ]
    },
    {
      "cell_type": "markdown",
      "metadata": {
        "id": "z6xqFjbtqUB-",
        "colab_type": "text"
      },
      "source": [
        "**Predicción de la expectativa de vida**"
      ]
    },
    {
      "cell_type": "code",
      "metadata": {
        "id": "SiMyox8fTkUE",
        "colab_type": "code",
        "colab": {}
      },
      "source": [
        "# Import libraries \n",
        "import numpy as np \n",
        "import pandas as pd\n",
        "from sklearn import datasets, linear_model\n",
        "from sklearn.metrics import mean_squared_error, r2_score # las dos medidas que se van a utilizar pero en diferentes datasets.\n",
        "from sklearn.model_selection import train_test_split\n"
      ],
      "execution_count": 1,
      "outputs": []
    },
    {
      "cell_type": "markdown",
      "metadata": {
        "id": "WQMlUMei2AiE",
        "colab_type": "text"
      },
      "source": [
        "Se toman los datos del repositorio de github con el siguiente link https://github.com/andresenrique08/ML_2020/blob/master/Reto1/Life_Expectancy_Data.csv"
      ]
    },
    {
      "cell_type": "code",
      "metadata": {
        "id": "5crQvHFIkbKi",
        "colab_type": "code",
        "colab": {}
      },
      "source": [
        "# Reading file from github\n",
        "url = \"https://raw.githubusercontent.com/andresenrique08/ML_2020/master/Reto1/Life_Expectancy_Data.csv\"\n",
        "data  = pd.read_csv(url) "
      ],
      "execution_count": 2,
      "outputs": []
    },
    {
      "cell_type": "markdown",
      "metadata": {
        "id": "AnwVJ2142P7T",
        "colab_type": "text"
      },
      "source": [
        "Se reemplazan los datos de la columna Status por una variable binaria, donde el 0 indica \"Developing\" y el 1 indica \"Developed\". Además se elimina la variable Country del conjunto de datos totales."
      ]
    },
    {
      "cell_type": "code",
      "metadata": {
        "id": "72u90UqhxhVt",
        "colab_type": "code",
        "colab": {
          "base_uri": "https://localhost:8080/",
          "height": 490
        },
        "outputId": "9ac031fb-f384-43bd-ce1e-4b11dd81e629"
      },
      "source": [
        "# Preparing data\n",
        "data['Status'].replace(['Developing','Developed'],[0,1], inplace=True)\n",
        "# Deleting variable named \"Country\"\n",
        "del data['Country']\n",
        "# Converting nan values to zero\n",
        "data=data.dropna()\n",
        "# Showing the data set\n",
        "data.head(130)"
      ],
      "execution_count": 3,
      "outputs": [
        {
          "output_type": "execute_result",
          "data": {
            "text/html": [
              "<div>\n",
              "<style scoped>\n",
              "    .dataframe tbody tr th:only-of-type {\n",
              "        vertical-align: middle;\n",
              "    }\n",
              "\n",
              "    .dataframe tbody tr th {\n",
              "        vertical-align: top;\n",
              "    }\n",
              "\n",
              "    .dataframe thead th {\n",
              "        text-align: right;\n",
              "    }\n",
              "</style>\n",
              "<table border=\"1\" class=\"dataframe\">\n",
              "  <thead>\n",
              "    <tr style=\"text-align: right;\">\n",
              "      <th></th>\n",
              "      <th>Year</th>\n",
              "      <th>Status</th>\n",
              "      <th>Life expectancy</th>\n",
              "      <th>Adult Mortality</th>\n",
              "      <th>infant deaths</th>\n",
              "      <th>Alcohol</th>\n",
              "      <th>percentage expenditure</th>\n",
              "      <th>Hepatitis B</th>\n",
              "      <th>Measles</th>\n",
              "      <th>BMI</th>\n",
              "      <th>under-five deaths</th>\n",
              "      <th>Polio</th>\n",
              "      <th>Total expenditure</th>\n",
              "      <th>Diphtheria</th>\n",
              "      <th>HIV/AIDS</th>\n",
              "      <th>GDP</th>\n",
              "      <th>Population</th>\n",
              "      <th>thinness  1-19 years</th>\n",
              "      <th>thinness 5-9 years</th>\n",
              "      <th>Income composition of resources</th>\n",
              "      <th>Schooling</th>\n",
              "    </tr>\n",
              "  </thead>\n",
              "  <tbody>\n",
              "    <tr>\n",
              "      <th>0</th>\n",
              "      <td>2015</td>\n",
              "      <td>0</td>\n",
              "      <td>65.0</td>\n",
              "      <td>263.0</td>\n",
              "      <td>62</td>\n",
              "      <td>0.01</td>\n",
              "      <td>71.279624</td>\n",
              "      <td>65.0</td>\n",
              "      <td>1154</td>\n",
              "      <td>19.1</td>\n",
              "      <td>83</td>\n",
              "      <td>6.0</td>\n",
              "      <td>8.16</td>\n",
              "      <td>65.0</td>\n",
              "      <td>0.1</td>\n",
              "      <td>584.259210</td>\n",
              "      <td>33736494.0</td>\n",
              "      <td>17.2</td>\n",
              "      <td>17.3</td>\n",
              "      <td>0.479</td>\n",
              "      <td>10.1</td>\n",
              "    </tr>\n",
              "    <tr>\n",
              "      <th>1</th>\n",
              "      <td>2014</td>\n",
              "      <td>0</td>\n",
              "      <td>59.9</td>\n",
              "      <td>271.0</td>\n",
              "      <td>64</td>\n",
              "      <td>0.01</td>\n",
              "      <td>73.523582</td>\n",
              "      <td>62.0</td>\n",
              "      <td>492</td>\n",
              "      <td>18.6</td>\n",
              "      <td>86</td>\n",
              "      <td>58.0</td>\n",
              "      <td>8.18</td>\n",
              "      <td>62.0</td>\n",
              "      <td>0.1</td>\n",
              "      <td>612.696514</td>\n",
              "      <td>327582.0</td>\n",
              "      <td>17.5</td>\n",
              "      <td>17.5</td>\n",
              "      <td>0.476</td>\n",
              "      <td>10.0</td>\n",
              "    </tr>\n",
              "    <tr>\n",
              "      <th>2</th>\n",
              "      <td>2013</td>\n",
              "      <td>0</td>\n",
              "      <td>59.9</td>\n",
              "      <td>268.0</td>\n",
              "      <td>66</td>\n",
              "      <td>0.01</td>\n",
              "      <td>73.219243</td>\n",
              "      <td>64.0</td>\n",
              "      <td>430</td>\n",
              "      <td>18.1</td>\n",
              "      <td>89</td>\n",
              "      <td>62.0</td>\n",
              "      <td>8.13</td>\n",
              "      <td>64.0</td>\n",
              "      <td>0.1</td>\n",
              "      <td>631.744976</td>\n",
              "      <td>31731688.0</td>\n",
              "      <td>17.7</td>\n",
              "      <td>17.7</td>\n",
              "      <td>0.470</td>\n",
              "      <td>9.9</td>\n",
              "    </tr>\n",
              "    <tr>\n",
              "      <th>3</th>\n",
              "      <td>2012</td>\n",
              "      <td>0</td>\n",
              "      <td>59.5</td>\n",
              "      <td>272.0</td>\n",
              "      <td>69</td>\n",
              "      <td>0.01</td>\n",
              "      <td>78.184215</td>\n",
              "      <td>67.0</td>\n",
              "      <td>2787</td>\n",
              "      <td>17.6</td>\n",
              "      <td>93</td>\n",
              "      <td>67.0</td>\n",
              "      <td>8.52</td>\n",
              "      <td>67.0</td>\n",
              "      <td>0.1</td>\n",
              "      <td>669.959000</td>\n",
              "      <td>3696958.0</td>\n",
              "      <td>17.9</td>\n",
              "      <td>18.0</td>\n",
              "      <td>0.463</td>\n",
              "      <td>9.8</td>\n",
              "    </tr>\n",
              "    <tr>\n",
              "      <th>4</th>\n",
              "      <td>2011</td>\n",
              "      <td>0</td>\n",
              "      <td>59.2</td>\n",
              "      <td>275.0</td>\n",
              "      <td>71</td>\n",
              "      <td>0.01</td>\n",
              "      <td>7.097109</td>\n",
              "      <td>68.0</td>\n",
              "      <td>3013</td>\n",
              "      <td>17.2</td>\n",
              "      <td>97</td>\n",
              "      <td>68.0</td>\n",
              "      <td>7.87</td>\n",
              "      <td>68.0</td>\n",
              "      <td>0.1</td>\n",
              "      <td>63.537231</td>\n",
              "      <td>2978599.0</td>\n",
              "      <td>18.2</td>\n",
              "      <td>18.2</td>\n",
              "      <td>0.454</td>\n",
              "      <td>9.5</td>\n",
              "    </tr>\n",
              "    <tr>\n",
              "      <th>...</th>\n",
              "      <td>...</td>\n",
              "      <td>...</td>\n",
              "      <td>...</td>\n",
              "      <td>...</td>\n",
              "      <td>...</td>\n",
              "      <td>...</td>\n",
              "      <td>...</td>\n",
              "      <td>...</td>\n",
              "      <td>...</td>\n",
              "      <td>...</td>\n",
              "      <td>...</td>\n",
              "      <td>...</td>\n",
              "      <td>...</td>\n",
              "      <td>...</td>\n",
              "      <td>...</td>\n",
              "      <td>...</td>\n",
              "      <td>...</td>\n",
              "      <td>...</td>\n",
              "      <td>...</td>\n",
              "      <td>...</td>\n",
              "      <td>...</td>\n",
              "    </tr>\n",
              "    <tr>\n",
              "      <th>197</th>\n",
              "      <td>2010</td>\n",
              "      <td>0</td>\n",
              "      <td>69.9</td>\n",
              "      <td>142.0</td>\n",
              "      <td>126</td>\n",
              "      <td>0.01</td>\n",
              "      <td>62.659454</td>\n",
              "      <td>94.0</td>\n",
              "      <td>788</td>\n",
              "      <td>15.2</td>\n",
              "      <td>161</td>\n",
              "      <td>94.0</td>\n",
              "      <td>3.60</td>\n",
              "      <td>94.0</td>\n",
              "      <td>0.1</td>\n",
              "      <td>757.671757</td>\n",
              "      <td>15214912.0</td>\n",
              "      <td>18.9</td>\n",
              "      <td>19.4</td>\n",
              "      <td>0.535</td>\n",
              "      <td>8.9</td>\n",
              "    </tr>\n",
              "    <tr>\n",
              "      <th>198</th>\n",
              "      <td>2009</td>\n",
              "      <td>0</td>\n",
              "      <td>69.5</td>\n",
              "      <td>144.0</td>\n",
              "      <td>135</td>\n",
              "      <td>0.01</td>\n",
              "      <td>53.264004</td>\n",
              "      <td>97.0</td>\n",
              "      <td>718</td>\n",
              "      <td>14.6</td>\n",
              "      <td>173</td>\n",
              "      <td>97.0</td>\n",
              "      <td>2.91</td>\n",
              "      <td>97.0</td>\n",
              "      <td>0.1</td>\n",
              "      <td>681.125368</td>\n",
              "      <td>1545478.0</td>\n",
              "      <td>19.1</td>\n",
              "      <td>19.7</td>\n",
              "      <td>0.523</td>\n",
              "      <td>8.4</td>\n",
              "    </tr>\n",
              "    <tr>\n",
              "      <th>199</th>\n",
              "      <td>2008</td>\n",
              "      <td>0</td>\n",
              "      <td>69.1</td>\n",
              "      <td>147.0</td>\n",
              "      <td>144</td>\n",
              "      <td>0.01</td>\n",
              "      <td>42.488650</td>\n",
              "      <td>96.0</td>\n",
              "      <td>2660</td>\n",
              "      <td>14.0</td>\n",
              "      <td>186</td>\n",
              "      <td>96.0</td>\n",
              "      <td>2.85</td>\n",
              "      <td>96.0</td>\n",
              "      <td>0.1</td>\n",
              "      <td>615.777541</td>\n",
              "      <td>14885814.0</td>\n",
              "      <td>19.3</td>\n",
              "      <td>19.9</td>\n",
              "      <td>0.520</td>\n",
              "      <td>8.6</td>\n",
              "    </tr>\n",
              "    <tr>\n",
              "      <th>200</th>\n",
              "      <td>2007</td>\n",
              "      <td>0</td>\n",
              "      <td>68.6</td>\n",
              "      <td>151.0</td>\n",
              "      <td>154</td>\n",
              "      <td>0.01</td>\n",
              "      <td>46.365367</td>\n",
              "      <td>95.0</td>\n",
              "      <td>2924</td>\n",
              "      <td>13.5</td>\n",
              "      <td>201</td>\n",
              "      <td>96.0</td>\n",
              "      <td>2.80</td>\n",
              "      <td>94.0</td>\n",
              "      <td>0.1</td>\n",
              "      <td>541.651484</td>\n",
              "      <td>147139191.0</td>\n",
              "      <td>19.5</td>\n",
              "      <td>2.1</td>\n",
              "      <td>0.513</td>\n",
              "      <td>8.6</td>\n",
              "    </tr>\n",
              "    <tr>\n",
              "      <th>201</th>\n",
              "      <td>2006</td>\n",
              "      <td>0</td>\n",
              "      <td>68.2</td>\n",
              "      <td>152.0</td>\n",
              "      <td>164</td>\n",
              "      <td>0.01</td>\n",
              "      <td>42.330455</td>\n",
              "      <td>86.0</td>\n",
              "      <td>6192</td>\n",
              "      <td>13.0</td>\n",
              "      <td>215</td>\n",
              "      <td>95.0</td>\n",
              "      <td>2.80</td>\n",
              "      <td>94.0</td>\n",
              "      <td>0.1</td>\n",
              "      <td>494.514660</td>\n",
              "      <td>1453684.0</td>\n",
              "      <td>19.7</td>\n",
              "      <td>2.3</td>\n",
              "      <td>0.506</td>\n",
              "      <td>8.4</td>\n",
              "    </tr>\n",
              "  </tbody>\n",
              "</table>\n",
              "<p>130 rows × 21 columns</p>\n",
              "</div>"
            ],
            "text/plain": [
              "     Year  Status  ...  Income composition of resources  Schooling\n",
              "0    2015       0  ...                            0.479       10.1\n",
              "1    2014       0  ...                            0.476       10.0\n",
              "2    2013       0  ...                            0.470        9.9\n",
              "3    2012       0  ...                            0.463        9.8\n",
              "4    2011       0  ...                            0.454        9.5\n",
              "..    ...     ...  ...                              ...        ...\n",
              "197  2010       0  ...                            0.535        8.9\n",
              "198  2009       0  ...                            0.523        8.4\n",
              "199  2008       0  ...                            0.520        8.6\n",
              "200  2007       0  ...                            0.513        8.6\n",
              "201  2006       0  ...                            0.506        8.4\n",
              "\n",
              "[130 rows x 21 columns]"
            ]
          },
          "metadata": {
            "tags": []
          },
          "execution_count": 3
        }
      ]
    },
    {
      "cell_type": "markdown",
      "metadata": {
        "id": "KrYaCsgxIhqs",
        "colab_type": "text"
      },
      "source": [
        "Se separan los datos objetivo y los datos del modelo"
      ]
    },
    {
      "cell_type": "code",
      "metadata": {
        "id": "zCkOXYsiJEop",
        "colab_type": "code",
        "colab": {}
      },
      "source": [
        "# Target dataset (Life expectancy)\n",
        "data_Y=data.loc[:,'Life expectancy ']\n",
        "# Deleting the targets to define the whole dataset for models\n",
        "del data['Life expectancy ']\n",
        "data_X=data"
      ],
      "execution_count": 4,
      "outputs": []
    },
    {
      "cell_type": "markdown",
      "metadata": {
        "id": "wk7VUw7-2ksu",
        "colab_type": "text"
      },
      "source": [
        "Se parte en el conjunto de entrenamiento (train) y el de prueba (test) y se seleccionan los distintos modelos"
      ]
    },
    {
      "cell_type": "code",
      "metadata": {
        "id": "tuiETuzF2w4r",
        "colab_type": "code",
        "colab": {}
      },
      "source": [
        "data_X_train, data_X_test, data_Y_train, data_Y_test = train_test_split(data_X,data_Y, test_size=0.2)\n",
        "# First model\n",
        "data_m1_X_train = data_X_train.iloc[:, 0:11]\n",
        "data_m1_X_test = data_X_test.iloc[:, 0:11]\n",
        "\n",
        "# Second model\n",
        "modelo_2 = ['Status','Adult Mortality','infant deaths','Alcohol','Hepatitis B','Measles ',' BMI ','under-five deaths ','Polio','Diphtheria ',' HIV/AIDS','GDP','Population',' thinness  1-19 years',' thinness 5-9 years']\n",
        "data_m2_X_train = data_X_train.loc[:, modelo_2]\n",
        "data_m2_X_test = data_X_test.loc[:, modelo_2]\n",
        "\n",
        "# Third model\n",
        "data_m3_X_train = data_X_train\n",
        "data_m3_X_test = data_X_test"
      ],
      "execution_count": 5,
      "outputs": []
    },
    {
      "cell_type": "markdown",
      "metadata": {
        "id": "YZk8DC1cU0RU",
        "colab_type": "text"
      },
      "source": [
        "### **Regresión Lineal para el modelo 1**"
      ]
    },
    {
      "cell_type": "code",
      "metadata": {
        "id": "Jkdpj2ZsSSMu",
        "colab_type": "code",
        "colab": {
          "base_uri": "https://localhost:8080/",
          "height": 102
        },
        "outputId": "446389f0-eaf4-4ab3-f918-e48c63c5a7f4"
      },
      "source": [
        "# Creating the linear regression object\n",
        "regr = linear_model.LinearRegression()\n",
        "\n",
        "# Training the model using the training sets\n",
        "regr.fit(data_m1_X_train, data_Y_train)\n",
        "\n",
        "\n",
        "\n",
        "# The coefficients\n",
        "print('Coeficientes: \\n', regr.coef_)\n",
        "print(\"Intercepto:\",regr.intercept_)"
      ],
      "execution_count": 6,
      "outputs": [
        {
          "output_type": "stream",
          "text": [
            "Coeficientes: \n",
            " [ 1.04820798e-01  2.08764865e+00 -3.34766797e-02  1.26974653e-01\n",
            "  2.31025264e-01  7.39718180e-04  8.36853117e-03 -1.69459363e-06\n",
            "  1.06560928e-01 -9.63621490e-02  3.35378955e-02]\n",
            "Intercepto: -144.82715632062752\n"
          ],
          "name": "stdout"
        }
      ]
    },
    {
      "cell_type": "markdown",
      "metadata": {
        "id": "flBL2PzOqhw9",
        "colab_type": "text"
      },
      "source": [
        "El siguiente cálculo se realiza teniendo en cuenta que el coeficiente de determinación ($R^2$) ajustado está dado por la siguiente fórmula:\n",
        "\\begin{align}\n",
        "      R_{ajustado}^2=1-\\frac{n-1}{n-k-1}(1-R^2)\n",
        "\\end{align}\n",
        "Donde $n$ es el numero de puntos en las muestras y $k$ es el número de variables independientes. \\\\\n",
        "Esto se realiza teniendo en cuenta que la función ``` r2_score ``` encuentra el coeficiente de determinanción ($R^2$), pero no ajustado.\n",
        "\n",
        "\n",
        "\n",
        "\n",
        "\n"
      ]
    },
    {
      "cell_type": "markdown",
      "metadata": {
        "id": "uMBnBDlH3XDd",
        "colab_type": "text"
      },
      "source": [
        "Para el cálculo del error cuadrático medio se usa la función ``` mean_squared_error ```."
      ]
    },
    {
      "cell_type": "code",
      "metadata": {
        "id": "Cqi6qru6YM2o",
        "colab_type": "code",
        "colab": {
          "base_uri": "https://localhost:8080/",
          "height": 111
        },
        "outputId": "f2321b37-c142-4fd7-d8a3-d5a9aae0ba89"
      },
      "source": [
        "# Making predictions using the testing set\n",
        "data_m1_Y_predict = regr.predict(data_m1_X_test)\n",
        "\n",
        "# Finding the coefficient of determination (In mind: 1 is perfect prediction)\n",
        "r2_m1=r2_score(data_Y_test,data_m1_Y_predict)\n",
        "k = data_m1_X_train.shape[1]\n",
        "n=len(data_Y_train)\n",
        "r2_ajustado_m1 = 1-((n-1)/(n-k-1))*(1-r2_m1)\n",
        "\n",
        "# Finding de Mean Squared Error\n",
        "MSE_m1 = mean_squared_error(data_Y_test, data_m1_Y_predict)\n",
        "\n",
        "# Show results in a table\n",
        "results_m1 = np.array([r2_ajustado_m1,MSE_m1])\n",
        "medida =['Coef. Determ. Ajustado', 'MSE']\n",
        "pd.DataFrame(results_m1,medida,columns=['Valor'])"
      ],
      "execution_count": 7,
      "outputs": [
        {
          "output_type": "execute_result",
          "data": {
            "text/html": [
              "<div>\n",
              "<style scoped>\n",
              "    .dataframe tbody tr th:only-of-type {\n",
              "        vertical-align: middle;\n",
              "    }\n",
              "\n",
              "    .dataframe tbody tr th {\n",
              "        vertical-align: top;\n",
              "    }\n",
              "\n",
              "    .dataframe thead th {\n",
              "        text-align: right;\n",
              "    }\n",
              "</style>\n",
              "<table border=\"1\" class=\"dataframe\">\n",
              "  <thead>\n",
              "    <tr style=\"text-align: right;\">\n",
              "      <th></th>\n",
              "      <th>Valor</th>\n",
              "    </tr>\n",
              "  </thead>\n",
              "  <tbody>\n",
              "    <tr>\n",
              "      <th>Coef. Determ. Ajustado</th>\n",
              "      <td>0.740194</td>\n",
              "    </tr>\n",
              "    <tr>\n",
              "      <th>MSE</th>\n",
              "      <td>20.077525</td>\n",
              "    </tr>\n",
              "  </tbody>\n",
              "</table>\n",
              "</div>"
            ],
            "text/plain": [
              "                            Valor\n",
              "Coef. Determ. Ajustado   0.740194\n",
              "MSE                     20.077525"
            ]
          },
          "metadata": {
            "tags": []
          },
          "execution_count": 7
        }
      ]
    },
    {
      "cell_type": "markdown",
      "metadata": {
        "colab_type": "text",
        "id": "D0mR264Ax1iw"
      },
      "source": [
        "### **Regresión Lineal para el modelo 2**"
      ]
    },
    {
      "cell_type": "code",
      "metadata": {
        "colab_type": "code",
        "id": "vgPo-s9Xx29Q",
        "colab": {
          "base_uri": "https://localhost:8080/",
          "height": 119
        },
        "outputId": "7c8a15c3-b126-4409-c781-1904f1e856a4"
      },
      "source": [
        "# Creating the linear regression object\n",
        "regr = linear_model.LinearRegression()\n",
        "\n",
        "# Training the model using the training sets\n",
        "regr.fit(data_m2_X_train, data_Y_train)\n",
        "\n",
        "\n",
        "\n",
        "# The coefficients\n",
        "print('Coeficientes: \\n', regr.coef_)\n",
        "print(\"Intercepto:\",regr.intercept_)"
      ],
      "execution_count": 8,
      "outputs": [
        {
          "output_type": "stream",
          "text": [
            "Coeficientes: \n",
            " [ 1.63130887e+00 -2.14152616e-02  1.15061272e-01  2.22909897e-01\n",
            " -5.61291308e-03 -7.15625503e-06  8.51043452e-02 -8.78966679e-02\n",
            "  1.76215262e-02  3.65452441e-02 -4.53693592e-01  1.32261616e-04\n",
            "  3.97717401e-09 -1.45696538e-01  1.87965379e-02]\n",
            "Intercepto: 65.16975832873926\n"
          ],
          "name": "stdout"
        }
      ]
    },
    {
      "cell_type": "markdown",
      "metadata": {
        "colab_type": "text",
        "id": "PZQgZCSGx29S"
      },
      "source": [
        "El siguiente cálculo se realiza teniendo en cuenta que el coeficiente de determinación ($R^2$) ajustado está dado por la siguiente fórmula:\n",
        "\\begin{align}\n",
        "      R_{ajustado}^2=1-\\frac{n-1}{n-k-1}(1-R^2)\n",
        "\\end{align}\n",
        "Donde $n$ es el numero de puntos en las muestras y $k$ es el número de variables independientes. \\\\\n",
        "Esto se realiza teniendo en cuenta que la función ``` r2_score ``` encuentra el coeficiente de determinanción ($R^2$), pero no ajustado.\n",
        "\n",
        "\n",
        "\n",
        "\n",
        "\n"
      ]
    },
    {
      "cell_type": "markdown",
      "metadata": {
        "id": "QvlpifuG3Uu9",
        "colab_type": "text"
      },
      "source": [
        "Para el cálculo del error cuadrático medio se usa la función ``` mean_squared_error ```."
      ]
    },
    {
      "cell_type": "code",
      "metadata": {
        "colab_type": "code",
        "id": "1nbmjW-6x29S",
        "colab": {
          "base_uri": "https://localhost:8080/",
          "height": 111
        },
        "outputId": "24a516a1-fcc2-4d04-aaaf-578fe09d2f4c"
      },
      "source": [
        "# Making predictions using the testing set\n",
        "data_m2_Y_predict = regr.predict(data_m2_X_test)\n",
        "\n",
        "# Finding the coefficient of determination (In mind: 1 is perfect prediction)\n",
        "r2_m2=r2_score(data_Y_test,data_m2_Y_predict)\n",
        "k = data_m2_X_train.shape[1]\n",
        "n=len(data_Y_train)\n",
        "r2_ajustado_m2 = 1-((n-1)/(n-k-1))*(1-r2_m2)\n",
        "\n",
        "# Finding de Mean Squared Error\n",
        "MSE_m2 = mean_squared_error(data_Y_test, data_m2_Y_predict)\n",
        "\n",
        "# Show results in a table\n",
        "results_m2 = np.array([r2_ajustado_m2,MSE_m2])\n",
        "medida =['Coef. Determ. Ajustado', 'MSE']\n",
        "pd.DataFrame(results_m2,medida,columns=['Valor'])"
      ],
      "execution_count": 9,
      "outputs": [
        {
          "output_type": "execute_result",
          "data": {
            "text/html": [
              "<div>\n",
              "<style scoped>\n",
              "    .dataframe tbody tr th:only-of-type {\n",
              "        vertical-align: middle;\n",
              "    }\n",
              "\n",
              "    .dataframe tbody tr th {\n",
              "        vertical-align: top;\n",
              "    }\n",
              "\n",
              "    .dataframe thead th {\n",
              "        text-align: right;\n",
              "    }\n",
              "</style>\n",
              "<table border=\"1\" class=\"dataframe\">\n",
              "  <thead>\n",
              "    <tr style=\"text-align: right;\">\n",
              "      <th></th>\n",
              "      <th>Valor</th>\n",
              "    </tr>\n",
              "  </thead>\n",
              "  <tbody>\n",
              "    <tr>\n",
              "      <th>Coef. Determ. Ajustado</th>\n",
              "      <td>0.773503</td>\n",
              "    </tr>\n",
              "    <tr>\n",
              "      <th>MSE</th>\n",
              "      <td>17.449852</td>\n",
              "    </tr>\n",
              "  </tbody>\n",
              "</table>\n",
              "</div>"
            ],
            "text/plain": [
              "                            Valor\n",
              "Coef. Determ. Ajustado   0.773503\n",
              "MSE                     17.449852"
            ]
          },
          "metadata": {
            "tags": []
          },
          "execution_count": 9
        }
      ]
    },
    {
      "cell_type": "markdown",
      "metadata": {
        "colab_type": "text",
        "id": "6HZPoCAcx29P"
      },
      "source": [
        "### **Regresión Lineal para el modelo 3**"
      ]
    },
    {
      "cell_type": "code",
      "metadata": {
        "colab_type": "code",
        "id": "Y5wwlJfxx1ix",
        "colab": {
          "base_uri": "https://localhost:8080/",
          "height": 136
        },
        "outputId": "7c677836-ed54-45ee-9b01-0c5f3a09d521"
      },
      "source": [
        "# Creating the linear regression object\n",
        "regr = linear_model.LinearRegression()\n",
        "\n",
        "# Training the model using the training sets\n",
        "regr.fit(data_m3_X_train, data_Y_train)\n",
        "\n",
        "\n",
        "\n",
        "# The coefficients\n",
        "print('Coeficientes: \\n', regr.coef_)\n",
        "print(\"Intercepto:\",regr.intercept_)"
      ],
      "execution_count": 10,
      "outputs": [
        {
          "output_type": "stream",
          "text": [
            "Coeficientes: \n",
            " [-1.22553710e-01  8.87719922e-01 -1.57110302e-02  8.30719164e-02\n",
            " -1.49956242e-01  4.11721268e-04 -2.21158199e-03 -4.57116498e-06\n",
            "  3.16993541e-02 -6.27695163e-02  3.67190825e-03  1.13788972e-01\n",
            "  1.73809665e-02 -4.56720639e-01  1.91127010e-05  3.53684950e-10\n",
            " -2.09208232e-02 -2.43076571e-02  1.01632249e+01  9.23531248e-01]\n",
            "Intercepto: 298.27404588310566\n"
          ],
          "name": "stdout"
        }
      ]
    },
    {
      "cell_type": "markdown",
      "metadata": {
        "colab_type": "text",
        "id": "vMgC9Kl_x1i1"
      },
      "source": [
        "El siguiente cálculo se realiza teniendo en cuenta que el coeficiente de determinación ($R^2$) ajustado está dado por la siguiente fórmula:\n",
        "\\begin{align}\n",
        "      R_{ajustado}^2=1-\\frac{n-1}{n-k-1}(1-R^2)\n",
        "\\end{align}\n",
        "Donde $n$ es el numero de puntos en las muestras y $k$ es el número de variables independientes. \\\\\n",
        "Esto se realiza teniendo en cuenta que la función ``` r2_score ``` encuentra el coeficiente de determinanción ($R^2$), pero no ajustado.\n",
        "\n",
        "\n",
        "\n",
        "\n",
        "\n"
      ]
    },
    {
      "cell_type": "markdown",
      "metadata": {
        "id": "5sAkSRkh3DLW",
        "colab_type": "text"
      },
      "source": [
        "Para el cálculo del error cuadrático medio se usa la función ``` mean_squared_error ```."
      ]
    },
    {
      "cell_type": "code",
      "metadata": {
        "colab_type": "code",
        "id": "czl9ecBEx1i1",
        "colab": {
          "base_uri": "https://localhost:8080/",
          "height": 111
        },
        "outputId": "04aa39c4-363e-4ce9-b8ac-ff5ec1d78c3a"
      },
      "source": [
        "# Making predictions using the testing set\n",
        "data_m3_Y_predict = regr.predict(data_m3_X_test)\n",
        "\n",
        "# Finding the coefficient of determination (In mind: 1 is perfect prediction)\n",
        "r2_m3=r2_score(data_Y_test,data_m3_Y_predict)\n",
        "k = data_m3_X_train.shape[1]\n",
        "n=len(data_Y_train)\n",
        "r2_ajustado_m3 = 1-((n-1)/(n-k-1))*(1-r2_m3)\n",
        "\n",
        "# Finding de Mean Squared Error\n",
        "MSE_m3 = mean_squared_error(data_Y_test, data_m3_Y_predict)\n",
        "\n",
        "# Show results in a table\n",
        "results_m3 = np.array([r2_ajustado_m3,MSE_m3])\n",
        "medida =['Coef. Determ. Ajustado', 'MSE']\n",
        "pd.DataFrame(results_m3,medida,columns=['Valor'])"
      ],
      "execution_count": 11,
      "outputs": [
        {
          "output_type": "execute_result",
          "data": {
            "text/html": [
              "<div>\n",
              "<style scoped>\n",
              "    .dataframe tbody tr th:only-of-type {\n",
              "        vertical-align: middle;\n",
              "    }\n",
              "\n",
              "    .dataframe tbody tr th {\n",
              "        vertical-align: top;\n",
              "    }\n",
              "\n",
              "    .dataframe thead th {\n",
              "        text-align: right;\n",
              "    }\n",
              "</style>\n",
              "<table border=\"1\" class=\"dataframe\">\n",
              "  <thead>\n",
              "    <tr style=\"text-align: right;\">\n",
              "      <th></th>\n",
              "      <th>Valor</th>\n",
              "    </tr>\n",
              "  </thead>\n",
              "  <tbody>\n",
              "    <tr>\n",
              "      <th>Coef. Determ. Ajustado</th>\n",
              "      <td>0.853020</td>\n",
              "    </tr>\n",
              "    <tr>\n",
              "      <th>MSE</th>\n",
              "      <td>11.280185</td>\n",
              "    </tr>\n",
              "  </tbody>\n",
              "</table>\n",
              "</div>"
            ],
            "text/plain": [
              "                            Valor\n",
              "Coef. Determ. Ajustado   0.853020\n",
              "MSE                     11.280185"
            ]
          },
          "metadata": {
            "tags": []
          },
          "execution_count": 11
        }
      ]
    },
    {
      "cell_type": "markdown",
      "metadata": {
        "id": "6cJ0IOqFyuSp",
        "colab_type": "text"
      },
      "source": [
        "### **Análisis y selección final del modelo**"
      ]
    },
    {
      "cell_type": "code",
      "metadata": {
        "id": "nXlCZotwy4lb",
        "colab_type": "code",
        "colab": {
          "base_uri": "https://localhost:8080/",
          "height": 111
        },
        "outputId": "6b97625e-2665-478d-ee6e-55afea4e1719"
      },
      "source": [
        "medida =['Coef. Determ. Ajustado', 'MSE']\n",
        "results = {'Modelo 1': results_m1,\n",
        "           'Modelo 2': results_m2,\n",
        "           'Modelo 3': results_m3}\n",
        "pd.DataFrame(results,medida,columns=['Modelo 1','Modelo 2', 'Modelo 3'])"
      ],
      "execution_count": 12,
      "outputs": [
        {
          "output_type": "execute_result",
          "data": {
            "text/html": [
              "<div>\n",
              "<style scoped>\n",
              "    .dataframe tbody tr th:only-of-type {\n",
              "        vertical-align: middle;\n",
              "    }\n",
              "\n",
              "    .dataframe tbody tr th {\n",
              "        vertical-align: top;\n",
              "    }\n",
              "\n",
              "    .dataframe thead th {\n",
              "        text-align: right;\n",
              "    }\n",
              "</style>\n",
              "<table border=\"1\" class=\"dataframe\">\n",
              "  <thead>\n",
              "    <tr style=\"text-align: right;\">\n",
              "      <th></th>\n",
              "      <th>Modelo 1</th>\n",
              "      <th>Modelo 2</th>\n",
              "      <th>Modelo 3</th>\n",
              "    </tr>\n",
              "  </thead>\n",
              "  <tbody>\n",
              "    <tr>\n",
              "      <th>Coef. Determ. Ajustado</th>\n",
              "      <td>0.740194</td>\n",
              "      <td>0.773503</td>\n",
              "      <td>0.853020</td>\n",
              "    </tr>\n",
              "    <tr>\n",
              "      <th>MSE</th>\n",
              "      <td>20.077525</td>\n",
              "      <td>17.449852</td>\n",
              "      <td>11.280185</td>\n",
              "    </tr>\n",
              "  </tbody>\n",
              "</table>\n",
              "</div>"
            ],
            "text/plain": [
              "                         Modelo 1   Modelo 2   Modelo 3\n",
              "Coef. Determ. Ajustado   0.740194   0.773503   0.853020\n",
              "MSE                     20.077525  17.449852  11.280185"
            ]
          },
          "metadata": {
            "tags": []
          },
          "execution_count": 12
        }
      ]
    },
    {
      "cell_type": "markdown",
      "metadata": {
        "id": "vOjbt6rp2CDp",
        "colab_type": "text"
      },
      "source": [
        "Como se puede notar en la tabla anterior, el mejor modelo es el modelo 3. Este modelo es el que cuenta con el coeficiente de derterminación ajustado más cercano a 1, y con el menor error cuadrático medio, por lo que es considerado el mejor. Este modelo incluía todas las variables entregadas y que podrían ser usadas para el análisis. "
      ]
    },
    {
      "cell_type": "markdown",
      "metadata": {
        "id": "Kd0xxd182iy2",
        "colab_type": "text"
      },
      "source": [
        "Para determinar cuál es la variable que afecta en mator medida la esperanza de vida se miran los valores de los coeficientes, teniendo en cuenta que el coeficiente de la variable Income composition of resources es mayor que el resto, esta es la variable que mayor afecta a la esperanza de vida. (REDACTAR MEJOR Y REVISAR EL CONCEPTO DE CORRELACION ENTRE LAS VARIABLES)"
      ]
    }
  ]
}