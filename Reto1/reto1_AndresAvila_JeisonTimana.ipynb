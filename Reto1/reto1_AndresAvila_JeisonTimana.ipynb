{
  "nbformat": 4,
  "nbformat_minor": 0,
  "metadata": {
    "colab": {
      "name": "reto1_ML_v1.ipynb",
      "provenance": [],
      "collapsed_sections": []
    },
    "kernelspec": {
      "name": "python3",
      "display_name": "Python 3"
    }
  },
  "cells": [
    {
      "cell_type": "markdown",
      "metadata": {
        "id": "9fsXSr-XoFSc",
        "colab_type": "text"
      },
      "source": [
        "## **Reto 1**\n",
        "### Curso de Machine Learning 2020-20\n",
        "Autores:\n",
        "*    Andrés Enrique Ávila Rojas (201319127)\n",
        "*   Jeison Alexander Timana Rangel (201617870)\n"
      ]
    },
    {
      "cell_type": "markdown",
      "metadata": {
        "id": "z6xqFjbtqUB-",
        "colab_type": "text"
      },
      "source": [
        "**Predicción de la expectativa de vida**"
      ]
    },
    {
      "cell_type": "code",
      "metadata": {
        "id": "SiMyox8fTkUE",
        "colab_type": "code",
        "colab": {}
      },
      "source": [
        "# Import libraries \n",
        "import numpy as np \n",
        "import pandas as pd\n",
        "from sklearn import datasets, linear_model\n",
        "from sklearn.metrics import mean_squared_error, r2_score # las dos medidas que se van a utilizar pero en diferentes datasets.\n",
        "from sklearn.model_selection import train_test_split\n"
      ],
      "execution_count": null,
      "outputs": []
    },
    {
      "cell_type": "markdown",
      "metadata": {
        "id": "WQMlUMei2AiE",
        "colab_type": "text"
      },
      "source": [
        "Se toman los datos del repositorio de github con el siguiente link https://github.com/andresenrique08/ML_2020/blob/master/Reto1/Life_Expectancy_Data.csv"
      ]
    },
    {
      "cell_type": "code",
      "metadata": {
        "id": "5crQvHFIkbKi",
        "colab_type": "code",
        "colab": {}
      },
      "source": [
        "# Reading file from github\n",
        "url = \"https://raw.githubusercontent.com/andresenrique08/ML_2020/master/Reto1/Life_Expectancy_Data.csv\"\n",
        "data  = pd.read_csv(url) "
      ],
      "execution_count": null,
      "outputs": []
    },
    {
      "cell_type": "markdown",
      "metadata": {
        "id": "AnwVJ2142P7T",
        "colab_type": "text"
      },
      "source": [
        "Se reemplazan los datos de la columna Status por una variable binaria, donde el 0 indica \"Developing\" y el 1 indica \"Developed\". Además se elimina la variable Country del conjunto de datos totales."
      ]
    },
    {
      "cell_type": "code",
      "metadata": {
        "id": "72u90UqhxhVt",
        "colab_type": "code",
        "colab": {
          "base_uri": "https://localhost:8080/",
          "height": 472
        },
        "outputId": "1bddf1e1-00e4-4c21-e979-70f6e206445b"
      },
      "source": [
        "# Preparing data\n",
        "data['Status'].replace(['Developing','Developed'],[0,1], inplace=True)\n",
        "# Deleting variable named \"Country\"\n",
        "del data['Country']\n",
        "# Converting nan values to zero\n",
        "   #data=data.dropna()\n",
        "# Showing the data set\n",
        "data.head(130)"
      ],
      "execution_count": null,
      "outputs": [
        {
          "output_type": "execute_result",
          "data": {
            "text/html": [
              "<div>\n",
              "<style scoped>\n",
              "    .dataframe tbody tr th:only-of-type {\n",
              "        vertical-align: middle;\n",
              "    }\n",
              "\n",
              "    .dataframe tbody tr th {\n",
              "        vertical-align: top;\n",
              "    }\n",
              "\n",
              "    .dataframe thead th {\n",
              "        text-align: right;\n",
              "    }\n",
              "</style>\n",
              "<table border=\"1\" class=\"dataframe\">\n",
              "  <thead>\n",
              "    <tr style=\"text-align: right;\">\n",
              "      <th></th>\n",
              "      <th>Year</th>\n",
              "      <th>Status</th>\n",
              "      <th>Life expectancy</th>\n",
              "      <th>Adult Mortality</th>\n",
              "      <th>infant deaths</th>\n",
              "      <th>Alcohol</th>\n",
              "      <th>percentage expenditure</th>\n",
              "      <th>Hepatitis B</th>\n",
              "      <th>Measles</th>\n",
              "      <th>BMI</th>\n",
              "      <th>under-five deaths</th>\n",
              "      <th>Polio</th>\n",
              "      <th>Total expenditure</th>\n",
              "      <th>Diphtheria</th>\n",
              "      <th>HIV/AIDS</th>\n",
              "      <th>GDP</th>\n",
              "      <th>Population</th>\n",
              "      <th>thinness  1-19 years</th>\n",
              "      <th>thinness 5-9 years</th>\n",
              "      <th>Income composition of resources</th>\n",
              "      <th>Schooling</th>\n",
              "    </tr>\n",
              "  </thead>\n",
              "  <tbody>\n",
              "    <tr>\n",
              "      <th>0</th>\n",
              "      <td>2015</td>\n",
              "      <td>0</td>\n",
              "      <td>65.0</td>\n",
              "      <td>263.0</td>\n",
              "      <td>62</td>\n",
              "      <td>0.01</td>\n",
              "      <td>71.279624</td>\n",
              "      <td>65.0</td>\n",
              "      <td>1154</td>\n",
              "      <td>19.1</td>\n",
              "      <td>83</td>\n",
              "      <td>6.0</td>\n",
              "      <td>8.16</td>\n",
              "      <td>65.0</td>\n",
              "      <td>0.1</td>\n",
              "      <td>584.259210</td>\n",
              "      <td>33736494.0</td>\n",
              "      <td>17.2</td>\n",
              "      <td>17.3</td>\n",
              "      <td>0.479</td>\n",
              "      <td>10.1</td>\n",
              "    </tr>\n",
              "    <tr>\n",
              "      <th>1</th>\n",
              "      <td>2014</td>\n",
              "      <td>0</td>\n",
              "      <td>59.9</td>\n",
              "      <td>271.0</td>\n",
              "      <td>64</td>\n",
              "      <td>0.01</td>\n",
              "      <td>73.523582</td>\n",
              "      <td>62.0</td>\n",
              "      <td>492</td>\n",
              "      <td>18.6</td>\n",
              "      <td>86</td>\n",
              "      <td>58.0</td>\n",
              "      <td>8.18</td>\n",
              "      <td>62.0</td>\n",
              "      <td>0.1</td>\n",
              "      <td>612.696514</td>\n",
              "      <td>327582.0</td>\n",
              "      <td>17.5</td>\n",
              "      <td>17.5</td>\n",
              "      <td>0.476</td>\n",
              "      <td>10.0</td>\n",
              "    </tr>\n",
              "    <tr>\n",
              "      <th>2</th>\n",
              "      <td>2013</td>\n",
              "      <td>0</td>\n",
              "      <td>59.9</td>\n",
              "      <td>268.0</td>\n",
              "      <td>66</td>\n",
              "      <td>0.01</td>\n",
              "      <td>73.219243</td>\n",
              "      <td>64.0</td>\n",
              "      <td>430</td>\n",
              "      <td>18.1</td>\n",
              "      <td>89</td>\n",
              "      <td>62.0</td>\n",
              "      <td>8.13</td>\n",
              "      <td>64.0</td>\n",
              "      <td>0.1</td>\n",
              "      <td>631.744976</td>\n",
              "      <td>31731688.0</td>\n",
              "      <td>17.7</td>\n",
              "      <td>17.7</td>\n",
              "      <td>0.470</td>\n",
              "      <td>9.9</td>\n",
              "    </tr>\n",
              "    <tr>\n",
              "      <th>3</th>\n",
              "      <td>2012</td>\n",
              "      <td>0</td>\n",
              "      <td>59.5</td>\n",
              "      <td>272.0</td>\n",
              "      <td>69</td>\n",
              "      <td>0.01</td>\n",
              "      <td>78.184215</td>\n",
              "      <td>67.0</td>\n",
              "      <td>2787</td>\n",
              "      <td>17.6</td>\n",
              "      <td>93</td>\n",
              "      <td>67.0</td>\n",
              "      <td>8.52</td>\n",
              "      <td>67.0</td>\n",
              "      <td>0.1</td>\n",
              "      <td>669.959000</td>\n",
              "      <td>3696958.0</td>\n",
              "      <td>17.9</td>\n",
              "      <td>18.0</td>\n",
              "      <td>0.463</td>\n",
              "      <td>9.8</td>\n",
              "    </tr>\n",
              "    <tr>\n",
              "      <th>4</th>\n",
              "      <td>2011</td>\n",
              "      <td>0</td>\n",
              "      <td>59.2</td>\n",
              "      <td>275.0</td>\n",
              "      <td>71</td>\n",
              "      <td>0.01</td>\n",
              "      <td>7.097109</td>\n",
              "      <td>68.0</td>\n",
              "      <td>3013</td>\n",
              "      <td>17.2</td>\n",
              "      <td>97</td>\n",
              "      <td>68.0</td>\n",
              "      <td>7.87</td>\n",
              "      <td>68.0</td>\n",
              "      <td>0.1</td>\n",
              "      <td>63.537231</td>\n",
              "      <td>2978599.0</td>\n",
              "      <td>18.2</td>\n",
              "      <td>18.2</td>\n",
              "      <td>0.454</td>\n",
              "      <td>9.5</td>\n",
              "    </tr>\n",
              "    <tr>\n",
              "      <th>...</th>\n",
              "      <td>...</td>\n",
              "      <td>...</td>\n",
              "      <td>...</td>\n",
              "      <td>...</td>\n",
              "      <td>...</td>\n",
              "      <td>...</td>\n",
              "      <td>...</td>\n",
              "      <td>...</td>\n",
              "      <td>...</td>\n",
              "      <td>...</td>\n",
              "      <td>...</td>\n",
              "      <td>...</td>\n",
              "      <td>...</td>\n",
              "      <td>...</td>\n",
              "      <td>...</td>\n",
              "      <td>...</td>\n",
              "      <td>...</td>\n",
              "      <td>...</td>\n",
              "      <td>...</td>\n",
              "      <td>...</td>\n",
              "      <td>...</td>\n",
              "    </tr>\n",
              "    <tr>\n",
              "      <th>125</th>\n",
              "      <td>2002</td>\n",
              "      <td>1</td>\n",
              "      <td>79.9</td>\n",
              "      <td>73.0</td>\n",
              "      <td>1</td>\n",
              "      <td>9.84</td>\n",
              "      <td>46.387182</td>\n",
              "      <td>95.0</td>\n",
              "      <td>32</td>\n",
              "      <td>59.6</td>\n",
              "      <td>2</td>\n",
              "      <td>92.0</td>\n",
              "      <td>8.39</td>\n",
              "      <td>92.0</td>\n",
              "      <td>0.1</td>\n",
              "      <td>281.817630</td>\n",
              "      <td>196514.0</td>\n",
              "      <td>0.7</td>\n",
              "      <td>0.7</td>\n",
              "      <td>0.902</td>\n",
              "      <td>20.1</td>\n",
              "    </tr>\n",
              "    <tr>\n",
              "      <th>126</th>\n",
              "      <td>2001</td>\n",
              "      <td>1</td>\n",
              "      <td>79.9</td>\n",
              "      <td>75.0</td>\n",
              "      <td>1</td>\n",
              "      <td>9.53</td>\n",
              "      <td>3064.301144</td>\n",
              "      <td>94.0</td>\n",
              "      <td>141</td>\n",
              "      <td>59.0</td>\n",
              "      <td>2</td>\n",
              "      <td>91.0</td>\n",
              "      <td>8.18</td>\n",
              "      <td>92.0</td>\n",
              "      <td>0.1</td>\n",
              "      <td>19517.841680</td>\n",
              "      <td>19413.0</td>\n",
              "      <td>0.7</td>\n",
              "      <td>0.7</td>\n",
              "      <td>0.899</td>\n",
              "      <td>20.5</td>\n",
              "    </tr>\n",
              "    <tr>\n",
              "      <th>127</th>\n",
              "      <td>2000</td>\n",
              "      <td>1</td>\n",
              "      <td>79.5</td>\n",
              "      <td>78.0</td>\n",
              "      <td>1</td>\n",
              "      <td>10.17</td>\n",
              "      <td>347.187360</td>\n",
              "      <td>NaN</td>\n",
              "      <td>108</td>\n",
              "      <td>58.2</td>\n",
              "      <td>2</td>\n",
              "      <td>9.0</td>\n",
              "      <td>8.80</td>\n",
              "      <td>9.0</td>\n",
              "      <td>0.1</td>\n",
              "      <td>2169.921000</td>\n",
              "      <td>19153.0</td>\n",
              "      <td>0.7</td>\n",
              "      <td>0.7</td>\n",
              "      <td>0.897</td>\n",
              "      <td>20.4</td>\n",
              "    </tr>\n",
              "    <tr>\n",
              "      <th>128</th>\n",
              "      <td>2015</td>\n",
              "      <td>1</td>\n",
              "      <td>81.5</td>\n",
              "      <td>65.0</td>\n",
              "      <td>0</td>\n",
              "      <td>NaN</td>\n",
              "      <td>0.000000</td>\n",
              "      <td>93.0</td>\n",
              "      <td>309</td>\n",
              "      <td>57.6</td>\n",
              "      <td>0</td>\n",
              "      <td>93.0</td>\n",
              "      <td>NaN</td>\n",
              "      <td>93.0</td>\n",
              "      <td>0.1</td>\n",
              "      <td>43665.947000</td>\n",
              "      <td>8633169.0</td>\n",
              "      <td>1.9</td>\n",
              "      <td>2.1</td>\n",
              "      <td>0.892</td>\n",
              "      <td>15.9</td>\n",
              "    </tr>\n",
              "    <tr>\n",
              "      <th>129</th>\n",
              "      <td>2014</td>\n",
              "      <td>1</td>\n",
              "      <td>81.4</td>\n",
              "      <td>66.0</td>\n",
              "      <td>0</td>\n",
              "      <td>12.32</td>\n",
              "      <td>8350.193523</td>\n",
              "      <td>98.0</td>\n",
              "      <td>117</td>\n",
              "      <td>57.1</td>\n",
              "      <td>0</td>\n",
              "      <td>98.0</td>\n",
              "      <td>11.21</td>\n",
              "      <td>98.0</td>\n",
              "      <td>0.1</td>\n",
              "      <td>51322.639970</td>\n",
              "      <td>8541575.0</td>\n",
              "      <td>1.8</td>\n",
              "      <td>2.0</td>\n",
              "      <td>0.892</td>\n",
              "      <td>15.9</td>\n",
              "    </tr>\n",
              "  </tbody>\n",
              "</table>\n",
              "<p>130 rows × 21 columns</p>\n",
              "</div>"
            ],
            "text/plain": [
              "     Year  Status  ...  Income composition of resources  Schooling\n",
              "0    2015       0  ...                            0.479       10.1\n",
              "1    2014       0  ...                            0.476       10.0\n",
              "2    2013       0  ...                            0.470        9.9\n",
              "3    2012       0  ...                            0.463        9.8\n",
              "4    2011       0  ...                            0.454        9.5\n",
              "..    ...     ...  ...                              ...        ...\n",
              "125  2002       1  ...                            0.902       20.1\n",
              "126  2001       1  ...                            0.899       20.5\n",
              "127  2000       1  ...                            0.897       20.4\n",
              "128  2015       1  ...                            0.892       15.9\n",
              "129  2014       1  ...                            0.892       15.9\n",
              "\n",
              "[130 rows x 21 columns]"
            ]
          },
          "metadata": {
            "tags": []
          },
          "execution_count": 44
        }
      ]
    },
    {
      "cell_type": "markdown",
      "metadata": {
        "id": "KrYaCsgxIhqs",
        "colab_type": "text"
      },
      "source": [
        "Se separan los datos objetivo y los datos del modelo"
      ]
    },
    {
      "cell_type": "code",
      "metadata": {
        "id": "zCkOXYsiJEop",
        "colab_type": "code",
        "colab": {}
      },
      "source": [
        "# Target dataset (Life expectancy)\n",
        "#data_Y=data.loc[:,'Life expectancy ']\n",
        "# Deleting the targets to define the whole dataset for models\n",
        "#del data['Life expectancy ']\n",
        "data_X=data\n",
        "\n",
        "\n",
        "mod1 = ['Year', 'Status', 'Adult Mortality', 'infant deaths', 'Alcohol', 'percentage expenditure', 'Hepatitis B', 'Measles ', ' BMI ', 'under-five deaths ', 'Polio', 'Life expectancy ']\n",
        "data1 = data.loc[:, mod1]\n",
        "data1 = data1.dropna()\n",
        "y_mod1 = data1.loc[:, 'Life expectancy ']\n",
        "data1.drop(['Life expectancy '], axis='columns', inplace=True)\n",
        "\n",
        "\n",
        "mod2 = [ 'Year', 'Status', 'Adult Mortality', 'infant deaths', 'Alcohol', 'percentage expenditure', 'Hepatitis B', 'Measles ',\n",
        "' BMI ', 'under-five deaths ', 'Polio', 'Total expenditure', 'Diphtheria ', ' HIV/AIDS', 'GDP', 'Population',\n",
        "' thinness  1-19 years', ' thinness 5-9 years', 'Income composition of resources', 'Schooling', 'Life expectancy ']\n",
        "data2 = data.loc[:, mod2]\n",
        "data2 = data2.dropna()\n",
        "y_mod2 = data2.loc[:, 'Life expectancy ']\n",
        "data2.drop(['Life expectancy '], axis='columns', inplace=True)\n",
        "\n",
        "#mod3 = [ 'Year', 'Status', 'Adult Mortality', 'infant deaths', 'Alcohol', 'percentage expenditure', 'Hepatitis B', 'Measles ',\n",
        "#' BMI ', 'under-five deaths ', 'Polio', 'Total expenditure', 'Diphtheria ', ' HIV/AIDS', 'GDP', 'Population',\n",
        "#' thinness  1-19 years', ' thinness 5-9 years', 'Income composition of resources', 'Schooling', 'Life expectancy ']\n",
        "\n",
        "mod3 = ['Year', 'Status', 'Life expectancy ', 'Adult Mortality', 'infant deaths', 'Alcohol', 'percentage expenditure', 'Hepatitis B', 'Measles ', ' BMI ', 'under-five deaths ', ' HIV/AIDS', 'GDP', 'Population', 'Income composition of resources', 'Schooling']\n",
        "\n",
        "\n",
        "data3 = data.loc[:, mod3]\n",
        "data3 = data3.dropna()\n",
        "y_mod3 = data3.loc[:, 'Life expectancy ']\n",
        "data3.drop(['Life expectancy '], axis='columns', inplace=True)\n"
      ],
      "execution_count": null,
      "outputs": []
    },
    {
      "cell_type": "markdown",
      "metadata": {
        "id": "wk7VUw7-2ksu",
        "colab_type": "text"
      },
      "source": [
        "Se parte en el conjunto de entrenamiento (train) y el de prueba (test) y se seleccionan los distintos modelos"
      ]
    },
    {
      "cell_type": "code",
      "metadata": {
        "id": "tuiETuzF2w4r",
        "colab_type": "code",
        "colab": {}
      },
      "source": [
        "data_X_train1, data_X_test1, data_Y_train1, data_Y_test1 = train_test_split(data1,y_mod1, test_size=0.2)\n",
        "data_X_train2, data_X_test2, data_Y_train2, data_Y_test2 = train_test_split(data2,y_mod2, test_size=0.2)\n",
        "data_X_train3, data_X_test3, data_Y_train3, data_Y_test3 = train_test_split(data3,y_mod3, test_size=0.2)\n",
        "# First model\n",
        "#data_m1_X_train = data_X_train.iloc[:, 0:11]\n",
        "#data_m1_X_test = data_X_test.iloc[:, 0:11]\n",
        "\n",
        "# Second model\n",
        "#modelo_2 = ['Status','Adult Mortality','infant deaths','Alcohol','Hepatitis B','Measles ',' BMI ','under-five deaths ','Polio','Diphtheria ',' HIV/AIDS','GDP','Population',' thinness  1-19 years',' thinness 5-9 years']\n",
        "#data_m2_X_train = data_X_train.loc[:, modelo_2]\n",
        "#data_m2_X_test = data_X_test.loc[:, modelo_2]\n",
        "\n",
        "# Third model\n",
        "#data_m3_X_train = data_X_train\n",
        "#data_m3_X_test = data_X_test"
      ],
      "execution_count": null,
      "outputs": []
    },
    {
      "cell_type": "markdown",
      "metadata": {
        "id": "YZk8DC1cU0RU",
        "colab_type": "text"
      },
      "source": [
        "### **Regresión Lineal para el modelo 1**"
      ]
    },
    {
      "cell_type": "code",
      "metadata": {
        "id": "Jkdpj2ZsSSMu",
        "colab_type": "code",
        "colab": {
          "base_uri": "https://localhost:8080/",
          "height": 101
        },
        "outputId": "7af6e332-5cd5-43cd-ac69-79132c1b3d0d"
      },
      "source": [
        "# Creating the linear regression object\n",
        "regr = linear_model.LinearRegression()\n",
        "\n",
        "# Training the model using the training sets\n",
        "regr.fit(data_X_train1,  data_Y_train1)\n",
        "\n",
        "\n",
        "\n",
        "# The coefficients\n",
        "print('Coeficientes: \\n', regr.coef_)\n",
        "print(\"Intercepto:\",regr.intercept_)"
      ],
      "execution_count": null,
      "outputs": [
        {
          "output_type": "stream",
          "text": [
            "Coeficientes: \n",
            " [ 8.99054049e-02  2.15319876e+00 -3.71031291e-02  1.54810354e-01\n",
            "  2.82284428e-01  6.04953171e-04  1.01571382e-02 -1.70362781e-05\n",
            "  7.58828035e-02 -1.19353830e-01  3.65294702e-02]\n",
            "Intercepto: -113.23521126726978\n"
          ],
          "name": "stdout"
        }
      ]
    },
    {
      "cell_type": "markdown",
      "metadata": {
        "id": "flBL2PzOqhw9",
        "colab_type": "text"
      },
      "source": [
        "El siguiente cálculo se realiza teniendo en cuenta que el coeficiente de determinación ($R^2$) ajustado está dado por la siguiente fórmula:\n",
        "\\begin{align}\n",
        "      R_{ajustado}^2=1-\\frac{n-1}{n-k-1}(1-R^2)\n",
        "\\end{align}\n",
        "Donde $n$ es el numero de puntos en las muestras y $k$ es el número de variables independientes. \\\\\n",
        "Esto se realiza teniendo en cuenta que la función ``` r2_score ``` encuentra el coeficiente de determinanción ($R^2$), pero no ajustado.\n",
        "\n",
        "\n",
        "\n",
        "\n",
        "\n"
      ]
    },
    {
      "cell_type": "markdown",
      "metadata": {
        "id": "uMBnBDlH3XDd",
        "colab_type": "text"
      },
      "source": [
        "Para el cálculo del error cuadrático medio se usa la función ``` mean_squared_error ```."
      ]
    },
    {
      "cell_type": "code",
      "metadata": {
        "id": "Cqi6qru6YM2o",
        "colab_type": "code",
        "colab": {
          "base_uri": "https://localhost:8080/",
          "height": 106
        },
        "outputId": "6b9b90d9-7c92-4c19-cce4-edb73d071fc2"
      },
      "source": [
        "# Making predictions using the testing set\n",
        "data_m1_Y_predict = regr.predict(data_X_test1)\n",
        "\n",
        "# Finding the coefficient of determination (In mind: 1 is perfect prediction)\n",
        "r2_m1=r2_score(data_Y_test1,data_m1_Y_predict)\n",
        "k = data_X_train1.shape[1]\n",
        "n=len(data_Y_train1)\n",
        "r2_ajustado_m1 = 1-((n-1)/(n-k-1))*(1-r2_m1)\n",
        "\n",
        "# Finding de Mean Squared Error\n",
        "MSE_m1 = mean_squared_error(data_Y_test1, data_m1_Y_predict)\n",
        "\n",
        "# Show results in a table\n",
        "results_m1 = np.array([r2_ajustado_m1,MSE_m1])\n",
        "medida =['Coef. Determ. Ajustado', 'MSE']\n",
        "pd.DataFrame(results_m1,medida,columns=['Valor'])"
      ],
      "execution_count": null,
      "outputs": [
        {
          "output_type": "execute_result",
          "data": {
            "text/html": [
              "<div>\n",
              "<style scoped>\n",
              "    .dataframe tbody tr th:only-of-type {\n",
              "        vertical-align: middle;\n",
              "    }\n",
              "\n",
              "    .dataframe tbody tr th {\n",
              "        vertical-align: top;\n",
              "    }\n",
              "\n",
              "    .dataframe thead th {\n",
              "        text-align: right;\n",
              "    }\n",
              "</style>\n",
              "<table border=\"1\" class=\"dataframe\">\n",
              "  <thead>\n",
              "    <tr style=\"text-align: right;\">\n",
              "      <th></th>\n",
              "      <th>Valor</th>\n",
              "    </tr>\n",
              "  </thead>\n",
              "  <tbody>\n",
              "    <tr>\n",
              "      <th>Coef. Determ. Ajustado</th>\n",
              "      <td>0.637243</td>\n",
              "    </tr>\n",
              "    <tr>\n",
              "      <th>MSE</th>\n",
              "      <td>24.418901</td>\n",
              "    </tr>\n",
              "  </tbody>\n",
              "</table>\n",
              "</div>"
            ],
            "text/plain": [
              "                            Valor\n",
              "Coef. Determ. Ajustado   0.637243\n",
              "MSE                     24.418901"
            ]
          },
          "metadata": {
            "tags": []
          },
          "execution_count": 75
        }
      ]
    },
    {
      "cell_type": "markdown",
      "metadata": {
        "colab_type": "text",
        "id": "D0mR264Ax1iw"
      },
      "source": [
        "### **Regresión Lineal para el modelo 2**"
      ]
    },
    {
      "cell_type": "code",
      "metadata": {
        "colab_type": "code",
        "id": "vgPo-s9Xx29Q",
        "colab": {
          "base_uri": "https://localhost:8080/",
          "height": 118
        },
        "outputId": "623273af-5684-4cf8-a536-8861728cc8ea"
      },
      "source": [
        "# Creating the linear regression object\n",
        "regr = linear_model.LinearRegression()\n",
        "\n",
        "# Training the model using the training sets\n",
        "regr.fit(data_X_train2, data_Y_train2)\n",
        "\n",
        "\n",
        "\n",
        "# The coefficients\n",
        "print('Coeficientes: \\n', regr.coef_)\n",
        "print(\"Intercepto:\",regr.intercept_)"
      ],
      "execution_count": null,
      "outputs": [
        {
          "output_type": "stream",
          "text": [
            "Coeficientes: \n",
            " [-1.15972511e-01  7.04822580e-01 -1.69149707e-02  8.66037530e-02\n",
            " -7.14217979e-02  3.37688033e-04  1.75782703e-03 -5.36506104e-06\n",
            "  3.28796122e-02 -6.53378248e-02 -4.55816049e-01  1.93947786e-05\n",
            " -1.65038139e-09  1.11541390e+01  9.26051521e-01]\n",
            "Intercepto: 286.266618926865\n"
          ],
          "name": "stdout"
        }
      ]
    },
    {
      "cell_type": "markdown",
      "metadata": {
        "colab_type": "text",
        "id": "PZQgZCSGx29S"
      },
      "source": [
        "El siguiente cálculo se realiza teniendo en cuenta que el coeficiente de determinación ($R^2$) ajustado está dado por la siguiente fórmula:\n",
        "\\begin{align}\n",
        "      R_{ajustado}^2=1-\\frac{n-1}{n-k-1}(1-R^2)\n",
        "\\end{align}\n",
        "Donde $n$ es el numero de puntos en las muestras y $k$ es el número de variables independientes. \\\\\n",
        "Esto se realiza teniendo en cuenta que la función ``` r2_score ``` encuentra el coeficiente de determinanción ($R^2$), pero no ajustado.\n",
        "\n",
        "\n",
        "\n",
        "\n",
        "\n"
      ]
    },
    {
      "cell_type": "markdown",
      "metadata": {
        "id": "QvlpifuG3Uu9",
        "colab_type": "text"
      },
      "source": [
        "Para el cálculo del error cuadrático medio se usa la función ``` mean_squared_error ```."
      ]
    },
    {
      "cell_type": "code",
      "metadata": {
        "colab_type": "code",
        "id": "1nbmjW-6x29S",
        "colab": {
          "base_uri": "https://localhost:8080/",
          "height": 106
        },
        "outputId": "acd3fc8b-c215-4cf9-cb9b-2041102536fd"
      },
      "source": [
        "# Making predictions using the testing set\n",
        "\n",
        "data_m2_Y_predict = regr.predict(data_X_test2)\n",
        "\n",
        "# Finding the coefficient of determination (In mind: 1 is perfect prediction)\n",
        "r2_m2=r2_score(data_Y_test2,data_m2_Y_predict)\n",
        "k = data_X_train2.shape[1]\n",
        "n=len(data_Y_train2)\n",
        "r2_ajustado_m2 = 1-((n-1)/(n-k-1))*(1-r2_m2)\n",
        "\n",
        "# Finding de Mean Squared Error\n",
        "MSE_m2 = mean_squared_error(data_Y_test2, data_m2_Y_predict)\n",
        "\n",
        "# Show results in a table\n",
        "results_m2 = np.array([r2_ajustado_m2,MSE_m2])\n",
        "medida =['Coef. Determ. Ajustado', 'MSE']\n",
        "pd.DataFrame(results_m2,medida,columns=['Valor'])"
      ],
      "execution_count": null,
      "outputs": [
        {
          "output_type": "execute_result",
          "data": {
            "text/html": [
              "<div>\n",
              "<style scoped>\n",
              "    .dataframe tbody tr th:only-of-type {\n",
              "        vertical-align: middle;\n",
              "    }\n",
              "\n",
              "    .dataframe tbody tr th {\n",
              "        vertical-align: top;\n",
              "    }\n",
              "\n",
              "    .dataframe thead th {\n",
              "        text-align: right;\n",
              "    }\n",
              "</style>\n",
              "<table border=\"1\" class=\"dataframe\">\n",
              "  <thead>\n",
              "    <tr style=\"text-align: right;\">\n",
              "      <th></th>\n",
              "      <th>Valor</th>\n",
              "    </tr>\n",
              "  </thead>\n",
              "  <tbody>\n",
              "    <tr>\n",
              "      <th>Coef. Determ. Ajustado</th>\n",
              "      <td>0.792188</td>\n",
              "    </tr>\n",
              "    <tr>\n",
              "      <th>MSE</th>\n",
              "      <td>13.609525</td>\n",
              "    </tr>\n",
              "  </tbody>\n",
              "</table>\n",
              "</div>"
            ],
            "text/plain": [
              "                            Valor\n",
              "Coef. Determ. Ajustado   0.792188\n",
              "MSE                     13.609525"
            ]
          },
          "metadata": {
            "tags": []
          },
          "execution_count": 77
        }
      ]
    },
    {
      "cell_type": "markdown",
      "metadata": {
        "colab_type": "text",
        "id": "6HZPoCAcx29P"
      },
      "source": [
        "### **Regresión Lineal para el modelo 3**"
      ]
    },
    {
      "cell_type": "code",
      "metadata": {
        "colab_type": "code",
        "id": "Y5wwlJfxx1ix",
        "colab": {
          "base_uri": "https://localhost:8080/",
          "height": 118
        },
        "outputId": "e1ba1fc9-8278-4155-d8e0-fffa61ea431c"
      },
      "source": [
        "# Creating the linear regression object\n",
        "\n",
        "regr = linear_model.LinearRegression()\n",
        "\n",
        "# Training the model using the training sets\n",
        "regr.fit(data_X_train3, data_Y_train3)\n",
        "\n",
        "\n",
        "\n",
        "# The coefficients\n",
        "print('Coeficientes: \\n', regr.coef_)\n",
        "print(\"Intercepto:\",regr.intercept_)"
      ],
      "execution_count": null,
      "outputs": [
        {
          "output_type": "stream",
          "text": [
            "Coeficientes: \n",
            " [-1.26567290e-01  9.22734865e-01 -1.53850776e-02  8.57508820e-02\n",
            " -9.91605096e-02  3.93315435e-04  5.98189159e-03 -6.63760333e-06\n",
            "  3.96472256e-02 -6.56339629e-02 -4.64816889e-01  7.53706309e-06\n",
            "  1.86552107e-10  1.19705428e+01  8.77904787e-01]\n",
            "Intercepto: 306.8561282303434\n"
          ],
          "name": "stdout"
        }
      ]
    },
    {
      "cell_type": "markdown",
      "metadata": {
        "colab_type": "text",
        "id": "vMgC9Kl_x1i1"
      },
      "source": [
        "El siguiente cálculo se realiza teniendo en cuenta que el coeficiente de determinación ($R^2$) ajustado está dado por la siguiente fórmula:\n",
        "\\begin{align}\n",
        "      R_{ajustado}^2=1-\\frac{n-1}{n-k-1}(1-R^2)\n",
        "\\end{align}\n",
        "Donde $n$ es el numero de puntos en las muestras y $k$ es el número de variables independientes. \\\\\n",
        "Esto se realiza teniendo en cuenta que la función ``` r2_score ``` encuentra el coeficiente de determinanción ($R^2$), pero no ajustado.\n",
        "\n",
        "\n",
        "\n",
        "\n",
        "\n"
      ]
    },
    {
      "cell_type": "markdown",
      "metadata": {
        "id": "5sAkSRkh3DLW",
        "colab_type": "text"
      },
      "source": [
        "Para el cálculo del error cuadrático medio se usa la función ``` mean_squared_error ```."
      ]
    },
    {
      "cell_type": "code",
      "metadata": {
        "colab_type": "code",
        "id": "czl9ecBEx1i1",
        "colab": {
          "base_uri": "https://localhost:8080/",
          "height": 106
        },
        "outputId": "2ef21d6a-f150-4b6b-cadb-8dbc506ec29b"
      },
      "source": [
        "# Making predictions using the testing set\n",
        "\n",
        "data_m3_Y_predict = regr.predict(data_X_test3)\n",
        "\n",
        "# Finding the coefficient of determination (In mind: 1 is perfect prediction)\n",
        "r2_m3=r2_score(data_Y_test3,data_m3_Y_predict)\n",
        "k = data_X_train3.shape[1]\n",
        "n=len(data_Y_train3)\n",
        "r2_ajustado_m3 = 1-((n-1)/(n-k-1))*(1-r2_m3)\n",
        "\n",
        "# Finding de Mean Squared Error\n",
        "MSE_m3 = mean_squared_error(data_Y_test3, data_m3_Y_predict)\n",
        "\n",
        "# Show results in a table\n",
        "results_m3 = np.array([r2_ajustado_m3,MSE_m3])\n",
        "medida =['Coef. Determ. Ajustado', 'MSE']\n",
        "pd.DataFrame(results_m3,medida,columns=['Valor'])"
      ],
      "execution_count": null,
      "outputs": [
        {
          "output_type": "execute_result",
          "data": {
            "text/html": [
              "<div>\n",
              "<style scoped>\n",
              "    .dataframe tbody tr th:only-of-type {\n",
              "        vertical-align: middle;\n",
              "    }\n",
              "\n",
              "    .dataframe tbody tr th {\n",
              "        vertical-align: top;\n",
              "    }\n",
              "\n",
              "    .dataframe thead th {\n",
              "        text-align: right;\n",
              "    }\n",
              "</style>\n",
              "<table border=\"1\" class=\"dataframe\">\n",
              "  <thead>\n",
              "    <tr style=\"text-align: right;\">\n",
              "      <th></th>\n",
              "      <th>Valor</th>\n",
              "    </tr>\n",
              "  </thead>\n",
              "  <tbody>\n",
              "    <tr>\n",
              "      <th>Coef. Determ. Ajustado</th>\n",
              "      <td>0.826935</td>\n",
              "    </tr>\n",
              "    <tr>\n",
              "      <th>MSE</th>\n",
              "      <td>13.437261</td>\n",
              "    </tr>\n",
              "  </tbody>\n",
              "</table>\n",
              "</div>"
            ],
            "text/plain": [
              "                            Valor\n",
              "Coef. Determ. Ajustado   0.826935\n",
              "MSE                     13.437261"
            ]
          },
          "metadata": {
            "tags": []
          },
          "execution_count": 79
        }
      ]
    },
    {
      "cell_type": "markdown",
      "metadata": {
        "id": "6cJ0IOqFyuSp",
        "colab_type": "text"
      },
      "source": [
        "### **Análisis y selección final del modelo**"
      ]
    },
    {
      "cell_type": "code",
      "metadata": {
        "id": "nXlCZotwy4lb",
        "colab_type": "code",
        "colab": {
          "base_uri": "https://localhost:8080/",
          "height": 106
        },
        "outputId": "85a4d323-cec6-41d0-97c5-9ec64b8e88ad"
      },
      "source": [
        "medida =['Coef. Determ. Ajustado', 'MSE']\n",
        "results = {'Modelo 1': results_m1,\n",
        "           'Modelo 2': results_m2,\n",
        "           'Modelo 3': results_m3}\n",
        "pd.DataFrame(results,medida,columns=['Modelo 1','Modelo 2', 'Modelo 3'])"
      ],
      "execution_count": null,
      "outputs": [
        {
          "output_type": "execute_result",
          "data": {
            "text/html": [
              "<div>\n",
              "<style scoped>\n",
              "    .dataframe tbody tr th:only-of-type {\n",
              "        vertical-align: middle;\n",
              "    }\n",
              "\n",
              "    .dataframe tbody tr th {\n",
              "        vertical-align: top;\n",
              "    }\n",
              "\n",
              "    .dataframe thead th {\n",
              "        text-align: right;\n",
              "    }\n",
              "</style>\n",
              "<table border=\"1\" class=\"dataframe\">\n",
              "  <thead>\n",
              "    <tr style=\"text-align: right;\">\n",
              "      <th></th>\n",
              "      <th>Modelo 1</th>\n",
              "      <th>Modelo 2</th>\n",
              "      <th>Modelo 3</th>\n",
              "    </tr>\n",
              "  </thead>\n",
              "  <tbody>\n",
              "    <tr>\n",
              "      <th>Coef. Determ. Ajustado</th>\n",
              "      <td>0.637243</td>\n",
              "      <td>0.792188</td>\n",
              "      <td>0.826935</td>\n",
              "    </tr>\n",
              "    <tr>\n",
              "      <th>MSE</th>\n",
              "      <td>24.418901</td>\n",
              "      <td>13.609525</td>\n",
              "      <td>13.437261</td>\n",
              "    </tr>\n",
              "  </tbody>\n",
              "</table>\n",
              "</div>"
            ],
            "text/plain": [
              "                         Modelo 1   Modelo 2   Modelo 3\n",
              "Coef. Determ. Ajustado   0.637243   0.792188   0.826935\n",
              "MSE                     24.418901  13.609525  13.437261"
            ]
          },
          "metadata": {
            "tags": []
          },
          "execution_count": 80
        }
      ]
    },
    {
      "cell_type": "markdown",
      "metadata": {
        "id": "vOjbt6rp2CDp",
        "colab_type": "text"
      },
      "source": [
        "Como se puede notar en la tabla anterior, el mejor modelo es el modelo 3. Este modelo es el que cuenta con el coeficiente de derterminación ajustado más cercano a 1, y con el menor error cuadrático medio, por lo que es considerado el mejor. Este modelo incluye 16 de las 20 variables disponibles para el análisis. "
      ]
    },
    {
      "cell_type": "markdown",
      "metadata": {
        "id": "Kd0xxd182iy2",
        "colab_type": "text"
      },
      "source": [
        "Para determinar cuál es la variable que afecta en mayor medida la esperanza de vida se comparan las correlaciones entre las variables que se usa en el módelo y la esperanza de vida."
      ]
    },
    {
      "cell_type": "markdown",
      "metadata": {
        "id": "BAOkiql4HRcE",
        "colab_type": "text"
      },
      "source": [
        "Se usa la correlación como criterio de decisión respecto a la variable que afecta en mayor medida la esperanza de vida, puesto que este valor permite medir el nivel de asociación que hay entre dos variables. El coeficiente de correlación de Pearson varía entre -1 y 1, su signo dependerá de la covarianza. Que el coeficiente sea cero solo significa que las variables no tienen ninguna relación lineal, pero puede que tengan otro tipo de relación. Teniendo en cuenta el modelo lineal seleccionado, se calculan los coeficientes de correlación de pearson para cada variable respecto a la variable esperanza de vida, y se selecciona la variable que mayor coeficiente de correlación tenga (el más cercano a 1 o -1).\n",
        "\n"
      ]
    },
    {
      "cell_type": "code",
      "metadata": {
        "id": "aJ4m0Ad4nDtx",
        "colab_type": "code",
        "colab": {
          "base_uri": "https://localhost:8080/",
          "height": 50
        },
        "outputId": "e5e38a3f-2a61-4e81-d32e-b4845a972520"
      },
      "source": [
        "n = len(data_X_train3.columns)\n",
        "pearson_corr = [0]*n # Vector para ubicar las correlaciones por columna\n",
        "for i in range(n):\n",
        "  data_m3_X=data_X_train3.iloc[:,i]\n",
        "  pearson_corr[i]=data_Y_train3.corr(data_m3_X) # Se calcula la correlación de los datos objetivo y cada una de las columnas\n",
        "\n",
        "def abs_lista(lista):\n",
        "  for i in range(len(lista)):\n",
        "    lista[i] = abs(lista[i])\n",
        "\n",
        "abs_lista(pearson_corr) # Se saca el valor absoluto para dejar los valores en 0 y 1\n",
        "max_pearson_corr = np.max(pearson_corr)\n",
        "num_col = np.argmax(pearson_corr)\n",
        "names = list(data_X_train3.columns)\n",
        "print(\"Variable con mayor correlación:\",names[num_col])\n",
        "print(\"El valor de la correlación es\", max_pearson_corr)\n"
      ],
      "execution_count": null,
      "outputs": [
        {
          "output_type": "stream",
          "text": [
            "Variable con mayor correlación: Schooling\n",
            "El valor de la correlación es 0.731564178420859\n"
          ],
          "name": "stdout"
        }
      ]
    },
    {
      "cell_type": "markdown",
      "metadata": {
        "id": "16xG9769INEC",
        "colab_type": "text"
      },
      "source": [
        "Teniendo en cuenta los valores previamente mostrados, se confirma que la variable con mayor peso sobre el módelo esperanza de vida es la variable de estudios (Schooling)."
      ]
    }
  ]
}