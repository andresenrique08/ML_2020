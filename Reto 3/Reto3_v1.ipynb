{
  "nbformat": 4,
  "nbformat_minor": 0,
  "metadata": {
    "colab": {
      "name": "Reto3_v1.ipynb",
      "provenance": [],
      "authorship_tag": "ABX9TyNazlnhkwjGiTkVep+TKiZV",
      "include_colab_link": true
    },
    "kernelspec": {
      "name": "python3",
      "display_name": "Python 3"
    }
  },
  "cells": [
    {
      "cell_type": "markdown",
      "metadata": {
        "id": "view-in-github",
        "colab_type": "text"
      },
      "source": [
        "<a href=\"https://colab.research.google.com/github/andresenrique08/ML_2020/blob/master/Reto%203/Reto3_v1.ipynb\" target=\"_parent\"><img src=\"https://colab.research.google.com/assets/colab-badge.svg\" alt=\"Open In Colab\"/></a>"
      ]
    },
    {
      "cell_type": "markdown",
      "metadata": {
        "id": "k_9ch7zsbWVN"
      },
      "source": [
        "# Reto 3.0\n",
        "\n",
        "### Curso de Machine Learning 2020-20\n",
        "Autores:\n",
        "*    Andrés Enrique Ávila Rojas (201319127)\n",
        "*   Jeison Alexander Timana Rangel (201617870)"
      ]
    },
    {
      "cell_type": "code",
      "metadata": {
        "id": "alSBm-Y3aure"
      },
      "source": [
        "# Import libraries\n",
        "import numpy as np \n",
        "import pandas as pd\n",
        "import matplotlib.pyplot as plt\n",
        "import seaborn as sns\n",
        "\n",
        "# Modulos para contingencias\n",
        "from scipy.stats import chi2\n",
        "from scipy.stats import chi2_contingency\n",
        "\n",
        "# Modulos de scikit-learn\n",
        "from sklearn.preprocessing import MinMaxScaler\n",
        "from sklearn.model_selection import train_test_split\n",
        "from sklearn.neural_network import MLPClassifier\n",
        "from sklearn.metrics import plot_confusion_matrix"
      ],
      "execution_count": null,
      "outputs": []
    },
    {
      "cell_type": "markdown",
      "metadata": {
        "id": "znlSMc7Cbw4p"
      },
      "source": [
        "Se toman los datos del repositorio de github con el siguiente link https://raw.githubusercontent.com/andresenrique08/ML_2020/master/Reto%203/msd_genre_dataset.txt"
      ]
    },
    {
      "cell_type": "code",
      "metadata": {
        "id": "P5cLzxv0bm1r",
        "outputId": "a2768b6a-aff9-4838-cf59-69bec48487ef",
        "colab": {
          "base_uri": "https://localhost:8080/",
          "height": 479
        }
      },
      "source": [
        "# Reading file from github\n",
        "url = \"https://raw.githubusercontent.com/andresenrique08/ML_2020/master/Reto%203/msd_genre_dataset.txt\"\n",
        "data  = pd.read_csv(url,skiprows=9, sep=\",\") \n",
        "data.head()"
      ],
      "execution_count": null,
      "outputs": [
        {
          "output_type": "execute_result",
          "data": {
            "text/html": [
              "<div>\n",
              "<style scoped>\n",
              "    .dataframe tbody tr th:only-of-type {\n",
              "        vertical-align: middle;\n",
              "    }\n",
              "\n",
              "    .dataframe tbody tr th {\n",
              "        vertical-align: top;\n",
              "    }\n",
              "\n",
              "    .dataframe thead th {\n",
              "        text-align: right;\n",
              "    }\n",
              "</style>\n",
              "<table border=\"1\" class=\"dataframe\">\n",
              "  <thead>\n",
              "    <tr style=\"text-align: right;\">\n",
              "      <th></th>\n",
              "      <th>%genre</th>\n",
              "      <th>track_id</th>\n",
              "      <th>artist_name</th>\n",
              "      <th>title</th>\n",
              "      <th>loudness</th>\n",
              "      <th>tempo</th>\n",
              "      <th>time_signature</th>\n",
              "      <th>key</th>\n",
              "      <th>mode</th>\n",
              "      <th>duration</th>\n",
              "      <th>avg_timbre1</th>\n",
              "      <th>avg_timbre2</th>\n",
              "      <th>avg_timbre3</th>\n",
              "      <th>avg_timbre4</th>\n",
              "      <th>avg_timbre5</th>\n",
              "      <th>avg_timbre6</th>\n",
              "      <th>avg_timbre7</th>\n",
              "      <th>avg_timbre8</th>\n",
              "      <th>avg_timbre9</th>\n",
              "      <th>avg_timbre10</th>\n",
              "      <th>avg_timbre11</th>\n",
              "      <th>avg_timbre12</th>\n",
              "      <th>var_timbre1</th>\n",
              "      <th>var_timbre2</th>\n",
              "      <th>var_timbre3</th>\n",
              "      <th>var_timbre4</th>\n",
              "      <th>var_timbre5</th>\n",
              "      <th>var_timbre6</th>\n",
              "      <th>var_timbre7</th>\n",
              "      <th>var_timbre8</th>\n",
              "      <th>var_timbre9</th>\n",
              "      <th>var_timbre10</th>\n",
              "      <th>var_timbre11</th>\n",
              "      <th>var_timbre12</th>\n",
              "    </tr>\n",
              "  </thead>\n",
              "  <tbody>\n",
              "    <tr>\n",
              "      <th>0</th>\n",
              "      <td>classic pop and rock</td>\n",
              "      <td>TRFCOOU128F427AEC0</td>\n",
              "      <td>Blue Oyster Cult</td>\n",
              "      <td>Mes Dames Sarat</td>\n",
              "      <td>-8.697</td>\n",
              "      <td>155.007</td>\n",
              "      <td>1</td>\n",
              "      <td>9</td>\n",
              "      <td>1</td>\n",
              "      <td>246.33424</td>\n",
              "      <td>46.673067</td>\n",
              "      <td>14.613684</td>\n",
              "      <td>14.664215</td>\n",
              "      <td>0.176561</td>\n",
              "      <td>-9.346377</td>\n",
              "      <td>-12.341699</td>\n",
              "      <td>11.183382</td>\n",
              "      <td>7.405288</td>\n",
              "      <td>9.313765</td>\n",
              "      <td>3.201169</td>\n",
              "      <td>-0.152734</td>\n",
              "      <td>5.809709</td>\n",
              "      <td>14.930820</td>\n",
              "      <td>802.205948</td>\n",
              "      <td>1255.514569</td>\n",
              "      <td>580.030472</td>\n",
              "      <td>598.485223</td>\n",
              "      <td>575.337671</td>\n",
              "      <td>322.068603</td>\n",
              "      <td>321.726029</td>\n",
              "      <td>232.700609</td>\n",
              "      <td>186.805303</td>\n",
              "      <td>181.938688</td>\n",
              "      <td>151.508011</td>\n",
              "    </tr>\n",
              "    <tr>\n",
              "      <th>1</th>\n",
              "      <td>classic pop and rock</td>\n",
              "      <td>TRNJTPB128F427AE9F</td>\n",
              "      <td>Blue Oyster Cult</td>\n",
              "      <td>Screams</td>\n",
              "      <td>-10.659</td>\n",
              "      <td>148.462</td>\n",
              "      <td>1</td>\n",
              "      <td>4</td>\n",
              "      <td>0</td>\n",
              "      <td>189.80526</td>\n",
              "      <td>43.645377</td>\n",
              "      <td>-87.337150</td>\n",
              "      <td>41.051582</td>\n",
              "      <td>7.814770</td>\n",
              "      <td>-12.989848</td>\n",
              "      <td>-14.253599</td>\n",
              "      <td>6.126045</td>\n",
              "      <td>-2.448662</td>\n",
              "      <td>22.691713</td>\n",
              "      <td>-2.872706</td>\n",
              "      <td>1.427725</td>\n",
              "      <td>-6.710730</td>\n",
              "      <td>22.704843</td>\n",
              "      <td>1561.307072</td>\n",
              "      <td>2007.653070</td>\n",
              "      <td>1043.474073</td>\n",
              "      <td>585.694981</td>\n",
              "      <td>564.013736</td>\n",
              "      <td>510.177022</td>\n",
              "      <td>400.200186</td>\n",
              "      <td>365.119588</td>\n",
              "      <td>238.099708</td>\n",
              "      <td>197.933757</td>\n",
              "      <td>251.577525</td>\n",
              "    </tr>\n",
              "    <tr>\n",
              "      <th>2</th>\n",
              "      <td>classic pop and rock</td>\n",
              "      <td>TRLFJHA128F427AEEA</td>\n",
              "      <td>Blue Oyster Cult</td>\n",
              "      <td>Dance The Night Away</td>\n",
              "      <td>-13.494</td>\n",
              "      <td>112.909</td>\n",
              "      <td>1</td>\n",
              "      <td>10</td>\n",
              "      <td>0</td>\n",
              "      <td>158.19710</td>\n",
              "      <td>37.573538</td>\n",
              "      <td>-61.202030</td>\n",
              "      <td>28.760533</td>\n",
              "      <td>-13.788123</td>\n",
              "      <td>10.062347</td>\n",
              "      <td>-4.872030</td>\n",
              "      <td>-14.090243</td>\n",
              "      <td>5.580175</td>\n",
              "      <td>15.414011</td>\n",
              "      <td>4.556137</td>\n",
              "      <td>-1.877363</td>\n",
              "      <td>20.879475</td>\n",
              "      <td>58.459621</td>\n",
              "      <td>4644.001846</td>\n",
              "      <td>1204.856777</td>\n",
              "      <td>2736.520024</td>\n",
              "      <td>730.233239</td>\n",
              "      <td>665.203452</td>\n",
              "      <td>535.775111</td>\n",
              "      <td>439.335059</td>\n",
              "      <td>486.822970</td>\n",
              "      <td>265.333860</td>\n",
              "      <td>447.097987</td>\n",
              "      <td>251.880724</td>\n",
              "    </tr>\n",
              "    <tr>\n",
              "      <th>3</th>\n",
              "      <td>classic pop and rock</td>\n",
              "      <td>TRCQZAG128F427DB97</td>\n",
              "      <td>Blue Oyster Cult</td>\n",
              "      <td>Debbie Denise</td>\n",
              "      <td>-12.786</td>\n",
              "      <td>117.429</td>\n",
              "      <td>4</td>\n",
              "      <td>7</td>\n",
              "      <td>1</td>\n",
              "      <td>250.22649</td>\n",
              "      <td>42.566615</td>\n",
              "      <td>17.217897</td>\n",
              "      <td>53.484213</td>\n",
              "      <td>1.564362</td>\n",
              "      <td>-8.884632</td>\n",
              "      <td>-13.088890</td>\n",
              "      <td>-9.762620</td>\n",
              "      <td>1.373769</td>\n",
              "      <td>1.092876</td>\n",
              "      <td>1.479490</td>\n",
              "      <td>1.517015</td>\n",
              "      <td>8.562618</td>\n",
              "      <td>22.575460</td>\n",
              "      <td>691.140671</td>\n",
              "      <td>809.755802</td>\n",
              "      <td>563.908070</td>\n",
              "      <td>492.803819</td>\n",
              "      <td>378.382799</td>\n",
              "      <td>372.875044</td>\n",
              "      <td>231.941957</td>\n",
              "      <td>246.313305</td>\n",
              "      <td>168.400152</td>\n",
              "      <td>85.282462</td>\n",
              "      <td>339.897173</td>\n",
              "    </tr>\n",
              "    <tr>\n",
              "      <th>4</th>\n",
              "      <td>classic pop and rock</td>\n",
              "      <td>TRNXMNM128F427DB8C</td>\n",
              "      <td>Blue Oyster Cult</td>\n",
              "      <td>(Don't Fear) The Reaper</td>\n",
              "      <td>-14.093</td>\n",
              "      <td>141.536</td>\n",
              "      <td>4</td>\n",
              "      <td>9</td>\n",
              "      <td>0</td>\n",
              "      <td>307.06893</td>\n",
              "      <td>40.976507</td>\n",
              "      <td>-13.609779</td>\n",
              "      <td>39.566169</td>\n",
              "      <td>-5.602033</td>\n",
              "      <td>-17.754819</td>\n",
              "      <td>-21.833261</td>\n",
              "      <td>-5.600732</td>\n",
              "      <td>2.291770</td>\n",
              "      <td>3.526177</td>\n",
              "      <td>1.535449</td>\n",
              "      <td>2.763958</td>\n",
              "      <td>3.388757</td>\n",
              "      <td>34.294994</td>\n",
              "      <td>1062.180815</td>\n",
              "      <td>1093.684935</td>\n",
              "      <td>343.556047</td>\n",
              "      <td>889.163314</td>\n",
              "      <td>218.111796</td>\n",
              "      <td>304.862864</td>\n",
              "      <td>178.352161</td>\n",
              "      <td>440.478867</td>\n",
              "      <td>142.669283</td>\n",
              "      <td>81.061326</td>\n",
              "      <td>208.355152</td>\n",
              "    </tr>\n",
              "  </tbody>\n",
              "</table>\n",
              "</div>"
            ],
            "text/plain": [
              "                 %genre            track_id  ... var_timbre11 var_timbre12\n",
              "0  classic pop and rock  TRFCOOU128F427AEC0  ...   181.938688   151.508011\n",
              "1  classic pop and rock  TRNJTPB128F427AE9F  ...   197.933757   251.577525\n",
              "2  classic pop and rock  TRLFJHA128F427AEEA  ...   447.097987   251.880724\n",
              "3  classic pop and rock  TRCQZAG128F427DB97  ...    85.282462   339.897173\n",
              "4  classic pop and rock  TRNXMNM128F427DB8C  ...    81.061326   208.355152\n",
              "\n",
              "[5 rows x 34 columns]"
            ]
          },
          "metadata": {
            "tags": []
          },
          "execution_count": 2
        }
      ]
    },
    {
      "cell_type": "markdown",
      "metadata": {
        "id": "pZLQC3MANO-z"
      },
      "source": [
        "Los géneros presentes en la base de datos son los siguientes:"
      ]
    },
    {
      "cell_type": "code",
      "metadata": {
        "id": "NbOfNCfaNNGz",
        "outputId": "e894cdd1-a22d-4dba-8cee-5b24d7512bbc",
        "colab": {
          "base_uri": "https://localhost:8080/",
          "height": 359
        }
      },
      "source": [
        "generos = data['%genre'].unique()\n",
        "generos = pd.DataFrame(data=generos, columns=['Generos'])\n",
        "generos"
      ],
      "execution_count": null,
      "outputs": [
        {
          "output_type": "execute_result",
          "data": {
            "text/html": [
              "<div>\n",
              "<style scoped>\n",
              "    .dataframe tbody tr th:only-of-type {\n",
              "        vertical-align: middle;\n",
              "    }\n",
              "\n",
              "    .dataframe tbody tr th {\n",
              "        vertical-align: top;\n",
              "    }\n",
              "\n",
              "    .dataframe thead th {\n",
              "        text-align: right;\n",
              "    }\n",
              "</style>\n",
              "<table border=\"1\" class=\"dataframe\">\n",
              "  <thead>\n",
              "    <tr style=\"text-align: right;\">\n",
              "      <th></th>\n",
              "      <th>Generos</th>\n",
              "    </tr>\n",
              "  </thead>\n",
              "  <tbody>\n",
              "    <tr>\n",
              "      <th>0</th>\n",
              "      <td>classic pop and rock</td>\n",
              "    </tr>\n",
              "    <tr>\n",
              "      <th>1</th>\n",
              "      <td>punk</td>\n",
              "    </tr>\n",
              "    <tr>\n",
              "      <th>2</th>\n",
              "      <td>folk</td>\n",
              "    </tr>\n",
              "    <tr>\n",
              "      <th>3</th>\n",
              "      <td>pop</td>\n",
              "    </tr>\n",
              "    <tr>\n",
              "      <th>4</th>\n",
              "      <td>dance and electronica</td>\n",
              "    </tr>\n",
              "    <tr>\n",
              "      <th>5</th>\n",
              "      <td>metal</td>\n",
              "    </tr>\n",
              "    <tr>\n",
              "      <th>6</th>\n",
              "      <td>jazz and blues</td>\n",
              "    </tr>\n",
              "    <tr>\n",
              "      <th>7</th>\n",
              "      <td>classical</td>\n",
              "    </tr>\n",
              "    <tr>\n",
              "      <th>8</th>\n",
              "      <td>hip-hop</td>\n",
              "    </tr>\n",
              "    <tr>\n",
              "      <th>9</th>\n",
              "      <td>soul and reggae</td>\n",
              "    </tr>\n",
              "  </tbody>\n",
              "</table>\n",
              "</div>"
            ],
            "text/plain": [
              "                 Generos\n",
              "0   classic pop and rock\n",
              "1                   punk\n",
              "2                   folk\n",
              "3                    pop\n",
              "4  dance and electronica\n",
              "5                  metal\n",
              "6         jazz and blues\n",
              "7              classical\n",
              "8                hip-hop\n",
              "9        soul and reggae"
            ]
          },
          "metadata": {
            "tags": []
          },
          "execution_count": 3
        }
      ]
    },
    {
      "cell_type": "markdown",
      "metadata": {
        "id": "HL_z43wXNhsh"
      },
      "source": [
        "## Preparación de los datos\n",
        "\n",
        "Teniendo en cuenta que se espera resolver el problema de clasificación binaria (usando ```scikit-learn```) entre los géneros jazz and blues y soul and reggae, se procede a crear un dataframe con solo la información correspondiente a estos dos géneros.\n",
        "\n"
      ]
    },
    {
      "cell_type": "code",
      "metadata": {
        "id": "vG11Y0f0OKp0",
        "outputId": "602d0b19-8723-4859-dc23-a13865c5bec6",
        "colab": {
          "base_uri": "https://localhost:8080/",
          "height": 445
        }
      },
      "source": [
        "data_bin = data[data['%genre'].isin(['jazz and blues','soul and reggae'])]\n",
        "data_bin.head()"
      ],
      "execution_count": null,
      "outputs": [
        {
          "output_type": "execute_result",
          "data": {
            "text/html": [
              "<div>\n",
              "<style scoped>\n",
              "    .dataframe tbody tr th:only-of-type {\n",
              "        vertical-align: middle;\n",
              "    }\n",
              "\n",
              "    .dataframe tbody tr th {\n",
              "        vertical-align: top;\n",
              "    }\n",
              "\n",
              "    .dataframe thead th {\n",
              "        text-align: right;\n",
              "    }\n",
              "</style>\n",
              "<table border=\"1\" class=\"dataframe\">\n",
              "  <thead>\n",
              "    <tr style=\"text-align: right;\">\n",
              "      <th></th>\n",
              "      <th>%genre</th>\n",
              "      <th>track_id</th>\n",
              "      <th>artist_name</th>\n",
              "      <th>title</th>\n",
              "      <th>loudness</th>\n",
              "      <th>tempo</th>\n",
              "      <th>time_signature</th>\n",
              "      <th>key</th>\n",
              "      <th>mode</th>\n",
              "      <th>duration</th>\n",
              "      <th>avg_timbre1</th>\n",
              "      <th>avg_timbre2</th>\n",
              "      <th>avg_timbre3</th>\n",
              "      <th>avg_timbre4</th>\n",
              "      <th>avg_timbre5</th>\n",
              "      <th>avg_timbre6</th>\n",
              "      <th>avg_timbre7</th>\n",
              "      <th>avg_timbre8</th>\n",
              "      <th>avg_timbre9</th>\n",
              "      <th>avg_timbre10</th>\n",
              "      <th>avg_timbre11</th>\n",
              "      <th>avg_timbre12</th>\n",
              "      <th>var_timbre1</th>\n",
              "      <th>var_timbre2</th>\n",
              "      <th>var_timbre3</th>\n",
              "      <th>var_timbre4</th>\n",
              "      <th>var_timbre5</th>\n",
              "      <th>var_timbre6</th>\n",
              "      <th>var_timbre7</th>\n",
              "      <th>var_timbre8</th>\n",
              "      <th>var_timbre9</th>\n",
              "      <th>var_timbre10</th>\n",
              "      <th>var_timbre11</th>\n",
              "      <th>var_timbre12</th>\n",
              "    </tr>\n",
              "  </thead>\n",
              "  <tbody>\n",
              "    <tr>\n",
              "      <th>48942</th>\n",
              "      <td>jazz and blues</td>\n",
              "      <td>TRJBLUX12903CE16EC</td>\n",
              "      <td>John Stevens</td>\n",
              "      <td>Mango</td>\n",
              "      <td>-18.996</td>\n",
              "      <td>89.147</td>\n",
              "      <td>1</td>\n",
              "      <td>0</td>\n",
              "      <td>1</td>\n",
              "      <td>256.86159</td>\n",
              "      <td>34.738162</td>\n",
              "      <td>-50.948828</td>\n",
              "      <td>20.177101</td>\n",
              "      <td>15.139567</td>\n",
              "      <td>-25.836751</td>\n",
              "      <td>7.729854</td>\n",
              "      <td>-23.534951</td>\n",
              "      <td>-7.002408</td>\n",
              "      <td>9.661461</td>\n",
              "      <td>-0.752980</td>\n",
              "      <td>6.760097</td>\n",
              "      <td>17.112598</td>\n",
              "      <td>12.473302</td>\n",
              "      <td>1530.622764</td>\n",
              "      <td>1649.321047</td>\n",
              "      <td>1221.638146</td>\n",
              "      <td>501.717892</td>\n",
              "      <td>1091.743641</td>\n",
              "      <td>618.560018</td>\n",
              "      <td>402.236969</td>\n",
              "      <td>309.392602</td>\n",
              "      <td>233.206167</td>\n",
              "      <td>261.850703</td>\n",
              "      <td>240.834177</td>\n",
              "    </tr>\n",
              "    <tr>\n",
              "      <th>48943</th>\n",
              "      <td>jazz and blues</td>\n",
              "      <td>TRDPDLX12903CE16F2</td>\n",
              "      <td>John Stevens</td>\n",
              "      <td>Carnaval</td>\n",
              "      <td>-19.347</td>\n",
              "      <td>125.825</td>\n",
              "      <td>4</td>\n",
              "      <td>2</td>\n",
              "      <td>1</td>\n",
              "      <td>301.87057</td>\n",
              "      <td>34.033346</td>\n",
              "      <td>-39.733083</td>\n",
              "      <td>30.640298</td>\n",
              "      <td>19.646264</td>\n",
              "      <td>-45.231415</td>\n",
              "      <td>9.103613</td>\n",
              "      <td>-19.019581</td>\n",
              "      <td>1.119047</td>\n",
              "      <td>9.169450</td>\n",
              "      <td>3.999394</td>\n",
              "      <td>5.481075</td>\n",
              "      <td>10.958845</td>\n",
              "      <td>11.150600</td>\n",
              "      <td>1385.186042</td>\n",
              "      <td>1670.689893</td>\n",
              "      <td>1339.193474</td>\n",
              "      <td>889.918742</td>\n",
              "      <td>1148.824912</td>\n",
              "      <td>428.976969</td>\n",
              "      <td>306.187624</td>\n",
              "      <td>368.973940</td>\n",
              "      <td>227.275123</td>\n",
              "      <td>261.643570</td>\n",
              "      <td>332.356536</td>\n",
              "    </tr>\n",
              "    <tr>\n",
              "      <th>48944</th>\n",
              "      <td>jazz and blues</td>\n",
              "      <td>TRMWVBM128F42374DA</td>\n",
              "      <td>John Stevens</td>\n",
              "      <td>My Blue Heaven (Album Version)</td>\n",
              "      <td>-9.472</td>\n",
              "      <td>121.707</td>\n",
              "      <td>4</td>\n",
              "      <td>2</td>\n",
              "      <td>1</td>\n",
              "      <td>158.85016</td>\n",
              "      <td>41.794197</td>\n",
              "      <td>-22.133118</td>\n",
              "      <td>3.518487</td>\n",
              "      <td>1.868059</td>\n",
              "      <td>13.542078</td>\n",
              "      <td>6.944006</td>\n",
              "      <td>15.406498</td>\n",
              "      <td>5.469637</td>\n",
              "      <td>4.822017</td>\n",
              "      <td>1.792601</td>\n",
              "      <td>-10.094489</td>\n",
              "      <td>-2.143374</td>\n",
              "      <td>41.497045</td>\n",
              "      <td>4513.995103</td>\n",
              "      <td>2640.398239</td>\n",
              "      <td>3070.791615</td>\n",
              "      <td>1347.758671</td>\n",
              "      <td>1499.491510</td>\n",
              "      <td>1015.076345</td>\n",
              "      <td>897.411739</td>\n",
              "      <td>608.034880</td>\n",
              "      <td>549.493210</td>\n",
              "      <td>481.149049</td>\n",
              "      <td>442.663136</td>\n",
              "    </tr>\n",
              "    <tr>\n",
              "      <th>48945</th>\n",
              "      <td>jazz and blues</td>\n",
              "      <td>TRMLIWL128F42374DE</td>\n",
              "      <td>John Stevens</td>\n",
              "      <td>Here_ There And Everywhere (Album Version)</td>\n",
              "      <td>-14.406</td>\n",
              "      <td>83.012</td>\n",
              "      <td>5</td>\n",
              "      <td>0</td>\n",
              "      <td>1</td>\n",
              "      <td>181.26322</td>\n",
              "      <td>38.637530</td>\n",
              "      <td>-64.807191</td>\n",
              "      <td>-21.920418</td>\n",
              "      <td>-25.058971</td>\n",
              "      <td>-2.520459</td>\n",
              "      <td>-11.979187</td>\n",
              "      <td>-4.021518</td>\n",
              "      <td>-4.502840</td>\n",
              "      <td>1.350948</td>\n",
              "      <td>-6.206154</td>\n",
              "      <td>-2.557249</td>\n",
              "      <td>1.841054</td>\n",
              "      <td>26.279428</td>\n",
              "      <td>2304.536939</td>\n",
              "      <td>1187.644248</td>\n",
              "      <td>1311.170435</td>\n",
              "      <td>809.621938</td>\n",
              "      <td>612.699944</td>\n",
              "      <td>492.734025</td>\n",
              "      <td>525.801667</td>\n",
              "      <td>585.984445</td>\n",
              "      <td>278.578591</td>\n",
              "      <td>250.545027</td>\n",
              "      <td>348.842236</td>\n",
              "    </tr>\n",
              "    <tr>\n",
              "      <th>48946</th>\n",
              "      <td>jazz and blues</td>\n",
              "      <td>TRGFUVB128F42374E1</td>\n",
              "      <td>John Stevens</td>\n",
              "      <td>This Love (Album Version)</td>\n",
              "      <td>-9.289</td>\n",
              "      <td>76.013</td>\n",
              "      <td>4</td>\n",
              "      <td>7</td>\n",
              "      <td>0</td>\n",
              "      <td>248.89424</td>\n",
              "      <td>43.089845</td>\n",
              "      <td>-27.351674</td>\n",
              "      <td>14.205832</td>\n",
              "      <td>-6.941388</td>\n",
              "      <td>21.278516</td>\n",
              "      <td>-9.627968</td>\n",
              "      <td>-6.894824</td>\n",
              "      <td>-2.730303</td>\n",
              "      <td>2.003291</td>\n",
              "      <td>-2.030266</td>\n",
              "      <td>-0.764775</td>\n",
              "      <td>1.769443</td>\n",
              "      <td>37.786419</td>\n",
              "      <td>3726.684916</td>\n",
              "      <td>1164.272074</td>\n",
              "      <td>1536.674490</td>\n",
              "      <td>1167.316436</td>\n",
              "      <td>580.604008</td>\n",
              "      <td>498.168561</td>\n",
              "      <td>607.747214</td>\n",
              "      <td>367.191519</td>\n",
              "      <td>403.532772</td>\n",
              "      <td>262.670577</td>\n",
              "      <td>272.634634</td>\n",
              "    </tr>\n",
              "  </tbody>\n",
              "</table>\n",
              "</div>"
            ],
            "text/plain": [
              "               %genre            track_id  ... var_timbre11 var_timbre12\n",
              "48942  jazz and blues  TRJBLUX12903CE16EC  ...   261.850703   240.834177\n",
              "48943  jazz and blues  TRDPDLX12903CE16F2  ...   261.643570   332.356536\n",
              "48944  jazz and blues  TRMWVBM128F42374DA  ...   481.149049   442.663136\n",
              "48945  jazz and blues  TRMLIWL128F42374DE  ...   250.545027   348.842236\n",
              "48946  jazz and blues  TRGFUVB128F42374E1  ...   262.670577   272.634634\n",
              "\n",
              "[5 rows x 34 columns]"
            ]
          },
          "metadata": {
            "tags": []
          },
          "execution_count": 4
        }
      ]
    },
    {
      "cell_type": "markdown",
      "metadata": {
        "id": "D0u7utX7ObF6"
      },
      "source": [
        "Para asegurarnos que solo estén los generos que se usarán para el análisis, se verifica que solo estos géneros esten en nuestro nuevo dataframe\n",
        "\n"
      ]
    },
    {
      "cell_type": "code",
      "metadata": {
        "id": "A3pZBzjzOZ_I",
        "outputId": "8c6166ad-7f67-4056-ff59-6aaea384eacd",
        "colab": {
          "base_uri": "https://localhost:8080/",
          "height": 111
        }
      },
      "source": [
        "generos = data_bin['%genre'].unique()\n",
        "generos = pd.DataFrame(data=generos, columns=['Generos'])\n",
        "generos"
      ],
      "execution_count": null,
      "outputs": [
        {
          "output_type": "execute_result",
          "data": {
            "text/html": [
              "<div>\n",
              "<style scoped>\n",
              "    .dataframe tbody tr th:only-of-type {\n",
              "        vertical-align: middle;\n",
              "    }\n",
              "\n",
              "    .dataframe tbody tr th {\n",
              "        vertical-align: top;\n",
              "    }\n",
              "\n",
              "    .dataframe thead th {\n",
              "        text-align: right;\n",
              "    }\n",
              "</style>\n",
              "<table border=\"1\" class=\"dataframe\">\n",
              "  <thead>\n",
              "    <tr style=\"text-align: right;\">\n",
              "      <th></th>\n",
              "      <th>Generos</th>\n",
              "    </tr>\n",
              "  </thead>\n",
              "  <tbody>\n",
              "    <tr>\n",
              "      <th>0</th>\n",
              "      <td>jazz and blues</td>\n",
              "    </tr>\n",
              "    <tr>\n",
              "      <th>1</th>\n",
              "      <td>soul and reggae</td>\n",
              "    </tr>\n",
              "  </tbody>\n",
              "</table>\n",
              "</div>"
            ],
            "text/plain": [
              "           Generos\n",
              "0   jazz and blues\n",
              "1  soul and reggae"
            ]
          },
          "metadata": {
            "tags": []
          },
          "execution_count": 5
        }
      ]
    },
    {
      "cell_type": "markdown",
      "metadata": {
        "id": "Ucj7JozjPFTC"
      },
      "source": [
        "Ahora comparamos cuantos datos de cada género hay en nuestro dataframe, obteniendo el siguiente histograma"
      ]
    },
    {
      "cell_type": "code",
      "metadata": {
        "id": "TTE1AOFqPE1y",
        "outputId": "85a9a25b-bdaa-43a0-fa8a-eef64d52d8ca",
        "colab": {
          "base_uri": "https://localhost:8080/",
          "height": 346
        }
      },
      "source": [
        "f = plt.figure()\n",
        "sns.countplot(x=\"%genre\", data=data_bin, palette=\"Set1\")\n",
        "plt.xlabel('Género')\n",
        "plt.ylabel('Frecuencia')\n",
        "plt.title('Histograma de los datos')\n",
        "plt.show()\n",
        "data_bin['%genre'].value_counts()/len(data_bin)"
      ],
      "execution_count": null,
      "outputs": [
        {
          "output_type": "display_data",
          "data": {
            "image/png": "[encoded data removed]",
            "text/plain": [
              "<Figure size 432x288 with 1 Axes>"
            ]
          },
          "metadata": {
            "tags": [],
            "needs_background": "light"
          }
        },
        {
          "output_type": "execute_result",
          "data": {
            "text/plain": [
              "jazz and blues     0.519042\n",
              "soul and reggae    0.480958\n",
              "Name: %genre, dtype: float64"
            ]
          },
          "metadata": {
            "tags": []
          },
          "execution_count": 6
        }
      ]
    },
    {
      "cell_type": "markdown",
      "metadata": {
        "id": "8q-t-loAQj0B"
      },
      "source": [
        "En esta oportunidad no se tendrá en cuenta la columna correspondiente a ```artist_name``` debido a que este dato puede generar un error en el modelamiento del clasificador afectando los resultados de predicción, considerando que esta variable provee información adicional que facilita su clasificación. Con esto en mente, se obtiene la siguiente información.\n"
      ]
    },
    {
      "cell_type": "code",
      "metadata": {
        "id": "eS-afItuRjIT",
        "outputId": "113f924f-c1fa-4289-a191-d557a8ace686",
        "colab": {
          "base_uri": "https://localhost:8080/",
          "height": 445
        }
      },
      "source": [
        "data_bin = data_bin.drop(['artist_name'],axis=1)\n",
        "data_bin.head()"
      ],
      "execution_count": null,
      "outputs": [
        {
          "output_type": "execute_result",
          "data": {
            "text/html": [
              "<div>\n",
              "<style scoped>\n",
              "    .dataframe tbody tr th:only-of-type {\n",
              "        vertical-align: middle;\n",
              "    }\n",
              "\n",
              "    .dataframe tbody tr th {\n",
              "        vertical-align: top;\n",
              "    }\n",
              "\n",
              "    .dataframe thead th {\n",
              "        text-align: right;\n",
              "    }\n",
              "</style>\n",
              "<table border=\"1\" class=\"dataframe\">\n",
              "  <thead>\n",
              "    <tr style=\"text-align: right;\">\n",
              "      <th></th>\n",
              "      <th>%genre</th>\n",
              "      <th>track_id</th>\n",
              "      <th>title</th>\n",
              "      <th>loudness</th>\n",
              "      <th>tempo</th>\n",
              "      <th>time_signature</th>\n",
              "      <th>key</th>\n",
              "      <th>mode</th>\n",
              "      <th>duration</th>\n",
              "      <th>avg_timbre1</th>\n",
              "      <th>avg_timbre2</th>\n",
              "      <th>avg_timbre3</th>\n",
              "      <th>avg_timbre4</th>\n",
              "      <th>avg_timbre5</th>\n",
              "      <th>avg_timbre6</th>\n",
              "      <th>avg_timbre7</th>\n",
              "      <th>avg_timbre8</th>\n",
              "      <th>avg_timbre9</th>\n",
              "      <th>avg_timbre10</th>\n",
              "      <th>avg_timbre11</th>\n",
              "      <th>avg_timbre12</th>\n",
              "      <th>var_timbre1</th>\n",
              "      <th>var_timbre2</th>\n",
              "      <th>var_timbre3</th>\n",
              "      <th>var_timbre4</th>\n",
              "      <th>var_timbre5</th>\n",
              "      <th>var_timbre6</th>\n",
              "      <th>var_timbre7</th>\n",
              "      <th>var_timbre8</th>\n",
              "      <th>var_timbre9</th>\n",
              "      <th>var_timbre10</th>\n",
              "      <th>var_timbre11</th>\n",
              "      <th>var_timbre12</th>\n",
              "    </tr>\n",
              "  </thead>\n",
              "  <tbody>\n",
              "    <tr>\n",
              "      <th>48942</th>\n",
              "      <td>jazz and blues</td>\n",
              "      <td>TRJBLUX12903CE16EC</td>\n",
              "      <td>Mango</td>\n",
              "      <td>-18.996</td>\n",
              "      <td>89.147</td>\n",
              "      <td>1</td>\n",
              "      <td>0</td>\n",
              "      <td>1</td>\n",
              "      <td>256.86159</td>\n",
              "      <td>34.738162</td>\n",
              "      <td>-50.948828</td>\n",
              "      <td>20.177101</td>\n",
              "      <td>15.139567</td>\n",
              "      <td>-25.836751</td>\n",
              "      <td>7.729854</td>\n",
              "      <td>-23.534951</td>\n",
              "      <td>-7.002408</td>\n",
              "      <td>9.661461</td>\n",
              "      <td>-0.752980</td>\n",
              "      <td>6.760097</td>\n",
              "      <td>17.112598</td>\n",
              "      <td>12.473302</td>\n",
              "      <td>1530.622764</td>\n",
              "      <td>1649.321047</td>\n",
              "      <td>1221.638146</td>\n",
              "      <td>501.717892</td>\n",
              "      <td>1091.743641</td>\n",
              "      <td>618.560018</td>\n",
              "      <td>402.236969</td>\n",
              "      <td>309.392602</td>\n",
              "      <td>233.206167</td>\n",
              "      <td>261.850703</td>\n",
              "      <td>240.834177</td>\n",
              "    </tr>\n",
              "    <tr>\n",
              "      <th>48943</th>\n",
              "      <td>jazz and blues</td>\n",
              "      <td>TRDPDLX12903CE16F2</td>\n",
              "      <td>Carnaval</td>\n",
              "      <td>-19.347</td>\n",
              "      <td>125.825</td>\n",
              "      <td>4</td>\n",
              "      <td>2</td>\n",
              "      <td>1</td>\n",
              "      <td>301.87057</td>\n",
              "      <td>34.033346</td>\n",
              "      <td>-39.733083</td>\n",
              "      <td>30.640298</td>\n",
              "      <td>19.646264</td>\n",
              "      <td>-45.231415</td>\n",
              "      <td>9.103613</td>\n",
              "      <td>-19.019581</td>\n",
              "      <td>1.119047</td>\n",
              "      <td>9.169450</td>\n",
              "      <td>3.999394</td>\n",
              "      <td>5.481075</td>\n",
              "      <td>10.958845</td>\n",
              "      <td>11.150600</td>\n",
              "      <td>1385.186042</td>\n",
              "      <td>1670.689893</td>\n",
              "      <td>1339.193474</td>\n",
              "      <td>889.918742</td>\n",
              "      <td>1148.824912</td>\n",
              "      <td>428.976969</td>\n",
              "      <td>306.187624</td>\n",
              "      <td>368.973940</td>\n",
              "      <td>227.275123</td>\n",
              "      <td>261.643570</td>\n",
              "      <td>332.356536</td>\n",
              "    </tr>\n",
              "    <tr>\n",
              "      <th>48944</th>\n",
              "      <td>jazz and blues</td>\n",
              "      <td>TRMWVBM128F42374DA</td>\n",
              "      <td>My Blue Heaven (Album Version)</td>\n",
              "      <td>-9.472</td>\n",
              "      <td>121.707</td>\n",
              "      <td>4</td>\n",
              "      <td>2</td>\n",
              "      <td>1</td>\n",
              "      <td>158.85016</td>\n",
              "      <td>41.794197</td>\n",
              "      <td>-22.133118</td>\n",
              "      <td>3.518487</td>\n",
              "      <td>1.868059</td>\n",
              "      <td>13.542078</td>\n",
              "      <td>6.944006</td>\n",
              "      <td>15.406498</td>\n",
              "      <td>5.469637</td>\n",
              "      <td>4.822017</td>\n",
              "      <td>1.792601</td>\n",
              "      <td>-10.094489</td>\n",
              "      <td>-2.143374</td>\n",
              "      <td>41.497045</td>\n",
              "      <td>4513.995103</td>\n",
              "      <td>2640.398239</td>\n",
              "      <td>3070.791615</td>\n",
              "      <td>1347.758671</td>\n",
              "      <td>1499.491510</td>\n",
              "      <td>1015.076345</td>\n",
              "      <td>897.411739</td>\n",
              "      <td>608.034880</td>\n",
              "      <td>549.493210</td>\n",
              "      <td>481.149049</td>\n",
              "      <td>442.663136</td>\n",
              "    </tr>\n",
              "    <tr>\n",
              "      <th>48945</th>\n",
              "      <td>jazz and blues</td>\n",
              "      <td>TRMLIWL128F42374DE</td>\n",
              "      <td>Here_ There And Everywhere (Album Version)</td>\n",
              "      <td>-14.406</td>\n",
              "      <td>83.012</td>\n",
              "      <td>5</td>\n",
              "      <td>0</td>\n",
              "      <td>1</td>\n",
              "      <td>181.26322</td>\n",
              "      <td>38.637530</td>\n",
              "      <td>-64.807191</td>\n",
              "      <td>-21.920418</td>\n",
              "      <td>-25.058971</td>\n",
              "      <td>-2.520459</td>\n",
              "      <td>-11.979187</td>\n",
              "      <td>-4.021518</td>\n",
              "      <td>-4.502840</td>\n",
              "      <td>1.350948</td>\n",
              "      <td>-6.206154</td>\n",
              "      <td>-2.557249</td>\n",
              "      <td>1.841054</td>\n",
              "      <td>26.279428</td>\n",
              "      <td>2304.536939</td>\n",
              "      <td>1187.644248</td>\n",
              "      <td>1311.170435</td>\n",
              "      <td>809.621938</td>\n",
              "      <td>612.699944</td>\n",
              "      <td>492.734025</td>\n",
              "      <td>525.801667</td>\n",
              "      <td>585.984445</td>\n",
              "      <td>278.578591</td>\n",
              "      <td>250.545027</td>\n",
              "      <td>348.842236</td>\n",
              "    </tr>\n",
              "    <tr>\n",
              "      <th>48946</th>\n",
              "      <td>jazz and blues</td>\n",
              "      <td>TRGFUVB128F42374E1</td>\n",
              "      <td>This Love (Album Version)</td>\n",
              "      <td>-9.289</td>\n",
              "      <td>76.013</td>\n",
              "      <td>4</td>\n",
              "      <td>7</td>\n",
              "      <td>0</td>\n",
              "      <td>248.89424</td>\n",
              "      <td>43.089845</td>\n",
              "      <td>-27.351674</td>\n",
              "      <td>14.205832</td>\n",
              "      <td>-6.941388</td>\n",
              "      <td>21.278516</td>\n",
              "      <td>-9.627968</td>\n",
              "      <td>-6.894824</td>\n",
              "      <td>-2.730303</td>\n",
              "      <td>2.003291</td>\n",
              "      <td>-2.030266</td>\n",
              "      <td>-0.764775</td>\n",
              "      <td>1.769443</td>\n",
              "      <td>37.786419</td>\n",
              "      <td>3726.684916</td>\n",
              "      <td>1164.272074</td>\n",
              "      <td>1536.674490</td>\n",
              "      <td>1167.316436</td>\n",
              "      <td>580.604008</td>\n",
              "      <td>498.168561</td>\n",
              "      <td>607.747214</td>\n",
              "      <td>367.191519</td>\n",
              "      <td>403.532772</td>\n",
              "      <td>262.670577</td>\n",
              "      <td>272.634634</td>\n",
              "    </tr>\n",
              "  </tbody>\n",
              "</table>\n",
              "</div>"
            ],
            "text/plain": [
              "               %genre            track_id  ... var_timbre11  var_timbre12\n",
              "48942  jazz and blues  TRJBLUX12903CE16EC  ...   261.850703    240.834177\n",
              "48943  jazz and blues  TRDPDLX12903CE16F2  ...   261.643570    332.356536\n",
              "48944  jazz and blues  TRMWVBM128F42374DA  ...   481.149049    442.663136\n",
              "48945  jazz and blues  TRMLIWL128F42374DE  ...   250.545027    348.842236\n",
              "48946  jazz and blues  TRGFUVB128F42374E1  ...   262.670577    272.634634\n",
              "\n",
              "[5 rows x 33 columns]"
            ]
          },
          "metadata": {
            "tags": []
          },
          "execution_count": 7
        }
      ]
    },
    {
      "cell_type": "markdown",
      "metadata": {
        "id": "AJyjEyCBULPm"
      },
      "source": [
        "Continuando con el pre procesamiento de los datos, pasaremos a verificar los datos nulos dentro del dataframe"
      ]
    },
    {
      "cell_type": "code",
      "metadata": {
        "id": "DpSvy5NqUKQP",
        "outputId": "475ad24a-610f-4e85-82bb-17e5af826c42",
        "colab": {
          "base_uri": "https://localhost:8080/"
        }
      },
      "source": [
        "missing_values_count = data_bin.isnull().sum()\n",
        "total_missing = missing_values_count.sum()\n",
        "print('Hay {} datos perdidos en el dataframe'.format(total_missing))"
      ],
      "execution_count": null,
      "outputs": [
        {
          "output_type": "stream",
          "text": [
            "Hay 0 datos perdidos en el dataframe\n"
          ],
          "name": "stdout"
        }
      ]
    },
    {
      "cell_type": "markdown",
      "metadata": {
        "id": "rau7sEkkUnTV"
      },
      "source": [
        "Se observa que no hay datos perdidos. Ahora, se procede a verificar si hay filas duplicadas.\n"
      ]
    },
    {
      "cell_type": "code",
      "metadata": {
        "id": "__V8n6JtVVod",
        "outputId": "87e62339-02be-4a6c-d85a-3d28de87c6da",
        "colab": {
          "base_uri": "https://localhost:8080/"
        }
      },
      "source": [
        "print('Hay {} filas duplicadas en el dataframe'.format(data_bin.duplicated().sum()))"
      ],
      "execution_count": null,
      "outputs": [
        {
          "output_type": "stream",
          "text": [
            "Hay 0 filas duplicadas en el dataframe\n"
          ],
          "name": "stdout"
        }
      ]
    },
    {
      "cell_type": "markdown",
      "metadata": {
        "id": "-VOXFx1JVosm"
      },
      "source": [
        "Una vez observado que no hay filas duplicadas ni datos perdidos, se procede a verificar el tipo de las variables del dataframe."
      ]
    },
    {
      "cell_type": "code",
      "metadata": {
        "id": "mvgGwkTwVxaO",
        "outputId": "6097bec4-29cf-4436-d6c9-a09cbb30c2aa",
        "colab": {
          "base_uri": "https://localhost:8080/"
        }
      },
      "source": [
        "data_bin.dtypes"
      ],
      "execution_count": null,
      "outputs": [
        {
          "output_type": "execute_result",
          "data": {
            "text/plain": [
              "%genre             object\n",
              "track_id           object\n",
              "title              object\n",
              "loudness          float64\n",
              "tempo             float64\n",
              "time_signature      int64\n",
              "key                 int64\n",
              "mode                int64\n",
              "duration          float64\n",
              "avg_timbre1       float64\n",
              "avg_timbre2       float64\n",
              "avg_timbre3       float64\n",
              "avg_timbre4       float64\n",
              "avg_timbre5       float64\n",
              "avg_timbre6       float64\n",
              "avg_timbre7       float64\n",
              "avg_timbre8       float64\n",
              "avg_timbre9       float64\n",
              "avg_timbre10      float64\n",
              "avg_timbre11      float64\n",
              "avg_timbre12      float64\n",
              "var_timbre1       float64\n",
              "var_timbre2       float64\n",
              "var_timbre3       float64\n",
              "var_timbre4       float64\n",
              "var_timbre5       float64\n",
              "var_timbre6       float64\n",
              "var_timbre7       float64\n",
              "var_timbre8       float64\n",
              "var_timbre9       float64\n",
              "var_timbre10      float64\n",
              "var_timbre11      float64\n",
              "var_timbre12      float64\n",
              "dtype: object"
            ]
          },
          "metadata": {
            "tags": []
          },
          "execution_count": 10
        }
      ]
    },
    {
      "cell_type": "markdown",
      "metadata": {
        "id": "x1__6XzgV6dF"
      },
      "source": [
        "Se puede observar que hay 3 variables categoricas y todas las demás son númericas. Una de las variables categoricas corresponde a la variable ```%genre```, la cual es nuestra variable objetivo por lo tanto es necesario ver el comportamiento de las otras variables para conocer si pueden o no influir el modelo de clasificación. Para ello procederemos a verficar el total de valores únicos y compararlos con la longitud total de los datos del dataframe, de la siguiente forma."
      ]
    },
    {
      "cell_type": "code",
      "metadata": {
        "id": "O3QWZ0A7V5uF",
        "outputId": "21a2eefb-92d5-46bf-a327-6fe82217981a",
        "colab": {
          "base_uri": "https://localhost:8080/"
        }
      },
      "source": [
        "total_data = len(data_bin)\n",
        "tot_track_id = len(data_bin.track_id.unique())\n",
        "tot_title= len(data_bin.title.unique())\n",
        "\n",
        "if total_data == tot_track_id:\n",
        "  print('Los valores únicos de la variable track_id son iguales al total de datos, por lo que no aportan información relevante. \\n')\n",
        "else:\n",
        "  print('La variable track_id puede aportar información útil para el análisis y se debe revisar en detalle. \\n')\n",
        "\n",
        "if total_data == tot_title:\n",
        "  print('Los valores únicos de la variable title son iguales al total de datos, por lo que no aportan información relevante.')\n",
        "else:\n",
        "  print('La variable title puede aportar información útil para el análisis y se debe revisar en detalle.')\n"
      ],
      "execution_count": null,
      "outputs": [
        {
          "output_type": "stream",
          "text": [
            "Los valores únicos de la variable track_id son iguales al total de datos, por lo que no aportan información relevante. \n",
            "\n",
            "La variable title puede aportar información útil para el análisis y se debe revisar en detalle.\n"
          ],
          "name": "stdout"
        }
      ]
    },
    {
      "cell_type": "markdown",
      "metadata": {
        "id": "PIu4eCn8kTTe"
      },
      "source": [
        "Se observa que la variable ```track_id``` puede ser eliminada del modelo, puesto que no aporta información relavante para la clasificación y hay un track_id diferente para cada fila. Por su parte la variable ```title``` no contiene un valor diferente por cada fila, lo que muestra que algunos de los títulos de las canciones se repiten, esto puede deberse a que diferentes autores nombraron de igual forma algunas canciones o debido a otros factores. Para comprobar que la variable objetivo ```%genre``` no tenga dependencia de esta variable, se realiza un análisis de contingencia con chi-cuadrado como se muestra a continuación."
      ]
    },
    {
      "cell_type": "code",
      "metadata": {
        "id": "3qjnc__4bGvO",
        "outputId": "17abddb6-2395-4a85-e299-44832ac97df0",
        "colab": {
          "base_uri": "https://localhost:8080/"
        }
      },
      "source": [
        "Tabla_c = pd.crosstab(index=data_bin['%genre'],columns=data_bin[\"title\"],margins=True)\n",
        "chi2_contingency(Tabla_c)"
      ],
      "execution_count": null,
      "outputs": [
        {
          "output_type": "execute_result",
          "data": {
            "text/plain": [
              "(8183.224779508331,\n",
              " 1.0,\n",
              " 14690,\n",
              " array([[5.19041916e-01, 5.19041916e-01, 5.19041916e-01, ...,\n",
              "         5.19041916e-01, 5.19041916e-01, 4.33400000e+03],\n",
              "        [4.80958084e-01, 4.80958084e-01, 4.80958084e-01, ...,\n",
              "         4.80958084e-01, 4.80958084e-01, 4.01600000e+03],\n",
              "        [1.00000000e+00, 1.00000000e+00, 1.00000000e+00, ...,\n",
              "         1.00000000e+00, 1.00000000e+00, 8.35000000e+03]]))"
            ]
          },
          "metadata": {
            "tags": []
          },
          "execution_count": 12
        }
      ]
    },
    {
      "cell_type": "code",
      "metadata": {
        "id": "oTkjEDnplJI-",
        "outputId": "d474cf27-bdc1-4674-f8e8-d7025ce8c9ca",
        "colab": {
          "base_uri": "https://localhost:8080/"
        }
      },
      "source": [
        "# Guardo el p-value en una variable para luego evaluarla dado las condiciones de abajo\n",
        "pvalue = chi2_contingency(Tabla_c)[1]\n",
        "# Usando prints y if para saber si acepto o no la hipotesis nula y \n",
        "# asi concentrarme en el analisis \n",
        "print(\"Hipotesis NULA:\", \"Las variables son independendientes\")\n",
        "print(\"P-Value:\", pvalue)\n",
        "\n",
        "pval = pvalue\n",
        "# nivel de significancia 0.001\n",
        "if pval > 0.001:\n",
        "    print(\"Accept NULL hypothesis - Las variables son independientes es decir que no tienen relación entre ellas.\")\n",
        "if pval <= 0.001:\n",
        "    print(\"Reject NULL hypothesis - Las variables son dependientes.\")"
      ],
      "execution_count": null,
      "outputs": [
        {
          "output_type": "stream",
          "text": [
            "Hipotesis NULA: Las variables son independendientes\n",
            "P-Value: 1.0\n",
            "Accept NULL hypothesis - Las variables son independientes es decir que no tienen relación entre ellas.\n"
          ],
          "name": "stdout"
        }
      ]
    },
    {
      "cell_type": "markdown",
      "metadata": {
        "id": "9uW43vW3pEEE"
      },
      "source": [
        "Los resultados muestran bajo un nivel de significancia del 0.001% que las variables no tienen dependencia entre ellas. Por lo que la variable ```title``` podría ser eliminada del modelo. De esta forma se obtiene el siguiente conjunto de datos para la implementación del modelo."
      ]
    },
    {
      "cell_type": "code",
      "metadata": {
        "id": "e4ZDzvuJbJji",
        "outputId": "0aca3699-5b88-45cf-cce8-63c5aa5576d2",
        "colab": {
          "base_uri": "https://localhost:8080/",
          "height": 394
        }
      },
      "source": [
        "data_bin = data_bin.drop(['track_id','title'], axis=1)\n",
        "data_bin.head()"
      ],
      "execution_count": null,
      "outputs": [
        {
          "output_type": "execute_result",
          "data": {
            "text/html": [
              "<div>\n",
              "<style scoped>\n",
              "    .dataframe tbody tr th:only-of-type {\n",
              "        vertical-align: middle;\n",
              "    }\n",
              "\n",
              "    .dataframe tbody tr th {\n",
              "        vertical-align: top;\n",
              "    }\n",
              "\n",
              "    .dataframe thead th {\n",
              "        text-align: right;\n",
              "    }\n",
              "</style>\n",
              "<table border=\"1\" class=\"dataframe\">\n",
              "  <thead>\n",
              "    <tr style=\"text-align: right;\">\n",
              "      <th></th>\n",
              "      <th>%genre</th>\n",
              "      <th>loudness</th>\n",
              "      <th>tempo</th>\n",
              "      <th>time_signature</th>\n",
              "      <th>key</th>\n",
              "      <th>mode</th>\n",
              "      <th>duration</th>\n",
              "      <th>avg_timbre1</th>\n",
              "      <th>avg_timbre2</th>\n",
              "      <th>avg_timbre3</th>\n",
              "      <th>avg_timbre4</th>\n",
              "      <th>avg_timbre5</th>\n",
              "      <th>avg_timbre6</th>\n",
              "      <th>avg_timbre7</th>\n",
              "      <th>avg_timbre8</th>\n",
              "      <th>avg_timbre9</th>\n",
              "      <th>avg_timbre10</th>\n",
              "      <th>avg_timbre11</th>\n",
              "      <th>avg_timbre12</th>\n",
              "      <th>var_timbre1</th>\n",
              "      <th>var_timbre2</th>\n",
              "      <th>var_timbre3</th>\n",
              "      <th>var_timbre4</th>\n",
              "      <th>var_timbre5</th>\n",
              "      <th>var_timbre6</th>\n",
              "      <th>var_timbre7</th>\n",
              "      <th>var_timbre8</th>\n",
              "      <th>var_timbre9</th>\n",
              "      <th>var_timbre10</th>\n",
              "      <th>var_timbre11</th>\n",
              "      <th>var_timbre12</th>\n",
              "    </tr>\n",
              "  </thead>\n",
              "  <tbody>\n",
              "    <tr>\n",
              "      <th>48942</th>\n",
              "      <td>jazz and blues</td>\n",
              "      <td>-18.996</td>\n",
              "      <td>89.147</td>\n",
              "      <td>1</td>\n",
              "      <td>0</td>\n",
              "      <td>1</td>\n",
              "      <td>256.86159</td>\n",
              "      <td>34.738162</td>\n",
              "      <td>-50.948828</td>\n",
              "      <td>20.177101</td>\n",
              "      <td>15.139567</td>\n",
              "      <td>-25.836751</td>\n",
              "      <td>7.729854</td>\n",
              "      <td>-23.534951</td>\n",
              "      <td>-7.002408</td>\n",
              "      <td>9.661461</td>\n",
              "      <td>-0.752980</td>\n",
              "      <td>6.760097</td>\n",
              "      <td>17.112598</td>\n",
              "      <td>12.473302</td>\n",
              "      <td>1530.622764</td>\n",
              "      <td>1649.321047</td>\n",
              "      <td>1221.638146</td>\n",
              "      <td>501.717892</td>\n",
              "      <td>1091.743641</td>\n",
              "      <td>618.560018</td>\n",
              "      <td>402.236969</td>\n",
              "      <td>309.392602</td>\n",
              "      <td>233.206167</td>\n",
              "      <td>261.850703</td>\n",
              "      <td>240.834177</td>\n",
              "    </tr>\n",
              "    <tr>\n",
              "      <th>48943</th>\n",
              "      <td>jazz and blues</td>\n",
              "      <td>-19.347</td>\n",
              "      <td>125.825</td>\n",
              "      <td>4</td>\n",
              "      <td>2</td>\n",
              "      <td>1</td>\n",
              "      <td>301.87057</td>\n",
              "      <td>34.033346</td>\n",
              "      <td>-39.733083</td>\n",
              "      <td>30.640298</td>\n",
              "      <td>19.646264</td>\n",
              "      <td>-45.231415</td>\n",
              "      <td>9.103613</td>\n",
              "      <td>-19.019581</td>\n",
              "      <td>1.119047</td>\n",
              "      <td>9.169450</td>\n",
              "      <td>3.999394</td>\n",
              "      <td>5.481075</td>\n",
              "      <td>10.958845</td>\n",
              "      <td>11.150600</td>\n",
              "      <td>1385.186042</td>\n",
              "      <td>1670.689893</td>\n",
              "      <td>1339.193474</td>\n",
              "      <td>889.918742</td>\n",
              "      <td>1148.824912</td>\n",
              "      <td>428.976969</td>\n",
              "      <td>306.187624</td>\n",
              "      <td>368.973940</td>\n",
              "      <td>227.275123</td>\n",
              "      <td>261.643570</td>\n",
              "      <td>332.356536</td>\n",
              "    </tr>\n",
              "    <tr>\n",
              "      <th>48944</th>\n",
              "      <td>jazz and blues</td>\n",
              "      <td>-9.472</td>\n",
              "      <td>121.707</td>\n",
              "      <td>4</td>\n",
              "      <td>2</td>\n",
              "      <td>1</td>\n",
              "      <td>158.85016</td>\n",
              "      <td>41.794197</td>\n",
              "      <td>-22.133118</td>\n",
              "      <td>3.518487</td>\n",
              "      <td>1.868059</td>\n",
              "      <td>13.542078</td>\n",
              "      <td>6.944006</td>\n",
              "      <td>15.406498</td>\n",
              "      <td>5.469637</td>\n",
              "      <td>4.822017</td>\n",
              "      <td>1.792601</td>\n",
              "      <td>-10.094489</td>\n",
              "      <td>-2.143374</td>\n",
              "      <td>41.497045</td>\n",
              "      <td>4513.995103</td>\n",
              "      <td>2640.398239</td>\n",
              "      <td>3070.791615</td>\n",
              "      <td>1347.758671</td>\n",
              "      <td>1499.491510</td>\n",
              "      <td>1015.076345</td>\n",
              "      <td>897.411739</td>\n",
              "      <td>608.034880</td>\n",
              "      <td>549.493210</td>\n",
              "      <td>481.149049</td>\n",
              "      <td>442.663136</td>\n",
              "    </tr>\n",
              "    <tr>\n",
              "      <th>48945</th>\n",
              "      <td>jazz and blues</td>\n",
              "      <td>-14.406</td>\n",
              "      <td>83.012</td>\n",
              "      <td>5</td>\n",
              "      <td>0</td>\n",
              "      <td>1</td>\n",
              "      <td>181.26322</td>\n",
              "      <td>38.637530</td>\n",
              "      <td>-64.807191</td>\n",
              "      <td>-21.920418</td>\n",
              "      <td>-25.058971</td>\n",
              "      <td>-2.520459</td>\n",
              "      <td>-11.979187</td>\n",
              "      <td>-4.021518</td>\n",
              "      <td>-4.502840</td>\n",
              "      <td>1.350948</td>\n",
              "      <td>-6.206154</td>\n",
              "      <td>-2.557249</td>\n",
              "      <td>1.841054</td>\n",
              "      <td>26.279428</td>\n",
              "      <td>2304.536939</td>\n",
              "      <td>1187.644248</td>\n",
              "      <td>1311.170435</td>\n",
              "      <td>809.621938</td>\n",
              "      <td>612.699944</td>\n",
              "      <td>492.734025</td>\n",
              "      <td>525.801667</td>\n",
              "      <td>585.984445</td>\n",
              "      <td>278.578591</td>\n",
              "      <td>250.545027</td>\n",
              "      <td>348.842236</td>\n",
              "    </tr>\n",
              "    <tr>\n",
              "      <th>48946</th>\n",
              "      <td>jazz and blues</td>\n",
              "      <td>-9.289</td>\n",
              "      <td>76.013</td>\n",
              "      <td>4</td>\n",
              "      <td>7</td>\n",
              "      <td>0</td>\n",
              "      <td>248.89424</td>\n",
              "      <td>43.089845</td>\n",
              "      <td>-27.351674</td>\n",
              "      <td>14.205832</td>\n",
              "      <td>-6.941388</td>\n",
              "      <td>21.278516</td>\n",
              "      <td>-9.627968</td>\n",
              "      <td>-6.894824</td>\n",
              "      <td>-2.730303</td>\n",
              "      <td>2.003291</td>\n",
              "      <td>-2.030266</td>\n",
              "      <td>-0.764775</td>\n",
              "      <td>1.769443</td>\n",
              "      <td>37.786419</td>\n",
              "      <td>3726.684916</td>\n",
              "      <td>1164.272074</td>\n",
              "      <td>1536.674490</td>\n",
              "      <td>1167.316436</td>\n",
              "      <td>580.604008</td>\n",
              "      <td>498.168561</td>\n",
              "      <td>607.747214</td>\n",
              "      <td>367.191519</td>\n",
              "      <td>403.532772</td>\n",
              "      <td>262.670577</td>\n",
              "      <td>272.634634</td>\n",
              "    </tr>\n",
              "  </tbody>\n",
              "</table>\n",
              "</div>"
            ],
            "text/plain": [
              "               %genre  loudness  ...  var_timbre11  var_timbre12\n",
              "48942  jazz and blues   -18.996  ...    261.850703    240.834177\n",
              "48943  jazz and blues   -19.347  ...    261.643570    332.356536\n",
              "48944  jazz and blues    -9.472  ...    481.149049    442.663136\n",
              "48945  jazz and blues   -14.406  ...    250.545027    348.842236\n",
              "48946  jazz and blues    -9.289  ...    262.670577    272.634634\n",
              "\n",
              "[5 rows x 31 columns]"
            ]
          },
          "metadata": {
            "tags": []
          },
          "execution_count": 14
        }
      ]
    },
    {
      "cell_type": "markdown",
      "metadata": {
        "id": "N9mqjUP4pvGb"
      },
      "source": [
        "De esta manera observamos que la única variable categorica dentro del dataframe es la variable objetivo. Como sabemos esta variable es binaria, por lo que se reemplazará los valores categoricos de la siguiente manera:\n",
        "\n",
        "\n",
        "*   ```jazz and blues``` = 0\n",
        "*   ```soul and reggae``` = 1\n",
        "\n",
        "Obteniendo finalmente el siguiente dataframe."
      ]
    },
    {
      "cell_type": "code",
      "metadata": {
        "id": "NiOoullxqR4h",
        "outputId": "7d70c586-48eb-45c4-d4d7-9384d7ea0bee",
        "colab": {
          "base_uri": "https://localhost:8080/",
          "height": 224
        }
      },
      "source": [
        "data_bin['%genre'].replace(['jazz and blues','soul and reggae'],[0,1], inplace=True)\n",
        "data_bin.head()"
      ],
      "execution_count": null,
      "outputs": [
        {
          "output_type": "execute_result",
          "data": {
            "text/html": [
              "<div>\n",
              "<style scoped>\n",
              "    .dataframe tbody tr th:only-of-type {\n",
              "        vertical-align: middle;\n",
              "    }\n",
              "\n",
              "    .dataframe tbody tr th {\n",
              "        vertical-align: top;\n",
              "    }\n",
              "\n",
              "    .dataframe thead th {\n",
              "        text-align: right;\n",
              "    }\n",
              "</style>\n",
              "<table border=\"1\" class=\"dataframe\">\n",
              "  <thead>\n",
              "    <tr style=\"text-align: right;\">\n",
              "      <th></th>\n",
              "      <th>%genre</th>\n",
              "      <th>loudness</th>\n",
              "      <th>tempo</th>\n",
              "      <th>time_signature</th>\n",
              "      <th>key</th>\n",
              "      <th>mode</th>\n",
              "      <th>duration</th>\n",
              "      <th>avg_timbre1</th>\n",
              "      <th>avg_timbre2</th>\n",
              "      <th>avg_timbre3</th>\n",
              "      <th>avg_timbre4</th>\n",
              "      <th>avg_timbre5</th>\n",
              "      <th>avg_timbre6</th>\n",
              "      <th>avg_timbre7</th>\n",
              "      <th>avg_timbre8</th>\n",
              "      <th>avg_timbre9</th>\n",
              "      <th>avg_timbre10</th>\n",
              "      <th>avg_timbre11</th>\n",
              "      <th>avg_timbre12</th>\n",
              "      <th>var_timbre1</th>\n",
              "      <th>var_timbre2</th>\n",
              "      <th>var_timbre3</th>\n",
              "      <th>var_timbre4</th>\n",
              "      <th>var_timbre5</th>\n",
              "      <th>var_timbre6</th>\n",
              "      <th>var_timbre7</th>\n",
              "      <th>var_timbre8</th>\n",
              "      <th>var_timbre9</th>\n",
              "      <th>var_timbre10</th>\n",
              "      <th>var_timbre11</th>\n",
              "      <th>var_timbre12</th>\n",
              "    </tr>\n",
              "  </thead>\n",
              "  <tbody>\n",
              "    <tr>\n",
              "      <th>48942</th>\n",
              "      <td>0</td>\n",
              "      <td>-18.996</td>\n",
              "      <td>89.147</td>\n",
              "      <td>1</td>\n",
              "      <td>0</td>\n",
              "      <td>1</td>\n",
              "      <td>256.86159</td>\n",
              "      <td>34.738162</td>\n",
              "      <td>-50.948828</td>\n",
              "      <td>20.177101</td>\n",
              "      <td>15.139567</td>\n",
              "      <td>-25.836751</td>\n",
              "      <td>7.729854</td>\n",
              "      <td>-23.534951</td>\n",
              "      <td>-7.002408</td>\n",
              "      <td>9.661461</td>\n",
              "      <td>-0.752980</td>\n",
              "      <td>6.760097</td>\n",
              "      <td>17.112598</td>\n",
              "      <td>12.473302</td>\n",
              "      <td>1530.622764</td>\n",
              "      <td>1649.321047</td>\n",
              "      <td>1221.638146</td>\n",
              "      <td>501.717892</td>\n",
              "      <td>1091.743641</td>\n",
              "      <td>618.560018</td>\n",
              "      <td>402.236969</td>\n",
              "      <td>309.392602</td>\n",
              "      <td>233.206167</td>\n",
              "      <td>261.850703</td>\n",
              "      <td>240.834177</td>\n",
              "    </tr>\n",
              "    <tr>\n",
              "      <th>48943</th>\n",
              "      <td>0</td>\n",
              "      <td>-19.347</td>\n",
              "      <td>125.825</td>\n",
              "      <td>4</td>\n",
              "      <td>2</td>\n",
              "      <td>1</td>\n",
              "      <td>301.87057</td>\n",
              "      <td>34.033346</td>\n",
              "      <td>-39.733083</td>\n",
              "      <td>30.640298</td>\n",
              "      <td>19.646264</td>\n",
              "      <td>-45.231415</td>\n",
              "      <td>9.103613</td>\n",
              "      <td>-19.019581</td>\n",
              "      <td>1.119047</td>\n",
              "      <td>9.169450</td>\n",
              "      <td>3.999394</td>\n",
              "      <td>5.481075</td>\n",
              "      <td>10.958845</td>\n",
              "      <td>11.150600</td>\n",
              "      <td>1385.186042</td>\n",
              "      <td>1670.689893</td>\n",
              "      <td>1339.193474</td>\n",
              "      <td>889.918742</td>\n",
              "      <td>1148.824912</td>\n",
              "      <td>428.976969</td>\n",
              "      <td>306.187624</td>\n",
              "      <td>368.973940</td>\n",
              "      <td>227.275123</td>\n",
              "      <td>261.643570</td>\n",
              "      <td>332.356536</td>\n",
              "    </tr>\n",
              "    <tr>\n",
              "      <th>48944</th>\n",
              "      <td>0</td>\n",
              "      <td>-9.472</td>\n",
              "      <td>121.707</td>\n",
              "      <td>4</td>\n",
              "      <td>2</td>\n",
              "      <td>1</td>\n",
              "      <td>158.85016</td>\n",
              "      <td>41.794197</td>\n",
              "      <td>-22.133118</td>\n",
              "      <td>3.518487</td>\n",
              "      <td>1.868059</td>\n",
              "      <td>13.542078</td>\n",
              "      <td>6.944006</td>\n",
              "      <td>15.406498</td>\n",
              "      <td>5.469637</td>\n",
              "      <td>4.822017</td>\n",
              "      <td>1.792601</td>\n",
              "      <td>-10.094489</td>\n",
              "      <td>-2.143374</td>\n",
              "      <td>41.497045</td>\n",
              "      <td>4513.995103</td>\n",
              "      <td>2640.398239</td>\n",
              "      <td>3070.791615</td>\n",
              "      <td>1347.758671</td>\n",
              "      <td>1499.491510</td>\n",
              "      <td>1015.076345</td>\n",
              "      <td>897.411739</td>\n",
              "      <td>608.034880</td>\n",
              "      <td>549.493210</td>\n",
              "      <td>481.149049</td>\n",
              "      <td>442.663136</td>\n",
              "    </tr>\n",
              "    <tr>\n",
              "      <th>48945</th>\n",
              "      <td>0</td>\n",
              "      <td>-14.406</td>\n",
              "      <td>83.012</td>\n",
              "      <td>5</td>\n",
              "      <td>0</td>\n",
              "      <td>1</td>\n",
              "      <td>181.26322</td>\n",
              "      <td>38.637530</td>\n",
              "      <td>-64.807191</td>\n",
              "      <td>-21.920418</td>\n",
              "      <td>-25.058971</td>\n",
              "      <td>-2.520459</td>\n",
              "      <td>-11.979187</td>\n",
              "      <td>-4.021518</td>\n",
              "      <td>-4.502840</td>\n",
              "      <td>1.350948</td>\n",
              "      <td>-6.206154</td>\n",
              "      <td>-2.557249</td>\n",
              "      <td>1.841054</td>\n",
              "      <td>26.279428</td>\n",
              "      <td>2304.536939</td>\n",
              "      <td>1187.644248</td>\n",
              "      <td>1311.170435</td>\n",
              "      <td>809.621938</td>\n",
              "      <td>612.699944</td>\n",
              "      <td>492.734025</td>\n",
              "      <td>525.801667</td>\n",
              "      <td>585.984445</td>\n",
              "      <td>278.578591</td>\n",
              "      <td>250.545027</td>\n",
              "      <td>348.842236</td>\n",
              "    </tr>\n",
              "    <tr>\n",
              "      <th>48946</th>\n",
              "      <td>0</td>\n",
              "      <td>-9.289</td>\n",
              "      <td>76.013</td>\n",
              "      <td>4</td>\n",
              "      <td>7</td>\n",
              "      <td>0</td>\n",
              "      <td>248.89424</td>\n",
              "      <td>43.089845</td>\n",
              "      <td>-27.351674</td>\n",
              "      <td>14.205832</td>\n",
              "      <td>-6.941388</td>\n",
              "      <td>21.278516</td>\n",
              "      <td>-9.627968</td>\n",
              "      <td>-6.894824</td>\n",
              "      <td>-2.730303</td>\n",
              "      <td>2.003291</td>\n",
              "      <td>-2.030266</td>\n",
              "      <td>-0.764775</td>\n",
              "      <td>1.769443</td>\n",
              "      <td>37.786419</td>\n",
              "      <td>3726.684916</td>\n",
              "      <td>1164.272074</td>\n",
              "      <td>1536.674490</td>\n",
              "      <td>1167.316436</td>\n",
              "      <td>580.604008</td>\n",
              "      <td>498.168561</td>\n",
              "      <td>607.747214</td>\n",
              "      <td>367.191519</td>\n",
              "      <td>403.532772</td>\n",
              "      <td>262.670577</td>\n",
              "      <td>272.634634</td>\n",
              "    </tr>\n",
              "  </tbody>\n",
              "</table>\n",
              "</div>"
            ],
            "text/plain": [
              "       %genre  loudness    tempo  ...  var_timbre10  var_timbre11  var_timbre12\n",
              "48942       0   -18.996   89.147  ...    233.206167    261.850703    240.834177\n",
              "48943       0   -19.347  125.825  ...    227.275123    261.643570    332.356536\n",
              "48944       0    -9.472  121.707  ...    549.493210    481.149049    442.663136\n",
              "48945       0   -14.406   83.012  ...    278.578591    250.545027    348.842236\n",
              "48946       0    -9.289   76.013  ...    403.532772    262.670577    272.634634\n",
              "\n",
              "[5 rows x 31 columns]"
            ]
          },
          "metadata": {
            "tags": []
          },
          "execution_count": 15
        }
      ]
    },
    {
      "cell_type": "markdown",
      "metadata": {
        "id": "C3vQnW5TXOvD"
      },
      "source": [
        "Adicionalmente, siguiendo las recomendaciones de la página oficinal de los <a href=\"https://scikit-learn.org/stable/modules/neural_networks_supervised.html#mlp-tips\">modelos de redes neuronales (supervisado)</a> de Scikit-Learn, se realiza la estandarización del conjunto de datos mediante el método MinMaxScaler que estandariza los datos $x$ de la siguiente forma, teniendo en cuenta los datos de la columna de la variable $v$:\n",
        "\n",
        "$ z=\\frac{x-\\min(x)}{\\max(x)-\\min(x)}[(\\max(v)-\\min(v))+\\min(x)]$\n",
        "\n",
        "Donde $v$ pertenece al conjunto total de $x$ y $x$ pasa por un $v$ especifico, es decir por cada variable representada por una columna. De esta manera se obtiene la siguiente muestra de los datos.\n"
      ]
    },
    {
      "cell_type": "code",
      "metadata": {
        "id": "_dchdeF8XNog",
        "outputId": "44132439-8ba4-41e1-96ff-b32f1188d4a0",
        "colab": {
          "base_uri": "https://localhost:8080/",
          "height": 224
        }
      },
      "source": [
        "scaler = MinMaxScaler()\n",
        "data_bin = pd.DataFrame(scaler.fit_transform(data_bin), columns=data_bin.columns)\n",
        "data_bin['%genre'] = data_bin['%genre'].astype(int)\n",
        "data_bin.head()"
      ],
      "execution_count": null,
      "outputs": [
        {
          "output_type": "execute_result",
          "data": {
            "text/html": [
              "<div>\n",
              "<style scoped>\n",
              "    .dataframe tbody tr th:only-of-type {\n",
              "        vertical-align: middle;\n",
              "    }\n",
              "\n",
              "    .dataframe tbody tr th {\n",
              "        vertical-align: top;\n",
              "    }\n",
              "\n",
              "    .dataframe thead th {\n",
              "        text-align: right;\n",
              "    }\n",
              "</style>\n",
              "<table border=\"1\" class=\"dataframe\">\n",
              "  <thead>\n",
              "    <tr style=\"text-align: right;\">\n",
              "      <th></th>\n",
              "      <th>%genre</th>\n",
              "      <th>loudness</th>\n",
              "      <th>tempo</th>\n",
              "      <th>time_signature</th>\n",
              "      <th>key</th>\n",
              "      <th>mode</th>\n",
              "      <th>duration</th>\n",
              "      <th>avg_timbre1</th>\n",
              "      <th>avg_timbre2</th>\n",
              "      <th>avg_timbre3</th>\n",
              "      <th>avg_timbre4</th>\n",
              "      <th>avg_timbre5</th>\n",
              "      <th>avg_timbre6</th>\n",
              "      <th>avg_timbre7</th>\n",
              "      <th>avg_timbre8</th>\n",
              "      <th>avg_timbre9</th>\n",
              "      <th>avg_timbre10</th>\n",
              "      <th>avg_timbre11</th>\n",
              "      <th>avg_timbre12</th>\n",
              "      <th>var_timbre1</th>\n",
              "      <th>var_timbre2</th>\n",
              "      <th>var_timbre3</th>\n",
              "      <th>var_timbre4</th>\n",
              "      <th>var_timbre5</th>\n",
              "      <th>var_timbre6</th>\n",
              "      <th>var_timbre7</th>\n",
              "      <th>var_timbre8</th>\n",
              "      <th>var_timbre9</th>\n",
              "      <th>var_timbre10</th>\n",
              "      <th>var_timbre11</th>\n",
              "      <th>var_timbre12</th>\n",
              "    </tr>\n",
              "  </thead>\n",
              "  <tbody>\n",
              "    <tr>\n",
              "      <th>0</th>\n",
              "      <td>0</td>\n",
              "      <td>0.540775</td>\n",
              "      <td>0.353277</td>\n",
              "      <td>0.142857</td>\n",
              "      <td>0.000000</td>\n",
              "      <td>1.0</td>\n",
              "      <td>0.088999</td>\n",
              "      <td>0.575350</td>\n",
              "      <td>0.318832</td>\n",
              "      <td>0.442692</td>\n",
              "      <td>0.549958</td>\n",
              "      <td>0.363029</td>\n",
              "      <td>0.385309</td>\n",
              "      <td>0.360767</td>\n",
              "      <td>0.462401</td>\n",
              "      <td>0.669684</td>\n",
              "      <td>0.419899</td>\n",
              "      <td>0.797934</td>\n",
              "      <td>0.666495</td>\n",
              "      <td>0.038407</td>\n",
              "      <td>0.047278</td>\n",
              "      <td>0.076034</td>\n",
              "      <td>0.079438</td>\n",
              "      <td>0.068968</td>\n",
              "      <td>0.128698</td>\n",
              "      <td>0.099308</td>\n",
              "      <td>0.077007</td>\n",
              "      <td>0.097205</td>\n",
              "      <td>0.095678</td>\n",
              "      <td>0.106249</td>\n",
              "      <td>0.086422</td>\n",
              "    </tr>\n",
              "    <tr>\n",
              "      <th>1</th>\n",
              "      <td>0</td>\n",
              "      <td>0.532164</td>\n",
              "      <td>0.498627</td>\n",
              "      <td>0.571429</td>\n",
              "      <td>0.181818</td>\n",
              "      <td>1.0</td>\n",
              "      <td>0.104668</td>\n",
              "      <td>0.560022</td>\n",
              "      <td>0.337049</td>\n",
              "      <td>0.466187</td>\n",
              "      <td>0.572080</td>\n",
              "      <td>0.281699</td>\n",
              "      <td>0.394378</td>\n",
              "      <td>0.389008</td>\n",
              "      <td>0.527240</td>\n",
              "      <td>0.666231</td>\n",
              "      <td>0.490502</td>\n",
              "      <td>0.778664</td>\n",
              "      <td>0.610157</td>\n",
              "      <td>0.033756</td>\n",
              "      <td>0.041603</td>\n",
              "      <td>0.077229</td>\n",
              "      <td>0.088441</td>\n",
              "      <td>0.135484</td>\n",
              "      <td>0.136040</td>\n",
              "      <td>0.061473</td>\n",
              "      <td>0.052752</td>\n",
              "      <td>0.119388</td>\n",
              "      <td>0.092242</td>\n",
              "      <td>0.106146</td>\n",
              "      <td>0.124834</td>\n",
              "    </tr>\n",
              "    <tr>\n",
              "      <th>2</th>\n",
              "      <td>0</td>\n",
              "      <td>0.774436</td>\n",
              "      <td>0.482308</td>\n",
              "      <td>0.571429</td>\n",
              "      <td>0.181818</td>\n",
              "      <td>1.0</td>\n",
              "      <td>0.054880</td>\n",
              "      <td>0.728804</td>\n",
              "      <td>0.365637</td>\n",
              "      <td>0.405286</td>\n",
              "      <td>0.484811</td>\n",
              "      <td>0.528162</td>\n",
              "      <td>0.380122</td>\n",
              "      <td>0.604321</td>\n",
              "      <td>0.561974</td>\n",
              "      <td>0.635719</td>\n",
              "      <td>0.457717</td>\n",
              "      <td>0.544002</td>\n",
              "      <td>0.490205</td>\n",
              "      <td>0.140484</td>\n",
              "      <td>0.163703</td>\n",
              "      <td>0.131462</td>\n",
              "      <td>0.221055</td>\n",
              "      <td>0.213932</td>\n",
              "      <td>0.181143</td>\n",
              "      <td>0.178442</td>\n",
              "      <td>0.202052</td>\n",
              "      <td>0.208392</td>\n",
              "      <td>0.278903</td>\n",
              "      <td>0.215859</td>\n",
              "      <td>0.171129</td>\n",
              "    </tr>\n",
              "    <tr>\n",
              "      <th>3</th>\n",
              "      <td>0</td>\n",
              "      <td>0.653386</td>\n",
              "      <td>0.328965</td>\n",
              "      <td>0.714286</td>\n",
              "      <td>0.000000</td>\n",
              "      <td>1.0</td>\n",
              "      <td>0.062682</td>\n",
              "      <td>0.660153</td>\n",
              "      <td>0.296322</td>\n",
              "      <td>0.348165</td>\n",
              "      <td>0.352631</td>\n",
              "      <td>0.460805</td>\n",
              "      <td>0.255204</td>\n",
              "      <td>0.482811</td>\n",
              "      <td>0.482357</td>\n",
              "      <td>0.611359</td>\n",
              "      <td>0.338884</td>\n",
              "      <td>0.657558</td>\n",
              "      <td>0.526683</td>\n",
              "      <td>0.086964</td>\n",
              "      <td>0.077480</td>\n",
              "      <td>0.050214</td>\n",
              "      <td>0.086295</td>\n",
              "      <td>0.121725</td>\n",
              "      <td>0.067083</td>\n",
              "      <td>0.074197</td>\n",
              "      <td>0.108210</td>\n",
              "      <td>0.200183</td>\n",
              "      <td>0.121962</td>\n",
              "      <td>0.100599</td>\n",
              "      <td>0.131753</td>\n",
              "    </tr>\n",
              "    <tr>\n",
              "      <th>4</th>\n",
              "      <td>0</td>\n",
              "      <td>0.778925</td>\n",
              "      <td>0.301229</td>\n",
              "      <td>0.571429</td>\n",
              "      <td>0.636364</td>\n",
              "      <td>0.0</td>\n",
              "      <td>0.086226</td>\n",
              "      <td>0.756982</td>\n",
              "      <td>0.357160</td>\n",
              "      <td>0.429284</td>\n",
              "      <td>0.441567</td>\n",
              "      <td>0.560604</td>\n",
              "      <td>0.270725</td>\n",
              "      <td>0.464840</td>\n",
              "      <td>0.496508</td>\n",
              "      <td>0.615937</td>\n",
              "      <td>0.400923</td>\n",
              "      <td>0.684564</td>\n",
              "      <td>0.526027</td>\n",
              "      <td>0.127434</td>\n",
              "      <td>0.132979</td>\n",
              "      <td>0.048907</td>\n",
              "      <td>0.103565</td>\n",
              "      <td>0.183014</td>\n",
              "      <td>0.062955</td>\n",
              "      <td>0.075282</td>\n",
              "      <td>0.128904</td>\n",
              "      <td>0.118724</td>\n",
              "      <td>0.194348</td>\n",
              "      <td>0.106659</td>\n",
              "      <td>0.099769</td>\n",
              "    </tr>\n",
              "  </tbody>\n",
              "</table>\n",
              "</div>"
            ],
            "text/plain": [
              "   %genre  loudness     tempo  ...  var_timbre10  var_timbre11  var_timbre12\n",
              "0       0  0.540775  0.353277  ...      0.095678      0.106249      0.086422\n",
              "1       0  0.532164  0.498627  ...      0.092242      0.106146      0.124834\n",
              "2       0  0.774436  0.482308  ...      0.278903      0.215859      0.171129\n",
              "3       0  0.653386  0.328965  ...      0.121962      0.100599      0.131753\n",
              "4       0  0.778925  0.301229  ...      0.194348      0.106659      0.099769\n",
              "\n",
              "[5 rows x 31 columns]"
            ]
          },
          "metadata": {
            "tags": []
          },
          "execution_count": 16
        }
      ]
    },
    {
      "cell_type": "markdown",
      "metadata": {
        "id": "8UOHvMEcA8_S"
      },
      "source": [
        "Ahora, con el fin de validar las correlaciones entre las variables se presentan los siguientes mapas de calor de las correlaciones de pearson y spearman."
      ]
    },
    {
      "cell_type": "code",
      "metadata": {
        "id": "p-D4YtnhTXg0",
        "outputId": "b5685652-50f7-4e8d-9deb-60695cbe03f8",
        "colab": {
          "base_uri": "https://localhost:8080/",
          "height": 1000
        }
      },
      "source": [
        "fig = plt.figure(figsize =(15,18))\n",
        "plt.subplot(2,1,1)\n",
        "sns.heatmap(data_bin.corr(method ='pearson'))\n",
        "plt.title(r'$\\bf{Pearson}$')\n",
        "plt.subplot(2,1,2)\n",
        "sns.heatmap(data_bin.corr(method ='spearman'))\n",
        "plt.title(r'$\\bf{Spearman}$')\n",
        "fig.suptitle('Mapa de calor para las correlaciones de los datos', y=0.91, fontsize=16)"
      ],
      "execution_count": null,
      "outputs": [
        {
          "output_type": "execute_result",
          "data": {
            "text/plain": [
              "Text(0.5, 0.91, 'Mapa de calor para las correlaciones de los datos')"
            ]
          },
          "metadata": {
            "tags": []
          },
          "execution_count": 135
        },
        {
          "output_type": "display_data",
          "data": {
            "image/png": "[encoded data removed]",
            "text/plain": [
              "<Figure size 1080x1296 with 4 Axes>"
            ]
          },
          "metadata": {
            "tags": [],
            "needs_background": "light"
          }
        }
      ]
    },
    {
      "cell_type": "markdown",
      "metadata": {
        "id": "isoGSq9iBJtD"
      },
      "source": [
        "Se puede observar que la mayoría de variable tiene una correlación por encima de 0.5 con la variable objetivo y que las variables que no tienen una correlación significativa con la variable objetivo, tienen relación con otras variables por lo que se posdría considerar que todas las variables terminarán teniendo algún grado de influencia en el resultado de clasificación final. Por ello se decide dejar la base de datos que está hasta este punto."
      ]
    },
    {
      "cell_type": "markdown",
      "metadata": {
        "id": "AFBo21sdbI2t"
      },
      "source": [
        "### Selección del conjunto de entrenamiento y de prueba\n",
        "\n",
        "En este punto se selecciona el conjunto de datos de entrenamiento y de prueba para el modelo de clasificación que se realizará. En esta ocasión se usa la función ```train_test_split```, donde se define que el 20% de los datos totales disponibles para el análisis son destinados para el conjunto de evaluación o validación del modelo, lo que implica que este conjunto tendrá un total de 1670 datos; mientras que el conjunto de entrenamiento tendrá el resto de datos, es decir 6680 datos. Este proceso es presentado a continuación:"
      ]
    },
    {
      "cell_type": "code",
      "metadata": {
        "id": "hYnxgSKVd61e"
      },
      "source": [
        "Y = data_bin['%genre']\n",
        "X = data_bin.drop(['%genre'], axis=1)\n",
        "x_train, x_test, y_train, y_test = train_test_split(X, Y, test_size = 0.2, random_state = 0)"
      ],
      "execution_count": null,
      "outputs": []
    },
    {
      "cell_type": "markdown",
      "metadata": {
        "id": "7hiVPUS3eEO7"
      },
      "source": [
        "Con el fin de observar el total de datos de cada género que están siendo usados para cada conjunto se presentan los siguientes histogramas."
      ]
    },
    {
      "cell_type": "code",
      "metadata": {
        "id": "XuJTtMC6eDra",
        "outputId": "01dd14ad-6532-425a-aa18-bb7a043382c9",
        "colab": {
          "base_uri": "https://localhost:8080/",
          "height": 316
        }
      },
      "source": [
        "fig = plt.figure()\n",
        "data_bin['%genre'].hist(label='Complete Data')\n",
        "y_train.hist(label='Train Data')\n",
        "y_test.hist(label='Test Data')\n",
        "plt.legend()\n",
        "plt.grid(linestyle='--',b=True, which='major')\n",
        "plt.ylabel('Frecuencia absoluta')\n",
        "plt.title('Histograma de conjuntos de entrenamiento y test', fontsize=14)\n",
        "plt.show()\n",
        "print('jazz and blues: 0 \\nsoul and reggae: 1')"
      ],
      "execution_count": null,
      "outputs": [
        {
          "output_type": "display_data",
          "data": {
            "image/png": "[encoded data removed]",
            "text/plain": [
              "<Figure size 432x288 with 1 Axes>"
            ]
          },
          "metadata": {
            "tags": [],
            "needs_background": "light"
          }
        },
        {
          "output_type": "stream",
          "text": [
            "jazz and blues: 0 \n",
            "soul and reggae: 1\n"
          ],
          "name": "stdout"
        }
      ]
    },
    {
      "cell_type": "markdown",
      "metadata": {
        "id": "TEP_6nago60j"
      },
      "source": [
        "Adicionalmente, se separa el conjunto de datos de entrenamiento para poder realizar el entrenamiento y validación de redes dentro de las capas escondidas de cada percentrón multinivel a implementar. De esta manera se obtienen los siguientes conjuntos."
      ]
    },
    {
      "cell_type": "code",
      "metadata": {
        "id": "pvppzC7cpc0j",
        "outputId": "fb118bcc-25c4-4ce0-8078-23e546c1a2e2",
        "colab": {
          "base_uri": "https://localhost:8080/",
          "height": 317
        }
      },
      "source": [
        "x_train1, x_test1, y_train1, y_test1 = train_test_split(x_train, y_train, test_size = 0.2, random_state = 0)\n",
        "\n",
        "fig = plt.figure()\n",
        "y_train.hist(label='Train Data')\n",
        "y_train1.hist(label='Train set in Train Data')\n",
        "y_test1.hist(label='Test set in Train Data')\n",
        "plt.legend()\n",
        "plt.grid(linestyle='--',b=True, which='major')\n",
        "plt.ylabel('Frecuencia absoluta')\n",
        "plt.title('Histograma de división del conjunto de entrenamiento', fontsize=14)\n",
        "plt.show()\n",
        "print('jazz and blues: 0 \\nsoul and reggae: 1')"
      ],
      "execution_count": null,
      "outputs": [
        {
          "output_type": "display_data",
          "data": {
            "image/png": "[encoded data removed]",
            "text/plain": [
              "<Figure size 432x288 with 1 Axes>"
            ]
          },
          "metadata": {
            "tags": [],
            "needs_background": "light"
          }
        },
        {
          "output_type": "stream",
          "text": [
            "jazz and blues: 0 \n",
            "soul and reggae: 1\n"
          ],
          "name": "stdout"
        }
      ]
    },
    {
      "cell_type": "markdown",
      "metadata": {
        "id": "BufuxtSwrHqc"
      },
      "source": [
        "## Red neural con una capa escondida"
      ]
    },
    {
      "cell_type": "markdown",
      "metadata": {
        "id": "ospah84_rhVq"
      },
      "source": [
        "Inicialmente se evalua el perceptrón multicapa con una sola capa escondida. Entre los muchos parámetros que habría que definir para obtener una solución óptima, en este caso se definirá cual es el número de neuronas apropiado para obtener los mejores resultados de clasificación con el modelo seleccionado. Adicionalmente se evaluarán diferentes funciones de evaluación, tasas de aprendizaje y algoritmos para el entrenamiento de las redes. Este proceso de selección del número de neuras con la mejor función de activación, tasa de aprendizaje y algoritmo es presentado a continuación. Este mismo proceso será realizado para todas los perceptrones multinivel evaluados en este notebook.\n",
        "\n",
        "Cabe resaltar que en este estudio no se tuvo en cuenta el algoritmo ```lbfgs```, el cual es un optimizador de la familia de los métodos de quasi-Newton, puesto que en muchas ocasiones para los casos estudiados necesitaba por encima de las 5000 iteraciones, por lo que requería un trabajo computacional bastante amplio. De los casos análizados en este estudio, se pudo notar que no proveía mejor precisión que los métodos ```sdg``` y ```adam```.  El método ```lbfgs``` lo recomiendan usar cuando se usan conjuntos de datos pequeños, típicamente por debajo de la escala de miles, es decir, cientos de datos típicamente.\n",
        "\n",
        "Adicionalmente, se encuentra que un valor adecuado para el número máximo de iteraciones es 1000, puesto que con este valor se obtiene la convergencia de los algoritmos implementados."
      ]
    },
    {
      "cell_type": "code",
      "metadata": {
        "id": "Kw3-gFKcrSwa",
        "outputId": "80f86aac-1af9-4423-b1a4-9b9b57a9b021",
        "colab": {
          "base_uri": "https://localhost:8080/"
        }
      },
      "source": [
        "activacion = ['identity', 'logistic', 'tanh', 'relu'] #todas las posibles funciones de activación\n",
        "tasas_aprendizaje = ['constant', 'invscaling', 'adaptive'] #todas las posibles tasas de aprendizaje\n",
        "algoritmo = ['sgd', 'adam'] #los posibles algoritmos\n",
        "n = 200\n",
        "step = 10\n",
        "top_5 = []\n",
        "u=0\n",
        "for i in range(2, n, step):\n",
        "  for j in activacion:\n",
        "    for k in tasas_aprendizaje:\n",
        "      for l in algoritmo:\n",
        "        try:\n",
        "          MLP = MLPClassifier(hidden_layer_sizes=(i,),activation=j, learning_rate=k, solver=l,max_iter=1200)        \n",
        "          clf = MLP.fit(x_train1, y_train1)\n",
        "          with warnings.catch_warnings():\n",
        "            warnings.filterwarnings(\"error\", category=ConvergenceWarning, module=\"sklearn\")\n",
        "            score =clf.score(x_test1, y_test1)\n",
        "            celda = [score, i, j, k, l]\n",
        "            top_5.append(celda)\n",
        "        except:      \n",
        "          print(\"An exception occurred\")    "
      ],
      "execution_count": 21,
      "outputs": [
        {
          "output_type": "stream",
          "text": [
            "/usr/local/lib/python3.6/dist-packages/sklearn/neural_network/_multilayer_perceptron.py:571: ConvergenceWarning: Stochastic Optimizer: Maximum iterations (1000) reached and the optimization hasn't converged yet.\n",
            "  % self.max_iter, ConvergenceWarning)\n",
            "/usr/local/lib/python3.6/dist-packages/sklearn/neural_network/_multilayer_perceptron.py:571: ConvergenceWarning: Stochastic Optimizer: Maximum iterations (1000) reached and the optimization hasn't converged yet.\n",
            "  % self.max_iter, ConvergenceWarning)\n",
            "/usr/local/lib/python3.6/dist-packages/sklearn/neural_network/_multilayer_perceptron.py:573: UserWarning: Training interrupted by user.\n",
            "  warnings.warn(\"Training interrupted by user.\")\n",
            "/usr/local/lib/python3.6/dist-packages/sklearn/neural_network/_multilayer_perceptron.py:573: UserWarning: Training interrupted by user.\n",
            "  warnings.warn(\"Training interrupted by user.\")\n",
            "/usr/local/lib/python3.6/dist-packages/sklearn/neural_network/_multilayer_perceptron.py:573: UserWarning: Training interrupted by user.\n",
            "  warnings.warn(\"Training interrupted by user.\")\n"
          ],
          "name": "stderr"
        },
        {
          "output_type": "error",
          "ename": "KeyboardInterrupt",
          "evalue": "ignored",
          "traceback": [
            "\u001b[0;31m---------------------------------------------------------------------------\u001b[0m",
            "\u001b[0;31mKeyboardInterrupt\u001b[0m                         Traceback (most recent call last)",
            "\u001b[0;32m<ipython-input-21-72928c32e729>\u001b[0m in \u001b[0;36m<module>\u001b[0;34m()\u001b[0m\n\u001b[1;32m     12\u001b[0m         \u001b[0mMLP\u001b[0m \u001b[0;34m=\u001b[0m \u001b[0mMLPClassifier\u001b[0m\u001b[0;34m(\u001b[0m\u001b[0mhidden_layer_sizes\u001b[0m\u001b[0;34m=\u001b[0m\u001b[0;34m(\u001b[0m\u001b[0mi\u001b[0m\u001b[0;34m,\u001b[0m\u001b[0;34m)\u001b[0m\u001b[0;34m,\u001b[0m\u001b[0mactivation\u001b[0m\u001b[0;34m=\u001b[0m\u001b[0mj\u001b[0m\u001b[0;34m,\u001b[0m \u001b[0mlearning_rate\u001b[0m\u001b[0;34m=\u001b[0m\u001b[0mk\u001b[0m\u001b[0;34m,\u001b[0m \u001b[0msolver\u001b[0m\u001b[0;34m=\u001b[0m\u001b[0ml\u001b[0m\u001b[0;34m,\u001b[0m\u001b[0mmax_iter\u001b[0m\u001b[0;34m=\u001b[0m\u001b[0;36m1000\u001b[0m\u001b[0;34m)\u001b[0m\u001b[0;34m\u001b[0m\u001b[0;34m\u001b[0m\u001b[0m\n\u001b[1;32m     13\u001b[0m         \u001b[0mclf\u001b[0m \u001b[0;34m=\u001b[0m \u001b[0mMLP\u001b[0m\u001b[0;34m.\u001b[0m\u001b[0mfit\u001b[0m\u001b[0;34m(\u001b[0m\u001b[0mx_train1\u001b[0m\u001b[0;34m,\u001b[0m \u001b[0my_train1\u001b[0m\u001b[0;34m)\u001b[0m\u001b[0;34m\u001b[0m\u001b[0;34m\u001b[0m\u001b[0m\n\u001b[0;32m---> 14\u001b[0;31m         \u001b[0mscore\u001b[0m \u001b[0;34m=\u001b[0m\u001b[0mclf\u001b[0m\u001b[0;34m.\u001b[0m\u001b[0mscore\u001b[0m\u001b[0;34m(\u001b[0m\u001b[0mx_test1\u001b[0m\u001b[0;34m,\u001b[0m \u001b[0my_test1\u001b[0m\u001b[0;34m)\u001b[0m\u001b[0;34m\u001b[0m\u001b[0;34m\u001b[0m\u001b[0m\n\u001b[0m\u001b[1;32m     15\u001b[0m         \u001b[0mcelda\u001b[0m \u001b[0;34m=\u001b[0m \u001b[0;34m[\u001b[0m\u001b[0mscore\u001b[0m\u001b[0;34m,\u001b[0m \u001b[0mi\u001b[0m\u001b[0;34m,\u001b[0m \u001b[0mj\u001b[0m\u001b[0;34m,\u001b[0m \u001b[0mk\u001b[0m\u001b[0;34m,\u001b[0m \u001b[0ml\u001b[0m\u001b[0;34m]\u001b[0m\u001b[0;34m\u001b[0m\u001b[0;34m\u001b[0m\u001b[0m\n\u001b[1;32m     16\u001b[0m         \u001b[0mtop_5\u001b[0m\u001b[0;34m.\u001b[0m\u001b[0mappend\u001b[0m\u001b[0;34m(\u001b[0m\u001b[0mcelda\u001b[0m\u001b[0;34m)\u001b[0m\u001b[0;34m\u001b[0m\u001b[0;34m\u001b[0m\u001b[0m\n",
            "\u001b[0;32m/usr/local/lib/python3.6/dist-packages/sklearn/base.py\u001b[0m in \u001b[0;36mscore\u001b[0;34m(self, X, y, sample_weight)\u001b[0m\n\u001b[1;32m    367\u001b[0m         \"\"\"\n\u001b[1;32m    368\u001b[0m         \u001b[0;32mfrom\u001b[0m \u001b[0;34m.\u001b[0m\u001b[0mmetrics\u001b[0m \u001b[0;32mimport\u001b[0m \u001b[0maccuracy_score\u001b[0m\u001b[0;34m\u001b[0m\u001b[0;34m\u001b[0m\u001b[0m\n\u001b[0;32m--> 369\u001b[0;31m         \u001b[0;32mreturn\u001b[0m \u001b[0maccuracy_score\u001b[0m\u001b[0;34m(\u001b[0m\u001b[0my\u001b[0m\u001b[0;34m,\u001b[0m \u001b[0mself\u001b[0m\u001b[0;34m.\u001b[0m\u001b[0mpredict\u001b[0m\u001b[0;34m(\u001b[0m\u001b[0mX\u001b[0m\u001b[0;34m)\u001b[0m\u001b[0;34m,\u001b[0m \u001b[0msample_weight\u001b[0m\u001b[0;34m=\u001b[0m\u001b[0msample_weight\u001b[0m\u001b[0;34m)\u001b[0m\u001b[0;34m\u001b[0m\u001b[0;34m\u001b[0m\u001b[0m\n\u001b[0m\u001b[1;32m    370\u001b[0m \u001b[0;34m\u001b[0m\u001b[0m\n\u001b[1;32m    371\u001b[0m \u001b[0;34m\u001b[0m\u001b[0m\n",
            "\u001b[0;32m/usr/local/lib/python3.6/dist-packages/sklearn/neural_network/_multilayer_perceptron.py\u001b[0m in \u001b[0;36mpredict\u001b[0;34m(self, X)\u001b[0m\n\u001b[1;32m    969\u001b[0m         \"\"\"\n\u001b[1;32m    970\u001b[0m         \u001b[0mcheck_is_fitted\u001b[0m\u001b[0;34m(\u001b[0m\u001b[0mself\u001b[0m\u001b[0;34m)\u001b[0m\u001b[0;34m\u001b[0m\u001b[0;34m\u001b[0m\u001b[0m\n\u001b[0;32m--> 971\u001b[0;31m         \u001b[0my_pred\u001b[0m \u001b[0;34m=\u001b[0m \u001b[0mself\u001b[0m\u001b[0;34m.\u001b[0m\u001b[0m_predict\u001b[0m\u001b[0;34m(\u001b[0m\u001b[0mX\u001b[0m\u001b[0;34m)\u001b[0m\u001b[0;34m\u001b[0m\u001b[0;34m\u001b[0m\u001b[0m\n\u001b[0m\u001b[1;32m    972\u001b[0m \u001b[0;34m\u001b[0m\u001b[0m\n\u001b[1;32m    973\u001b[0m         \u001b[0;32mif\u001b[0m \u001b[0mself\u001b[0m\u001b[0;34m.\u001b[0m\u001b[0mn_outputs_\u001b[0m \u001b[0;34m==\u001b[0m \u001b[0;36m1\u001b[0m\u001b[0;34m:\u001b[0m\u001b[0;34m\u001b[0m\u001b[0;34m\u001b[0m\u001b[0m\n",
            "\u001b[0;32m/usr/local/lib/python3.6/dist-packages/sklearn/neural_network/_multilayer_perceptron.py\u001b[0m in \u001b[0;36m_predict\u001b[0;34m(self, X)\u001b[0m\n\u001b[1;32m    665\u001b[0m             \u001b[0mThe\u001b[0m \u001b[0mdecision\u001b[0m \u001b[0mfunction\u001b[0m \u001b[0mof\u001b[0m \u001b[0mthe\u001b[0m \u001b[0msamples\u001b[0m \u001b[0;32mfor\u001b[0m \u001b[0meach\u001b[0m \u001b[0;32mclass\u001b[0m \u001b[0;32min\u001b[0m \u001b[0mthe\u001b[0m \u001b[0mmodel\u001b[0m\u001b[0;34m.\u001b[0m\u001b[0;34m\u001b[0m\u001b[0;34m\u001b[0m\u001b[0m\n\u001b[1;32m    666\u001b[0m         \"\"\"\n\u001b[0;32m--> 667\u001b[0;31m         \u001b[0mX\u001b[0m \u001b[0;34m=\u001b[0m \u001b[0mcheck_array\u001b[0m\u001b[0;34m(\u001b[0m\u001b[0mX\u001b[0m\u001b[0;34m,\u001b[0m \u001b[0maccept_sparse\u001b[0m\u001b[0;34m=\u001b[0m\u001b[0;34m[\u001b[0m\u001b[0;34m'csr'\u001b[0m\u001b[0;34m,\u001b[0m \u001b[0;34m'csc'\u001b[0m\u001b[0;34m,\u001b[0m \u001b[0;34m'coo'\u001b[0m\u001b[0;34m]\u001b[0m\u001b[0;34m)\u001b[0m\u001b[0;34m\u001b[0m\u001b[0;34m\u001b[0m\u001b[0m\n\u001b[0m\u001b[1;32m    668\u001b[0m \u001b[0;34m\u001b[0m\u001b[0m\n\u001b[1;32m    669\u001b[0m         \u001b[0;31m# Make sure self.hidden_layer_sizes is a list\u001b[0m\u001b[0;34m\u001b[0m\u001b[0;34m\u001b[0m\u001b[0;34m\u001b[0m\u001b[0m\n",
            "\u001b[0;32m/usr/local/lib/python3.6/dist-packages/sklearn/utils/validation.py\u001b[0m in \u001b[0;36mcheck_array\u001b[0;34m(array, accept_sparse, accept_large_sparse, dtype, order, copy, force_all_finite, ensure_2d, allow_nd, ensure_min_samples, ensure_min_features, warn_on_dtype, estimator)\u001b[0m\n\u001b[1;32m    466\u001b[0m     \u001b[0mdtypes_orig\u001b[0m \u001b[0;34m=\u001b[0m \u001b[0;32mNone\u001b[0m\u001b[0;34m\u001b[0m\u001b[0;34m\u001b[0m\u001b[0m\n\u001b[1;32m    467\u001b[0m     \u001b[0;32mif\u001b[0m \u001b[0mhasattr\u001b[0m\u001b[0;34m(\u001b[0m\u001b[0marray\u001b[0m\u001b[0;34m,\u001b[0m \u001b[0;34m\"dtypes\"\u001b[0m\u001b[0;34m)\u001b[0m \u001b[0;32mand\u001b[0m \u001b[0mhasattr\u001b[0m\u001b[0;34m(\u001b[0m\u001b[0marray\u001b[0m\u001b[0;34m.\u001b[0m\u001b[0mdtypes\u001b[0m\u001b[0;34m,\u001b[0m \u001b[0;34m'__array__'\u001b[0m\u001b[0;34m)\u001b[0m\u001b[0;34m:\u001b[0m\u001b[0;34m\u001b[0m\u001b[0;34m\u001b[0m\u001b[0m\n\u001b[0;32m--> 468\u001b[0;31m         \u001b[0mdtypes_orig\u001b[0m \u001b[0;34m=\u001b[0m \u001b[0mlist\u001b[0m\u001b[0;34m(\u001b[0m\u001b[0marray\u001b[0m\u001b[0;34m.\u001b[0m\u001b[0mdtypes\u001b[0m\u001b[0;34m)\u001b[0m\u001b[0;34m\u001b[0m\u001b[0;34m\u001b[0m\u001b[0m\n\u001b[0m\u001b[1;32m    469\u001b[0m         \u001b[0;31m# pandas boolean dtype __array__ interface coerces bools to objects\u001b[0m\u001b[0;34m\u001b[0m\u001b[0;34m\u001b[0m\u001b[0;34m\u001b[0m\u001b[0m\n\u001b[1;32m    470\u001b[0m         \u001b[0;32mfor\u001b[0m \u001b[0mi\u001b[0m\u001b[0;34m,\u001b[0m \u001b[0mdtype_iter\u001b[0m \u001b[0;32min\u001b[0m \u001b[0menumerate\u001b[0m\u001b[0;34m(\u001b[0m\u001b[0mdtypes_orig\u001b[0m\u001b[0;34m)\u001b[0m\u001b[0;34m:\u001b[0m\u001b[0;34m\u001b[0m\u001b[0;34m\u001b[0m\u001b[0m\n",
            "\u001b[0;32m/usr/local/lib/python3.6/dist-packages/pandas/core/generic.py\u001b[0m in \u001b[0;36mdtypes\u001b[0;34m(self)\u001b[0m\n\u001b[1;32m   5348\u001b[0m         \u001b[0;32mreturn\u001b[0m \u001b[0mself\u001b[0m\u001b[0;34m.\u001b[0m\u001b[0mvalues\u001b[0m\u001b[0;34m\u001b[0m\u001b[0;34m\u001b[0m\u001b[0m\n\u001b[1;32m   5349\u001b[0m \u001b[0;34m\u001b[0m\u001b[0m\n\u001b[0;32m-> 5350\u001b[0;31m     \u001b[0;34m@\u001b[0m\u001b[0mproperty\u001b[0m\u001b[0;34m\u001b[0m\u001b[0;34m\u001b[0m\u001b[0m\n\u001b[0m\u001b[1;32m   5351\u001b[0m     \u001b[0;32mdef\u001b[0m \u001b[0mdtypes\u001b[0m\u001b[0;34m(\u001b[0m\u001b[0mself\u001b[0m\u001b[0;34m)\u001b[0m\u001b[0;34m:\u001b[0m\u001b[0;34m\u001b[0m\u001b[0;34m\u001b[0m\u001b[0m\n\u001b[1;32m   5352\u001b[0m         \"\"\"\n",
            "\u001b[0;31mKeyboardInterrupt\u001b[0m: "
          ]
        }
      ]
    },
    {
      "cell_type": "markdown",
      "metadata": {
        "id": "pKMyPAS4-cdq"
      },
      "source": [
        "A continuación se presenta la tabla con los resultados para el mejores score resultante en la validación de las redes en la capa escondida."
      ]
    },
    {
      "cell_type": "code",
      "metadata": {
        "id": "g2ZrI9xps_bS"
      },
      "source": [
        "resul1 = pd.DataFrame(data=top_5, columns=['score','N', 'Función de Activación', 'Tasa de aprendizaje', 'Algoritmo'])\n",
        "resul1 = resul1.sort_values(by=['score'], ascending=False)\n",
        "resul1.head()"
      ],
      "execution_count": null,
      "outputs": []
    },
    {
      "cell_type": "markdown",
      "metadata": {
        "id": "mqAsvSYJ-o1K"
      },
      "source": [
        "Para una mejor visualización del comportamiento de cada uno de los parámetros estudiados, se presenta la siguiente gráfica que resume los resultados obtenidos para el caso en el que se usa el algoritmo \"sgd\" y el algoritmo \"adam\"."
      ]
    },
    {
      "cell_type": "code",
      "metadata": {
        "id": "ADXH_GOuwB3l"
      },
      "source": [
        "f = plt.figure(figsize=(18,6))\n",
        "f.suptitle('Comparación de los parámetros seleccionados teniendo en cuenta los algoritmos en la primera capa escondida', y=1.2, fontsize=16)\n",
        "\n",
        "plot_args = [{'c': 'blue', 'linestyle': '-'},\n",
        "             {'c': 'orange', 'linestyle': '-'},\n",
        "             {'c': 'green', 'linestyle': '-'},\n",
        "             {'c': 'red', 'linestyle': '-'},\n",
        "             {'c': 'olive', 'linestyle': '-'},\n",
        "             {'c': 'magenta', 'linestyle': '-'},\n",
        "             {'c': 'black', 'linestyle': '--'},\n",
        "             {'c': 'yellowgreen', 'linestyle': '--'},\n",
        "             {'c': 'violet', 'linestyle': '--'},\n",
        "             {'c': 'tomato', 'linestyle': '--'},\n",
        "             {'c': 'navy', 'linestyle': '--'},\n",
        "             {'c': 'brown', 'linestyle': '--'}]\n",
        "\n",
        "cont=1\n",
        "args = 0\n",
        "labels = []\n",
        "for alg in algoritmo:\n",
        "  ax = plt.subplot(1,2,cont)\n",
        "  ax.set_title(r'$\\bf{Algoritmo~}$'+r'$\\bf{}$'.format(alg), fontsize=14)\n",
        "  ax.set_ylabel('Score')\n",
        "  ax.set_xlabel('Número de neuronas (N)')\n",
        "  ax.grid(linestyle='--',b=True, which='major')\n",
        "  for act in activacion:\n",
        "    for rate in tasas_aprendizaje:\n",
        "      temp = resul1.loc[(resul1['Función de Activación']==act) & (resul1['Tasa de aprendizaje']==rate) & (resul1['Algoritmo']==alg)]\n",
        "      temp = temp.sort_values(by=['N'], ascending=True)\n",
        "      ax.plot(temp['N'].values, temp['score'].values, **plot_args[args])\n",
        "      labels.append(r'$\\bf{act:}$ ' + act + ' + ' + r'$\\bf{tasa:}$ ' + rate)\n",
        "      if args < 11:\n",
        "        args = args + 1\n",
        "      else:\n",
        "        args = 0\n",
        "\n",
        "  f.legend(ax.get_lines(), labels, ncol=3, loc=\"lower center\", bbox_to_anchor=(0.4, 0.9))\n",
        "  cont = cont+1\n",
        "  "
      ],
      "execution_count": null,
      "outputs": []
    },
    {
      "cell_type": "markdown",
      "metadata": {
        "id": "xpezJMVwAMz8"
      },
      "source": [
        "Teniendo en cuenta la combinación de parámetros con el porcentaje de precisión más alto, se procede a correr el modelo de perceptrón multinivel para los datos de prueba, el modelo de entrenamiento del clasificador es presentado a continuación."
      ]
    },
    {
      "cell_type": "code",
      "metadata": {
        "id": "1s1xN9dwMcXL"
      },
      "source": [
        "# Se presentan los parámetros apropiados\n",
        "N = resul1.iloc[0,:]['N'] # El número de neuronas apropiado obtenido previamente\n",
        "activation = resul1.iloc[0,:]['Función de Activación'] # La función de activación\n",
        "learning_rate = resul1.iloc[0,:]['Tasa de aprendizaje'] # Tasa de aprendizaje\n",
        "algor = resul1.iloc[0,:]['Algoritmo'] # Algoritmo seleccionado\n",
        "\n",
        "MLP_1L = MLPClassifier(hidden_layer_sizes=(N,),activation=activation, learning_rate=learning_rate, solver=algor,max_iter=1000)\n",
        "Hidden_1L = MLP_1L.fit(x_train, y_train)"
      ],
      "execution_count": null,
      "outputs": []
    },
    {
      "cell_type": "markdown",
      "metadata": {
        "id": "TfqG6ut2Ky4g"
      },
      "source": [
        "La precisión del modelo seleccionado es evaluada en la siguiente entrada de código."
      ]
    },
    {
      "cell_type": "code",
      "metadata": {
        "id": "pJEZJDtNQBMZ"
      },
      "source": [
        "result_1L = Hidden_1L.score(x_test, y_test)\n",
        "print('El modelo tiene una precisión del {:.2f}%'.format(result_1L*100))"
      ],
      "execution_count": null,
      "outputs": []
    },
    {
      "cell_type": "markdown",
      "metadata": {
        "id": "A1kCjdA8LoRX"
      },
      "source": [
        "Para complementar la validación del modelo, se presenta la matriz de confusión, donde se puede detallar el porcentaje normalizado de los aciertos y desaciertos del modelo para cada una de las variables a clasificar. En este caso la diagonal corresponde al porcentaje normalizado del acierto de la predicción, mientras que los elementos fuera de la diagonal representan el porcentaje de desacierto para cada variable."
      ]
    },
    {
      "cell_type": "code",
      "metadata": {
        "id": "uzSMKgCFgyea"
      },
      "source": [
        "#y_pred = Hidden_1L.predict(x_test)\n",
        "class_names = ['jazz and blues','soul and reggae']\n",
        "plot_confusion_matrix(Hidden_1L, x_test, y_test,\n",
        "                                 display_labels=class_names,\n",
        "                                 cmap=plt.cm.Blues, normalize = 'true')\n",
        "plt.title('Matriz de confusiones normalizada', fontsize = 14)\n",
        "plt.show()"
      ],
      "execution_count": null,
      "outputs": []
    },
    {
      "cell_type": "markdown",
      "metadata": {
        "id": "w1irEbt5tyda"
      },
      "source": [
        "## Red neural con 2 capas escondidas\n",
        "\n",
        "En este caso, con el fin de reducir el proceso computacional, se asumirá que el conjunto de parámetros óptimo seleccionado para el caso de una sola capa escondida, corresponderán a los parámetros de la primera capa escondida de este caso en particular. Es posible que esto no sea el mejor modelo, sin embargo, implementarlo tomaría mucho tiempo y recurso computacional, con el fin de ahorrar este tiempo, se optó por tener en cuenta la presunción previamente mencionada.\n",
        "\n"
      ]
    },
    {
      "cell_type": "code",
      "metadata": {
        "id": "EqDHpnWDNG2L"
      },
      "source": [
        "mejor_1capa = resul1.iloc[0]['N']\n",
        "n = 200\n",
        "step = 10\n",
        "top_5 = []\n",
        "u=0\n",
        "for i in range(2, n, step):\n",
        "  for j in activacion:\n",
        "    for k in tasas_aprendizaje:\n",
        "      for l in algoritmo:\n",
        "        try:\n",
        "          MLP = MLPClassifier(hidden_layer_sizes=(mejor_1capa,i,),activation=j, learning_rate=k, solver=l,max_iter=1200)        \n",
        "          clf = MLP.fit(x_train1, y_train1)\n",
        "          with warnings.catch_warnings():\n",
        "            warnings.filterwarnings(\"error\", category=ConvergenceWarning, module=\"sklearn\")\n",
        "            score =clf.score(x_test1, y_test1)\n",
        "            celda = [score, i, j, k, l]\n",
        "            top_5.append(celda)\n",
        "        except:      \n",
        "          print(\"An exception occurred\") "
      ],
      "execution_count": null,
      "outputs": []
    },
    {
      "cell_type": "markdown",
      "metadata": {
        "id": "iHzg8O6QO3xs"
      },
      "source": [
        "A continuación se presenta la tabla con los resultados para el mejores score resultante en la validación de las redes de la segunda capa escondida."
      ]
    },
    {
      "cell_type": "code",
      "metadata": {
        "id": "y00GZ8sNO4Bw"
      },
      "source": [
        "resul2 = pd.DataFrame(data=top_5, columns=['score','N', 'Función de Activación', 'Tasa de aprendizaje', 'Algoritmo'])\n",
        "resul2 = resul2.sort_values(by=['score'], ascending=False)\n",
        "resul2.head()"
      ],
      "execution_count": null,
      "outputs": []
    },
    {
      "cell_type": "markdown",
      "metadata": {
        "id": "I7bJD_1nPI9h"
      },
      "source": [
        "Para una mejor visualización del comportamiento de cada uno de los parámetros estudiados, se presenta la siguiente gráfica que resume los resultados obtenidos para el caso en el que se usa el algoritmo \"sgd\" y el algoritmo \"adam\"."
      ]
    },
    {
      "cell_type": "code",
      "metadata": {
        "id": "LaxCHyH1PLMP"
      },
      "source": [
        "f = plt.figure(figsize=(18,6))\n",
        "f.suptitle('Comparación de los parámetros seleccionados teniendo en cuenta los algoritmos en la segunda capa escondida', y=1.2, fontsize=16)\n",
        "\n",
        "plot_args = [{'c': 'blue', 'linestyle': '-'},\n",
        "             {'c': 'orange', 'linestyle': '-'},\n",
        "             {'c': 'green', 'linestyle': '-'},\n",
        "             {'c': 'red', 'linestyle': '-'},\n",
        "             {'c': 'olive', 'linestyle': '-'},\n",
        "             {'c': 'magenta', 'linestyle': '-'},\n",
        "             {'c': 'black', 'linestyle': '--'},\n",
        "             {'c': 'yellowgreen', 'linestyle': '--'},\n",
        "             {'c': 'violet', 'linestyle': '--'},\n",
        "             {'c': 'tomato', 'linestyle': '--'},\n",
        "             {'c': 'navy', 'linestyle': '--'},\n",
        "             {'c': 'brown', 'linestyle': '--'}]\n",
        "\n",
        "cont=1\n",
        "args = 0\n",
        "labels = []\n",
        "for alg in algoritmo:\n",
        "  ax = plt.subplot(1,2,cont)\n",
        "  ax.set_title(r'$\\bf{Algoritmo~}$'+r'$\\bf{}$'.format(alg), fontsize=14)\n",
        "  ax.set_ylabel('Score')\n",
        "  ax.set_xlabel('Número de neuronas (N)')\n",
        "  ax.grid(linestyle='--',b=True, which='major')\n",
        "  for act in activacion:\n",
        "    for rate in tasas_aprendizaje:\n",
        "      temp = resul2.loc[(resul2['Función de Activación']==act) & (resul2['Tasa de aprendizaje']==rate) & (resul2['Algoritmo']==alg)]\n",
        "      temp = temp.sort_values(by=['N'], ascending=True)\n",
        "      ax.plot(temp['N'].values, temp['score'].values, **plot_args[args])\n",
        "      labels.append(r'$\\bf{act:}$ ' + act + ' + ' + r'$\\bf{tasa:}$ ' + rate)\n",
        "      if args < 11:\n",
        "        args = args + 1\n",
        "      else:\n",
        "        args = 0\n",
        "\n",
        "  f.legend(ax.get_lines(), labels, ncol=3, loc=\"lower center\", bbox_to_anchor=(0.4, 0.9))\n",
        "  cont = cont+1"
      ],
      "execution_count": null,
      "outputs": []
    },
    {
      "cell_type": "markdown",
      "metadata": {
        "id": "TxYH7ptbQXBm"
      },
      "source": [
        "Teniendo en cuenta la combinación de parámetros con el porcentaje de precisión más alto, se procede a correr el modelo de perceptrón multinivel para los datos de prueba, el modelo de entrenamiento del clasificador es presentado a continuación."
      ]
    },
    {
      "cell_type": "code",
      "metadata": {
        "id": "au46SO55QipR"
      },
      "source": [
        "# Se presentan los parámetros apropiados\n",
        "N2 = resul2.iloc[0,:]['N'] # El número de neuronas apropiado obtenido previamente\n",
        "activation = resul2.iloc[0,:]['Función de Activación'] # La función de activación\n",
        "learning_rate = resul2.iloc[0,:]['Tasa de aprendizaje'] # Tasa de aprendizaje\n",
        "algor = resul2.iloc[0,:]['Algoritmo'] # Algoritmo seleccionado\n",
        "\n",
        "MLP_2L = MLPClassifier(hidden_layer_sizes=(N,N2,),activation=activation, learning_rate=learning_rate, solver=algor,max_iter=1000)\n",
        "Hidden_2L = MLP_2L.fit(x_train, y_train)"
      ],
      "execution_count": null,
      "outputs": []
    },
    {
      "cell_type": "markdown",
      "metadata": {
        "id": "KwJiT3aMRWxs"
      },
      "source": [
        "La precisión del modelo seleccionado es evaluada en la siguiente entrada de código."
      ]
    },
    {
      "cell_type": "code",
      "metadata": {
        "id": "HPykDUGgRWxv"
      },
      "source": [
        "result_2L = Hidden_2L.score(x_test, y_test)\n",
        "print('El modelo con dos capas tiene una precisión del {:.2f}%'.format(result_2L*100))"
      ],
      "execution_count": null,
      "outputs": []
    },
    {
      "cell_type": "markdown",
      "metadata": {
        "id": "3Ffh0kQwRWx5"
      },
      "source": [
        "Para complementar la validación del modelo, se presenta la matriz de confusión, donde se puede detallar el porcentaje normalizado de los aciertos y desaciertos del modelo para cada una de las variables a clasificar. En este caso la diagonal corresponde al porcentaje normalizado del acierto de la predicción, mientras que los elementos fuera de la diagonal representan el porcentaje de desacierto para cada variable."
      ]
    },
    {
      "cell_type": "code",
      "metadata": {
        "id": "CFkELqL4RWx6"
      },
      "source": [
        "class_names = ['jazz and blues','soul and reggae']\n",
        "plot_confusion_matrix(Hidden_2L, x_test, y_test,\n",
        "                                 display_labels=class_names,\n",
        "                                 cmap=plt.cm.Blues, normalize = 'true')\n",
        "plt.title('Matriz de confusiones normalizada para el modelo de 2 capas escondidas', fontsize = 14)\n",
        "plt.show()"
      ],
      "execution_count": null,
      "outputs": []
    },
    {
      "cell_type": "markdown",
      "metadata": {
        "id": "rl5t4KMbSOgB"
      },
      "source": [
        "## Red neural con 3 capas escondidas\n",
        "\n",
        "En este caso, al igual que el caso anterior, se asumirá que la segunda capa tiene el mismo número de neuronas encontrado en el caso anterior. Esto se hace nuevamente con el fin de reducir el trabajo computacional, y se recalca que posiblemente esta no es el número de neuronas óptimo para este modelo. \n",
        "\n"
      ]
    },
    {
      "cell_type": "code",
      "metadata": {
        "id": "mObE4lG1SOgE"
      },
      "source": [
        "mejor_2capa = resul2.iloc[0]['N']\n",
        "n = 200\n",
        "step = 10\n",
        "top_5 = []\n",
        "u=0\n",
        "for i in range(2, n, step):\n",
        "  for j in activacion:\n",
        "    for k in tasas_aprendizaje:\n",
        "      for l in algoritmo:\n",
        "        try:\n",
        "          MLP = MLPClassifier(hidden_layer_sizes=(mejor_1capa,mejor_2capa,i,),activation=j, learning_rate=k, solver=l,max_iter=1200)        \n",
        "          clf = MLP.fit(x_train1, y_train1)\n",
        "          with warnings.catch_warnings():\n",
        "            warnings.filterwarnings(\"error\", category=ConvergenceWarning, module=\"sklearn\")\n",
        "            score =clf.score(x_test1, y_test1)\n",
        "            celda = [score, i, j, k, l]\n",
        "            top_5.append(celda)\n",
        "        except:      \n",
        "          print(\"An exception occurred\")"
      ],
      "execution_count": null,
      "outputs": []
    },
    {
      "cell_type": "markdown",
      "metadata": {
        "id": "ULWblCJpSOgQ"
      },
      "source": [
        "A continuación se presenta la tabla con los resultados para el mejores score resultante en la validación de las redes de la tercera capa escondida."
      ]
    },
    {
      "cell_type": "code",
      "metadata": {
        "id": "vsjSsAQoSOgQ"
      },
      "source": [
        "resul3 = pd.DataFrame(data=top_5, columns=['score','N', 'Función de Activación', 'Tasa de aprendizaje', 'Algoritmo'])\n",
        "resul3 = resul3.sort_values(by=['score'], ascending=False)\n",
        "resul3.head()"
      ],
      "execution_count": null,
      "outputs": []
    },
    {
      "cell_type": "markdown",
      "metadata": {
        "id": "GwrJh3gGSOgU"
      },
      "source": [
        "Para una mejor visualización del comportamiento de cada uno de los parámetros estudiados, se presenta la siguiente gráfica que resume los resultados obtenidos para el caso en el que se usa el algoritmo \"sgd\" y el algoritmo \"adam\"."
      ]
    },
    {
      "cell_type": "code",
      "metadata": {
        "id": "ufLP9aB9SOgU"
      },
      "source": [
        "f = plt.figure(figsize=(18,6))\n",
        "f.suptitle('Comparación de los parámetros seleccionados teniendo en cuenta los algoritmos en la tercera capa escondida', y=1.2, fontsize=16)\n",
        "\n",
        "plot_args = [{'c': 'blue', 'linestyle': '-'},\n",
        "             {'c': 'orange', 'linestyle': '-'},\n",
        "             {'c': 'green', 'linestyle': '-'},\n",
        "             {'c': 'red', 'linestyle': '-'},\n",
        "             {'c': 'olive', 'linestyle': '-'},\n",
        "             {'c': 'magenta', 'linestyle': '-'},\n",
        "             {'c': 'black', 'linestyle': '--'},\n",
        "             {'c': 'yellowgreen', 'linestyle': '--'},\n",
        "             {'c': 'violet', 'linestyle': '--'},\n",
        "             {'c': 'tomato', 'linestyle': '--'},\n",
        "             {'c': 'navy', 'linestyle': '--'},\n",
        "             {'c': 'brown', 'linestyle': '--'}]\n",
        "\n",
        "cont=1\n",
        "args = 0\n",
        "labels = []\n",
        "for alg in algoritmo:\n",
        "  ax = plt.subplot(1,2,cont)\n",
        "  ax.set_title(r'$\\bf{Algoritmo~}$'+r'$\\bf{}$'.format(alg), fontsize=14)\n",
        "  ax.set_ylabel('Score')\n",
        "  ax.set_xlabel('Número de neuronas (N)')\n",
        "  ax.grid(linestyle='--',b=True, which='major')\n",
        "  for act in activacion:\n",
        "    for rate in tasas_aprendizaje:\n",
        "      temp = resul3.loc[(resul3['Función de Activación']==act) & (resul3['Tasa de aprendizaje']==rate) & (resul3['Algoritmo']==alg)]\n",
        "      temp = temp.sort_values(by=['N'], ascending=True)\n",
        "      ax.plot(temp['N'].values, temp['score'].values, **plot_args[args])\n",
        "      labels.append(r'$\\bf{act:}$ ' + act + ' + ' + r'$\\bf{tasa:}$ ' + rate)\n",
        "      if args < 11:\n",
        "        args = args + 1\n",
        "      else:\n",
        "        args = 0\n",
        "\n",
        "  f.legend(ax.get_lines(), labels, ncol=3, loc=\"lower center\", bbox_to_anchor=(0.4, 0.9))\n",
        "  cont = cont+1"
      ],
      "execution_count": null,
      "outputs": []
    },
    {
      "cell_type": "markdown",
      "metadata": {
        "id": "6SVHurkmSOgX"
      },
      "source": [
        "Teniendo en cuenta la combinación de parámetros con el porcentaje de precisión más alto, se procede a correr el modelo de perceptrón multinivel para los datos de prueba, el modelo de entrenamiento del clasificador es presentado a continuación."
      ]
    },
    {
      "cell_type": "code",
      "metadata": {
        "id": "zre0zdCISOgY"
      },
      "source": [
        "# Se presentan los parámetros apropiados\n",
        "N3 = resul3.iloc[0,:]['N'] # El número de neuronas apropiado obtenido previamente\n",
        "activation = resul3.iloc[0,:]['Función de Activación'] # La función de activación\n",
        "learning_rate = resul3.iloc[0,:]['Tasa de aprendizaje'] # Tasa de aprendizaje\n",
        "algor = resul3.iloc[0,:]['Algoritmo'] # Algoritmo seleccionado\n",
        "\n",
        "MLP_3L = MLPClassifier(hidden_layer_sizes=(N,N2,N3,),activation=activation, learning_rate=learning_rate, solver=algor,max_iter=1000)\n",
        "Hidden_3L = MLP_3L.fit(x_train, y_train)"
      ],
      "execution_count": null,
      "outputs": []
    },
    {
      "cell_type": "markdown",
      "metadata": {
        "id": "vTL_9HOESOga"
      },
      "source": [
        "La precisión del modelo seleccionado es evaluada en la siguiente entrada de código."
      ]
    },
    {
      "cell_type": "code",
      "metadata": {
        "id": "6tSvQQD2SOgb"
      },
      "source": [
        "result_3L = Hidden_3L.score(x_test, y_test)\n",
        "print('El modelo con dos capas tiene una precisión del {:.2f}%'.format(result_3L*100))"
      ],
      "execution_count": null,
      "outputs": []
    },
    {
      "cell_type": "markdown",
      "metadata": {
        "id": "4B6S01EISOge"
      },
      "source": [
        "Para complementar la validación del modelo, se presenta la matriz de confusión, donde se puede detallar el porcentaje normalizado de los aciertos y desaciertos del modelo para cada una de las variables a clasificar. En este caso la diagonal corresponde al porcentaje normalizado del acierto de la predicción, mientras que los elementos fuera de la diagonal representan el porcentaje de desacierto para cada variable."
      ]
    },
    {
      "cell_type": "code",
      "metadata": {
        "id": "XFDqiZSxSOge"
      },
      "source": [
        "#y_pred = Hidden_1L.predict(x_test)\n",
        "class_names = ['jazz and blues','soul and reggae']\n",
        "plot_confusion_matrix(Hidden_3L, x_test, y_test,\n",
        "                                 display_labels=class_names,\n",
        "                                 cmap=plt.cm.Blues, normalize = 'true')\n",
        "plt.title('Matriz de confusiones normalizada para el modelo de 3 capas escondidas', fontsize = 14)\n",
        "plt.show()"
      ],
      "execution_count": null,
      "outputs": []
    },
    {
      "cell_type": "markdown",
      "metadata": {
        "id": "TnvREn-8T0cq"
      },
      "source": [
        "## Conclusiones\n",
        "\n",
        "En la siguiente tabla se resume el porcentaje de precisión de cada modelo implementado."
      ]
    },
    {
      "cell_type": "code",
      "metadata": {
        "id": "Yws5VBdnTzja"
      },
      "source": [
        "print('Modelo 1: MLP con 1 capa escondida \\nModelo 2: MLP con 2 capas escondidas \\nModelo 3: MLP con 3 capas escondidas \\n')\n",
        "medida =['Score']\n",
        "results = {'Modelo 1': result_1L,\n",
        "           'Modelo 2': result_2L,\n",
        "           'Modelo 3': result_3L}\n",
        "pd.DataFrame(results,medida,columns=['Modelo 1','Modelo 2', 'Modelo 3'])\n",
        "\n"
      ],
      "execution_count": null,
      "outputs": []
    },
    {
      "cell_type": "markdown",
      "metadata": {
        "id": "ooEprYNsU5RY"
      },
      "source": [
        "Se concluye así que el mejor modelo es el modelo con # capas escondidas."
      ]
    }
  ]
}